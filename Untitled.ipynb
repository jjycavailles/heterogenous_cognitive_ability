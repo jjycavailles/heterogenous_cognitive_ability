{
 "cells": [
  {
   "cell_type": "code",
   "execution_count": 1,
   "metadata": {},
   "outputs": [],
   "source": [
    "from ipywidgets import interact\n",
    "import nbinteract as nbi\n",
    "import matplotlib.pyplot as plt\n",
    "import numpy as np\n",
    "#%matplotlib notebook"
   ]
  },
  {
   "cell_type": "raw",
   "metadata": {},
   "source": [
    "def square(x):\n",
    "    nbi.plotting.line([1,2,3], y_fn=[x+8,x-9,x*7])\n",
    "    return nbi.plotting.line([1,2,3], y_fn=[x+8,x-9,x*7])"
   ]
  },
  {
   "cell_type": "raw",
   "metadata": {},
   "source": [
    "x=10\n",
    "nbi.line([1,2,3], y_fn=[x, x+1, x-1])"
   ]
  },
  {
   "cell_type": "raw",
   "metadata": {},
   "source": [
    "interact(square, x=10)\n",
    "#%matplotlib notebook\n"
   ]
  },
  {
   "cell_type": "code",
   "execution_count": 2,
   "metadata": {},
   "outputs": [],
   "source": [
    "def hist_response_function(mean, sd, size=1000):\n",
    "    '''\n",
    "    Returns 1000 values picked at random from the normal\n",
    "    distribution with the mean and SD given.\n",
    "    '''\n",
    "    print(\"mean\", mean)\n",
    "    import numpy as np\n",
    "    return np.random.normal(loc=mean, scale=sd, size=1000)"
   ]
  },
  {
   "cell_type": "code",
   "execution_count": 3,
   "metadata": {},
   "outputs": [],
   "source": [
    "def f(x):\n",
    "    print(\"x\", x)\n",
    "    return x"
   ]
  },
  {
   "cell_type": "raw",
   "metadata": {},
   "source": [
    "help(nbi.line)"
   ]
  },
  {
   "cell_type": "code",
   "execution_count": 4,
   "metadata": {},
   "outputs": [
    {
     "data": {
      "application/vnd.jupyter.widget-view+json": {
       "model_id": "9669a57a60064bcf88f2ef6464155a1f",
       "version_major": 2,
       "version_minor": 0
      },
      "text/plain": [
       "VBox(children=(interactive(children=(IntSlider(value=30, description='x', max=50, min=10), Output()), _dom_cla…"
      ]
     },
     "metadata": {},
     "output_type": "display_data"
    }
   ],
   "source": [
    "nbi.line([1,2,3], y_fn=f, x=(10,50))"
   ]
  },
  {
   "cell_type": "code",
   "execution_count": 5,
   "metadata": {},
   "outputs": [
    {
     "data": {
      "application/vnd.jupyter.widget-view+json": {
       "model_id": "a945c76189914e908c783e41e9fecee0",
       "version_major": 2,
       "version_minor": 0
      },
      "text/plain": [
       "VBox(children=(interactive(children=(IntSlider(value=5, description='mean', max=10), FloatSlider(value=1.0, de…"
      ]
     },
     "metadata": {},
     "output_type": "display_data"
    }
   ],
   "source": [
    "nbi.hist(hist_response_function, mean=(0, 10), sd=(0, 2.0, 0.2))"
   ]
  },
  {
   "cell_type": "code",
   "execution_count": 6,
   "metadata": {},
   "outputs": [
    {
     "data": {
      "application/vnd.jupyter.widget-view+json": {
       "model_id": "4c97ad68d0f74355aa97c5ab63493e6b",
       "version_major": 2,
       "version_minor": 0
      },
      "text/plain": [
       "VBox(children=(Label(value='y = 0.98x + 0.54'), Figure(animation_duration=250, axes=[Axis(scale=LinearScale(ma…"
      ]
     },
     "metadata": {},
     "output_type": "display_data"
    }
   ],
   "source": [
    "x_coords = np.arange(10)\n",
    "y_coords = np.arange(10) + np.random.rand(10)\n",
    "\n",
    "opts = {'xlim': (0, 9), 'ylim': (0, 11), 'animation_duration': 250}\n",
    "\n",
    "nbi.scatter_drag(x_coords, y_coords, options=opts)"
   ]
  },
  {
   "cell_type": "code",
   "execution_count": 7,
   "metadata": {},
   "outputs": [
    {
     "data": {
      "application/vnd.jupyter.widget-view+json": {
       "model_id": "b8f4a1bbd74a47268eeb918b9931dee2",
       "version_major": 2,
       "version_minor": 0
      },
      "text/plain": [
       "VBox(children=(interactive(children=(IntSlider(value=30, description='max', max=50, min=10), IntSlider(value=5…"
      ]
     },
     "metadata": {},
     "output_type": "display_data"
    }
   ],
   "source": [
    "def x_values(max): \n",
    "    import numpy as np\n",
    "    return np.arange(0, max)\n",
    "def y_values(xs, sd):\n",
    "    import numpy as np\n",
    "    return xs + np.random.normal(0, scale=sd, size=len(xs))\n",
    "\n",
    "opts = {\n",
    "    'xlim': (0, 50),\n",
    "    'ylim': (0, 55),\n",
    "    'animation_duration': 250,\n",
    "}\n",
    "\n",
    "nbi.line(x_values, y_values, max=(10, 50), sd=(1, 10), options=opts)"
   ]
  },
  {
   "cell_type": "code",
   "execution_count": null,
   "metadata": {},
   "outputs": [],
   "source": []
  }
 ],
 "metadata": {
  "kernelspec": {
   "display_name": "Python 3",
   "language": "python",
   "name": "python3"
  },
  "language_info": {
   "codemirror_mode": {
    "name": "ipython",
    "version": 3
   },
   "file_extension": ".py",
   "mimetype": "text/x-python",
   "name": "python",
   "nbconvert_exporter": "python",
   "pygments_lexer": "ipython3",
   "version": "3.8.1"
  },
  "widgets": {
   "application/vnd.jupyter.widget-state+json": {
    "state": {
     "003e6fabe37244c3b43ff7af7e0c3dc1": {
      "model_module": "bqplot",
      "model_module_version": "^0.4.0",
      "model_name": "LinearScaleModel",
      "state": {
       "allow_padding": false,
       "max": 1,
       "min": 0,
       "stabilized": false
      }
     },
     "005c922fe61d466e956352c9ddf43f63": {
      "model_module": "@jupyter-widgets/output",
      "model_module_version": "1.0.0",
      "model_name": "OutputModel",
      "state": {
       "layout": "IPY_MODEL_b1da7a485a4347af82e9a7a738664a85"
      }
     },
     "0078b08dcbec41a688e5e43735b286fa": {
      "model_module": "bqplot",
      "model_module_version": "^0.4.0",
      "model_name": "AxisModel",
      "state": {
       "orientation": "vertical",
       "scale": "IPY_MODEL_898fcbe7118d4592b723e4b2a4b79bd1",
       "side": "left",
       "tick_values": {
        "type": null,
        "values": null
       }
      }
     },
     "0097ec74867e4e2882f8b185c036553f": {
      "model_module": "@jupyter-widgets/base",
      "model_module_version": "1.2.0",
      "model_name": "LayoutModel",
      "state": {}
     },
     "00ad437529c94617b96a3eea08ecc4ae": {
      "model_module": "@jupyter-widgets/base",
      "model_module_version": "1.2.0",
      "model_name": "LayoutModel",
      "state": {}
     },
     "00e68d44979a4770b95d96201148ce58": {
      "model_module": "@jupyter-widgets/controls",
      "model_module_version": "1.5.0",
      "model_name": "VBoxModel",
      "state": {
       "_dom_classes": [
        "widget-interact"
       ],
       "children": [
        "IPY_MODEL_792e42ea44374a219f6ba260d09b825a",
        "IPY_MODEL_7baef5434bef4bec9f4722d3eb245b89"
       ],
       "layout": "IPY_MODEL_3cebc3e1957a4c82882605b36e2d2224"
      }
     },
     "010ea916ec064d9baceb2adf76b9529d": {
      "model_module": "bqplot",
      "model_module_version": "^0.4.0",
      "model_name": "AxisModel",
      "state": {
       "scale": "IPY_MODEL_6a58bc5ac7c148859c763b981feb59a2",
       "side": "bottom",
       "tick_values": {
        "type": null,
        "values": null
       }
      }
     },
     "0175317111b84e6f90ff50efaac644bd": {
      "model_module": "bqplot",
      "model_module_version": "^0.4.0",
      "model_name": "LinearScaleModel",
      "state": {
       "allow_padding": false,
       "max": 1,
       "min": 0,
       "stabilized": false
      }
     },
     "017a96d2eb654fe7b6e6842465fa0155": {
      "model_module": "@jupyter-widgets/output",
      "model_module_version": "1.0.0",
      "model_name": "OutputModel",
      "state": {
       "layout": "IPY_MODEL_7015a7e62be146bdb089ce5c06864d34"
      }
     },
     "01a98cacaa9449da9b3d3ba996ad982a": {
      "model_module": "bqplot",
      "model_module_version": "^0.4.0",
      "model_name": "AxisModel",
      "state": {
       "orientation": "vertical",
       "scale": "IPY_MODEL_77cc3a7ca2244fdfbeea7635f9cbddc4",
       "side": "left",
       "tick_values": {
        "type": null,
        "values": null
       }
      }
     },
     "01e1096ee26847e7bf18157cd9dd9a8c": {
      "model_module": "bqplot",
      "model_module_version": "^0.4.0",
      "model_name": "LinearScaleModel",
      "state": {
       "allow_padding": false,
       "max": 1,
       "min": 0,
       "stabilized": false
      }
     },
     "01f76d7464904675bc45b03cb848288d": {
      "model_module": "@jupyter-widgets/base",
      "model_module_version": "1.2.0",
      "model_name": "LayoutModel",
      "state": {}
     },
     "02163edc9cab4dbaa0a0c728983d69c8": {
      "model_module": "@jupyter-widgets/controls",
      "model_module_version": "1.5.0",
      "model_name": "VBoxModel",
      "state": {
       "_dom_classes": [
        "widget-interact"
       ],
       "children": [
        "IPY_MODEL_d898b5dab239402183197fcfbd7ef127",
        "IPY_MODEL_049230a1a7974caa8af37cb7db1fdcac"
       ],
       "layout": "IPY_MODEL_4a091fe26a2043d29f24383ee8a32e4a"
      }
     },
     "0238a0e0673e44e98ea615f94a9eeaff": {
      "model_module": "@jupyter-widgets/controls",
      "model_module_version": "1.5.0",
      "model_name": "VBoxModel",
      "state": {
       "_dom_classes": [
        "widget-interact"
       ],
       "children": [
        "IPY_MODEL_f60c7dd9e33043219b5c7664f59bd09c"
       ],
       "layout": "IPY_MODEL_0f66af282d32410fa6d4ef637256a558"
      }
     },
     "0244de74f3344ad7928a71af3be73255": {
      "model_module": "@jupyter-widgets/base",
      "model_module_version": "1.2.0",
      "model_name": "LayoutModel",
      "state": {}
     },
     "027a6cb34864499681c50b3cf551b407": {
      "model_module": "@jupyter-widgets/base",
      "model_module_version": "1.2.0",
      "model_name": "LayoutModel",
      "state": {}
     },
     "02d72fdd4ac04bf186151763bb6afa72": {
      "model_module": "@jupyter-widgets/controls",
      "model_module_version": "1.5.0",
      "model_name": "SliderStyleModel",
      "state": {
       "description_width": ""
      }
     },
     "02fdfd8876314941a2ead85e1352251a": {
      "model_module": "bqplot",
      "model_module_version": "^0.4.0",
      "model_name": "LinearScaleModel",
      "state": {
       "allow_padding": false,
       "max": 1,
       "min": 0,
       "stabilized": false
      }
     },
     "039d1b417e3e4dc8a672dc0a2a248328": {
      "model_module": "@jupyter-widgets/output",
      "model_module_version": "1.0.0",
      "model_name": "OutputModel",
      "state": {
       "layout": "IPY_MODEL_c66b4cb7bed34a95932aaf14a1313e61"
      }
     },
     "03ac8862f0b54640b391dcc20f33944c": {
      "model_module": "@jupyter-widgets/base",
      "model_module_version": "1.2.0",
      "model_name": "LayoutModel",
      "state": {
       "min_width": "125px"
      }
     },
     "03bc973eaf75496f9c3aed33264080f5": {
      "model_module": "bqplot",
      "model_module_version": "^0.4.0",
      "model_name": "LinearScaleModel",
      "state": {
       "stabilized": false
      }
     },
     "044ecba6607f43e8af9086cfcd0a85c8": {
      "model_module": "bqplot",
      "model_module_version": "^0.4.0",
      "model_name": "FigureModel",
      "state": {
       "_dom_classes": [],
       "axes": [
        "IPY_MODEL_2662622aa81744e5a1b61b5596e1cf68",
        "IPY_MODEL_1bb6c10f35b54ba899be6c527e5f0412"
       ],
       "layout": "IPY_MODEL_0b6ea43264b74890a727cb99d55a1135",
       "marks": [
        "IPY_MODEL_dbf74d78878d4e6ea4230a63fb45c37a"
       ],
       "max_aspect_ratio": 6,
       "scale_x": "IPY_MODEL_8ee666ed59f44658a1cee07ab9c2f39d",
       "scale_y": "IPY_MODEL_deef7d34b790467ca8d97fd0c5c16420"
      }
     },
     "04797decc088450ab9c23af1c29e0b15": {
      "model_module": "@jupyter-widgets/base",
      "model_module_version": "1.2.0",
      "model_name": "LayoutModel",
      "state": {
       "min_width": "125px"
      }
     },
     "04827b1771324a9984d919a270dd8e95": {
      "model_module": "@jupyter-widgets/base",
      "model_module_version": "1.2.0",
      "model_name": "LayoutModel",
      "state": {}
     },
     "049230a1a7974caa8af37cb7db1fdcac": {
      "model_module": "@jupyter-widgets/output",
      "model_module_version": "1.0.0",
      "model_name": "OutputModel",
      "state": {
       "layout": "IPY_MODEL_59889cc9243f43b28767acd17acea10b",
       "outputs": [
        {
         "data": {
          "application/vnd.jupyter.widget-view+json": {
           "model_id": "904976c0822748f1b612a8abdb1f7239",
           "version_major": 2,
           "version_minor": 0
          },
          "text/plain": "VBox(children=(interactive(children=(Output(),), _dom_classes=('widget-interact',)), Figure(axes=[Axis(scale=L…"
         },
         "metadata": {},
         "output_type": "display_data"
        }
       ]
      }
     },
     "04adf7ccd9964905bb4bcd078361cf84": {
      "model_module": "@jupyter-widgets/controls",
      "model_module_version": "1.5.0",
      "model_name": "VBoxModel",
      "state": {
       "children": [
        "IPY_MODEL_ed30844e1ad34610835b361e2c3c91c9",
        "IPY_MODEL_61d507d1ae684afca33b8cd19fe390b5"
       ],
       "layout": "IPY_MODEL_a7c7968a60dc49209f6f64079bc1a352"
      }
     },
     "04bddd4ab1124d36b1ea1eea05f02386": {
      "model_module": "bqplot",
      "model_module_version": "^0.4.0",
      "model_name": "FigureModel",
      "state": {
       "_dom_classes": [],
       "axes": [
        "IPY_MODEL_460a1046b32d4d3abdf1747acc3588a2",
        "IPY_MODEL_0078b08dcbec41a688e5e43735b286fa"
       ],
       "layout": "IPY_MODEL_9d9a49e3934846048d84dcd8774aafcf",
       "marks": [
        "IPY_MODEL_775397ee91d74390b36e7957286b862b"
       ],
       "max_aspect_ratio": 6,
       "scale_x": "IPY_MODEL_5efc8993f8ae4596b16e4a1510082b20",
       "scale_y": "IPY_MODEL_b470df478b32465c98d3cafd99faf357"
      }
     },
     "04f8f247993c4733abeeccc875204029": {
      "model_module": "bqplot",
      "model_module_version": "^0.4.0",
      "model_name": "AxisModel",
      "state": {
       "scale": "IPY_MODEL_403fd30e67bb43599a68deb75df6670a",
       "side": "bottom",
       "tick_values": {
        "type": null,
        "values": null
       }
      }
     },
     "052c9efa387a4b80920c85d0a0ea253f": {
      "model_module": "@jupyter-widgets/controls",
      "model_module_version": "1.5.0",
      "model_name": "VBoxModel",
      "state": {
       "children": [
        "IPY_MODEL_b195c32760b3432595c55b1b39eef26a",
        "IPY_MODEL_d85f7e48c2864f79af72772f10925b43"
       ],
       "layout": "IPY_MODEL_3ab2c949648b40bc8095c5a1014181bf"
      }
     },
     "05447b5dd3284ae1b1b6be2446187c7d": {
      "model_module": "@jupyter-widgets/base",
      "model_module_version": "1.2.0",
      "model_name": "LayoutModel",
      "state": {
       "min_width": "125px"
      }
     },
     "056e831fcaf14741b5ab9538266e3801": {
      "model_module": "bqplot",
      "model_module_version": "^0.4.0",
      "model_name": "AxisModel",
      "state": {
       "scale": "IPY_MODEL_364ab9d72baf48ec93d14c20040b4644",
       "side": "bottom",
       "tick_values": {
        "type": null,
        "values": null
       }
      }
     },
     "057a06de6dc548759767d8413ab09818": {
      "model_module": "bqplot",
      "model_module_version": "^0.4.0",
      "model_name": "AxisModel",
      "state": {
       "scale": "IPY_MODEL_91885c61fc3c47eeae2cf2836322495c",
       "side": "bottom",
       "tick_values": {
        "type": null,
        "values": null
       }
      }
     },
     "05ab1198545b4a428364008395506f7c": {
      "model_module": "bqplot",
      "model_module_version": "^0.4.0",
      "model_name": "AxisModel",
      "state": {
       "orientation": "vertical",
       "scale": "IPY_MODEL_b386314e0226445a9ffe24f2b7478b3f",
       "side": "left",
       "tick_values": {
        "type": null,
        "values": null
       }
      }
     },
     "05c0e013886b491196caa01c4f71b8f5": {
      "model_module": "bqplot",
      "model_module_version": "^0.4.0",
      "model_name": "AxisModel",
      "state": {
       "orientation": "vertical",
       "scale": "IPY_MODEL_86b34427ce314e1eb745a22d01744d6f",
       "side": "left",
       "tick_values": {
        "type": null,
        "values": null
       }
      }
     },
     "05cc668d58184e84bb21b2f7973ef1b8": {
      "model_module": "bqplot",
      "model_module_version": "^0.4.0",
      "model_name": "LinesModel",
      "state": {
       "color": {
        "type": null,
        "values": null
       },
       "colors": [
        "#475A77"
       ],
       "display_legend": false,
       "fill_colors": [],
       "scales": {
        "x": "IPY_MODEL_ad8e3b41e6394b7886ec2395e67348ed",
        "y": "IPY_MODEL_e0f2c27d87834abb854625aab26bd239"
       },
       "selected": [],
       "x": {
        "type": "float",
        "values": []
       },
       "y": {
        "type": "float",
        "values": []
       }
      }
     },
     "05cf73b224964704976764eed390feae": {
      "model_module": "bqplot",
      "model_module_version": "^0.4.0",
      "model_name": "LinesModel",
      "state": {
       "color": {
        "type": null,
        "values": null
       },
       "colors": [
        "#475A77"
       ],
       "display_legend": false,
       "fill_colors": [],
       "labels": [
        "C1"
       ],
       "scales": {
        "x": "IPY_MODEL_f205f81c85574ac2a4d1093739591ef6",
        "y": "IPY_MODEL_67f5b7fa881d40d8978c7d6e18088fe8"
       },
       "selected": [],
       "x": {
        "type": "float",
        "values": [
         1,
         2,
         3
        ]
       },
       "y": {
        "type": "float",
        "values": [
         10,
         -7,
         14
        ]
       }
      }
     },
     "05ff2ae5090e473e8d6778dd9f543a44": {
      "model_module": "@jupyter-widgets/base",
      "model_module_version": "1.2.0",
      "model_name": "LayoutModel",
      "state": {}
     },
     "0625ff6f6f504da59fd2c60f7fdef952": {
      "model_module": "@jupyter-widgets/base",
      "model_module_version": "1.2.0",
      "model_name": "LayoutModel",
      "state": {}
     },
     "0648c1756efc4d029010c4225d58acd5": {
      "model_module": "@jupyter-widgets/base",
      "model_module_version": "1.2.0",
      "model_name": "LayoutModel",
      "state": {}
     },
     "066208fad5014701adc5936ac3525cf1": {
      "model_module": "bqplot",
      "model_module_version": "^0.4.0",
      "model_name": "LinearScaleModel",
      "state": {
       "allow_padding": false,
       "max": 1,
       "min": 0,
       "stabilized": false
      }
     },
     "068423887e23485d96f16b3d2ee115fd": {
      "model_module": "@jupyter-widgets/controls",
      "model_module_version": "1.5.0",
      "model_name": "VBoxModel",
      "state": {
       "children": [
        "IPY_MODEL_23a48d4f41084e00b2f82c83bfa54172",
        "IPY_MODEL_244a5a21211246438978cfb022c006db"
       ],
       "layout": "IPY_MODEL_6e579226239248e5acfcf5a66f0b3d9d"
      }
     },
     "0694284c8b7244f1b6164fb32e63e27f": {
      "model_module": "bqplot",
      "model_module_version": "^0.4.0",
      "model_name": "LinearScaleModel",
      "state": {
       "stabilized": false
      }
     },
     "0700e1e1ac6a4f9b863a9aa81bfd0e25": {
      "model_module": "@jupyter-widgets/controls",
      "model_module_version": "1.5.0",
      "model_name": "FloatSliderModel",
      "state": {
       "description": "sd",
       "layout": "IPY_MODEL_f7f03f6151d7455a8b0e9ef300e1b64c",
       "max": 2,
       "step": 0.2,
       "style": "IPY_MODEL_69b6edd26ce24dbcad21421da770563e",
       "value": 1
      }
     },
     "073b07bc3bb5495c89741e0f485bbbdb": {
      "model_module": "@jupyter-widgets/controls",
      "model_module_version": "1.5.0",
      "model_name": "VBoxModel",
      "state": {
       "_dom_classes": [
        "widget-interact"
       ],
       "children": [
        "IPY_MODEL_2da379926f58495aa2a3c17e1d3157de"
       ],
       "layout": "IPY_MODEL_97f54f0551d740fba27b68d877a2b044"
      }
     },
     "07529d034a8d4292be8d24ca790d1de5": {
      "model_module": "@jupyter-widgets/base",
      "model_module_version": "1.2.0",
      "model_name": "LayoutModel",
      "state": {}
     },
     "077503b84d574c5eaf3bc9a62e030c3e": {
      "model_module": "bqplot",
      "model_module_version": "^0.4.0",
      "model_name": "AxisModel",
      "state": {
       "orientation": "vertical",
       "scale": "IPY_MODEL_43c634372c344eb9ba0718f572f9e34d",
       "side": "left",
       "tick_values": {
        "type": null,
        "values": null
       }
      }
     },
     "07dab7f6c9b24895a0763d5b0d476d5c": {
      "model_module": "@jupyter-widgets/base",
      "model_module_version": "1.2.0",
      "model_name": "LayoutModel",
      "state": {
       "min_width": "125px"
      }
     },
     "081b1f0862b24b67b429e0aad4adf76f": {
      "model_module": "bqplot",
      "model_module_version": "^0.4.0",
      "model_name": "LinearScaleModel",
      "state": {
       "stabilized": false
      }
     },
     "082724c902ab48dbab4e28c09dcd9080": {
      "model_module": "bqplot",
      "model_module_version": "^0.4.0",
      "model_name": "AxisModel",
      "state": {
       "scale": "IPY_MODEL_57ddce0e33d84e34ae5bf8f70e548452",
       "side": "bottom",
       "tick_values": {
        "type": null,
        "values": null
       }
      }
     },
     "08275cd9a4794c33946472ad223669ea": {
      "model_module": "@jupyter-widgets/base",
      "model_module_version": "1.2.0",
      "model_name": "LayoutModel",
      "state": {}
     },
     "0847b2c72faa4c09846bc111e4cd4be5": {
      "model_module": "@jupyter-widgets/base",
      "model_module_version": "1.2.0",
      "model_name": "LayoutModel",
      "state": {}
     },
     "085df4d3ee944751a9a3d8f67c17cc0a": {
      "model_module": "bqplot",
      "model_module_version": "^0.4.0",
      "model_name": "LinearScaleModel",
      "state": {
       "allow_padding": false,
       "max": 1,
       "min": 0,
       "stabilized": false
      }
     },
     "087ce0de34c747098f3cfa962a355670": {
      "model_module": "bqplot",
      "model_module_version": "^0.4.0",
      "model_name": "LinearScaleModel",
      "state": {
       "stabilized": false
      }
     },
     "08a098af32db42548278903ed7ee5868": {
      "model_module": "bqplot",
      "model_module_version": "^0.4.0",
      "model_name": "LinearScaleModel",
      "state": {
       "allow_padding": false,
       "max": 1,
       "min": 0,
       "stabilized": false
      }
     },
     "08c36be9bbec4a4fba9b342a1bfd527d": {
      "model_module": "@jupyter-widgets/controls",
      "model_module_version": "1.5.0",
      "model_name": "VBoxModel",
      "state": {
       "_dom_classes": [
        "widget-interact"
       ],
       "children": [
        "IPY_MODEL_bd3c4969215447f091e345529d5aa0f4",
        "IPY_MODEL_d586849980a44a8a97847db1093fef2d"
       ],
       "layout": "IPY_MODEL_352a64248bc14dcda158a31f17e51d49"
      }
     },
     "09343f7882ad4889affacdc99b69eac8": {
      "model_module": "bqplot",
      "model_module_version": "^0.4.0",
      "model_name": "AxisModel",
      "state": {
       "orientation": "vertical",
       "scale": "IPY_MODEL_58f7687e30fb4fdcafc353bf6e69f5ab",
       "side": "left",
       "tick_values": {
        "type": null,
        "values": null
       }
      }
     },
     "09a8f7e30b1f4d4e9f09112fa373d0a2": {
      "model_module": "bqplot",
      "model_module_version": "^0.4.0",
      "model_name": "LinesModel",
      "state": {
       "color": {
        "type": null,
        "values": null
       },
       "colors": [
        "#475A77"
       ],
       "display_legend": false,
       "fill_colors": [],
       "labels": [
        "C1"
       ],
       "scales": {
        "x": "IPY_MODEL_d371e3eb55084028b7580beb0eb1a16e",
        "y": "IPY_MODEL_79942e413b5444de8e9d4f442cb461e0"
       },
       "selected": [],
       "x": {
        "type": "float",
        "values": [
         1,
         2,
         3
        ]
       },
       "y": {
        "type": "float",
        "values": [
         8,
         9,
         7
        ]
       }
      }
     },
     "09eb02091ed047e59e40572f3f5b255d": {
      "model_module": "bqplot",
      "model_module_version": "^0.4.0",
      "model_name": "LinearScaleModel",
      "state": {
       "allow_padding": false,
       "max": 1,
       "min": 0,
       "stabilized": false
      }
     },
     "0a17e229999e4accb0a3b0bff232210e": {
      "model_module": "bqplot",
      "model_module_version": "^0.4.0",
      "model_name": "LinesModel",
      "state": {
       "color": {
        "type": null,
        "values": null
       },
       "colors": [
        "#475A77"
       ],
       "display_legend": false,
       "fill_colors": [],
       "scales": {
        "x": "IPY_MODEL_f3734ae2399b4b06a835ae9cd3324bbe",
        "y": "IPY_MODEL_d0412a1c4eb2446bbaea046dee653af0"
       },
       "selected": [],
       "x": {
        "type": "float",
        "values": []
       },
       "y": {
        "type": "float",
        "values": []
       }
      }
     },
     "0a3b5bdac5ee4f0aa890a1e71a978eb7": {
      "model_module": "@jupyter-widgets/base",
      "model_module_version": "1.2.0",
      "model_name": "LayoutModel",
      "state": {}
     },
     "0a3bb34051bc4e58acbf4c0769426fba": {
      "model_module": "bqplot",
      "model_module_version": "^0.4.0",
      "model_name": "LinearScaleModel",
      "state": {
       "allow_padding": false,
       "max": 1,
       "min": 0,
       "stabilized": false
      }
     },
     "0a9784d82cfe452ea4d6d8f387cec9e2": {
      "model_module": "@jupyter-widgets/controls",
      "model_module_version": "1.5.0",
      "model_name": "SliderStyleModel",
      "state": {
       "description_width": ""
      }
     },
     "0aa2cba8fccc417d9d51ef0b43188323": {
      "model_module": "@jupyter-widgets/controls",
      "model_module_version": "1.5.0",
      "model_name": "VBoxModel",
      "state": {
       "children": [
        "IPY_MODEL_54e09856c5114dcd818d83f8ebe9fb20",
        "IPY_MODEL_dbed89ad12e84a7da671b393c0698549"
       ],
       "layout": "IPY_MODEL_d7085972f0c74eb3a9ffad4bfd8cf365"
      }
     },
     "0b0bb2c83c0c47d2afc83bea7dad762c": {
      "model_module": "@jupyter-widgets/output",
      "model_module_version": "1.0.0",
      "model_name": "OutputModel",
      "state": {
       "layout": "IPY_MODEL_428fda02de1348b8bc0e352fe985ff7c"
      }
     },
     "0b4a6798e4e343a887e9e2ac1cdea171": {
      "model_module": "@jupyter-widgets/output",
      "model_module_version": "1.0.0",
      "model_name": "OutputModel",
      "state": {
       "layout": "IPY_MODEL_ceca4562eb2c4e2e957c9b60998f3c56"
      }
     },
     "0b50fc60794d40378f97ccc778572dfb": {
      "model_module": "@jupyter-widgets/output",
      "model_module_version": "1.0.0",
      "model_name": "OutputModel",
      "state": {
       "layout": "IPY_MODEL_8c628113fc014bc7b5fdd74ba32a3766"
      }
     },
     "0b6ea43264b74890a727cb99d55a1135": {
      "model_module": "@jupyter-widgets/base",
      "model_module_version": "1.2.0",
      "model_name": "LayoutModel",
      "state": {
       "min_width": "125px"
      }
     },
     "0b797f4d021a4c779672cf00fda7d58e": {
      "model_module": "@jupyter-widgets/controls",
      "model_module_version": "1.5.0",
      "model_name": "SliderStyleModel",
      "state": {
       "description_width": ""
      }
     },
     "0bbc443ed443421f887705ec8dd798fc": {
      "model_module": "bqplot",
      "model_module_version": "^0.4.0",
      "model_name": "LinearScaleModel",
      "state": {
       "allow_padding": false,
       "max": 1,
       "min": 0,
       "stabilized": false
      }
     },
     "0bd5f15639304b7db3457f09145268e4": {
      "model_module": "bqplot",
      "model_module_version": "^0.4.0",
      "model_name": "LinesModel",
      "state": {
       "color": {
        "type": null,
        "values": null
       },
       "colors": [
        "#475A77"
       ],
       "display_legend": false,
       "fill_colors": [],
       "scales": {
        "x": "IPY_MODEL_7841f6d518b946488c89013aa61d0a66",
        "y": "IPY_MODEL_96b36e7c93e442868a3ccc6674ca720c"
       },
       "selected": [],
       "x": {
        "type": "float",
        "values": []
       },
       "y": {
        "type": "float",
        "values": []
       }
      }
     },
     "0bd9f6a2a9334a049cc260c505f87b97": {
      "model_module": "@jupyter-widgets/controls",
      "model_module_version": "1.5.0",
      "model_name": "VBoxModel",
      "state": {
       "_dom_classes": [
        "widget-interact"
       ],
       "children": [
        "IPY_MODEL_0b4a6798e4e343a887e9e2ac1cdea171"
       ],
       "layout": "IPY_MODEL_63fe48e76560478bac8cdbfa1c510ec9"
      }
     },
     "0c08f681cf7e45dfbcc5985de69bb3a9": {
      "model_module": "bqplot",
      "model_module_version": "^0.4.0",
      "model_name": "LinearScaleModel",
      "state": {
       "allow_padding": false,
       "max": 1,
       "min": 0,
       "stabilized": false
      }
     },
     "0c52609aa80b4121bc4972f83b7c1725": {
      "model_module": "bqplot",
      "model_module_version": "^0.4.0",
      "model_name": "LinearScaleModel",
      "state": {
       "stabilized": false
      }
     },
     "0c64c23f364f4128832e253225f36393": {
      "model_module": "bqplot",
      "model_module_version": "^0.4.0",
      "model_name": "AxisModel",
      "state": {
       "scale": "IPY_MODEL_9aec6416bf6847b7a4e96407a6cc010d",
       "side": "bottom",
       "tick_values": {
        "type": null,
        "values": null
       }
      }
     },
     "0c83233a5c5e4e64850d7c2964fd7c83": {
      "model_module": "bqplot",
      "model_module_version": "^0.4.0",
      "model_name": "LinearScaleModel",
      "state": {
       "stabilized": false
      }
     },
     "0cece771ff75455caf6dacc287931a39": {
      "model_module": "bqplot",
      "model_module_version": "^0.4.0",
      "model_name": "LinearScaleModel",
      "state": {
       "allow_padding": false,
       "max": 1,
       "min": 0,
       "stabilized": false
      }
     },
     "0cff389874f0408296ba34bb6ea24fee": {
      "model_module": "@jupyter-widgets/output",
      "model_module_version": "1.0.0",
      "model_name": "OutputModel",
      "state": {
       "layout": "IPY_MODEL_7a0c9aa646964b54827cb66c20fb85cc"
      }
     },
     "0d1370bdecc140d991469a13fc0edfa7": {
      "model_module": "bqplot",
      "model_module_version": "^0.4.0",
      "model_name": "AxisModel",
      "state": {
       "scale": "IPY_MODEL_332c913093344851b3bb1828026154fe",
       "side": "bottom",
       "tick_values": {
        "type": null,
        "values": null
       }
      }
     },
     "0d2ac306f9a14676ad7042b4318fbd63": {
      "model_module": "bqplot",
      "model_module_version": "^0.4.0",
      "model_name": "LinearScaleModel",
      "state": {
       "stabilized": false
      }
     },
     "0d2f00c5134e4312b08c07edfeebe208": {
      "model_module": "bqplot",
      "model_module_version": "^0.4.0",
      "model_name": "LinearScaleModel",
      "state": {
       "stabilized": false
      }
     },
     "0d579584fabe498bb1992e92e7dcec18": {
      "model_module": "bqplot",
      "model_module_version": "^0.4.0",
      "model_name": "LinesModel",
      "state": {
       "color": {
        "type": null,
        "values": null
       },
       "colors": [
        "#475A77"
       ],
       "display_legend": false,
       "fill_colors": [],
       "labels": [
        "C1"
       ],
       "scales": {
        "x": "IPY_MODEL_fa6aca42c59b4e75b7eccff7cfd7d73c",
        "y": "IPY_MODEL_5c0c2ca5cb2340cbba6a06475ac15fa2"
       },
       "selected": [],
       "x": {
        "type": "float",
        "values": [
         1,
         2,
         3
        ]
       },
       "y": {
        "type": "float",
        "values": [
         18,
         1,
         70
        ]
       }
      }
     },
     "0d9f3ebddaea4a88855a3f856601b5d3": {
      "model_module": "bqplot",
      "model_module_version": "^0.4.0",
      "model_name": "LinesModel",
      "state": {
       "color": {
        "type": null,
        "values": null
       },
       "colors": [
        "#475A77"
       ],
       "display_legend": false,
       "fill_colors": [],
       "scales": {
        "x": "IPY_MODEL_54d2dbdd91de4e66844a86dda9544709",
        "y": "IPY_MODEL_b72d47caefae4c87a810b18c6b7f8720"
       },
       "selected": [],
       "x": {
        "type": "float",
        "values": []
       },
       "y": {
        "type": "float",
        "values": []
       }
      }
     },
     "0dc20d8094924261924de6d13ba5a060": {
      "model_module": "@jupyter-widgets/base",
      "model_module_version": "1.2.0",
      "model_name": "LayoutModel",
      "state": {}
     },
     "0dc307371c3541c2bcd0f9fa3f9f5dcf": {
      "model_module": "bqplot",
      "model_module_version": "^0.4.0",
      "model_name": "LinearScaleModel",
      "state": {
       "stabilized": false
      }
     },
     "0e5c81f5adb147ba841707f4e4917c97": {
      "model_module": "@jupyter-widgets/base",
      "model_module_version": "1.2.0",
      "model_name": "LayoutModel",
      "state": {}
     },
     "0eee15fc830a4bb2b8b6aad6d06bd4cb": {
      "model_module": "bqplot",
      "model_module_version": "^0.4.0",
      "model_name": "LinearScaleModel",
      "state": {
       "stabilized": false
      }
     },
     "0f64bf6967c647688181aca006ab3828": {
      "model_module": "bqplot",
      "model_module_version": "^0.4.0",
      "model_name": "LinearScaleModel",
      "state": {
       "allow_padding": false,
       "max": 1,
       "min": 0,
       "stabilized": false
      }
     },
     "0f66af282d32410fa6d4ef637256a558": {
      "model_module": "@jupyter-widgets/base",
      "model_module_version": "1.2.0",
      "model_name": "LayoutModel",
      "state": {}
     },
     "0fafeaaff9514df68f28332beb61a720": {
      "model_module": "bqplot",
      "model_module_version": "^0.4.0",
      "model_name": "LinearScaleModel",
      "state": {
       "allow_padding": false,
       "max": 1,
       "min": 0,
       "stabilized": false
      }
     },
     "0fbdee5c41be4951b387cce75d03ae97": {
      "model_module": "@jupyter-widgets/base",
      "model_module_version": "1.2.0",
      "model_name": "LayoutModel",
      "state": {}
     },
     "0fcae35fa5ac4dfabcd3555a78193da9": {
      "model_module": "bqplot",
      "model_module_version": "^0.4.0",
      "model_name": "LinearScaleModel",
      "state": {
       "allow_padding": false,
       "max": 1,
       "min": 0,
       "stabilized": false
      }
     },
     "0feb66fa9cc34d5aa2d60984770f230b": {
      "model_module": "bqplot",
      "model_module_version": "^0.4.0",
      "model_name": "LinearScaleModel",
      "state": {
       "allow_padding": false,
       "max": 1,
       "min": 0,
       "stabilized": false
      }
     },
     "1022c3680ebc4a58b514817958b6bc47": {
      "model_module": "bqplot",
      "model_module_version": "^0.4.0",
      "model_name": "LinearScaleModel",
      "state": {
       "stabilized": false
      }
     },
     "10283b9a0f8948c7a2dd51df0eed4c82": {
      "model_module": "@jupyter-widgets/controls",
      "model_module_version": "1.5.0",
      "model_name": "VBoxModel",
      "state": {
       "children": [
        "IPY_MODEL_b4c407094eec4bf4a510c7c8ef621f4c",
        "IPY_MODEL_e8a273bcf0904d9dbacee7e5949bf125"
       ],
       "layout": "IPY_MODEL_e6c3485b07bf475b946cfd558d333c9b"
      }
     },
     "106e97acd3724ccfae6be109f9580619": {
      "model_module": "bqplot",
      "model_module_version": "^0.4.0",
      "model_name": "AxisModel",
      "state": {
       "orientation": "vertical",
       "scale": "IPY_MODEL_367b9d34fd1c4f82b03595076e320673",
       "side": "left",
       "tick_values": {
        "type": null,
        "values": null
       }
      }
     },
     "10db649a466040cd83f1e9c003d2ea3d": {
      "model_module": "bqplot",
      "model_module_version": "^0.4.0",
      "model_name": "LinesModel",
      "state": {
       "color": {
        "type": null,
        "values": null
       },
       "colors": [
        "#475A77"
       ],
       "display_legend": false,
       "fill_colors": [],
       "labels": [
        "C1"
       ],
       "scales": {
        "x": "IPY_MODEL_0dc307371c3541c2bcd0f9fa3f9f5dcf",
        "y": "IPY_MODEL_37aaa15f706d411db4b6f9fb47eb1b6b"
       },
       "selected": [],
       "x": {
        "type": "float",
        "values": [
         1,
         2,
         3
        ]
       },
       "y": {
        "type": "float",
        "values": [
         16,
         -1,
         56
        ]
       }
      }
     },
     "10df96aec6a449feb58e93ef8cb7194c": {
      "model_module": "@jupyter-widgets/controls",
      "model_module_version": "1.5.0",
      "model_name": "VBoxModel",
      "state": {
       "children": [
        "IPY_MODEL_8e9a3e91cc86491a9940d0bb78ca22c0",
        "IPY_MODEL_d0d437fda5964b9d8087a8a9fcadfa4b"
       ],
       "layout": "IPY_MODEL_711faed3503741678def33e1cb89ad3a"
      }
     },
     "10fd3f79094f43c8a824ec57029c99d2": {
      "model_module": "@jupyter-widgets/controls",
      "model_module_version": "1.5.0",
      "model_name": "VBoxModel",
      "state": {
       "_dom_classes": [
        "widget-interact"
       ],
       "children": [
        "IPY_MODEL_dc89bddfd4d64d9e84470348e131dd78"
       ],
       "layout": "IPY_MODEL_dd49888c82594846bdfccb12dbfe990a"
      }
     },
     "119fc9e7defe47b4834779b4abd86182": {
      "model_module": "@jupyter-widgets/controls",
      "model_module_version": "1.5.0",
      "model_name": "VBoxModel",
      "state": {
       "children": [
        "IPY_MODEL_3833232916684a758ba5617c84342a60",
        "IPY_MODEL_dd4889ddac1f4e47b1169775dee1acc8"
       ],
       "layout": "IPY_MODEL_ddf924f0e9534236a52d14a6dcbf4164"
      }
     },
     "11b3635127154bcd8e27b0a8632887eb": {
      "model_module": "bqplot",
      "model_module_version": "^0.4.0",
      "model_name": "AxisModel",
      "state": {
       "orientation": "vertical",
       "scale": "IPY_MODEL_53dae6e58010430a937d68856ca99541",
       "side": "left",
       "tick_values": {
        "type": null,
        "values": null
       }
      }
     },
     "11de29e447eb47b889d56364b8234d2c": {
      "model_module": "@jupyter-widgets/output",
      "model_module_version": "1.0.0",
      "model_name": "OutputModel",
      "state": {
       "layout": "IPY_MODEL_e6408c8fd5ca40a0b39ade86071f2e63"
      }
     },
     "1215c3fc6cd04dd5bc6a6ccc8867e07e": {
      "model_module": "bqplot",
      "model_module_version": "^0.4.0",
      "model_name": "FigureModel",
      "state": {
       "_dom_classes": [],
       "axes": [
        "IPY_MODEL_459eae7f3ae44e0aa123dcf0e473a1c2",
        "IPY_MODEL_e31e91f32eea411fa4bfea9e3c632a93"
       ],
       "layout": "IPY_MODEL_ad02d5626a204c95999787e28a516345",
       "marks": [
        "IPY_MODEL_60ad7ebd85cc47f5b0429f8c8ad2f399"
       ],
       "max_aspect_ratio": 6,
       "scale_x": "IPY_MODEL_a73ea77c3c7a4f72b67f89fdcd56f319",
       "scale_y": "IPY_MODEL_499ea65a647b49279934e74da11427c1"
      }
     },
     "12554c8b6a3f4ce5be332cdf947594b3": {
      "model_module": "@jupyter-widgets/base",
      "model_module_version": "1.2.0",
      "model_name": "LayoutModel",
      "state": {}
     },
     "126767a512e84760905f582f85e475d9": {
      "model_module": "bqplot",
      "model_module_version": "^0.4.0",
      "model_name": "AxisModel",
      "state": {
       "orientation": "vertical",
       "scale": "IPY_MODEL_4445d9134aab49e2ac6ebb427c252a30",
       "side": "left",
       "tick_values": {
        "type": null,
        "values": null
       }
      }
     },
     "12d938962154451285a7244ffb1bb45a": {
      "model_module": "bqplot",
      "model_module_version": "^0.4.0",
      "model_name": "LinesModel",
      "state": {
       "color": {
        "type": null,
        "values": null
       },
       "colors": [
        "#475A77"
       ],
       "display_legend": false,
       "fill_colors": [],
       "labels": [
        "C1"
       ],
       "scales": {
        "x": "IPY_MODEL_e487317701f04fceb05a71fae74857f4",
        "y": "IPY_MODEL_b386314e0226445a9ffe24f2b7478b3f"
       },
       "selected": [],
       "x": {
        "type": "float",
        "values": [
         1,
         2,
         3
        ]
       },
       "y": {
        "type": "float",
        "values": [
         11,
         -6,
         21
        ]
       }
      }
     },
     "12f8c4e169b2460daf9792313f4b8626": {
      "model_module": "@jupyter-widgets/output",
      "model_module_version": "1.0.0",
      "model_name": "OutputModel",
      "state": {
       "layout": "IPY_MODEL_2f9a8071f488465bb19bb97ae99cae28"
      }
     },
     "13088d21ec2d4bdbb5c44cbbd459ed8f": {
      "model_module": "bqplot",
      "model_module_version": "^0.4.0",
      "model_name": "LinesModel",
      "state": {
       "color": {
        "type": null,
        "values": null
       },
       "colors": [
        "#475A77"
       ],
       "display_legend": false,
       "fill_colors": [],
       "labels": [
        "C1"
       ],
       "scales": {
        "x": "IPY_MODEL_96127a1b1d8a4627a5b3ac28a9075eb4",
        "y": "IPY_MODEL_76d20aa482d341deaac983e4d37e3191"
       },
       "selected": [],
       "x": {
        "type": "float",
        "values": [
         1,
         2,
         3
        ]
       },
       "y": {
        "type": "float",
        "values": [
         6,
         -11,
         -14
        ]
       }
      }
     },
     "13155d068e154173a0fa666c5fb66cfc": {
      "model_module": "bqplot",
      "model_module_version": "^0.4.0",
      "model_name": "AxisModel",
      "state": {
       "orientation": "vertical",
       "scale": "IPY_MODEL_87668da53113406790b3368975892c68",
       "side": "left",
       "tick_values": {
        "type": null,
        "values": null
       }
      }
     },
     "1373571daac047c09ea9751d39e199a5": {
      "model_module": "@jupyter-widgets/base",
      "model_module_version": "1.2.0",
      "model_name": "LayoutModel",
      "state": {}
     },
     "137f1464bcab423ab4c144a9f3a4dbb0": {
      "model_module": "@jupyter-widgets/base",
      "model_module_version": "1.2.0",
      "model_name": "LayoutModel",
      "state": {}
     },
     "13d5262fcba94d4fa24f92aeea8c7850": {
      "model_module": "@jupyter-widgets/base",
      "model_module_version": "1.2.0",
      "model_name": "LayoutModel",
      "state": {}
     },
     "13f34318ce9a4c50a027504e694047d4": {
      "model_module": "bqplot",
      "model_module_version": "^0.4.0",
      "model_name": "LinearScaleModel",
      "state": {
       "stabilized": false
      }
     },
     "13f6dc88fbed423ba80742e0ede24e50": {
      "model_module": "@jupyter-widgets/output",
      "model_module_version": "1.0.0",
      "model_name": "OutputModel",
      "state": {
       "layout": "IPY_MODEL_a886580748c548a984090ac016155b5b"
      }
     },
     "142cc27a4a24419a8cddc320142024b5": {
      "model_module": "bqplot",
      "model_module_version": "^0.4.0",
      "model_name": "AxisModel",
      "state": {
       "orientation": "vertical",
       "scale": "IPY_MODEL_e314de4654044bd9a78f193b1cdfdc73",
       "side": "left",
       "tick_values": {
        "type": null,
        "values": null
       }
      }
     },
     "143f87d534694c1299a40660d52916c7": {
      "model_module": "bqplot",
      "model_module_version": "^0.4.0",
      "model_name": "AxisModel",
      "state": {
       "orientation": "vertical",
       "scale": "IPY_MODEL_1b1a87b10c2846e98baa87969be79da9",
       "side": "left",
       "tick_values": {
        "type": null,
        "values": null
       }
      }
     },
     "144d56a6d8e9434bb0cf4dd6be638fa5": {
      "model_module": "bqplot",
      "model_module_version": "^0.4.0",
      "model_name": "LinearScaleModel",
      "state": {
       "stabilized": false
      }
     },
     "14822eff19954889962e7827f23461f3": {
      "model_module": "@jupyter-widgets/base",
      "model_module_version": "1.2.0",
      "model_name": "LayoutModel",
      "state": {}
     },
     "14a4d96df2804f64b1c6598dec73c18b": {
      "model_module": "bqplot",
      "model_module_version": "^0.4.0",
      "model_name": "LinearScaleModel",
      "state": {
       "stabilized": false
      }
     },
     "153dd8f6d4d942289ede7505c6f46ec5": {
      "model_module": "bqplot",
      "model_module_version": "^0.4.0",
      "model_name": "LinearScaleModel",
      "state": {
       "stabilized": false
      }
     },
     "156b68108cc145739c9ee25fc51271c2": {
      "model_module": "@jupyter-widgets/base",
      "model_module_version": "1.2.0",
      "model_name": "LayoutModel",
      "state": {}
     },
     "1593f5ed58614723aa62f80d01039fcf": {
      "model_module": "bqplot",
      "model_module_version": "^0.4.0",
      "model_name": "LinearScaleModel",
      "state": {
       "stabilized": false
      }
     },
     "16231c635b06475aa6cfd1b3892f1ad4": {
      "model_module": "bqplot",
      "model_module_version": "^0.4.0",
      "model_name": "LinearScaleModel",
      "state": {
       "stabilized": false
      }
     },
     "163e63b4e3f54411a917c018d778067b": {
      "model_module": "@jupyter-widgets/base",
      "model_module_version": "1.2.0",
      "model_name": "LayoutModel",
      "state": {}
     },
     "16524b5f5608483a9f3e0cd3edbad04d": {
      "model_module": "bqplot",
      "model_module_version": "^0.4.0",
      "model_name": "LinearScaleModel",
      "state": {
       "stabilized": false
      }
     },
     "16914b4bed504025a9541cd02bac499a": {
      "model_module": "bqplot",
      "model_module_version": "^0.4.0",
      "model_name": "LinearScaleModel",
      "state": {
       "allow_padding": false,
       "max": 1,
       "min": 0,
       "stabilized": false
      }
     },
     "16b82a83fb884f8f946ab7624e838c83": {
      "model_module": "@jupyter-widgets/controls",
      "model_module_version": "1.5.0",
      "model_name": "VBoxModel",
      "state": {
       "children": [
        "IPY_MODEL_7e01fad18792481e8ee640e150263f8f",
        "IPY_MODEL_e185455bec164c9b9b9998ec42f6f1fb"
       ],
       "layout": "IPY_MODEL_971567de978c4e57996f46a8c02392f4"
      }
     },
     "16c70f381c4641bb9518cf795f8ea54e": {
      "model_module": "@jupyter-widgets/base",
      "model_module_version": "1.2.0",
      "model_name": "LayoutModel",
      "state": {
       "min_width": "125px"
      }
     },
     "16d282b4f54b4b4d9733c9b82e48e91e": {
      "model_module": "@jupyter-widgets/base",
      "model_module_version": "1.2.0",
      "model_name": "LayoutModel",
      "state": {}
     },
     "16d87dbe23f044cebd6dad35ac815751": {
      "model_module": "bqplot",
      "model_module_version": "^0.4.0",
      "model_name": "LinearScaleModel",
      "state": {
       "stabilized": false
      }
     },
     "1707ef0c6fb2475ebc6d68dbe5a228d3": {
      "model_module": "bqplot",
      "model_module_version": "^0.4.0",
      "model_name": "LinearScaleModel",
      "state": {
       "stabilized": false
      }
     },
     "17183cfaf45e4013aa5ae7858f95e8da": {
      "model_module": "@jupyter-widgets/output",
      "model_module_version": "1.0.0",
      "model_name": "OutputModel",
      "state": {
       "layout": "IPY_MODEL_e97e542814ac4682b991023ef44aa2c0"
      }
     },
     "1732deb03957436bab6518461992ba6e": {
      "model_module": "@jupyter-widgets/base",
      "model_module_version": "1.2.0",
      "model_name": "LayoutModel",
      "state": {}
     },
     "1758b891da2e4046b5c86612392a73d2": {
      "model_module": "@jupyter-widgets/controls",
      "model_module_version": "1.5.0",
      "model_name": "VBoxModel",
      "state": {
       "children": [
        "IPY_MODEL_c1a78075fde84f61bdd0e431ea17982a",
        "IPY_MODEL_4f66e8a93793460e90d371c97fb0150f"
       ],
       "layout": "IPY_MODEL_835bad01b2d24598854bab160ed7d64f"
      }
     },
     "175c12aa307f4df3960d19c7b913c16b": {
      "model_module": "@jupyter-widgets/base",
      "model_module_version": "1.2.0",
      "model_name": "LayoutModel",
      "state": {}
     },
     "17aa8352efea4a888bf32bc3d5803c0b": {
      "model_module": "@jupyter-widgets/base",
      "model_module_version": "1.2.0",
      "model_name": "LayoutModel",
      "state": {}
     },
     "17f7decd15734783b5c9f5891b7be4fd": {
      "model_module": "@jupyter-widgets/base",
      "model_module_version": "1.2.0",
      "model_name": "LayoutModel",
      "state": {}
     },
     "193efe2340fe4b35bc89e9d18a1cf086": {
      "model_module": "@jupyter-widgets/output",
      "model_module_version": "1.0.0",
      "model_name": "OutputModel",
      "state": {
       "layout": "IPY_MODEL_1d2cce8a8ea048b19dfd028df4dec251",
       "outputs": [
        {
         "data": {
          "text/plain": "100"
         },
         "metadata": {},
         "output_type": "display_data"
        }
       ]
      }
     },
     "196c03fd6c6649879d18efe6a57bdbab": {
      "model_module": "@jupyter-widgets/base",
      "model_module_version": "1.2.0",
      "model_name": "LayoutModel",
      "state": {}
     },
     "1985717e61d344e08d97a4cfee7b8a4f": {
      "model_module": "@jupyter-widgets/controls",
      "model_module_version": "1.5.0",
      "model_name": "VBoxModel",
      "state": {
       "children": [
        "IPY_MODEL_66e763af63ae4a788a72f5173b2b8034",
        "IPY_MODEL_8b5d5c10aeb9488080a77aa256e14ee8"
       ],
       "layout": "IPY_MODEL_0a3b5bdac5ee4f0aa890a1e71a978eb7"
      }
     },
     "199ae9bd3d724596b192b54df3e1198f": {
      "model_module": "@jupyter-widgets/controls",
      "model_module_version": "1.5.0",
      "model_name": "SliderStyleModel",
      "state": {
       "description_width": ""
      }
     },
     "19c0c6b5b11a4c58aee63cf1b6922714": {
      "model_module": "@jupyter-widgets/output",
      "model_module_version": "1.0.0",
      "model_name": "OutputModel",
      "state": {
       "layout": "IPY_MODEL_2b6211fade7c472db9f40baf83a5e8b5"
      }
     },
     "19cc77111d0e4093a0bda5eb67eb4260": {
      "model_module": "@jupyter-widgets/controls",
      "model_module_version": "1.5.0",
      "model_name": "VBoxModel",
      "state": {
       "children": [
        "IPY_MODEL_3c79ece34dcb4537b580ed95d9e8d199",
        "IPY_MODEL_7ccb0f2d2f604bc7a619bbdbddba72a7"
       ],
       "layout": "IPY_MODEL_b6a0b7c6f80347bdae863b4311d60899"
      }
     },
     "1a058fac9a9548cb83422c01782e0314": {
      "model_module": "@jupyter-widgets/base",
      "model_module_version": "1.2.0",
      "model_name": "LayoutModel",
      "state": {
       "min_width": "125px"
      }
     },
     "1a7788c8cfff44d6966ba9f42845b827": {
      "model_module": "bqplot",
      "model_module_version": "^0.4.0",
      "model_name": "LinearScaleModel",
      "state": {
       "allow_padding": false,
       "max": 1,
       "min": 0,
       "stabilized": false
      }
     },
     "1aa69f6eb4d2441c988f6d9b5dfd6285": {
      "model_module": "@jupyter-widgets/controls",
      "model_module_version": "1.5.0",
      "model_name": "IntSliderModel",
      "state": {
       "description": "x",
       "layout": "IPY_MODEL_9eb6022e4f464543bc5d8ecbc4d2b478",
       "max": 30,
       "min": -10,
       "style": "IPY_MODEL_daefcb363f6542479b0989d64f7b7409",
       "value": 10
      }
     },
     "1acdad4e04f2402fb41b066eddfdc9ac": {
      "model_module": "@jupyter-widgets/base",
      "model_module_version": "1.2.0",
      "model_name": "LayoutModel",
      "state": {}
     },
     "1aed4c1e330a414a8e95a1a63b0cdd58": {
      "model_module": "bqplot",
      "model_module_version": "^0.4.0",
      "model_name": "LinesModel",
      "state": {
       "color": {
        "type": null,
        "values": null
       },
       "colors": [
        "#475A77"
       ],
       "display_legend": false,
       "fill_colors": [],
       "scales": {
        "x": "IPY_MODEL_fcea5cb38abe4e62a9916b902259c37b",
        "y": "IPY_MODEL_d82bb92c04b44789b5953f67c543b042"
       },
       "selected": [],
       "x": {
        "type": "float",
        "values": []
       },
       "y": {
        "type": "float",
        "values": []
       }
      }
     },
     "1b1a87b10c2846e98baa87969be79da9": {
      "model_module": "bqplot",
      "model_module_version": "^0.4.0",
      "model_name": "LinearScaleModel",
      "state": {
       "stabilized": false
      }
     },
     "1b1e6e7525fa482191ebacf7f7c5b4c5": {
      "model_module": "bqplot",
      "model_module_version": "^0.4.0",
      "model_name": "AxisModel",
      "state": {
       "orientation": "vertical",
       "scale": "IPY_MODEL_5c0c2ca5cb2340cbba6a06475ac15fa2",
       "side": "left",
       "tick_values": {
        "type": null,
        "values": null
       }
      }
     },
     "1b690cdb99d64d5eadcda6596a9b1b90": {
      "model_module": "@jupyter-widgets/base",
      "model_module_version": "1.2.0",
      "model_name": "LayoutModel",
      "state": {}
     },
     "1b76dba777344979bd1bb368e22ec9e3": {
      "model_module": "@jupyter-widgets/base",
      "model_module_version": "1.2.0",
      "model_name": "LayoutModel",
      "state": {
       "min_width": "125px"
      }
     },
     "1bb6c10f35b54ba899be6c527e5f0412": {
      "model_module": "bqplot",
      "model_module_version": "^0.4.0",
      "model_name": "AxisModel",
      "state": {
       "orientation": "vertical",
       "scale": "IPY_MODEL_c7fcfeb888f045239eab4ed39616ffaa",
       "side": "left",
       "tick_values": {
        "type": null,
        "values": null
       }
      }
     },
     "1c34b55dc97b4fb7ba502dbfb841aa8b": {
      "model_module": "bqplot",
      "model_module_version": "^0.4.0",
      "model_name": "LinearScaleModel",
      "state": {
       "allow_padding": false,
       "max": 1,
       "min": 0,
       "stabilized": false
      }
     },
     "1c4763440cad46b189402bd4fa25c5ed": {
      "model_module": "@jupyter-widgets/output",
      "model_module_version": "1.0.0",
      "model_name": "OutputModel",
      "state": {
       "layout": "IPY_MODEL_27f2e75b94954790bc0aad8ee5d036d3"
      }
     },
     "1c4ead7109ee480ab21bae37f452b81a": {
      "model_module": "bqplot",
      "model_module_version": "^0.4.0",
      "model_name": "AxisModel",
      "state": {
       "orientation": "vertical",
       "scale": "IPY_MODEL_a9e5f0472a0f45cf8ceffa946ac505d1",
       "side": "left",
       "tick_values": {
        "type": null,
        "values": null
       }
      }
     },
     "1c742cdd46ed44de98f7a113755c5865": {
      "model_module": "@jupyter-widgets/controls",
      "model_module_version": "1.5.0",
      "model_name": "VBoxModel",
      "state": {
       "_dom_classes": [
        "widget-interact"
       ],
       "children": [
        "IPY_MODEL_63c54128f4464e41a1e4dcc587620281"
       ],
       "layout": "IPY_MODEL_bb4d6896729544269526d04da6fce7e0"
      }
     },
     "1c86616b0d8747d484ddee87506ffb68": {
      "model_module": "@jupyter-widgets/controls",
      "model_module_version": "1.5.0",
      "model_name": "VBoxModel",
      "state": {
       "children": [
        "IPY_MODEL_628803a2d70e4017902988ed33d721f8",
        "IPY_MODEL_593a98b66b394acd892c7eb3dc5323af"
       ],
       "layout": "IPY_MODEL_42a1393cf13f4ed094f2fd82751ffa2c"
      }
     },
     "1d2cce8a8ea048b19dfd028df4dec251": {
      "model_module": "@jupyter-widgets/base",
      "model_module_version": "1.2.0",
      "model_name": "LayoutModel",
      "state": {}
     },
     "1d753bafc4234fabb3ab8af01b77826f": {
      "model_module": "bqplot",
      "model_module_version": "^0.4.0",
      "model_name": "LinearScaleModel",
      "state": {
       "allow_padding": false,
       "max": 1,
       "min": 0,
       "stabilized": false
      }
     },
     "1da79d6b109a4bc18b025bebb99fb2d8": {
      "model_module": "bqplot",
      "model_module_version": "^0.4.0",
      "model_name": "FigureModel",
      "state": {
       "_dom_classes": [],
       "axes": [
        "IPY_MODEL_3322c055ce6f421dbd2df30744c57182",
        "IPY_MODEL_3509e0536a2c40feb2ac185c098ef0e4"
       ],
       "layout": "IPY_MODEL_290ec7b33f8048f68b99bf6cd26b1b80",
       "marks": [
        "IPY_MODEL_adf8801305c6445e9d878f83b084b69d"
       ],
       "max_aspect_ratio": 6,
       "scale_x": "IPY_MODEL_afabf1447fe2444da54b5ecec39a625d",
       "scale_y": "IPY_MODEL_b5a26372309b40f2b4696b1fa2219ba2"
      }
     },
     "1dc4cc1388374ed5a1cb61d58351672e": {
      "model_module": "@jupyter-widgets/output",
      "model_module_version": "1.0.0",
      "model_name": "OutputModel",
      "state": {
       "layout": "IPY_MODEL_39c17fc694414c298e68e96328164504"
      }
     },
     "1df3317ee692475cb42eacfae9dc9649": {
      "model_module": "@jupyter-widgets/base",
      "model_module_version": "1.2.0",
      "model_name": "LayoutModel",
      "state": {
       "min_width": "125px"
      }
     },
     "1e7fef29309c41809529b15bae8e7fbd": {
      "model_module": "bqplot",
      "model_module_version": "^0.4.0",
      "model_name": "LinearScaleModel",
      "state": {
       "allow_padding": false,
       "max": 1,
       "min": 0,
       "stabilized": false
      }
     },
     "1e8fcb3c3d074b7e92e3d4993ffa66e7": {
      "model_module": "@jupyter-widgets/base",
      "model_module_version": "1.2.0",
      "model_name": "LayoutModel",
      "state": {
       "min_width": "125px"
      }
     },
     "1e9afe2f8424400b9f6b418f193c2e4e": {
      "model_module": "@jupyter-widgets/base",
      "model_module_version": "1.2.0",
      "model_name": "LayoutModel",
      "state": {}
     },
     "1ec76faf25f4481ab44e2c53eb09cd5a": {
      "model_module": "@jupyter-widgets/controls",
      "model_module_version": "1.5.0",
      "model_name": "VBoxModel",
      "state": {
       "children": [
        "IPY_MODEL_e200b77366a743d9a2794f605b8e6b13",
        "IPY_MODEL_52ace83f032949778b07e38305b51f06"
       ],
       "layout": "IPY_MODEL_db5973aa41df49a2adee92f097921a06"
      }
     },
     "1ecf6d4ec1a44d97a2184b709574f1d0": {
      "model_module": "bqplot",
      "model_module_version": "^0.4.0",
      "model_name": "LinesModel",
      "state": {
       "color": {
        "type": null,
        "values": null
       },
       "colors": [
        "#475A77"
       ],
       "display_legend": false,
       "fill_colors": [],
       "scales": {
        "x": "IPY_MODEL_bdbe38c2d9e8445bb3ee59e5bfc2a45d",
        "y": "IPY_MODEL_96c06d2b05754790bf6d9719c4a94f9e"
       },
       "selected": [],
       "x": {
        "type": "float",
        "values": []
       },
       "y": {
        "type": "float",
        "values": []
       }
      }
     },
     "1f3eae33040440a5bd17bc359b3bfac0": {
      "model_module": "bqplot",
      "model_module_version": "^0.4.0",
      "model_name": "AxisModel",
      "state": {
       "orientation": "vertical",
       "scale": "IPY_MODEL_b523c64c25a54541a848282c0e568ed7",
       "side": "left",
       "tick_values": {
        "type": null,
        "values": null
       }
      }
     },
     "1f8ccc31249547ef8bfffe2255d7f77c": {
      "model_module": "@jupyter-widgets/base",
      "model_module_version": "1.2.0",
      "model_name": "LayoutModel",
      "state": {}
     },
     "1f8f2b0557d543d19bbc28f5fe26822b": {
      "model_module": "@jupyter-widgets/controls",
      "model_module_version": "1.5.0",
      "model_name": "VBoxModel",
      "state": {
       "children": [
        "IPY_MODEL_ceb1922fc25d407fb67008b26803e6c6",
        "IPY_MODEL_c40682b710a841a6998a53d6aabe31c5"
       ],
       "layout": "IPY_MODEL_38c05a26f2af4492ae7e00b307249220"
      }
     },
     "1fc055e47dea48288611b3190df9d4a0": {
      "model_module": "bqplot",
      "model_module_version": "^0.4.0",
      "model_name": "LinesModel",
      "state": {
       "color": {
        "type": null,
        "values": null
       },
       "colors": [
        "#475A77"
       ],
       "display_legend": false,
       "fill_colors": [],
       "scales": {
        "x": "IPY_MODEL_97cc49deeb9b41559383a0db1b89da6e",
        "y": "IPY_MODEL_37a7ede57e5e46e1a42963c7689c213e"
       },
       "selected": [],
       "x": {
        "type": "float",
        "values": []
       },
       "y": {
        "type": "float",
        "values": []
       }
      }
     },
     "1fd3bdc111604ee2b82ebb77ca5a6602": {
      "model_module": "bqplot",
      "model_module_version": "^0.4.0",
      "model_name": "AxisModel",
      "state": {
       "scale": "IPY_MODEL_a54904d2da6040c1ad87d428616fd6bb",
       "side": "bottom",
       "tick_values": {
        "type": null,
        "values": null
       }
      }
     },
     "2020b60c8e24423a91477f7d6330c830": {
      "model_module": "bqplot",
      "model_module_version": "^0.4.0",
      "model_name": "LinearScaleModel",
      "state": {
       "stabilized": false
      }
     },
     "20763071cb3540cba34ece2e5e9d4f97": {
      "model_module": "bqplot",
      "model_module_version": "^0.4.0",
      "model_name": "LinearScaleModel",
      "state": {
       "stabilized": false
      }
     },
     "20842aabce4149c48ef46fd7e27afae7": {
      "model_module": "bqplot",
      "model_module_version": "^0.4.0",
      "model_name": "AxisModel",
      "state": {
       "scale": "IPY_MODEL_df6b6b1d4aad4acba06b583791c87f85",
       "side": "bottom",
       "tick_values": {
        "type": null,
        "values": null
       }
      }
     },
     "20aebde7e6ca4b1fb8ac2370d38452c7": {
      "model_module": "bqplot",
      "model_module_version": "^0.4.0",
      "model_name": "LinearScaleModel",
      "state": {
       "stabilized": false
      }
     },
     "20b8c5b6bec742d7aa5b0e97a10f226e": {
      "model_module": "bqplot",
      "model_module_version": "^0.4.0",
      "model_name": "FigureModel",
      "state": {
       "_dom_classes": [],
       "axes": [
        "IPY_MODEL_419e323af3b74f3c85a652ca9cf28693",
        "IPY_MODEL_4d516791a55f4ecdb7b79bb29aaecb48"
       ],
       "layout": "IPY_MODEL_fe1d1a1f6f264d2e8f6fc1c438ca3450",
       "marks": [
        "IPY_MODEL_719c23a1df4745bcb9068d5cc89390e3"
       ],
       "max_aspect_ratio": 6,
       "scale_x": "IPY_MODEL_bfe30700584a41d58c31cc9edcbf3e66",
       "scale_y": "IPY_MODEL_74bed9a814d94a47a9d7770ace591bf7"
      }
     },
     "21384cd290fc464085fd3818b9f476e8": {
      "model_module": "bqplot",
      "model_module_version": "^0.4.0",
      "model_name": "FigureModel",
      "state": {
       "_dom_classes": [],
       "axes": [
        "IPY_MODEL_5bda3c0af0e34a67b5732965969cdf6d",
        "IPY_MODEL_09343f7882ad4889affacdc99b69eac8"
       ],
       "layout": "IPY_MODEL_1e8fcb3c3d074b7e92e3d4993ffa66e7",
       "marks": [
        "IPY_MODEL_e10cf81888b94a0994a1e6b02d4053a1"
       ],
       "max_aspect_ratio": 6,
       "scale_x": "IPY_MODEL_7ffe9248546a4145a570516fc552bad3",
       "scale_y": "IPY_MODEL_29e8ac58263c48379eed3999e20af10c"
      }
     },
     "218025391afe4d70a0ac7eb6c93b423e": {
      "model_module": "bqplot",
      "model_module_version": "^0.4.0",
      "model_name": "LinearScaleModel",
      "state": {
       "stabilized": false
      }
     },
     "21dd8387d291439b9728538ce54c26bd": {
      "model_module": "@jupyter-widgets/controls",
      "model_module_version": "1.5.0",
      "model_name": "VBoxModel",
      "state": {
       "_dom_classes": [
        "widget-interact"
       ],
       "children": [
        "IPY_MODEL_6b301ced16034f6c91d4d7fb54b7fb71"
       ],
       "layout": "IPY_MODEL_027a6cb34864499681c50b3cf551b407"
      }
     },
     "22561316749141758abf232d7472c6dd": {
      "model_module": "bqplot",
      "model_module_version": "^0.4.0",
      "model_name": "AxisModel",
      "state": {
       "orientation": "vertical",
       "scale": "IPY_MODEL_788d31bb05fc47d2a7fbed99b8664ea3",
       "side": "left",
       "tick_values": {
        "type": null,
        "values": null
       }
      }
     },
     "227422c5cd764b458f2feb4c0cc36ab3": {
      "model_module": "bqplot",
      "model_module_version": "^0.4.0",
      "model_name": "AxisModel",
      "state": {
       "orientation": "vertical",
       "scale": "IPY_MODEL_d70fa4ad6e7940d9a5b7c3c7e262f1ea",
       "side": "left",
       "tick_values": {
        "type": null,
        "values": null
       }
      }
     },
     "22835d66035c4cf4864edb0401296cb3": {
      "model_module": "@jupyter-widgets/base",
      "model_module_version": "1.2.0",
      "model_name": "LayoutModel",
      "state": {}
     },
     "22f0685151bc47a6838a6073428e1d29": {
      "model_module": "bqplot",
      "model_module_version": "^0.4.0",
      "model_name": "LinearScaleModel",
      "state": {
       "allow_padding": false,
       "max": 1,
       "min": 0,
       "stabilized": false
      }
     },
     "23191c5004224ddcabd1bb6361e517f2": {
      "model_module": "@jupyter-widgets/controls",
      "model_module_version": "1.5.0",
      "model_name": "VBoxModel",
      "state": {
       "_dom_classes": [
        "widget-interact"
       ],
       "children": [
        "IPY_MODEL_17183cfaf45e4013aa5ae7858f95e8da"
       ],
       "layout": "IPY_MODEL_738d58536a5249aea998070ef1315b4c"
      }
     },
     "2343f65807bf4ffe9cedf94d835d3195": {
      "model_module": "@jupyter-widgets/controls",
      "model_module_version": "1.5.0",
      "model_name": "SliderStyleModel",
      "state": {
       "description_width": ""
      }
     },
     "238acce99a1f48c3b71ea11973ffbbf9": {
      "model_module": "@jupyter-widgets/output",
      "model_module_version": "1.0.0",
      "model_name": "OutputModel",
      "state": {
       "layout": "IPY_MODEL_f4f38444c3b643dda5e36b49a2afc806"
      }
     },
     "23a48d4f41084e00b2f82c83bfa54172": {
      "model_module": "@jupyter-widgets/controls",
      "model_module_version": "1.5.0",
      "model_name": "VBoxModel",
      "state": {
       "_dom_classes": [
        "widget-interact"
       ],
       "children": [
        "IPY_MODEL_937864fffb2844eca8ff0424991d89ae"
       ],
       "layout": "IPY_MODEL_6229116fc54643e99e1a064136861b87"
      }
     },
     "23b34cce8cd5446bb8b6403387f336fb": {
      "model_module": "@jupyter-widgets/base",
      "model_module_version": "1.2.0",
      "model_name": "LayoutModel",
      "state": {}
     },
     "23c7b15bd6c74dd3acf83310fd354e4a": {
      "model_module": "bqplot",
      "model_module_version": "^0.4.0",
      "model_name": "AxisModel",
      "state": {
       "scale": "IPY_MODEL_81055cb5f87c49bfb5e1df9764eddb1e",
       "side": "bottom",
       "tick_values": {
        "type": null,
        "values": null
       }
      }
     },
     "240bebee31eb4681aa23d9d830912e97": {
      "model_module": "@jupyter-widgets/controls",
      "model_module_version": "1.5.0",
      "model_name": "VBoxModel",
      "state": {
       "_dom_classes": [
        "widget-interact"
       ],
       "children": [
        "IPY_MODEL_9e4a3f7530e24c3faf429418a5053d73",
        "IPY_MODEL_0700e1e1ac6a4f9b863a9aa81bfd0e25",
        "IPY_MODEL_4312a2672c2b41c6a17d3e0105c6fc94"
       ],
       "layout": "IPY_MODEL_48e985a137fa47689e5972a9cad74ee6"
      }
     },
     "2429d8f27bd54fee8d620deb3c484d2f": {
      "model_module": "bqplot",
      "model_module_version": "^0.4.0",
      "model_name": "LinearScaleModel",
      "state": {
       "allow_padding": false,
       "max": 1,
       "min": 0,
       "stabilized": false
      }
     },
     "242c1d9340354f57960c58b218950f38": {
      "model_module": "bqplot",
      "model_module_version": "^0.4.0",
      "model_name": "LinearScaleModel",
      "state": {
       "stabilized": false
      }
     },
     "244a5a21211246438978cfb022c006db": {
      "model_module": "bqplot",
      "model_module_version": "^0.4.0",
      "model_name": "FigureModel",
      "state": {
       "_dom_classes": [],
       "axes": [
        "IPY_MODEL_a06f9f2f5df04762bb84cbf06bee8f01",
        "IPY_MODEL_227422c5cd764b458f2feb4c0cc36ab3"
       ],
       "layout": "IPY_MODEL_3b4bf71da9f3404fa56d4867f3a083a0",
       "marks": [
        "IPY_MODEL_f6b08af901344dd19f2c275ee815abe5"
       ],
       "max_aspect_ratio": 6,
       "scale_x": "IPY_MODEL_22f0685151bc47a6838a6073428e1d29",
       "scale_y": "IPY_MODEL_b92cd4d45f33474483b9057e28eaaf88"
      }
     },
     "24502df7186847e29e8fff957f227ab5": {
      "model_module": "@jupyter-widgets/base",
      "model_module_version": "1.2.0",
      "model_name": "LayoutModel",
      "state": {}
     },
     "246b1d4e8679452bb6a0534eed4ff269": {
      "model_module": "@jupyter-widgets/output",
      "model_module_version": "1.0.0",
      "model_name": "OutputModel",
      "state": {
       "layout": "IPY_MODEL_caccf35964c44972a3eadd25545a090a"
      }
     },
     "247fe40bd241439ab0b9366793e9e80a": {
      "model_module": "@jupyter-widgets/base",
      "model_module_version": "1.2.0",
      "model_name": "LayoutModel",
      "state": {}
     },
     "248bb81c9aaf4350a60b39e15e6fc1d5": {
      "model_module": "bqplot",
      "model_module_version": "^0.4.0",
      "model_name": "FigureModel",
      "state": {
       "_dom_classes": [],
       "axes": [
        "IPY_MODEL_c4b09b2dc32e4025aafc67e8424e6e07",
        "IPY_MODEL_b4efb8cb27584c10ab69fc7e59bd5c02"
       ],
       "layout": "IPY_MODEL_646496d12ada45cfaa6cd08804c9ea4b",
       "marks": [
        "IPY_MODEL_05cf73b224964704976764eed390feae"
       ],
       "max_aspect_ratio": 6,
       "scale_x": "IPY_MODEL_e59512b48f2e4747ab4dabc24c5d059e",
       "scale_y": "IPY_MODEL_37ed146ef36c4b0d9e0215d86d813c3d"
      }
     },
     "24f0068514ad43ffa4524233ae793b57": {
      "model_module": "bqplot",
      "model_module_version": "^0.4.0",
      "model_name": "LinearScaleModel",
      "state": {
       "allow_padding": false,
       "max": 1,
       "min": 0,
       "stabilized": false
      }
     },
     "25037ab3b5564bfdaabcd64db929015a": {
      "model_module": "@jupyter-widgets/base",
      "model_module_version": "1.2.0",
      "model_name": "LayoutModel",
      "state": {}
     },
     "2509ac3bd3d54398a9f56cac45c16242": {
      "model_module": "bqplot",
      "model_module_version": "^0.4.0",
      "model_name": "AxisModel",
      "state": {
       "orientation": "vertical",
       "scale": "IPY_MODEL_79942e413b5444de8e9d4f442cb461e0",
       "side": "left",
       "tick_values": {
        "type": null,
        "values": null
       }
      }
     },
     "250e846c70bc4b5e92dd6a6f1665c674": {
      "model_module": "bqplot",
      "model_module_version": "^0.4.0",
      "model_name": "FigureModel",
      "state": {
       "_dom_classes": [],
       "axes": [
        "IPY_MODEL_bd08862d248d4c0a8076861120909256",
        "IPY_MODEL_1c4ead7109ee480ab21bae37f452b81a"
       ],
       "layout": "IPY_MODEL_7481bcca9a2e41fbacfef8d7bda4846b",
       "marks": [
        "IPY_MODEL_7a2f3a6127c64c6aa975d8ed9ed58753"
       ],
       "max_aspect_ratio": 6,
       "scale_x": "IPY_MODEL_84835623125f4284b3c3997393e0fdc5",
       "scale_y": "IPY_MODEL_916f7acbc8944108944b86f1102e77f7"
      }
     },
     "252612b198eb419eb634d57469b16564": {
      "model_module": "@jupyter-widgets/output",
      "model_module_version": "1.0.0",
      "model_name": "OutputModel",
      "state": {
       "layout": "IPY_MODEL_93abf39ccb23469db8d27c1cf124ddb8"
      }
     },
     "2534062ffc674e34b9dc3455f7d9f0b2": {
      "model_module": "@jupyter-widgets/output",
      "model_module_version": "1.0.0",
      "model_name": "OutputModel",
      "state": {
       "layout": "IPY_MODEL_05ff2ae5090e473e8d6778dd9f543a44",
       "outputs": [
        {
         "data": {
          "application/vnd.jupyter.widget-view+json": {
           "model_id": "1ec76faf25f4481ab44e2c53eb09cd5a",
           "version_major": 2,
           "version_minor": 0
          },
          "text/plain": "VBox(children=(interactive(children=(Output(),), _dom_classes=('widget-interact',)), Figure(axes=[Axis(scale=L…"
         },
         "metadata": {},
         "output_type": "display_data"
        }
       ]
      }
     },
     "256b6ed89bc7487d99177336f786f8b0": {
      "model_module": "@jupyter-widgets/base",
      "model_module_version": "1.2.0",
      "model_name": "LayoutModel",
      "state": {}
     },
     "25721c42539e480fa745cf92edcfbd9e": {
      "model_module": "@jupyter-widgets/controls",
      "model_module_version": "1.5.0",
      "model_name": "IntSliderModel",
      "state": {
       "description": "x",
       "layout": "IPY_MODEL_736ecf2aad774871902c3fae7be2be4d",
       "max": 30,
       "min": -10,
       "style": "IPY_MODEL_cbfb6bef694b46a1839c7ce7bc8c3300",
       "value": 10
      }
     },
     "257d462d85614531931f178ccc8f9115": {
      "model_module": "bqplot",
      "model_module_version": "^0.4.0",
      "model_name": "AxisModel",
      "state": {
       "scale": "IPY_MODEL_e487317701f04fceb05a71fae74857f4",
       "side": "bottom",
       "tick_values": {
        "type": null,
        "values": null
       }
      }
     },
     "2586a62db50b4a14bdcf7978f79ce206": {
      "model_module": "bqplot",
      "model_module_version": "^0.4.0",
      "model_name": "LinearScaleModel",
      "state": {
       "allow_padding": false,
       "max": 1,
       "min": 0,
       "stabilized": false
      }
     },
     "25e0d184de854a10a4035630eba4087e": {
      "model_module": "bqplot",
      "model_module_version": "^0.4.0",
      "model_name": "LinearScaleModel",
      "state": {
       "stabilized": false
      }
     },
     "2658c19149f74ed989e6681f75b90b59": {
      "model_module": "bqplot",
      "model_module_version": "^0.4.0",
      "model_name": "LinesModel",
      "state": {
       "color": {
        "type": null,
        "values": null
       },
       "colors": [
        "#475A77"
       ],
       "display_legend": false,
       "fill_colors": [],
       "scales": {
        "x": "IPY_MODEL_574d9763417e4f8cacda7709d63bf370",
        "y": "IPY_MODEL_edd838953d8441c48eaa8b74ed1e8a4a"
       },
       "selected": [],
       "x": {
        "type": "float",
        "values": []
       },
       "y": {
        "type": "float",
        "values": []
       }
      }
     },
     "2662622aa81744e5a1b61b5596e1cf68": {
      "model_module": "bqplot",
      "model_module_version": "^0.4.0",
      "model_name": "AxisModel",
      "state": {
       "scale": "IPY_MODEL_cfe62aa788ed411f8ce495954b92d50b",
       "side": "bottom",
       "tick_values": {
        "type": null,
        "values": null
       }
      }
     },
     "267118f2c78340d2a30c2b4a78323af8": {
      "model_module": "bqplot",
      "model_module_version": "^0.4.0",
      "model_name": "LinearScaleModel",
      "state": {
       "allow_padding": false,
       "max": 1,
       "min": 0,
       "stabilized": false
      }
     },
     "26721e2ac56747889b4c0d5cb433aa7a": {
      "model_module": "bqplot",
      "model_module_version": "^0.4.0",
      "model_name": "AxisModel",
      "state": {
       "scale": "IPY_MODEL_a96e114fed2c4305a417654dde01f241",
       "side": "bottom",
       "tick_values": {
        "type": null,
        "values": null
       }
      }
     },
     "268245765f8641e9b7ccfe9ce857182c": {
      "model_module": "@jupyter-widgets/controls",
      "model_module_version": "1.5.0",
      "model_name": "VBoxModel",
      "state": {
       "_dom_classes": [
        "widget-interact"
       ],
       "children": [
        "IPY_MODEL_fc642dda9ca7482781abe3228b3496a2"
       ],
       "layout": "IPY_MODEL_b8f41ef0f6c04aeab67b6a84bede90cb"
      }
     },
     "271752b5d6684fb09f1590aa7ab89f8c": {
      "model_module": "@jupyter-widgets/base",
      "model_module_version": "1.2.0",
      "model_name": "LayoutModel",
      "state": {}
     },
     "271dee9495db46cf836fb2e8ef640896": {
      "model_module": "@jupyter-widgets/base",
      "model_module_version": "1.2.0",
      "model_name": "LayoutModel",
      "state": {}
     },
     "2780ac9be45c4bc0b3a1baed22464fbb": {
      "model_module": "bqplot",
      "model_module_version": "^0.4.0",
      "model_name": "FigureModel",
      "state": {
       "_dom_classes": [],
       "axes": [
        "IPY_MODEL_eb58a41f90564997b2df7a0bd1e380bd",
        "IPY_MODEL_d3966781576e4491b72085e13feb4d93"
       ],
       "layout": "IPY_MODEL_375150033ae347c39d1d1ebf1ec89254",
       "marks": [
        "IPY_MODEL_91ef48fad4834ac89b5f9bd33ae6ab0c"
       ],
       "max_aspect_ratio": 6,
       "scale_x": "IPY_MODEL_4eb4e39806384ad89fab296558561413",
       "scale_y": "IPY_MODEL_0fcae35fa5ac4dfabcd3555a78193da9"
      }
     },
     "27a44b9bab3b451cb8a699efecdf848e": {
      "model_module": "@jupyter-widgets/controls",
      "model_module_version": "1.5.0",
      "model_name": "IntSliderModel",
      "state": {
       "description": "corn_price",
       "layout": "IPY_MODEL_f023ac0e26ef4764940a500a9bbdae8d",
       "max": 500,
       "min": 10,
       "step": 10,
       "style": "IPY_MODEL_bf985c2bd27b484a9b8c6f5c7b9da7c5",
       "value": 250
      }
     },
     "27d5ed5ee52e456c9bd3523e4f7bfb8f": {
      "model_module": "@jupyter-widgets/output",
      "model_module_version": "1.0.0",
      "model_name": "OutputModel",
      "state": {
       "layout": "IPY_MODEL_d0c1a7263b0546d69d7b1acd73a01449"
      }
     },
     "27f2e75b94954790bc0aad8ee5d036d3": {
      "model_module": "@jupyter-widgets/base",
      "model_module_version": "1.2.0",
      "model_name": "LayoutModel",
      "state": {}
     },
     "281345dfd0a246b4aed476c645f59a71": {
      "model_module": "bqplot",
      "model_module_version": "^0.4.0",
      "model_name": "AxisModel",
      "state": {
       "scale": "IPY_MODEL_b8c62299c466472dae16f8df030e07af",
       "side": "bottom",
       "tick_values": {
        "type": null,
        "values": null
       }
      }
     },
     "2814e8a1307042c393c2441aea58470d": {
      "model_module": "@jupyter-widgets/controls",
      "model_module_version": "1.5.0",
      "model_name": "VBoxModel",
      "state": {
       "_dom_classes": [
        "widget-interact"
       ],
       "children": [
        "IPY_MODEL_0b50fc60794d40378f97ccc778572dfb"
       ],
       "layout": "IPY_MODEL_63eedf2e1f5c43c1b31bbd94e0b613c0"
      }
     },
     "285c7c0efb3747debe2f67bc25ba9d7f": {
      "model_module": "bqplot",
      "model_module_version": "^0.4.0",
      "model_name": "LinearScaleModel",
      "state": {
       "allow_padding": false,
       "max": 1,
       "min": 0,
       "stabilized": false
      }
     },
     "2875d67c7d974ff3835cd706f66d6434": {
      "model_module": "bqplot",
      "model_module_version": "^0.4.0",
      "model_name": "FigureModel",
      "state": {
       "_dom_classes": [],
       "axes": [
        "IPY_MODEL_cd53f1e8f77c4cbf8982bf53010b0c63",
        "IPY_MODEL_3ebdb760bfa441fe8fc6193b1909409c"
       ],
       "layout": "IPY_MODEL_c27211344c7449d6941b946124cb6a84",
       "marks": [
        "IPY_MODEL_ea9774f75bb94c51b5022924a55939ef"
       ],
       "max_aspect_ratio": 6,
       "scale_x": "IPY_MODEL_b90e2287cb704f5eac250b189942b72c",
       "scale_y": "IPY_MODEL_a3f903e22fae4e2f95c9f1ec0dd681f1"
      }
     },
     "28765304fcf0480a964e9a499188d9b8": {
      "model_module": "@jupyter-widgets/base",
      "model_module_version": "1.2.0",
      "model_name": "LayoutModel",
      "state": {
       "min_width": "125px"
      }
     },
     "28a9adda984d4d8698cf4858d56cd3b4": {
      "model_module": "bqplot",
      "model_module_version": "^0.4.0",
      "model_name": "AxisModel",
      "state": {
       "orientation": "vertical",
       "scale": "IPY_MODEL_5b99b5534c474b43bb7a366abd2d9cb1",
       "side": "left",
       "tick_values": {
        "type": null,
        "values": null
       }
      }
     },
     "28aaf95beb434a3f959ae9954ed07ab6": {
      "model_module": "bqplot",
      "model_module_version": "^0.4.0",
      "model_name": "LinearScaleModel",
      "state": {
       "allow_padding": false,
       "max": 1,
       "min": 0,
       "stabilized": false
      }
     },
     "28cb2d1f7d33434f970ca6656e58fa3d": {
      "model_module": "@jupyter-widgets/base",
      "model_module_version": "1.2.0",
      "model_name": "LayoutModel",
      "state": {}
     },
     "28e913a50f7a42cab6dfbd0d59d574c2": {
      "model_module": "@jupyter-widgets/base",
      "model_module_version": "1.2.0",
      "model_name": "LayoutModel",
      "state": {}
     },
     "28f84f0785954b86b3f399698d091749": {
      "model_module": "@jupyter-widgets/controls",
      "model_module_version": "1.5.0",
      "model_name": "SliderStyleModel",
      "state": {
       "description_width": ""
      }
     },
     "290ec7b33f8048f68b99bf6cd26b1b80": {
      "model_module": "@jupyter-widgets/base",
      "model_module_version": "1.2.0",
      "model_name": "LayoutModel",
      "state": {
       "min_width": "125px"
      }
     },
     "2947a4c061254777a4683a34817ea38e": {
      "model_module": "bqplot",
      "model_module_version": "^0.4.0",
      "model_name": "LinearScaleModel",
      "state": {
       "stabilized": false
      }
     },
     "29a49abdcba14d9fa8d49188bf892e46": {
      "model_module": "bqplot",
      "model_module_version": "^0.4.0",
      "model_name": "AxisModel",
      "state": {
       "orientation": "vertical",
       "scale": "IPY_MODEL_7763ba34194a4eb089bdab8330218aee",
       "side": "left",
       "tick_values": {
        "type": null,
        "values": null
       }
      }
     },
     "29e8ac58263c48379eed3999e20af10c": {
      "model_module": "bqplot",
      "model_module_version": "^0.4.0",
      "model_name": "LinearScaleModel",
      "state": {
       "allow_padding": false,
       "max": 1,
       "min": 0,
       "stabilized": false
      }
     },
     "2a0f4fd0e3d341d6aa3b470612768685": {
      "model_module": "bqplot",
      "model_module_version": "^0.4.0",
      "model_name": "AxisModel",
      "state": {
       "scale": "IPY_MODEL_a6cbf19c66ed445bb1c24681163e4e39",
       "side": "bottom",
       "tick_values": {
        "type": null,
        "values": null
       }
      }
     },
     "2a1f6687482c4726b31a9e302bb4f3db": {
      "model_module": "bqplot",
      "model_module_version": "^0.4.0",
      "model_name": "LinearScaleModel",
      "state": {
       "allow_padding": false,
       "max": 1,
       "min": 0,
       "stabilized": false
      }
     },
     "2a49e45d183a46e38a895c9d1e0cf536": {
      "model_module": "@jupyter-widgets/base",
      "model_module_version": "1.2.0",
      "model_name": "LayoutModel",
      "state": {}
     },
     "2a845cb911e64a0394cd0185175da8de": {
      "model_module": "@jupyter-widgets/base",
      "model_module_version": "1.2.0",
      "model_name": "LayoutModel",
      "state": {}
     },
     "2aa1504395074a768729764d28878d3f": {
      "model_module": "@jupyter-widgets/base",
      "model_module_version": "1.2.0",
      "model_name": "LayoutModel",
      "state": {}
     },
     "2abf133d096b4196b72d4c13513dd729": {
      "model_module": "@jupyter-widgets/controls",
      "model_module_version": "1.5.0",
      "model_name": "VBoxModel",
      "state": {
       "children": [
        "IPY_MODEL_686ff7bf5729483cacaaa115c367943d",
        "IPY_MODEL_56df4772909b45ebaa40fab998ff791e"
       ],
       "layout": "IPY_MODEL_e9d0917ecfa64037876f3e7570a38cf8"
      }
     },
     "2ad51687061b4325b0990a2707e6ebaa": {
      "model_module": "@jupyter-widgets/base",
      "model_module_version": "1.2.0",
      "model_name": "LayoutModel",
      "state": {
       "min_width": "125px"
      }
     },
     "2ae7afe6a87d48858fdcbfb7bbfc6ba1": {
      "model_module": "bqplot",
      "model_module_version": "^0.4.0",
      "model_name": "AxisModel",
      "state": {
       "orientation": "vertical",
       "scale": "IPY_MODEL_0d2ac306f9a14676ad7042b4318fbd63",
       "side": "left",
       "tick_values": {
        "type": null,
        "values": null
       }
      }
     },
     "2b6211fade7c472db9f40baf83a5e8b5": {
      "model_module": "@jupyter-widgets/base",
      "model_module_version": "1.2.0",
      "model_name": "LayoutModel",
      "state": {}
     },
     "2b7448f5047f419cac81986d82e92ba0": {
      "model_module": "@jupyter-widgets/base",
      "model_module_version": "1.2.0",
      "model_name": "LayoutModel",
      "state": {}
     },
     "2b8f0150f2294b7b859a39ff6517e38e": {
      "model_module": "bqplot",
      "model_module_version": "^0.4.0",
      "model_name": "LinearScaleModel",
      "state": {
       "stabilized": false
      }
     },
     "2b9b0b28d1274c3db86ce8bed842909e": {
      "model_module": "bqplot",
      "model_module_version": "^0.4.0",
      "model_name": "FigureModel",
      "state": {
       "_dom_classes": [],
       "axes": [
        "IPY_MODEL_52386ba6ea374b28a37d2abb3e155129",
        "IPY_MODEL_70b58a22e87c4029aa6f681d2e52b894"
       ],
       "layout": "IPY_MODEL_80baf8df1c1c419fa94bbbab10af3df6",
       "marks": [
        "IPY_MODEL_93673cda28bf48049a4b5653f063ee86"
       ],
       "max_aspect_ratio": 6,
       "scale_x": "IPY_MODEL_7f675147838a4d90bde8fec2fb16b89f",
       "scale_y": "IPY_MODEL_7670837c6a2d40928d57f074707c2f70"
      }
     },
     "2bb65458f43748e7932106b17d49db81": {
      "model_module": "@jupyter-widgets/controls",
      "model_module_version": "1.5.0",
      "model_name": "VBoxModel",
      "state": {
       "children": [
        "IPY_MODEL_56fc6d9fac5b4090a0d23acffe143355",
        "IPY_MODEL_20b8c5b6bec742d7aa5b0e97a10f226e"
       ],
       "layout": "IPY_MODEL_b5da091d8b3542dc8786ee5589349b6e"
      }
     },
     "2bcadc56f3e24d46ba4bd566c86a5989": {
      "model_module": "@jupyter-widgets/base",
      "model_module_version": "1.2.0",
      "model_name": "LayoutModel",
      "state": {}
     },
     "2c525b11ab4348a8830e4a9819163ae8": {
      "model_module": "@jupyter-widgets/base",
      "model_module_version": "1.2.0",
      "model_name": "LayoutModel",
      "state": {}
     },
     "2c5faec1258f4f2088b50fe4ab9c31e3": {
      "model_module": "@jupyter-widgets/base",
      "model_module_version": "1.2.0",
      "model_name": "LayoutModel",
      "state": {}
     },
     "2c67bd7174084155b56236fada8dad5c": {
      "model_module": "bqplot",
      "model_module_version": "^0.4.0",
      "model_name": "AxisModel",
      "state": {
       "orientation": "vertical",
       "scale": "IPY_MODEL_55e198bbc2584faa98e60bf34346c046",
       "side": "left",
       "tick_values": {
        "type": null,
        "values": null
       }
      }
     },
     "2c6bad938c9846c08ae3ae31ee34257d": {
      "model_module": "@jupyter-widgets/base",
      "model_module_version": "1.2.0",
      "model_name": "LayoutModel",
      "state": {}
     },
     "2c76868f154044c7a0edf3c337719768": {
      "model_module": "bqplot",
      "model_module_version": "^0.4.0",
      "model_name": "FigureModel",
      "state": {
       "_dom_classes": [],
       "axes": [
        "IPY_MODEL_6aba09d56361465c94655b722eedb148",
        "IPY_MODEL_a1a4ccab2aeb4b0e8d19bd5adfbccb35"
       ],
       "layout": "IPY_MODEL_40d1afa86bb14a5db0bac3a6532d38aa",
       "marks": [
        "IPY_MODEL_7648ccf378434ae2be1fc943682f3efa"
       ],
       "max_aspect_ratio": 6,
       "scale_x": "IPY_MODEL_4691b801ceef47848ff6e72939b4c6be",
       "scale_y": "IPY_MODEL_569c8f889c5d4eeb970c82de9be6ad19"
      }
     },
     "2cfe2fc393714da697ad6057cd8656ff": {
      "model_module": "@jupyter-widgets/controls",
      "model_module_version": "1.5.0",
      "model_name": "VBoxModel",
      "state": {
       "children": [
        "IPY_MODEL_aac4b30cb6614384984ea002eb68d4c0",
        "IPY_MODEL_92064e0e98e74ebfa8d2d34e9e153496"
       ],
       "layout": "IPY_MODEL_c8b52bc307064a649a3b0e98f0e3dc4f"
      }
     },
     "2d1f20d204ed4c09bbda46bad0987fe1": {
      "model_module": "bqplot",
      "model_module_version": "^0.4.0",
      "model_name": "LinesModel",
      "state": {
       "color": {
        "type": null,
        "values": null
       },
       "colors": [
        "#475A77"
       ],
       "display_legend": false,
       "fill_colors": [],
       "scales": {
        "x": "IPY_MODEL_a96e114fed2c4305a417654dde01f241",
        "y": "IPY_MODEL_301bf8ba89e74513aa5c5a2a50b19042"
       },
       "selected": [],
       "x": {
        "type": "float",
        "values": []
       },
       "y": {
        "type": "float",
        "values": []
       }
      }
     },
     "2d37692b53f046709b75ea148e56c572": {
      "model_module": "bqplot",
      "model_module_version": "^0.4.0",
      "model_name": "LinearScaleModel",
      "state": {
       "stabilized": false
      }
     },
     "2d48058661c0476e88cc6f02322afd97": {
      "model_module": "@jupyter-widgets/base",
      "model_module_version": "1.2.0",
      "model_name": "LayoutModel",
      "state": {}
     },
     "2d65999f6b6d4f5e8fd44eaed43753a9": {
      "model_module": "@jupyter-widgets/base",
      "model_module_version": "1.2.0",
      "model_name": "LayoutModel",
      "state": {}
     },
     "2d961f79c58049bd903f204c70b7411d": {
      "model_module": "bqplot",
      "model_module_version": "^0.4.0",
      "model_name": "LinearScaleModel",
      "state": {
       "allow_padding": false,
       "max": 1,
       "min": 0,
       "stabilized": false
      }
     },
     "2da379926f58495aa2a3c17e1d3157de": {
      "model_module": "@jupyter-widgets/output",
      "model_module_version": "1.0.0",
      "model_name": "OutputModel",
      "state": {
       "layout": "IPY_MODEL_ffb99222af78424ead80db9f444ffc57"
      }
     },
     "2df22d58d9c64e37be1a114228ba6d15": {
      "model_module": "bqplot",
      "model_module_version": "^0.4.0",
      "model_name": "AxisModel",
      "state": {
       "scale": "IPY_MODEL_eefe4307d41e42938e2759e29d583a70",
       "side": "bottom",
       "tick_values": {
        "type": null,
        "values": null
       }
      }
     },
     "2e1cc5a3082c478f8d8c15760ce99b9a": {
      "model_module": "@jupyter-widgets/controls",
      "model_module_version": "1.5.0",
      "model_name": "VBoxModel",
      "state": {
       "_dom_classes": [
        "widget-interact"
       ],
       "children": [
        "IPY_MODEL_c0062e2eb0094b9387c44fcb9bb9966c"
       ],
       "layout": "IPY_MODEL_1f8ccc31249547ef8bfffe2255d7f77c"
      }
     },
     "2e940cf032a4443dbcd4472c274d4290": {
      "model_module": "bqplot",
      "model_module_version": "^0.4.0",
      "model_name": "LinearScaleModel",
      "state": {
       "allow_padding": false,
       "max": 1,
       "min": 0,
       "stabilized": false
      }
     },
     "2eed9ca266484602b43548a109e97a1c": {
      "model_module": "@jupyter-widgets/base",
      "model_module_version": "1.2.0",
      "model_name": "LayoutModel",
      "state": {}
     },
     "2f1a7fb944b24e37a5a0afa38cf63d6e": {
      "model_module": "@jupyter-widgets/base",
      "model_module_version": "1.2.0",
      "model_name": "LayoutModel",
      "state": {}
     },
     "2f339947ca534bf6a4a2e6be69ec0635": {
      "model_module": "@jupyter-widgets/base",
      "model_module_version": "1.2.0",
      "model_name": "LayoutModel",
      "state": {
       "min_width": "125px"
      }
     },
     "2f792428d16a4fe2b07796cdeb08ab41": {
      "model_module": "bqplot",
      "model_module_version": "^0.4.0",
      "model_name": "FigureModel",
      "state": {
       "_dom_classes": [],
       "axes": [
        "IPY_MODEL_a6410bb7c4ef469fa94676eaac2d3064",
        "IPY_MODEL_821d9cf9623943f88684c33e0a9bb8df"
       ],
       "layout": "IPY_MODEL_75ff2ad69f554817bc2c9cae9d1bc274",
       "marks": [
        "IPY_MODEL_a90fcf995c5c4c63aa74441484bf8069"
       ],
       "max_aspect_ratio": 6,
       "scale_x": "IPY_MODEL_32c9a5f76c65455c9773d3db85c8fd9e",
       "scale_y": "IPY_MODEL_931995dcfcf7475085c568f7d151f55a"
      }
     },
     "2f9a8071f488465bb19bb97ae99cae28": {
      "model_module": "@jupyter-widgets/base",
      "model_module_version": "1.2.0",
      "model_name": "LayoutModel",
      "state": {}
     },
     "301bf8ba89e74513aa5c5a2a50b19042": {
      "model_module": "bqplot",
      "model_module_version": "^0.4.0",
      "model_name": "LinearScaleModel",
      "state": {
       "stabilized": false
      }
     },
     "3052f5ccfad440f5a5f2c1ad36e324ae": {
      "model_module": "@jupyter-widgets/controls",
      "model_module_version": "1.5.0",
      "model_name": "VBoxModel",
      "state": {
       "_dom_classes": [
        "widget-interact"
       ],
       "children": [
        "IPY_MODEL_005c922fe61d466e956352c9ddf43f63"
       ],
       "layout": "IPY_MODEL_718d3dc9a60542aa998fa50f7d9669ef"
      }
     },
     "306ec4fbb5204b65a1c9568284cb1131": {
      "model_module": "bqplot",
      "model_module_version": "^0.4.0",
      "model_name": "AxisModel",
      "state": {
       "orientation": "vertical",
       "scale": "IPY_MODEL_90d9ff08ac1645a39925f194da939ea3",
       "side": "left",
       "tick_values": {
        "type": null,
        "values": null
       }
      }
     },
     "30956707775340ad945eaf83d5f16ec7": {
      "model_module": "@jupyter-widgets/controls",
      "model_module_version": "1.5.0",
      "model_name": "VBoxModel",
      "state": {
       "_dom_classes": [
        "widget-interact"
       ],
       "children": [
        "IPY_MODEL_3e287c274855475e9a7cd7dcae1f963d"
       ],
       "layout": "IPY_MODEL_1b690cdb99d64d5eadcda6596a9b1b90"
      }
     },
     "30ab9696393c4867b55617adcee623dd": {
      "model_module": "bqplot",
      "model_module_version": "^0.4.0",
      "model_name": "LinesModel",
      "state": {
       "color": {
        "type": null,
        "values": null
       },
       "colors": [
        "#475A77"
       ],
       "display_legend": false,
       "fill_colors": [],
       "labels": [
        "C1"
       ],
       "scales": {
        "x": "IPY_MODEL_a6cbf19c66ed445bb1c24681163e4e39",
        "y": "IPY_MODEL_43c634372c344eb9ba0718f572f9e34d"
       },
       "selected": [],
       "x": {
        "type": "float",
        "values": [
         1,
         2,
         3
        ]
       },
       "y": {
        "type": "float",
        "values": [
         5,
         -12,
         -21
        ]
       }
      }
     },
     "30add118b0784ddf856ed752210b9b5e": {
      "model_module": "bqplot",
      "model_module_version": "^0.4.0",
      "model_name": "LinearScaleModel",
      "state": {
       "allow_padding": false,
       "max": 1,
       "min": 0,
       "stabilized": false
      }
     },
     "30b6486469824f6ab0676ad066a18732": {
      "model_module": "bqplot",
      "model_module_version": "^0.4.0",
      "model_name": "FigureModel",
      "state": {
       "_dom_classes": [],
       "axes": [
        "IPY_MODEL_b07f2ef998974c1781a662af93c900bb",
        "IPY_MODEL_ff982f52cee14236b38023fe94287fe1"
       ],
       "layout": "IPY_MODEL_4b342f4996c342c4b33cc227e1242ad4",
       "marks": [
        "IPY_MODEL_5c666e221adb4e67bfb5b361f6da9d3b"
       ],
       "max_aspect_ratio": 6,
       "scale_x": "IPY_MODEL_fd093da5679743bfbc8a8a092a73a9e7",
       "scale_y": "IPY_MODEL_30add118b0784ddf856ed752210b9b5e"
      }
     },
     "30bbb9ad72f9484fba952dee3979ff24": {
      "model_module": "bqplot",
      "model_module_version": "^0.4.0",
      "model_name": "LinearScaleModel",
      "state": {
       "stabilized": false
      }
     },
     "30d0f0f7b61b46c7bf8d98b49250ee30": {
      "model_module": "@jupyter-widgets/controls",
      "model_module_version": "1.5.0",
      "model_name": "VBoxModel",
      "state": {
       "children": [
        "IPY_MODEL_54877f13c95e4da286a6dfeb5d5dd595",
        "IPY_MODEL_c57612079808481394ea4ad9a496f12b"
       ],
       "layout": "IPY_MODEL_a437b37068a74aeebee9fd5a06af0cb8"
      }
     },
     "30f5207645364c99beafdc8da73e585d": {
      "model_module": "@jupyter-widgets/base",
      "model_module_version": "1.2.0",
      "model_name": "LayoutModel",
      "state": {}
     },
     "3122bd67a7dd4d41a2544cd7537f335d": {
      "model_module": "@jupyter-widgets/base",
      "model_module_version": "1.2.0",
      "model_name": "LayoutModel",
      "state": {}
     },
     "317d3557f9ee453b8bc729fceb78023b": {
      "model_module": "@jupyter-widgets/controls",
      "model_module_version": "1.5.0",
      "model_name": "VBoxModel",
      "state": {
       "_dom_classes": [
        "widget-interact"
       ],
       "children": [
        "IPY_MODEL_039d1b417e3e4dc8a672dc0a2a248328"
       ],
       "layout": "IPY_MODEL_71704d9af12d46c4a41a6c84e278e75f"
      }
     },
     "31837a0c7aa84d6098f6b469cd09465d": {
      "model_module": "@jupyter-widgets/base",
      "model_module_version": "1.2.0",
      "model_name": "LayoutModel",
      "state": {
       "min_width": "125px"
      }
     },
     "3186386dc76d494989424ad180da469d": {
      "model_module": "bqplot",
      "model_module_version": "^0.4.0",
      "model_name": "AxisModel",
      "state": {
       "scale": "IPY_MODEL_8fb85c9c6fcb4805a322721797946f53",
       "side": "bottom",
       "tick_values": {
        "type": null,
        "values": null
       }
      }
     },
     "31def885576a4fb3a4e9cf29d6dca218": {
      "model_module": "bqplot",
      "model_module_version": "^0.4.0",
      "model_name": "LinearScaleModel",
      "state": {
       "allow_padding": false,
       "max": 1,
       "min": 0,
       "stabilized": false
      }
     },
     "3275f41d8ed4495181294cd6843759a1": {
      "model_module": "@jupyter-widgets/base",
      "model_module_version": "1.2.0",
      "model_name": "LayoutModel",
      "state": {}
     },
     "3277ad1b2b14475282b3b649c3ab1212": {
      "model_module": "@jupyter-widgets/base",
      "model_module_version": "1.2.0",
      "model_name": "LayoutModel",
      "state": {}
     },
     "32c9a5f76c65455c9773d3db85c8fd9e": {
      "model_module": "bqplot",
      "model_module_version": "^0.4.0",
      "model_name": "LinearScaleModel",
      "state": {
       "allow_padding": false,
       "max": 1,
       "min": 0,
       "stabilized": false
      }
     },
     "3306f8fa76af4f3aa7319e87f8dded7d": {
      "model_module": "@jupyter-widgets/controls",
      "model_module_version": "1.5.0",
      "model_name": "IntSliderModel",
      "state": {
       "description": "x",
       "layout": "IPY_MODEL_905ffe5247eb490f8adc3abd30d282e9",
       "max": 30,
       "min": -10,
       "style": "IPY_MODEL_4f2596565e80421d9a47b0177962b177",
       "value": 10
      }
     },
     "331eefb5e3ec4c31b64ce5100e09930a": {
      "model_module": "@jupyter-widgets/base",
      "model_module_version": "1.2.0",
      "model_name": "LayoutModel",
      "state": {}
     },
     "3322c055ce6f421dbd2df30744c57182": {
      "model_module": "bqplot",
      "model_module_version": "^0.4.0",
      "model_name": "AxisModel",
      "state": {
       "scale": "IPY_MODEL_bcfc3bba60144f85a87cbc3f90c03d57",
       "side": "bottom",
       "tick_values": {
        "type": null,
        "values": null
       }
      }
     },
     "332c913093344851b3bb1828026154fe": {
      "model_module": "bqplot",
      "model_module_version": "^0.4.0",
      "model_name": "LinearScaleModel",
      "state": {
       "stabilized": false
      }
     },
     "332e57f5f0ef4f0c8bdc5ac5b7bca065": {
      "model_module": "@jupyter-widgets/controls",
      "model_module_version": "1.5.0",
      "model_name": "VBoxModel",
      "state": {
       "children": [
        "IPY_MODEL_9a10dcf1d9e741dcbb98d5d83afcd9be",
        "IPY_MODEL_9f6f4b930ef64a0aa62f5248c068301d"
       ],
       "layout": "IPY_MODEL_52ed96cfbacf471086f98a3ae407060e"
      }
     },
     "336a53aa11d44a81abb984f2319bdf4d": {
      "model_module": "@jupyter-widgets/base",
      "model_module_version": "1.2.0",
      "model_name": "LayoutModel",
      "state": {}
     },
     "33c72539018641babedb10a1d1b440bb": {
      "model_module": "bqplot",
      "model_module_version": "^0.4.0",
      "model_name": "FigureModel",
      "state": {
       "_dom_classes": [],
       "axes": [
        "IPY_MODEL_594cde05686344c491a6b78470a6e6b7",
        "IPY_MODEL_c3d624165c3b4134ae9a0b2694ea42aa"
       ],
       "layout": "IPY_MODEL_8cc07825e82d4bc8a1747f46ae6d5434",
       "marks": [
        "IPY_MODEL_878a855d76154d559e29505fd9d60478"
       ],
       "max_aspect_ratio": 6,
       "scale_x": "IPY_MODEL_716a195bc8784f039a72d69921909279",
       "scale_y": "IPY_MODEL_3ff9ba1b196a4c80a8e7d05492a5fbb8"
      }
     },
     "33da61a7ab0d4cacbe8216939925d8b8": {
      "model_module": "@jupyter-widgets/controls",
      "model_module_version": "1.5.0",
      "model_name": "SliderStyleModel",
      "state": {
       "description_width": ""
      }
     },
     "3412e1a142254b48873b2ada42e99d5e": {
      "model_module": "bqplot",
      "model_module_version": "^0.4.0",
      "model_name": "AxisModel",
      "state": {
       "orientation": "vertical",
       "scale": "IPY_MODEL_242c1d9340354f57960c58b218950f38",
       "side": "left",
       "tick_values": {
        "type": null,
        "values": null
       }
      }
     },
     "3459cdad75b8443c9d4c8aab06e188b6": {
      "model_module": "@jupyter-widgets/base",
      "model_module_version": "1.2.0",
      "model_name": "LayoutModel",
      "state": {}
     },
     "34cf1866bb2e498b859d1ebaf9e86294": {
      "model_module": "bqplot",
      "model_module_version": "^0.4.0",
      "model_name": "LinearScaleModel",
      "state": {
       "stabilized": false
      }
     },
     "34ea113aadf34400ab0594927056e223": {
      "model_module": "bqplot",
      "model_module_version": "^0.4.0",
      "model_name": "LinesModel",
      "state": {
       "color": {
        "type": null,
        "values": null
       },
       "colors": [
        "#475A77"
       ],
       "display_legend": false,
       "fill_colors": [],
       "scales": {
        "x": "IPY_MODEL_d78953fd1779470c842643db2f7873bd",
        "y": "IPY_MODEL_86acdac4589d4a098632239e1b021075"
       },
       "selected": [],
       "x": {
        "type": "float",
        "values": []
       },
       "y": {
        "type": "float",
        "values": []
       }
      }
     },
     "3509e0536a2c40feb2ac185c098ef0e4": {
      "model_module": "bqplot",
      "model_module_version": "^0.4.0",
      "model_name": "AxisModel",
      "state": {
       "orientation": "vertical",
       "scale": "IPY_MODEL_6149eae834e34040837c9dc134006a73",
       "side": "left",
       "tick_values": {
        "type": null,
        "values": null
       }
      }
     },
     "351faa45245d403abc1d6da213e78e38": {
      "model_module": "bqplot",
      "model_module_version": "^0.4.0",
      "model_name": "LinesModel",
      "state": {
       "color": {
        "type": null,
        "values": null
       },
       "colors": [
        "#475A77"
       ],
       "display_legend": false,
       "fill_colors": [],
       "labels": [
        "C1"
       ],
       "scales": {
        "x": "IPY_MODEL_144d56a6d8e9434bb0cf4dd6be638fa5",
        "y": "IPY_MODEL_57ad514a8b4a4a27bc11a618513603a5"
       },
       "selected": [],
       "x": {
        "type": "float",
        "values": [
         1,
         2,
         3
        ]
       },
       "y": {
        "type": "float",
        "values": [
         10,
         11,
         9
        ]
       }
      }
     },
     "352a64248bc14dcda158a31f17e51d49": {
      "model_module": "@jupyter-widgets/base",
      "model_module_version": "1.2.0",
      "model_name": "LayoutModel",
      "state": {}
     },
     "3543acf5415848c59cf549c35fd99c7c": {
      "model_module": "@jupyter-widgets/base",
      "model_module_version": "1.2.0",
      "model_name": "LayoutModel",
      "state": {}
     },
     "35828d62a2264a519b642606cc0d11ab": {
      "model_module": "@jupyter-widgets/base",
      "model_module_version": "1.2.0",
      "model_name": "LayoutModel",
      "state": {}
     },
     "35ecd1daf6e647a2b0494f96bd0f0def": {
      "model_module": "@jupyter-widgets/base",
      "model_module_version": "1.2.0",
      "model_name": "LayoutModel",
      "state": {}
     },
     "36416936f23c43dd9a1e0ced5f57d4fe": {
      "model_module": "@jupyter-widgets/output",
      "model_module_version": "1.0.0",
      "model_name": "OutputModel",
      "state": {
       "layout": "IPY_MODEL_900fafd9e4554ce99b70a6332f13211c"
      }
     },
     "364ab9d72baf48ec93d14c20040b4644": {
      "model_module": "bqplot",
      "model_module_version": "^0.4.0",
      "model_name": "LinearScaleModel",
      "state": {
       "stabilized": false
      }
     },
     "367b9d34fd1c4f82b03595076e320673": {
      "model_module": "bqplot",
      "model_module_version": "^0.4.0",
      "model_name": "LinearScaleModel",
      "state": {
       "stabilized": false
      }
     },
     "36b524988ab74653995ead6151b4fb82": {
      "model_module": "@jupyter-widgets/base",
      "model_module_version": "1.2.0",
      "model_name": "LayoutModel",
      "state": {
       "min_width": "125px"
      }
     },
     "36fce8f02049427dbffda1da731d5657": {
      "model_module": "bqplot",
      "model_module_version": "^0.4.0",
      "model_name": "LinearScaleModel",
      "state": {
       "allow_padding": false,
       "max": 1,
       "min": 0,
       "stabilized": false
      }
     },
     "37060f80719b4569a9e026e57924d940": {
      "model_module": "@jupyter-widgets/output",
      "model_module_version": "1.0.0",
      "model_name": "OutputModel",
      "state": {
       "layout": "IPY_MODEL_3c3d39d2724e4c239d0eefa3de7c9a01"
      }
     },
     "373df046e98e484fae6c39f95e6e4942": {
      "model_module": "@jupyter-widgets/base",
      "model_module_version": "1.2.0",
      "model_name": "LayoutModel",
      "state": {}
     },
     "375150033ae347c39d1d1ebf1ec89254": {
      "model_module": "@jupyter-widgets/base",
      "model_module_version": "1.2.0",
      "model_name": "LayoutModel",
      "state": {
       "min_width": "125px"
      }
     },
     "378f40850d95426385c11658f1b43271": {
      "model_module": "@jupyter-widgets/controls",
      "model_module_version": "1.5.0",
      "model_name": "VBoxModel",
      "state": {
       "children": [
        "IPY_MODEL_7fa9e232f0cf40799b242b86f1cbcfc0",
        "IPY_MODEL_cb7c938817e4410f93519e46339065cf"
       ],
       "layout": "IPY_MODEL_450608ac449c450793ea975c4637abd9"
      }
     },
     "37a7ede57e5e46e1a42963c7689c213e": {
      "model_module": "bqplot",
      "model_module_version": "^0.4.0",
      "model_name": "LinearScaleModel",
      "state": {
       "stabilized": false
      }
     },
     "37aaa15f706d411db4b6f9fb47eb1b6b": {
      "model_module": "bqplot",
      "model_module_version": "^0.4.0",
      "model_name": "LinearScaleModel",
      "state": {
       "stabilized": false
      }
     },
     "37ed146ef36c4b0d9e0215d86d813c3d": {
      "model_module": "bqplot",
      "model_module_version": "^0.4.0",
      "model_name": "LinearScaleModel",
      "state": {
       "allow_padding": false,
       "max": 1,
       "min": 0,
       "stabilized": false
      }
     },
     "37fa0d4cbb1a4060bb12c57f9d7ccc77": {
      "model_module": "@jupyter-widgets/output",
      "model_module_version": "1.0.0",
      "model_name": "OutputModel",
      "state": {
       "layout": "IPY_MODEL_72bea51a4b6d4160af62975a1936a1c8",
       "outputs": [
        {
         "ename": "TypeError",
         "evalue": "line() missing 1 required positional argument: 'y_fn'",
         "output_type": "error",
         "traceback": [
          "\u001b[0;31m---------------------------------------------------------------------------\u001b[0m",
          "\u001b[0;31mTypeError\u001b[0m                                 Traceback (most recent call last)",
          "\u001b[0;32m/usr/lib/python3.8/site-packages/ipywidgets/widgets/interaction.py\u001b[0m in \u001b[0;36mupdate\u001b[0;34m(self, *args)\u001b[0m\n\u001b[1;32m    254\u001b[0m                     \u001b[0mvalue\u001b[0m \u001b[0;34m=\u001b[0m \u001b[0mwidget\u001b[0m\u001b[0;34m.\u001b[0m\u001b[0mget_interact_value\u001b[0m\u001b[0;34m(\u001b[0m\u001b[0;34m)\u001b[0m\u001b[0;34m\u001b[0m\u001b[0;34m\u001b[0m\u001b[0m\n\u001b[1;32m    255\u001b[0m                     \u001b[0mself\u001b[0m\u001b[0;34m.\u001b[0m\u001b[0mkwargs\u001b[0m\u001b[0;34m[\u001b[0m\u001b[0mwidget\u001b[0m\u001b[0;34m.\u001b[0m\u001b[0m_kwarg\u001b[0m\u001b[0;34m]\u001b[0m \u001b[0;34m=\u001b[0m \u001b[0mvalue\u001b[0m\u001b[0;34m\u001b[0m\u001b[0;34m\u001b[0m\u001b[0m\n\u001b[0;32m--> 256\u001b[0;31m                 \u001b[0mself\u001b[0m\u001b[0;34m.\u001b[0m\u001b[0mresult\u001b[0m \u001b[0;34m=\u001b[0m \u001b[0mself\u001b[0m\u001b[0;34m.\u001b[0m\u001b[0mf\u001b[0m\u001b[0;34m(\u001b[0m\u001b[0;34m**\u001b[0m\u001b[0mself\u001b[0m\u001b[0;34m.\u001b[0m\u001b[0mkwargs\u001b[0m\u001b[0;34m)\u001b[0m\u001b[0;34m\u001b[0m\u001b[0;34m\u001b[0m\u001b[0m\n\u001b[0m\u001b[1;32m    257\u001b[0m                 \u001b[0mshow_inline_matplotlib_plots\u001b[0m\u001b[0;34m(\u001b[0m\u001b[0;34m)\u001b[0m\u001b[0;34m\u001b[0m\u001b[0;34m\u001b[0m\u001b[0m\n\u001b[1;32m    258\u001b[0m                 \u001b[0;32mif\u001b[0m \u001b[0mself\u001b[0m\u001b[0;34m.\u001b[0m\u001b[0mauto_display\u001b[0m \u001b[0;32mand\u001b[0m \u001b[0mself\u001b[0m\u001b[0;34m.\u001b[0m\u001b[0mresult\u001b[0m \u001b[0;32mis\u001b[0m \u001b[0;32mnot\u001b[0m \u001b[0;32mNone\u001b[0m\u001b[0;34m:\u001b[0m\u001b[0;34m\u001b[0m\u001b[0;34m\u001b[0m\u001b[0m\n",
          "\u001b[0;32m<ipython-input-20-79be0e71ac72>\u001b[0m in \u001b[0;36msquare\u001b[0;34m(x)\u001b[0m\n\u001b[1;32m      1\u001b[0m \u001b[0;32mdef\u001b[0m \u001b[0msquare\u001b[0m\u001b[0;34m(\u001b[0m\u001b[0mx\u001b[0m\u001b[0;34m)\u001b[0m\u001b[0;34m:\u001b[0m\u001b[0;34m\u001b[0m\u001b[0;34m\u001b[0m\u001b[0m\n\u001b[0;32m----> 2\u001b[0;31m     \u001b[0mnbi\u001b[0m\u001b[0;34m.\u001b[0m\u001b[0mline\u001b[0m\u001b[0;34m(\u001b[0m\u001b[0;34m[\u001b[0m\u001b[0mx\u001b[0m\u001b[0;34m,\u001b[0m \u001b[0mx\u001b[0m\u001b[0;34m**\u001b[0m\u001b[0;36m2\u001b[0m\u001b[0;34m]\u001b[0m\u001b[0;34m)\u001b[0m\u001b[0;34m\u001b[0m\u001b[0;34m\u001b[0m\u001b[0m\n\u001b[0m\u001b[1;32m      3\u001b[0m     \u001b[0;32mreturn\u001b[0m \u001b[0mx\u001b[0m \u001b[0;34m*\u001b[0m \u001b[0mx\u001b[0m\u001b[0;34m\u001b[0m\u001b[0;34m\u001b[0m\u001b[0m\n",
          "\u001b[0;32m~/.local/lib/python3.8/site-packages/nbinteract/plotting.py\u001b[0m in \u001b[0;36mcheck_options\u001b[0;34m(*args, **kwargs)\u001b[0m\n\u001b[1;32m    166\u001b[0m                 )\n\u001b[1;32m    167\u001b[0m \u001b[0;34m\u001b[0m\u001b[0m\n\u001b[0;32m--> 168\u001b[0;31m             \u001b[0;32mreturn\u001b[0m \u001b[0mf\u001b[0m\u001b[0;34m(\u001b[0m\u001b[0;34m*\u001b[0m\u001b[0margs\u001b[0m\u001b[0;34m,\u001b[0m \u001b[0;34m**\u001b[0m\u001b[0mkwargs\u001b[0m\u001b[0;34m)\u001b[0m\u001b[0;34m\u001b[0m\u001b[0;34m\u001b[0m\u001b[0m\n\u001b[0m\u001b[1;32m    169\u001b[0m \u001b[0;34m\u001b[0m\u001b[0m\n\u001b[1;32m    170\u001b[0m         \u001b[0;32mreturn\u001b[0m \u001b[0mcheck_options\u001b[0m\u001b[0;34m\u001b[0m\u001b[0;34m\u001b[0m\u001b[0m\n",
          "\u001b[0;31mTypeError\u001b[0m: line() missing 1 required positional argument: 'y_fn'"
         ]
        }
       ]
      }
     },
     "37fcb48b0c8a416ca9dfcab17b03601a": {
      "model_module": "bqplot",
      "model_module_version": "^0.4.0",
      "model_name": "AxisModel",
      "state": {
       "scale": "IPY_MODEL_ad8e3b41e6394b7886ec2395e67348ed",
       "side": "bottom",
       "tick_values": {
        "type": null,
        "values": null
       }
      }
     },
     "3833232916684a758ba5617c84342a60": {
      "model_module": "@jupyter-widgets/controls",
      "model_module_version": "1.5.0",
      "model_name": "VBoxModel",
      "state": {
       "_dom_classes": [
        "widget-interact"
       ],
       "children": [
        "IPY_MODEL_d30cbdf9b1f04e128d8becbfc648de66"
       ],
       "layout": "IPY_MODEL_00ad437529c94617b96a3eea08ecc4ae"
      }
     },
     "384a03c8e22e4d8bbcc3c507b9629b90": {
      "model_module": "@jupyter-widgets/base",
      "model_module_version": "1.2.0",
      "model_name": "LayoutModel",
      "state": {}
     },
     "38c05a26f2af4492ae7e00b307249220": {
      "model_module": "@jupyter-widgets/base",
      "model_module_version": "1.2.0",
      "model_name": "LayoutModel",
      "state": {}
     },
     "38e314b412df4053a2d05df750b7a535": {
      "model_module": "bqplot",
      "model_module_version": "^0.4.0",
      "model_name": "LinearScaleModel",
      "state": {
       "stabilized": false
      }
     },
     "39081a96fa7d48afa9c37eebf87ef9c9": {
      "model_module": "bqplot",
      "model_module_version": "^0.4.0",
      "model_name": "LinearScaleModel",
      "state": {
       "allow_padding": false,
       "max": 1,
       "min": 0,
       "stabilized": false
      }
     },
     "392e725668664e80a578b2e49205c135": {
      "model_module": "@jupyter-widgets/output",
      "model_module_version": "1.0.0",
      "model_name": "OutputModel",
      "state": {
       "layout": "IPY_MODEL_0097ec74867e4e2882f8b185c036553f"
      }
     },
     "3959518a58514b25b2932f0ae23bc2e7": {
      "model_module": "@jupyter-widgets/output",
      "model_module_version": "1.0.0",
      "model_name": "OutputModel",
      "state": {
       "layout": "IPY_MODEL_a12a3582808846f2beae534a4eb41883"
      }
     },
     "396c3ac47c9f439aa90fb6774ee51b9d": {
      "model_module": "bqplot",
      "model_module_version": "^0.4.0",
      "model_name": "AxisModel",
      "state": {
       "orientation": "vertical",
       "scale": "IPY_MODEL_614d8cfcd68d49fd805afff366deeb72",
       "side": "left",
       "tick_values": {
        "type": null,
        "values": null
       }
      }
     },
     "39c17fc694414c298e68e96328164504": {
      "model_module": "@jupyter-widgets/base",
      "model_module_version": "1.2.0",
      "model_name": "LayoutModel",
      "state": {}
     },
     "39f0a3f2c83d4eb9afde01727831cf29": {
      "model_module": "bqplot",
      "model_module_version": "^0.4.0",
      "model_name": "LinesModel",
      "state": {
       "color": {
        "type": null,
        "values": null
       },
       "colors": [
        "#475A77"
       ],
       "display_legend": false,
       "fill_colors": [],
       "scales": {
        "x": "IPY_MODEL_91885c61fc3c47eeae2cf2836322495c",
        "y": "IPY_MODEL_5adeba8254ed4cd29fedb036b5f87e2e"
       },
       "selected": [],
       "x": {
        "type": "float",
        "values": []
       },
       "y": {
        "type": "float",
        "values": []
       }
      }
     },
     "3a0802ccb1ba41988a8c8aa6278d2fdf": {
      "model_module": "bqplot",
      "model_module_version": "^0.4.0",
      "model_name": "LinearScaleModel",
      "state": {
       "stabilized": false
      }
     },
     "3a858fe6fdb84b0aa2c376badfdb64ba": {
      "model_module": "bqplot",
      "model_module_version": "^0.4.0",
      "model_name": "LinearScaleModel",
      "state": {
       "stabilized": false
      }
     },
     "3ab2c949648b40bc8095c5a1014181bf": {
      "model_module": "@jupyter-widgets/base",
      "model_module_version": "1.2.0",
      "model_name": "LayoutModel",
      "state": {}
     },
     "3b19432de5b2438ebee3fc11daba5d4f": {
      "model_module": "bqplot",
      "model_module_version": "^0.4.0",
      "model_name": "LinearScaleModel",
      "state": {
       "allow_padding": false,
       "max": 1,
       "min": 0,
       "stabilized": false
      }
     },
     "3b3a1e1d48ca462ba7e51b1a18c3399a": {
      "model_module": "bqplot",
      "model_module_version": "^0.4.0",
      "model_name": "LinearScaleModel",
      "state": {
       "stabilized": false
      }
     },
     "3b4bf71da9f3404fa56d4867f3a083a0": {
      "model_module": "@jupyter-widgets/base",
      "model_module_version": "1.2.0",
      "model_name": "LayoutModel",
      "state": {
       "min_width": "125px"
      }
     },
     "3b64b5e8fcfa4d39b56518e2fda11704": {
      "model_module": "@jupyter-widgets/base",
      "model_module_version": "1.2.0",
      "model_name": "LayoutModel",
      "state": {}
     },
     "3b6fe5e97dc84ea49452d17b0a0ddaff": {
      "model_module": "@jupyter-widgets/controls",
      "model_module_version": "1.5.0",
      "model_name": "VBoxModel",
      "state": {
       "children": [
        "IPY_MODEL_3db0bbf8911b4776a015867152eeb503",
        "IPY_MODEL_ad3ecc6fc8564aacaf683b52c2414f4f"
       ],
       "layout": "IPY_MODEL_79bfdd311dbb488a9739e1a6963307ed"
      }
     },
     "3b801b4e7cea4d77aa8fb5c90ff6510d": {
      "model_module": "@jupyter-widgets/base",
      "model_module_version": "1.2.0",
      "model_name": "LayoutModel",
      "state": {}
     },
     "3bf810f1cb71482398b5a23eace50c74": {
      "model_module": "bqplot",
      "model_module_version": "^0.4.0",
      "model_name": "LinearScaleModel",
      "state": {
       "stabilized": false
      }
     },
     "3c076371d2df490aa4d77acf6e28ea89": {
      "model_module": "@jupyter-widgets/base",
      "model_module_version": "1.2.0",
      "model_name": "LayoutModel",
      "state": {
       "min_width": "125px"
      }
     },
     "3c3d39d2724e4c239d0eefa3de7c9a01": {
      "model_module": "@jupyter-widgets/base",
      "model_module_version": "1.2.0",
      "model_name": "LayoutModel",
      "state": {}
     },
     "3c79ece34dcb4537b580ed95d9e8d199": {
      "model_module": "@jupyter-widgets/controls",
      "model_module_version": "1.5.0",
      "model_name": "VBoxModel",
      "state": {
       "_dom_classes": [
        "widget-interact"
       ],
       "children": [
        "IPY_MODEL_017a96d2eb654fe7b6e6842465fa0155"
       ],
       "layout": "IPY_MODEL_bab1109825e34e379611b1ddbe09219f"
      }
     },
     "3ca524bedfd34db09ac51fd8a3e4cea6": {
      "model_module": "@jupyter-widgets/controls",
      "model_module_version": "1.5.0",
      "model_name": "VBoxModel",
      "state": {
       "_dom_classes": [
        "widget-interact"
       ],
       "children": [
        "IPY_MODEL_ba07128d4f7f4865b941ab680b2951ad"
       ],
       "layout": "IPY_MODEL_a046cc9a1f224f7daa8dd11c5fde0d6b"
      }
     },
     "3cb8669c6d344fadaa74c4b101a56207": {
      "model_module": "bqplot",
      "model_module_version": "^0.4.0",
      "model_name": "AxisModel",
      "state": {
       "scale": "IPY_MODEL_38e314b412df4053a2d05df750b7a535",
       "side": "bottom",
       "tick_values": {
        "type": null,
        "values": null
       }
      }
     },
     "3cebc3e1957a4c82882605b36e2d2224": {
      "model_module": "@jupyter-widgets/base",
      "model_module_version": "1.2.0",
      "model_name": "LayoutModel",
      "state": {}
     },
     "3d11d8a505524059b04d0c1a1bd9831f": {
      "model_module": "bqplot",
      "model_module_version": "^0.4.0",
      "model_name": "LinearScaleModel",
      "state": {
       "stabilized": false
      }
     },
     "3d255993b37c45cdb75cd6d05cb4e65c": {
      "model_module": "@jupyter-widgets/controls",
      "model_module_version": "1.5.0",
      "model_name": "VBoxModel",
      "state": {
       "children": [
        "IPY_MODEL_8e810cb1f8d44904a3bdfe6aa3169543",
        "IPY_MODEL_444a91aa2522448fa337a776638ef78f"
       ],
       "layout": "IPY_MODEL_0fbdee5c41be4951b387cce75d03ae97"
      }
     },
     "3d3f1f850b904e4a84e498ab9adca67c": {
      "model_module": "@jupyter-widgets/base",
      "model_module_version": "1.2.0",
      "model_name": "LayoutModel",
      "state": {}
     },
     "3d4adf7d3fca49a18c1a459a882948ca": {
      "model_module": "bqplot",
      "model_module_version": "^0.4.0",
      "model_name": "FigureModel",
      "state": {
       "_dom_classes": [],
       "axes": [
        "IPY_MODEL_c8a8e9f033c94f579d95f46d582fe1cd",
        "IPY_MODEL_142cc27a4a24419a8cddc320142024b5"
       ],
       "layout": "IPY_MODEL_3c076371d2df490aa4d77acf6e28ea89",
       "marks": [
        "IPY_MODEL_bb06c14cf847456fae472fda00603f70"
       ],
       "max_aspect_ratio": 6,
       "scale_x": "IPY_MODEL_41b5d516c761476eaa1309ea10e96255",
       "scale_y": "IPY_MODEL_8f6a20f607e04719983a623c40679bac"
      }
     },
     "3d937930bee44e468248474136dbe25a": {
      "model_module": "@jupyter-widgets/base",
      "model_module_version": "1.2.0",
      "model_name": "LayoutModel",
      "state": {}
     },
     "3d97f316ee23421bb63fd849b055a160": {
      "model_module": "@jupyter-widgets/base",
      "model_module_version": "1.2.0",
      "model_name": "LayoutModel",
      "state": {}
     },
     "3da4b496353f4d76b884e6d7c3d0d7e3": {
      "model_module": "@jupyter-widgets/base",
      "model_module_version": "1.2.0",
      "model_name": "LayoutModel",
      "state": {}
     },
     "3db0bbf8911b4776a015867152eeb503": {
      "model_module": "@jupyter-widgets/controls",
      "model_module_version": "1.5.0",
      "model_name": "VBoxModel",
      "state": {
       "_dom_classes": [
        "widget-interact"
       ],
       "children": [
        "IPY_MODEL_12f8c4e169b2460daf9792313f4b8626"
       ],
       "layout": "IPY_MODEL_e2af2751730d4852b9341f4be8a6e4db"
      }
     },
     "3deec9a75cc54e9e8b0c9615a8410a28": {
      "model_module": "bqplot",
      "model_module_version": "^0.4.0",
      "model_name": "FigureModel",
      "state": {
       "_dom_classes": [],
       "axes": [
        "IPY_MODEL_082724c902ab48dbab4e28c09dcd9080",
        "IPY_MODEL_ad637743927e4ba490a609c1236fb820"
       ],
       "layout": "IPY_MODEL_96962f1c004e4b41be05f3fb92790ccd",
       "marks": [
        "IPY_MODEL_faf6120318844cde9a3123a3adb54795"
       ],
       "max_aspect_ratio": 6,
       "scale_x": "IPY_MODEL_01e1096ee26847e7bf18157cd9dd9a8c",
       "scale_y": "IPY_MODEL_2e940cf032a4443dbcd4472c274d4290"
      }
     },
     "3e210696a82c4f81b7620e07c15bdc9e": {
      "model_module": "bqplot",
      "model_module_version": "^0.4.0",
      "model_name": "AxisModel",
      "state": {
       "scale": "IPY_MODEL_2d37692b53f046709b75ea148e56c572",
       "side": "bottom",
       "tick_values": {
        "type": null,
        "values": null
       }
      }
     },
     "3e287c274855475e9a7cd7dcae1f963d": {
      "model_module": "@jupyter-widgets/output",
      "model_module_version": "1.0.0",
      "model_name": "OutputModel",
      "state": {
       "layout": "IPY_MODEL_6ae60927119c46ac86be39303706dfb1"
      }
     },
     "3e843c6698154c4da61b305411062740": {
      "model_module": "@jupyter-widgets/base",
      "model_module_version": "1.2.0",
      "model_name": "LayoutModel",
      "state": {}
     },
     "3ebdb760bfa441fe8fc6193b1909409c": {
      "model_module": "bqplot",
      "model_module_version": "^0.4.0",
      "model_name": "AxisModel",
      "state": {
       "orientation": "vertical",
       "scale": "IPY_MODEL_d3d05876584046829ffd29c9a1a0aa58",
       "side": "left",
       "tick_values": {
        "type": null,
        "values": null
       }
      }
     },
     "3f0509a01fd046159deb033a6e5fdc39": {
      "model_module": "@jupyter-widgets/base",
      "model_module_version": "1.2.0",
      "model_name": "LayoutModel",
      "state": {}
     },
     "3f33eb2308774bc6801bb869f867c878": {
      "model_module": "@jupyter-widgets/base",
      "model_module_version": "1.2.0",
      "model_name": "LayoutModel",
      "state": {}
     },
     "3f4a9b9fa3764060bbbe684611939bcd": {
      "model_module": "bqplot",
      "model_module_version": "^0.4.0",
      "model_name": "LinearScaleModel",
      "state": {
       "stabilized": false
      }
     },
     "3f86eaf7465b4533825c8e4558de44ae": {
      "model_module": "bqplot",
      "model_module_version": "^0.4.0",
      "model_name": "AxisModel",
      "state": {
       "scale": "IPY_MODEL_96127a1b1d8a4627a5b3ac28a9075eb4",
       "side": "bottom",
       "tick_values": {
        "type": null,
        "values": null
       }
      }
     },
     "3fc9e159978d4fd2b95aafb77ac9f30c": {
      "model_module": "bqplot",
      "model_module_version": "^0.4.0",
      "model_name": "LinearScaleModel",
      "state": {
       "allow_padding": false,
       "max": 1,
       "min": 0,
       "stabilized": false
      }
     },
     "3fd9e690ce704c648b9fa679356229e1": {
      "model_module": "bqplot",
      "model_module_version": "^0.4.0",
      "model_name": "LinearScaleModel",
      "state": {
       "allow_padding": false,
       "max": 1,
       "min": 0,
       "stabilized": false
      }
     },
     "3ff9ba1b196a4c80a8e7d05492a5fbb8": {
      "model_module": "bqplot",
      "model_module_version": "^0.4.0",
      "model_name": "LinearScaleModel",
      "state": {
       "allow_padding": false,
       "max": 1,
       "min": 0,
       "stabilized": false
      }
     },
     "400d1756f6f04ff5b13d4612e9126fee": {
      "model_module": "bqplot",
      "model_module_version": "^0.4.0",
      "model_name": "LinesModel",
      "state": {
       "color": {
        "type": null,
        "values": null
       },
       "colors": [
        "#475A77"
       ],
       "display_legend": false,
       "fill_colors": [],
       "labels": [
        "C1"
       ],
       "scales": {
        "x": "IPY_MODEL_2b8f0150f2294b7b859a39ff6517e38e",
        "y": "IPY_MODEL_242c1d9340354f57960c58b218950f38"
       },
       "selected": [],
       "x": {
        "type": "float",
        "values": [
         1,
         2,
         3
        ]
       },
       "y": {
        "type": "float",
        "values": [
         6,
         -11,
         -14
        ]
       }
      }
     },
     "4011ee749983429c9247542130fcb1b2": {
      "model_module": "bqplot",
      "model_module_version": "^0.4.0",
      "model_name": "LinearScaleModel",
      "state": {
       "allow_padding": false,
       "max": 1,
       "min": 0,
       "stabilized": false
      }
     },
     "401a25164dc04158ba7a850f6de03e1f": {
      "model_module": "@jupyter-widgets/controls",
      "model_module_version": "1.5.0",
      "model_name": "SliderStyleModel",
      "state": {
       "description_width": ""
      }
     },
     "403fd30e67bb43599a68deb75df6670a": {
      "model_module": "bqplot",
      "model_module_version": "^0.4.0",
      "model_name": "LinearScaleModel",
      "state": {
       "stabilized": false
      }
     },
     "404598d19e8e418dbc992ce189916e41": {
      "model_module": "@jupyter-widgets/base",
      "model_module_version": "1.2.0",
      "model_name": "LayoutModel",
      "state": {}
     },
     "406d4687fa7f470f9ceaddc671afb139": {
      "model_module": "@jupyter-widgets/base",
      "model_module_version": "1.2.0",
      "model_name": "LayoutModel",
      "state": {}
     },
     "40b1241e9be1484fa97308ff2b04a931": {
      "model_module": "bqplot",
      "model_module_version": "^0.4.0",
      "model_name": "LinearScaleModel",
      "state": {
       "stabilized": false
      }
     },
     "40d1afa86bb14a5db0bac3a6532d38aa": {
      "model_module": "@jupyter-widgets/base",
      "model_module_version": "1.2.0",
      "model_name": "LayoutModel",
      "state": {
       "min_width": "125px"
      }
     },
     "40fea02aa0ae4ac58802ec5a373ea109": {
      "model_module": "@jupyter-widgets/controls",
      "model_module_version": "1.5.0",
      "model_name": "SliderStyleModel",
      "state": {
       "description_width": ""
      }
     },
     "41653b07c0054e1ba84828339130d550": {
      "model_module": "@jupyter-widgets/controls",
      "model_module_version": "1.5.0",
      "model_name": "VBoxModel",
      "state": {
       "children": [
        "IPY_MODEL_aa35e036c2c14d40aacb1dd23dd893e0",
        "IPY_MODEL_c9475e8755024627a95357963abb79fc"
       ],
       "layout": "IPY_MODEL_bdfa183caee6415cb44414f853105e17"
      }
     },
     "419b10516e634fc280a99f30e301d032": {
      "model_module": "@jupyter-widgets/base",
      "model_module_version": "1.2.0",
      "model_name": "LayoutModel",
      "state": {}
     },
     "419e323af3b74f3c85a652ca9cf28693": {
      "model_module": "bqplot",
      "model_module_version": "^0.4.0",
      "model_name": "AxisModel",
      "state": {
       "scale": "IPY_MODEL_60c0056989d447c38b3f6665d840c9fa",
       "side": "bottom",
       "tick_values": {
        "type": null,
        "values": null
       }
      }
     },
     "41a42e5fd5dd4521b6e0f85b57c871a7": {
      "model_module": "@jupyter-widgets/base",
      "model_module_version": "1.2.0",
      "model_name": "LayoutModel",
      "state": {}
     },
     "41b5d516c761476eaa1309ea10e96255": {
      "model_module": "bqplot",
      "model_module_version": "^0.4.0",
      "model_name": "LinearScaleModel",
      "state": {
       "allow_padding": false,
       "max": 1,
       "min": 0,
       "stabilized": false
      }
     },
     "41edb522fa354446b477acb60a6d0fa4": {
      "model_module": "@jupyter-widgets/controls",
      "model_module_version": "1.5.0",
      "model_name": "VBoxModel",
      "state": {
       "_dom_classes": [
        "widget-interact"
       ],
       "children": [
        "IPY_MODEL_644dbaad4c194571b48ef55e27e6ed94"
       ],
       "layout": "IPY_MODEL_f42e18539609480cb77f8dd57c3b2151"
      }
     },
     "41faaa3286bf4ff5a082afc0b8fa5f24": {
      "model_module": "bqplot",
      "model_module_version": "^0.4.0",
      "model_name": "AxisModel",
      "state": {
       "scale": "IPY_MODEL_34cf1866bb2e498b859d1ebaf9e86294",
       "side": "bottom",
       "tick_values": {
        "type": null,
        "values": null
       }
      }
     },
     "4237ee6f2482400caf571474dd3fdc39": {
      "model_module": "@jupyter-widgets/output",
      "model_module_version": "1.0.0",
      "model_name": "OutputModel",
      "state": {
       "layout": "IPY_MODEL_ea684f8c59674adb963849e4c39543b3",
       "outputs": [
        {
         "data": {
          "image/png": "iVBORw0KGgoAAAANSUhEUgAAAXoAAAD4CAYAAADiry33AAAABHNCSVQICAgIfAhkiAAAAAlwSFlzAAALEgAACxIB0t1+/AAAADh0RVh0U29mdHdhcmUAbWF0cGxvdGxpYiB2ZXJzaW9uMy4yLjAsIGh0dHA6Ly9tYXRwbG90bGliLm9yZy8GearUAAANeklEQVR4nO3cf6zd9V3H8edLOqKETX70FoF2dhpEcAkOb3DJhJBVsHYE2OIfw0ybSUZIMClRM2v4039gRCVmM6QBQpchxAQWEJFZ64CYAHrLKJTVrR1urLbSS1iy6f5gDW//uN+ay+Hc3nvP957eez88H8nJOef7/XzP9/PJSZ6cfs+5pKqQJLXrp5Z7ApKk8TL0ktQ4Qy9JjTP0ktQ4Qy9JjVuz3BMYZu3atbVx48blnoYkrRp79ux5o6omhu1bkaHfuHEjU1NTyz0NSVo1knxvrn1eupGkxhl6SWqcoZekxhl6SWqcoZekxhl6SWqcoZekxhl6SWqcoZekxhl6SWqcoZekxhl6SWqcoZekxhl6SWqcoZekxhl6SWqcoZekxhl6SWqcoZekxhl6SWqcoZekxhl6SWqcoZekxhl6SWqcoZekxs0b+iT3JTmaZN+sbWcl2ZXkQHd/5gmOPyXJN5I8vlSTliQt3EI+0d8PbB7Yth3YXVUXALu753PZBuwfaXaSpN7mDX1VPQO8ObD5OmBn93gncP2wY5OsBz4B3NNjjpKkHka9Rn9OVR0B6O7XzTHuLuDzwNvzvWCSm5JMJZmanp4ecVqSpEFj+zI2yTXA0aras5DxVbWjqiaranJiYmJc05Kk95xRQ/96knMBuvujQ8Z8DLg2yXeBh4CPJ/nKiOeTJI1o1NA/BmztHm8FHh0cUFV/VlXrq2oj8GngX6rqMyOeT5I0ooX8vPJB4FngwiSHktwI3A5cleQAcFX3nCTnJXlinBOWJC3OmvkGVNUNc+zaNGTsYWDLkO1PAU8tcm6SpCXgX8ZKUuMMvSQ1ztBLUuMMvSQ1ztBLUuMMvSQ1ztBLUuMMvSQ1ztBLUuMMvSQ1ztBLUuMMvSQ1ztBLUuMMvSQ1ztBLUuMMvSQ1ztBLUuMMvSQ1ztBLUuMMvSQ1ztBLUuMMvSQ1ztBLUuMMvSQ1ztBLUuMMvSQ1ztBLUuMMvSQ1ztBLUuMMvSQ1bt7QJ7kvydEk+2ZtOyvJriQHuvszhxy3IcnXk+xP8kqSbUs9eUnS/Bbyif5+YPPAtu3A7qq6ANjdPR90DPjjqroI+ChwS5KLe8xVkjSCeUNfVc8Abw5svg7Y2T3eCVw/5LgjVfVC9/hHwH7g/F6zlSQt2qjX6M+pqiMwE3Rg3YkGJ9kIfAR4fsTzSZJGNPYvY5OcDjwM3FpVPzzBuJuSTCWZmp6eHve0JOk9Y9TQv57kXIDu/uiwQUnex0zkH6iqR070glW1o6omq2pyYmJixGlJkgaNGvrHgK3d463Ao4MDkgS4F9hfVX854nkkST0t5OeVDwLPAhcmOZTkRuB24KokB4CruuckOS/JE92hHwN+D/h4khe725axrEKSNKc18w2oqhvm2LVpyNjDwJbu8b8C6TU7SVJv/mWsJDXO0EtS4wy9JDXO0EtS4wy9JDXO0EtS4wy9JDXO0EtS4wy9JDXO0EtS4wy9JDXO0EtS4wy9JDXO0EtS4wy9JDXO0EtS4wy9JDXO0EtS4wy9JDXO0EtS4wy9JDXO0EtS4wy9JDXO0EtS4wy9JDXO0EtS4wy9JDXO0EtS4wy9JDXO0EtS4wy9JDVu3tAnuS/J0ST7Zm07K8muJAe6+zPnOHZzkm8lOZhk+1JOXJK0MAv5RH8/sHlg23Zgd1VdAOzunr9DklOALwG/DVwM3JDk4l6zlSQt2ryhr6pngDcHNl8H7Owe7wSuH3LoZcDBqnq1qt4CHuqOkySdRKNeoz+nqo4AdPfrhow5H/j+rOeHum1DJbkpyVSSqenp6RGnJUkaNM4vYzNkW801uKp2VNVkVU1OTEyMcVqS9N4yauhfT3IuQHd/dMiYQ8CGWc/XA4dHPJ8kaUSjhv4xYGv3eCvw6JAx/w5ckORDSU4FPt0dJ0k6iRby88oHgWeBC5McSnIjcDtwVZIDwFXdc5Kcl+QJgKo6Bvwh8DVgP/B3VfXKeJYhSZrLmvkGVNUNc+zaNGTsYWDLrOdPAE+MPDtJUm/+ZawkNc7QS1LjDL0kNc7QS1LjDL0kNc7QS1LjDL0kNc7QS1LjDL0kNc7QS1LjDL0kNc7QS1LjDL0kNc7QS1LjDL0kNc7QS1LjDL0kNc7QS1LjDL0kNc7QS1LjDL0kNc7QS1LjDL0kNc7QS1LjDL0kNc7QS1LjDL0kNc7QS1LjDL0kNc7QS1LjeoU+ybYk+5K8kuTWIft/NsnfJ9nbjflsn/NJkhZv5NAn+TDwOeAy4BLgmiQXDAy7BfhmVV0CXAn8RZJTRz2nJGnx+nyivwh4rqp+XFXHgKeBTw6MKeD9SQKcDrwJHOtxTknSIvUJ/T7giiRnJzkN2AJsGBjzRWb+g3AYeBnYVlVv9zinJGmRRg59Ve0H7gB2AU8Ce3n3p/XfAl4EzgN+Ffhikg8Me70kNyWZSjI1PT096rQkSQN6fRlbVfdW1aVVdQUzl2UODAz5LPBIzTgI/Cfwy3O81o6qmqyqyYmJiT7TkiTN0vdXN+u6+w8CnwIeHBjyGrCpG3MOcCHwap9zSpIWZ03P4x9OcjbwE+CWqvpBkpsBqupu4M+B+5O8DAT406p6o+c5JUmL0Cv0VXX5kG13z3p8GLi6zzkkSf34l7GS1DhDL0mNM/SS1DhDL0mNM/SS1DhDL0mNM/SS1DhDL0mNM/SS1DhDL0mNM/SS1DhDL0mNM/SS1DhDL0mNM/SS1DhDL0mNM/SS1DhDL0mNM/SS1DhDL0mNM/SS1DhDL0mNM/SS1DhDL0mNM/SS1DhDL0mNM/SS1DhDL0mNM/SS1DhDL0mNM/SS1LheoU+yLcm+JK8kuXWOMVcmebEb83Sf80mSFm/NqAcm+TDwOeAy4C3gyST/UFUHZo05A/gbYHNVvZZkXd8JS5IWp88n+ouA56rqx1V1DHga+OTAmN8FHqmq1wCq6miP80mSRtAn9PuAK5KcneQ0YAuwYWDMLwFnJnkqyZ4kvz/XiyW5KclUkqnp6eke05IkzTbypZuq2p/kDmAX8D/AXuDYkNf/NWAT8DPAs0meq6pvD3m9HcAOgMnJyRp1XpKkd+r1ZWxV3VtVl1bVFcCbwIGBIYeAJ6vqf6vqDeAZ4JI+55QkLU7fX92s6+4/CHwKeHBgyKPA5UnWdJd3fh3Y3+eckqTFGfnSTefhJGcDPwFuqaofJLkZoKru7i7vPAm8BLwN3FNV+3qeU5K0CL1CX1WXD9l298DzO4E7+5xHkjQ6/zJWkhpn6CWpcYZekhpn6CWpcYZekhpn6CWpcYZekhpn6CWpcYZekhpn6CWpcYZekhpn6CWpcYZekhpn6CWpcYZekhpn6CWpcYZekhpn6CWpcYZekhpn6CWpcYZekhpn6CWpcYZekhpn6CWpcamq5Z7DuySZBr633PNYpLXAG8s9iZPMNb83uObV4eeramLYjhUZ+tUoyVRVTS73PE4m1/ze4JpXPy/dSFLjDL0kNc7QL50dyz2BZeCa3xtc8yrnNXpJapyf6CWpcYZekhpn6BchyVlJdiU50N2fOce4zUm+leRgku1D9v9Jkkqydvyz7qfvmpPcmeQ/kryU5KtJzjh5s1+4BbxnSfLX3f6Xkly60GNXqlHXnGRDkq8n2Z/klSTbTv7sR9Pnfe72n5LkG0keP3mzXgJV5W2BN+ALwPbu8XbgjiFjTgG+A/wCcCqwF7h41v4NwNeY+YOwtcu9pnGvGbgaWNM9vmPY8ct9m+8968ZsAf4RCPBR4PmFHrsSbz3XfC5waff4/cC3W1/zrP1/BPwt8Phyr2cxNz/RL851wM7u8U7g+iFjLgMOVtWrVfUW8FB33HF/BXweWC3fgvdac1X9U1Ud68Y9B6wf83xHMd97Rvf8yzXjOeCMJOcu8NiVaOQ1V9WRqnoBoKp+BOwHzj+Zkx9Rn/eZJOuBTwD3nMxJLwVDvzjnVNURgO5+3ZAx5wPfn/X8ULeNJNcC/1VVe8c90SXUa80D/oCZT0srzULmP9eYha59pemz5v+XZCPwEeD5JZ/h0uu75ruY+ZD29rgmOC5rlnsCK02SfwZ+bsiu2xb6EkO2VZLTute4etS5jcu41jxwjtuAY8ADi5vdSTHv/E8wZiHHrkR91jyzMzkdeBi4tap+uIRzG5eR15zkGuBoVe1JcuWSz2zMDP2AqvrNufYlef34P127f84dHTLsEDPX4Y9bDxwGfhH4ELA3yfHtLyS5rKr+e8kWMIIxrvn4a2wFrgE2VXehc4U54fznGXPqAo5difqsmSTvYybyD1TVI2Oc51Lqs+bfAa5NsgX4aeADSb5SVZ8Z43yXznJ/SbCabsCdvPOLyS8MGbMGeJWZqB//wudXhoz7Lqvjy9heawY2A98EJpZ7LSdY47zvGTPXZmd/Sfdvi3m/V9qt55oDfBm4a7nXcbLWPDDmSlbZl7HLPoHVdAPOBnYDB7r7s7rt5wFPzBq3hZlfInwHuG2O11otoe+1ZuAgM9c8X+xudy/3muZY57vmD9wM3Nw9DvClbv/LwORi3u+VeBt1zcBvMHPJ46VZ7+uW5V7PuN/nWa+x6kLv/wJBkhrnr24kqXGGXpIaZ+glqXGGXpIaZ+glqXGGXpIaZ+glqXH/BxUKbFFcb7/IAAAAAElFTkSuQmCC\n",
          "text/plain": "<Figure size 432x288 with 1 Axes>"
         },
         "metadata": {
          "needs_background": "light"
         },
         "output_type": "display_data"
        },
        {
         "data": {
          "text/plain": "100"
         },
         "metadata": {},
         "output_type": "display_data"
        }
       ]
      }
     },
     "424764f7fd7f40afb11ad6cebb2d0861": {
      "model_module": "@jupyter-widgets/base",
      "model_module_version": "1.2.0",
      "model_name": "LayoutModel",
      "state": {}
     },
     "4248e157c0d447e8baf574b43bdf170e": {
      "model_module": "bqplot",
      "model_module_version": "^0.4.0",
      "model_name": "LinearScaleModel",
      "state": {
       "allow_padding": false,
       "max": 1,
       "min": 0,
       "stabilized": false
      }
     },
     "428007638e774eae932ed0052df42278": {
      "model_module": "@jupyter-widgets/base",
      "model_module_version": "1.2.0",
      "model_name": "LayoutModel",
      "state": {}
     },
     "428fda02de1348b8bc0e352fe985ff7c": {
      "model_module": "@jupyter-widgets/base",
      "model_module_version": "1.2.0",
      "model_name": "LayoutModel",
      "state": {}
     },
     "4298aa80456f450e98a6fe9ca132d9b7": {
      "model_module": "bqplot",
      "model_module_version": "^0.4.0",
      "model_name": "AxisModel",
      "state": {
       "orientation": "vertical",
       "scale": "IPY_MODEL_fb5bc6331c774a77b47320a1fc729703",
       "side": "left",
       "tick_values": {
        "type": null,
        "values": null
       }
      }
     },
     "42a11db0c92041c8831d58b098dc9c49": {
      "model_module": "bqplot",
      "model_module_version": "^0.4.0",
      "model_name": "LinearScaleModel",
      "state": {
       "stabilized": false
      }
     },
     "42a1393cf13f4ed094f2fd82751ffa2c": {
      "model_module": "@jupyter-widgets/base",
      "model_module_version": "1.2.0",
      "model_name": "LayoutModel",
      "state": {}
     },
     "4309cdfb71764baa8c06bd7993c7d0b1": {
      "model_module": "@jupyter-widgets/output",
      "model_module_version": "1.0.0",
      "model_name": "OutputModel",
      "state": {
       "layout": "IPY_MODEL_e14f40ebc32a4a8eba7cdc67dff94196"
      }
     },
     "4312a2672c2b41c6a17d3e0105c6fc94": {
      "model_module": "@jupyter-widgets/output",
      "model_module_version": "1.0.0",
      "model_name": "OutputModel",
      "state": {
       "layout": "IPY_MODEL_17aa8352efea4a888bf32bc3d5803c0b",
       "outputs": [
        {
         "ename": "NameError",
         "evalue": "name 'np' is not defined",
         "output_type": "error",
         "traceback": [
          "\u001b[0;31m---------------------------------------------------------------------------\u001b[0m",
          "\u001b[0;31mNameError\u001b[0m                                 Traceback (most recent call last)",
          "\u001b[0;32m/usr/lib/python3.8/site-packages/ipywidgets/widgets/interaction.py\u001b[0m in \u001b[0;36mupdate\u001b[0;34m(self, *args)\u001b[0m\n\u001b[1;32m    254\u001b[0m                     \u001b[0mvalue\u001b[0m \u001b[0;34m=\u001b[0m \u001b[0mwidget\u001b[0m\u001b[0;34m.\u001b[0m\u001b[0mget_interact_value\u001b[0m\u001b[0;34m(\u001b[0m\u001b[0;34m)\u001b[0m\u001b[0;34m\u001b[0m\u001b[0;34m\u001b[0m\u001b[0m\n\u001b[1;32m    255\u001b[0m                     \u001b[0mself\u001b[0m\u001b[0;34m.\u001b[0m\u001b[0mkwargs\u001b[0m\u001b[0;34m[\u001b[0m\u001b[0mwidget\u001b[0m\u001b[0;34m.\u001b[0m\u001b[0m_kwarg\u001b[0m\u001b[0;34m]\u001b[0m \u001b[0;34m=\u001b[0m \u001b[0mvalue\u001b[0m\u001b[0;34m\u001b[0m\u001b[0;34m\u001b[0m\u001b[0m\n\u001b[0;32m--> 256\u001b[0;31m                 \u001b[0mself\u001b[0m\u001b[0;34m.\u001b[0m\u001b[0mresult\u001b[0m \u001b[0;34m=\u001b[0m \u001b[0mself\u001b[0m\u001b[0;34m.\u001b[0m\u001b[0mf\u001b[0m\u001b[0;34m(\u001b[0m\u001b[0;34m**\u001b[0m\u001b[0mself\u001b[0m\u001b[0;34m.\u001b[0m\u001b[0mkwargs\u001b[0m\u001b[0;34m)\u001b[0m\u001b[0;34m\u001b[0m\u001b[0;34m\u001b[0m\u001b[0m\n\u001b[0m\u001b[1;32m    257\u001b[0m                 \u001b[0mshow_inline_matplotlib_plots\u001b[0m\u001b[0;34m(\u001b[0m\u001b[0;34m)\u001b[0m\u001b[0;34m\u001b[0m\u001b[0;34m\u001b[0m\u001b[0m\n\u001b[1;32m    258\u001b[0m                 \u001b[0;32mif\u001b[0m \u001b[0mself\u001b[0m\u001b[0;34m.\u001b[0m\u001b[0mauto_display\u001b[0m \u001b[0;32mand\u001b[0m \u001b[0mself\u001b[0m\u001b[0;34m.\u001b[0m\u001b[0mresult\u001b[0m \u001b[0;32mis\u001b[0m \u001b[0;32mnot\u001b[0m \u001b[0;32mNone\u001b[0m\u001b[0;34m:\u001b[0m\u001b[0;34m\u001b[0m\u001b[0;34m\u001b[0m\u001b[0m\n",
          "\u001b[0;32m~/.local/lib/python3.8/site-packages/nbinteract/plotting.py\u001b[0m in \u001b[0;36mwrapped\u001b[0;34m(**interact_params)\u001b[0m\n\u001b[1;32m    223\u001b[0m \u001b[0;34m\u001b[0m\u001b[0m\n\u001b[1;32m    224\u001b[0m     \u001b[0;32mdef\u001b[0m \u001b[0mwrapped\u001b[0m\u001b[0;34m(\u001b[0m\u001b[0;34m**\u001b[0m\u001b[0minteract_params\u001b[0m\u001b[0;34m)\u001b[0m\u001b[0;34m:\u001b[0m\u001b[0;34m\u001b[0m\u001b[0;34m\u001b[0m\u001b[0m\n\u001b[0;32m--> 225\u001b[0;31m         \u001b[0mhist\u001b[0m\u001b[0;34m.\u001b[0m\u001b[0msample\u001b[0m \u001b[0;34m=\u001b[0m \u001b[0mutil\u001b[0m\u001b[0;34m.\u001b[0m\u001b[0mmaybe_call\u001b[0m\u001b[0;34m(\u001b[0m\u001b[0mhist_function\u001b[0m\u001b[0;34m,\u001b[0m \u001b[0minteract_params\u001b[0m\u001b[0;34m)\u001b[0m\u001b[0;34m\u001b[0m\u001b[0;34m\u001b[0m\u001b[0m\n\u001b[0m\u001b[1;32m    226\u001b[0m \u001b[0;34m\u001b[0m\u001b[0m\n\u001b[1;32m    227\u001b[0m     \u001b[0mcontrols\u001b[0m \u001b[0;34m=\u001b[0m \u001b[0mwidgets\u001b[0m\u001b[0;34m.\u001b[0m\u001b[0minteractive\u001b[0m\u001b[0;34m(\u001b[0m\u001b[0mwrapped\u001b[0m\u001b[0;34m,\u001b[0m \u001b[0;34m**\u001b[0m\u001b[0minteract_params\u001b[0m\u001b[0;34m)\u001b[0m\u001b[0;34m\u001b[0m\u001b[0;34m\u001b[0m\u001b[0m\n",
          "\u001b[0;32m~/.local/lib/python3.8/site-packages/nbinteract/util.py\u001b[0m in \u001b[0;36mmaybe_call\u001b[0;34m(maybe_fn, kwargs, prefix)\u001b[0m\n\u001b[1;32m     31\u001b[0m \u001b[0;34m\u001b[0m\u001b[0m\n\u001b[1;32m     32\u001b[0m     \u001b[0margs\u001b[0m \u001b[0;34m=\u001b[0m \u001b[0mget_fn_args\u001b[0m\u001b[0;34m(\u001b[0m\u001b[0mmaybe_fn\u001b[0m\u001b[0;34m,\u001b[0m \u001b[0mkwargs\u001b[0m\u001b[0;34m,\u001b[0m \u001b[0mprefix\u001b[0m\u001b[0;34m=\u001b[0m\u001b[0mprefix\u001b[0m\u001b[0;34m)\u001b[0m\u001b[0;34m\u001b[0m\u001b[0;34m\u001b[0m\u001b[0m\n\u001b[0;32m---> 33\u001b[0;31m     \u001b[0;32mreturn\u001b[0m \u001b[0mmaybe_fn\u001b[0m\u001b[0;34m(\u001b[0m\u001b[0;34m**\u001b[0m\u001b[0margs\u001b[0m\u001b[0;34m)\u001b[0m\u001b[0;34m\u001b[0m\u001b[0;34m\u001b[0m\u001b[0m\n\u001b[0m\u001b[1;32m     34\u001b[0m \u001b[0;34m\u001b[0m\u001b[0m\n\u001b[1;32m     35\u001b[0m \u001b[0;34m\u001b[0m\u001b[0m\n",
          "\u001b[0;32m<ipython-input-4-639b1e3172b6>\u001b[0m in \u001b[0;36mhist_response_function\u001b[0;34m(mean, sd, size)\u001b[0m\n\u001b[1;32m      4\u001b[0m     \u001b[0mdistribution\u001b[0m \u001b[0;32mwith\u001b[0m \u001b[0mthe\u001b[0m \u001b[0mmean\u001b[0m \u001b[0;32mand\u001b[0m \u001b[0mSD\u001b[0m \u001b[0mgiven\u001b[0m\u001b[0;34m.\u001b[0m\u001b[0;34m\u001b[0m\u001b[0;34m\u001b[0m\u001b[0m\n\u001b[1;32m      5\u001b[0m     '''\n\u001b[0;32m----> 6\u001b[0;31m     \u001b[0;32mreturn\u001b[0m \u001b[0mnp\u001b[0m\u001b[0;34m.\u001b[0m\u001b[0mrandom\u001b[0m\u001b[0;34m.\u001b[0m\u001b[0mnormal\u001b[0m\u001b[0;34m(\u001b[0m\u001b[0mloc\u001b[0m\u001b[0;34m=\u001b[0m\u001b[0mmean\u001b[0m\u001b[0;34m,\u001b[0m \u001b[0mscale\u001b[0m\u001b[0;34m=\u001b[0m\u001b[0msd\u001b[0m\u001b[0;34m,\u001b[0m \u001b[0msize\u001b[0m\u001b[0;34m=\u001b[0m\u001b[0;36m1000\u001b[0m\u001b[0;34m)\u001b[0m\u001b[0;34m\u001b[0m\u001b[0;34m\u001b[0m\u001b[0m\n\u001b[0m",
          "\u001b[0;31mNameError\u001b[0m: name 'np' is not defined"
         ]
        }
       ]
      }
     },
     "43244472efc949a2ae7208bae5c1371e": {
      "model_module": "bqplot",
      "model_module_version": "^0.4.0",
      "model_name": "AxisModel",
      "state": {
       "orientation": "vertical",
       "scale": "IPY_MODEL_cd88455f6a044eccac8bf224075b5d63",
       "side": "left",
       "tick_values": {
        "type": null,
        "values": null
       }
      }
     },
     "4339b55d0b8743b59d6d8a8af76de68d": {
      "model_module": "bqplot",
      "model_module_version": "^0.4.0",
      "model_name": "LinesModel",
      "state": {
       "color": {
        "type": null,
        "values": null
       },
       "colors": [
        "#475A77"
       ],
       "display_legend": false,
       "fill_colors": [],
       "scales": {
        "x": "IPY_MODEL_ca5a6428904948eb8b06f656c76d7dd9",
        "y": "IPY_MODEL_5b99b5534c474b43bb7a366abd2d9cb1"
       },
       "selected": [],
       "x": {
        "type": "float",
        "values": []
       },
       "y": {
        "type": "float",
        "values": []
       }
      }
     },
     "43689ff8ee4547389e7999e21103c1ab": {
      "model_module": "bqplot",
      "model_module_version": "^0.4.0",
      "model_name": "LinearScaleModel",
      "state": {
       "stabilized": false
      }
     },
     "438267ab3c9045d685a6d307821ac868": {
      "model_module": "bqplot",
      "model_module_version": "^0.4.0",
      "model_name": "LinearScaleModel",
      "state": {
       "allow_padding": false,
       "max": 1,
       "min": 0,
       "stabilized": false
      }
     },
     "439d90403dbd4a24bdf2c77d41c5dcf1": {
      "model_module": "@jupyter-widgets/base",
      "model_module_version": "1.2.0",
      "model_name": "LayoutModel",
      "state": {
       "min_width": "125px"
      }
     },
     "43c634372c344eb9ba0718f572f9e34d": {
      "model_module": "bqplot",
      "model_module_version": "^0.4.0",
      "model_name": "LinearScaleModel",
      "state": {
       "stabilized": false
      }
     },
     "440dabc3b36341c680b0751f57f794ad": {
      "model_module": "@jupyter-widgets/base",
      "model_module_version": "1.2.0",
      "model_name": "LayoutModel",
      "state": {}
     },
     "4445d9134aab49e2ac6ebb427c252a30": {
      "model_module": "bqplot",
      "model_module_version": "^0.4.0",
      "model_name": "LinearScaleModel",
      "state": {
       "stabilized": false
      }
     },
     "444a91aa2522448fa337a776638ef78f": {
      "model_module": "bqplot",
      "model_module_version": "^0.4.0",
      "model_name": "FigureModel",
      "state": {
       "_dom_classes": [],
       "axes": [
        "IPY_MODEL_0c64c23f364f4128832e253225f36393",
        "IPY_MODEL_e2ed352ae4a4491fabde8a13211e62b8"
       ],
       "layout": "IPY_MODEL_439d90403dbd4a24bdf2c77d41c5dcf1",
       "marks": [
        "IPY_MODEL_556c43c7586b4c948bfb0783441707bd"
       ],
       "max_aspect_ratio": 6,
       "scale_x": "IPY_MODEL_003e6fabe37244c3b43ff7af7e0c3dc1",
       "scale_y": "IPY_MODEL_4248e157c0d447e8baf574b43bdf170e"
      }
     },
     "44657f84f9394186a72a30137d84a889": {
      "model_module": "@jupyter-widgets/base",
      "model_module_version": "1.2.0",
      "model_name": "LayoutModel",
      "state": {}
     },
     "44a0aefc124841cfbddb64b3141e2f93": {
      "model_module": "@jupyter-widgets/base",
      "model_module_version": "1.2.0",
      "model_name": "LayoutModel",
      "state": {
       "min_width": "125px"
      }
     },
     "44a2f017302a4cd3a5ceb502d3083847": {
      "model_module": "@jupyter-widgets/base",
      "model_module_version": "1.2.0",
      "model_name": "LayoutModel",
      "state": {}
     },
     "44b39b6ae1264540b6dc62f55809c277": {
      "model_module": "bqplot",
      "model_module_version": "^0.4.0",
      "model_name": "AxisModel",
      "state": {
       "orientation": "vertical",
       "scale": "IPY_MODEL_a3defc0b1ad44fe498434d3dd3dada15",
       "side": "left",
       "tick_values": {
        "type": null,
        "values": null
       }
      }
     },
     "450608ac449c450793ea975c4637abd9": {
      "model_module": "@jupyter-widgets/base",
      "model_module_version": "1.2.0",
      "model_name": "LayoutModel",
      "state": {}
     },
     "4514f201e78543b280db77593158ad31": {
      "model_module": "@jupyter-widgets/controls",
      "model_module_version": "1.5.0",
      "model_name": "SliderStyleModel",
      "state": {
       "description_width": ""
      }
     },
     "452b67f3781f4f55a48bdd64f20184af": {
      "model_module": "@jupyter-widgets/controls",
      "model_module_version": "1.5.0",
      "model_name": "VBoxModel",
      "state": {
       "_dom_classes": [
        "widget-interact"
       ],
       "children": [
        "IPY_MODEL_96755d6c007146179e78f0c756482531"
       ],
       "layout": "IPY_MODEL_30f5207645364c99beafdc8da73e585d"
      }
     },
     "45494b60460046d8be107a77f7cd702c": {
      "model_module": "bqplot",
      "model_module_version": "^0.4.0",
      "model_name": "LinearScaleModel",
      "state": {
       "stabilized": false
      }
     },
     "4566e9b6ef8148b5ac36bf1a54679b34": {
      "model_module": "bqplot",
      "model_module_version": "^0.4.0",
      "model_name": "LinearScaleModel",
      "state": {
       "allow_padding": false,
       "max": 1,
       "min": 0,
       "stabilized": false
      }
     },
     "458baf42f6a94298970af2d96312c74c": {
      "model_module": "@jupyter-widgets/controls",
      "model_module_version": "1.5.0",
      "model_name": "VBoxModel",
      "state": {
       "_dom_classes": [
        "widget-interact"
       ],
       "children": [
        "IPY_MODEL_935ee0d2c60b48ac8d3e36e5c3178df9",
        "IPY_MODEL_9b78a9b4f3a447d8842ce11ea5fc7958"
       ],
       "layout": "IPY_MODEL_95a55864a6c44878b7e38cee902c0007"
      }
     },
     "459eae7f3ae44e0aa123dcf0e473a1c2": {
      "model_module": "bqplot",
      "model_module_version": "^0.4.0",
      "model_name": "AxisModel",
      "state": {
       "scale": "IPY_MODEL_ac98349103f141fcbf6ae29d1ecb5925",
       "side": "bottom",
       "tick_values": {
        "type": null,
        "values": null
       }
      }
     },
     "45e18f45bc104787b8d1e79340848d5e": {
      "model_module": "bqplot",
      "model_module_version": "^0.4.0",
      "model_name": "LinearScaleModel",
      "state": {
       "stabilized": false
      }
     },
     "45efadceb1314e4b831649e9e1ffd955": {
      "model_module": "@jupyter-widgets/base",
      "model_module_version": "1.2.0",
      "model_name": "LayoutModel",
      "state": {}
     },
     "45ff9a224be445c2acf20fc413976d06": {
      "model_module": "bqplot",
      "model_module_version": "^0.4.0",
      "model_name": "FigureModel",
      "state": {
       "_dom_classes": [],
       "axes": [
        "IPY_MODEL_88ca5195355c443a8ace33e40e226bb3",
        "IPY_MODEL_69de5618b02a44efb6ce434cf0227912"
       ],
       "layout": "IPY_MODEL_fa37b1426254416c8ed6ef2a05d6472f",
       "marks": [
        "IPY_MODEL_87685b42a6f64baeaf2de373bd0790ff"
       ],
       "max_aspect_ratio": 6,
       "scale_x": "IPY_MODEL_9989624e60b64fcd8fa5f13a8968e446",
       "scale_y": "IPY_MODEL_3b19432de5b2438ebee3fc11daba5d4f"
      }
     },
     "460a1046b32d4d3abdf1747acc3588a2": {
      "model_module": "bqplot",
      "model_module_version": "^0.4.0",
      "model_name": "AxisModel",
      "state": {
       "scale": "IPY_MODEL_20763071cb3540cba34ece2e5e9d4f97",
       "side": "bottom",
       "tick_values": {
        "type": null,
        "values": null
       }
      }
     },
     "46334ca5d3994db2af3da07520aaab43": {
      "model_module": "@jupyter-widgets/base",
      "model_module_version": "1.2.0",
      "model_name": "LayoutModel",
      "state": {}
     },
     "46601513e6e246cf899a0a57bc87502d": {
      "model_module": "@jupyter-widgets/base",
      "model_module_version": "1.2.0",
      "model_name": "LayoutModel",
      "state": {
       "min_width": "125px"
      }
     },
     "46824b2847e14d7bb12549a34fed376a": {
      "model_module": "@jupyter-widgets/base",
      "model_module_version": "1.2.0",
      "model_name": "LayoutModel",
      "state": {}
     },
     "4691b801ceef47848ff6e72939b4c6be": {
      "model_module": "bqplot",
      "model_module_version": "^0.4.0",
      "model_name": "LinearScaleModel",
      "state": {
       "allow_padding": false,
       "max": 1,
       "min": 0,
       "stabilized": false
      }
     },
     "469dcac2e52b4816902d2c71d993085b": {
      "model_module": "bqplot",
      "model_module_version": "^0.4.0",
      "model_name": "LinesModel",
      "state": {
       "color": {
        "type": null,
        "values": null
       },
       "colors": [
        "#475A77"
       ],
       "display_legend": false,
       "fill_colors": [],
       "scales": {
        "x": "IPY_MODEL_bd320d6eaacd4d868e3b83e62647d2f2",
        "y": "IPY_MODEL_3b3a1e1d48ca462ba7e51b1a18c3399a"
       },
       "selected": [],
       "x": {
        "type": "float",
        "values": []
       },
       "y": {
        "type": "float",
        "values": []
       }
      }
     },
     "46f1b42e6efa456e9d27413dd71448f1": {
      "model_module": "@jupyter-widgets/controls",
      "model_module_version": "1.5.0",
      "model_name": "IntSliderModel",
      "state": {
       "description": "x",
       "layout": "IPY_MODEL_da9cba407df24d4dbd2c5723591896ff",
       "max": 30,
       "min": -10,
       "style": "IPY_MODEL_5ab2b057e26e43b88375d1a71cbdc424",
       "value": 10
      }
     },
     "46f578075e094923b234a05e89cbc6c4": {
      "model_module": "@jupyter-widgets/base",
      "model_module_version": "1.2.0",
      "model_name": "LayoutModel",
      "state": {}
     },
     "483c6b23f97c4e3fba42748e53ea2f38": {
      "model_module": "@jupyter-widgets/base",
      "model_module_version": "1.2.0",
      "model_name": "LayoutModel",
      "state": {}
     },
     "48961717bd43453d8474f2a93380cc9b": {
      "model_module": "bqplot",
      "model_module_version": "^0.4.0",
      "model_name": "AxisModel",
      "state": {
       "scale": "IPY_MODEL_3bf810f1cb71482398b5a23eace50c74",
       "side": "bottom",
       "tick_values": {
        "type": null,
        "values": null
       }
      }
     },
     "48bfd13a83cd4e0c85434d7f70c3229e": {
      "model_module": "bqplot",
      "model_module_version": "^0.4.0",
      "model_name": "LinearScaleModel",
      "state": {
       "stabilized": false
      }
     },
     "48c6bab241004a98bd3b927b57318b46": {
      "model_module": "bqplot",
      "model_module_version": "^0.4.0",
      "model_name": "LinearScaleModel",
      "state": {
       "allow_padding": false,
       "max": 1,
       "min": 0,
       "stabilized": false
      }
     },
     "48e114a7b64440fd81a5730d5d6fc955": {
      "model_module": "bqplot",
      "model_module_version": "^0.4.0",
      "model_name": "AxisModel",
      "state": {
       "scale": "IPY_MODEL_bd320d6eaacd4d868e3b83e62647d2f2",
       "side": "bottom",
       "tick_values": {
        "type": null,
        "values": null
       }
      }
     },
     "48e985a137fa47689e5972a9cad74ee6": {
      "model_module": "@jupyter-widgets/base",
      "model_module_version": "1.2.0",
      "model_name": "LayoutModel",
      "state": {}
     },
     "48f18c5896aa41fcbf1c05497870ff49": {
      "model_module": "bqplot",
      "model_module_version": "^0.4.0",
      "model_name": "LinearScaleModel",
      "state": {
       "allow_padding": false,
       "max": 1,
       "min": 0,
       "stabilized": false
      }
     },
     "49073e614190470cb16fa9deb33aedcd": {
      "model_module": "@jupyter-widgets/base",
      "model_module_version": "1.2.0",
      "model_name": "LayoutModel",
      "state": {
       "min_width": "125px"
      }
     },
     "490dc12e568b4ebb945b5e14433e8d85": {
      "model_module": "@jupyter-widgets/base",
      "model_module_version": "1.2.0",
      "model_name": "LayoutModel",
      "state": {}
     },
     "496ea6defc5d42dfa82d62a11edc8be2": {
      "model_module": "bqplot",
      "model_module_version": "^0.4.0",
      "model_name": "LinearScaleModel",
      "state": {
       "allow_padding": false,
       "max": 1,
       "min": 0,
       "stabilized": false
      }
     },
     "4980126cb61740dd9c8736f6620873ea": {
      "model_module": "@jupyter-widgets/output",
      "model_module_version": "1.0.0",
      "model_name": "OutputModel",
      "state": {
       "layout": "IPY_MODEL_a9881d3222fe4b9a84dd324b218e89f4"
      }
     },
     "499ea65a647b49279934e74da11427c1": {
      "model_module": "bqplot",
      "model_module_version": "^0.4.0",
      "model_name": "LinearScaleModel",
      "state": {
       "allow_padding": false,
       "max": 1,
       "min": 0,
       "stabilized": false
      }
     },
     "49c21a2504b443cbabc140addd2a4fe8": {
      "model_module": "@jupyter-widgets/base",
      "model_module_version": "1.2.0",
      "model_name": "LayoutModel",
      "state": {}
     },
     "49c48cdcaf6e4cee89314f0e44b5c149": {
      "model_module": "bqplot",
      "model_module_version": "^0.4.0",
      "model_name": "AxisModel",
      "state": {
       "orientation": "vertical",
       "scale": "IPY_MODEL_96c06d2b05754790bf6d9719c4a94f9e",
       "side": "left",
       "tick_values": {
        "type": null,
        "values": null
       }
      }
     },
     "49f0adaf92c14bb4b1f76857fe0d0b84": {
      "model_module": "bqplot",
      "model_module_version": "^0.4.0",
      "model_name": "AxisModel",
      "state": {
       "scale": "IPY_MODEL_97cc49deeb9b41559383a0db1b89da6e",
       "side": "bottom",
       "tick_values": {
        "type": null,
        "values": null
       }
      }
     },
     "49fadd426f834712bb13999983d08724": {
      "model_module": "bqplot",
      "model_module_version": "^0.4.0",
      "model_name": "AxisModel",
      "state": {
       "orientation": "vertical",
       "scale": "IPY_MODEL_16d87dbe23f044cebd6dad35ac815751",
       "side": "left",
       "tick_values": {
        "type": null,
        "values": null
       }
      }
     },
     "4a091fe26a2043d29f24383ee8a32e4a": {
      "model_module": "@jupyter-widgets/base",
      "model_module_version": "1.2.0",
      "model_name": "LayoutModel",
      "state": {}
     },
     "4a27dedd42f6459884a1890be7fce0f3": {
      "model_module": "@jupyter-widgets/base",
      "model_module_version": "1.2.0",
      "model_name": "LayoutModel",
      "state": {
       "min_width": "125px"
      }
     },
     "4a2df8b147254f1ebe6626307323bf64": {
      "model_module": "bqplot",
      "model_module_version": "^0.4.0",
      "model_name": "AxisModel",
      "state": {
       "scale": "IPY_MODEL_8a643184d8084a52b1b611caa9e8878c",
       "side": "bottom",
       "tick_values": {
        "type": null,
        "values": null
       }
      }
     },
     "4a40fe979c9b485694405495b1de78ad": {
      "model_module": "bqplot",
      "model_module_version": "^0.4.0",
      "model_name": "AxisModel",
      "state": {
       "scale": "IPY_MODEL_45494b60460046d8be107a77f7cd702c",
       "side": "bottom",
       "tick_values": {
        "type": null,
        "values": null
       }
      }
     },
     "4ab5ce38ec3e4b139a68dab43cec21c0": {
      "model_module": "@jupyter-widgets/controls",
      "model_module_version": "1.5.0",
      "model_name": "VBoxModel",
      "state": {
       "_dom_classes": [
        "widget-interact"
       ],
       "children": [
        "IPY_MODEL_b8624308bb5d4ebc847f03a937829352"
       ],
       "layout": "IPY_MODEL_5a14e65404294e7ab4b7cf08cc46345d"
      }
     },
     "4acc99df214c4ad7a4805837bf5efad8": {
      "model_module": "@jupyter-widgets/base",
      "model_module_version": "1.2.0",
      "model_name": "LayoutModel",
      "state": {}
     },
     "4b342f4996c342c4b33cc227e1242ad4": {
      "model_module": "@jupyter-widgets/base",
      "model_module_version": "1.2.0",
      "model_name": "LayoutModel",
      "state": {
       "min_width": "125px"
      }
     },
     "4b9ccd8afb1a49f09e1bba42ed3c8c8c": {
      "model_module": "@jupyter-widgets/controls",
      "model_module_version": "1.5.0",
      "model_name": "FloatSliderModel",
      "state": {
       "description": "corn_initial_acres",
       "layout": "IPY_MODEL_8897fb0374b04855b7389fda62f37ea5",
       "max": 400,
       "min": 0.01,
       "step": 10,
       "style": "IPY_MODEL_cd542de7c3014e35966e11af13e64120",
       "value": 200
      }
     },
     "4ba5d84aa732465bae4dafef247e3a31": {
      "model_module": "@jupyter-widgets/output",
      "model_module_version": "1.0.0",
      "model_name": "OutputModel",
      "state": {
       "layout": "IPY_MODEL_a3318ab8137e453f866aede77a7fde1b"
      }
     },
     "4c47ca0d6c774653a4a62675a2b92425": {
      "model_module": "@jupyter-widgets/controls",
      "model_module_version": "1.5.0",
      "model_name": "VBoxModel",
      "state": {
       "_dom_classes": [
        "widget-interact"
       ],
       "children": [
        "IPY_MODEL_b3038303320c4a1b918981d21abc5b14",
        "IPY_MODEL_f0abd1d076124af187ef694c1386c6f8"
       ],
       "layout": "IPY_MODEL_d925793316fd488bab28c3ab752a9c41"
      }
     },
     "4c71e495c56349d9991f5e8ac1ebc073": {
      "model_module": "bqplot",
      "model_module_version": "^0.4.0",
      "model_name": "AxisModel",
      "state": {
       "orientation": "vertical",
       "scale": "IPY_MODEL_218025391afe4d70a0ac7eb6c93b423e",
       "side": "left",
       "tick_values": {
        "type": null,
        "values": null
       }
      }
     },
     "4c9b24e1c3844582a1def3bdceb0af57": {
      "model_module": "bqplot",
      "model_module_version": "^0.4.0",
      "model_name": "LinearScaleModel",
      "state": {
       "stabilized": false
      }
     },
     "4d049723db9c4c5b897af514cd06f2d0": {
      "model_module": "bqplot",
      "model_module_version": "^0.4.0",
      "model_name": "LinearScaleModel",
      "state": {
       "stabilized": false
      }
     },
     "4d1872a011274c9389d87bdd82052e6f": {
      "model_module": "@jupyter-widgets/output",
      "model_module_version": "1.0.0",
      "model_name": "OutputModel",
      "state": {
       "layout": "IPY_MODEL_5fcf06f14dfe49149f4f2a019682b2a9"
      }
     },
     "4d36df1d3f3445cd813997a3049392ef": {
      "model_module": "@jupyter-widgets/output",
      "model_module_version": "1.0.0",
      "model_name": "OutputModel",
      "state": {
       "layout": "IPY_MODEL_2b7448f5047f419cac81986d82e92ba0",
       "outputs": [
        {
         "ename": "AttributeError",
         "evalue": "module 'nbinteract' has no attribute 'plot'",
         "output_type": "error",
         "traceback": [
          "\u001b[0;31m---------------------------------------------------------------------------\u001b[0m",
          "\u001b[0;31mAttributeError\u001b[0m                            Traceback (most recent call last)",
          "\u001b[0;32m/usr/lib/python3.8/site-packages/ipywidgets/widgets/interaction.py\u001b[0m in \u001b[0;36mupdate\u001b[0;34m(self, *args)\u001b[0m\n\u001b[1;32m    254\u001b[0m                     \u001b[0mvalue\u001b[0m \u001b[0;34m=\u001b[0m \u001b[0mwidget\u001b[0m\u001b[0;34m.\u001b[0m\u001b[0mget_interact_value\u001b[0m\u001b[0;34m(\u001b[0m\u001b[0;34m)\u001b[0m\u001b[0;34m\u001b[0m\u001b[0;34m\u001b[0m\u001b[0m\n\u001b[1;32m    255\u001b[0m                     \u001b[0mself\u001b[0m\u001b[0;34m.\u001b[0m\u001b[0mkwargs\u001b[0m\u001b[0;34m[\u001b[0m\u001b[0mwidget\u001b[0m\u001b[0;34m.\u001b[0m\u001b[0m_kwarg\u001b[0m\u001b[0;34m]\u001b[0m \u001b[0;34m=\u001b[0m \u001b[0mvalue\u001b[0m\u001b[0;34m\u001b[0m\u001b[0;34m\u001b[0m\u001b[0m\n\u001b[0;32m--> 256\u001b[0;31m                 \u001b[0mself\u001b[0m\u001b[0;34m.\u001b[0m\u001b[0mresult\u001b[0m \u001b[0;34m=\u001b[0m \u001b[0mself\u001b[0m\u001b[0;34m.\u001b[0m\u001b[0mf\u001b[0m\u001b[0;34m(\u001b[0m\u001b[0;34m**\u001b[0m\u001b[0mself\u001b[0m\u001b[0;34m.\u001b[0m\u001b[0mkwargs\u001b[0m\u001b[0;34m)\u001b[0m\u001b[0;34m\u001b[0m\u001b[0;34m\u001b[0m\u001b[0m\n\u001b[0m\u001b[1;32m    257\u001b[0m                 \u001b[0mshow_inline_matplotlib_plots\u001b[0m\u001b[0;34m(\u001b[0m\u001b[0;34m)\u001b[0m\u001b[0;34m\u001b[0m\u001b[0;34m\u001b[0m\u001b[0m\n\u001b[1;32m    258\u001b[0m                 \u001b[0;32mif\u001b[0m \u001b[0mself\u001b[0m\u001b[0;34m.\u001b[0m\u001b[0mauto_display\u001b[0m \u001b[0;32mand\u001b[0m \u001b[0mself\u001b[0m\u001b[0;34m.\u001b[0m\u001b[0mresult\u001b[0m \u001b[0;32mis\u001b[0m \u001b[0;32mnot\u001b[0m \u001b[0;32mNone\u001b[0m\u001b[0;34m:\u001b[0m\u001b[0;34m\u001b[0m\u001b[0;34m\u001b[0m\u001b[0m\n",
          "\u001b[0;32m<ipython-input-18-f43bb080b515>\u001b[0m in \u001b[0;36msquare\u001b[0;34m(x)\u001b[0m\n\u001b[1;32m      1\u001b[0m \u001b[0;32mdef\u001b[0m \u001b[0msquare\u001b[0m\u001b[0;34m(\u001b[0m\u001b[0mx\u001b[0m\u001b[0;34m)\u001b[0m\u001b[0;34m:\u001b[0m\u001b[0;34m\u001b[0m\u001b[0;34m\u001b[0m\u001b[0m\n\u001b[0;32m----> 2\u001b[0;31m     \u001b[0mnbi\u001b[0m\u001b[0;34m.\u001b[0m\u001b[0mplot\u001b[0m\u001b[0;34m(\u001b[0m\u001b[0;34m[\u001b[0m\u001b[0mx\u001b[0m\u001b[0;34m,\u001b[0m \u001b[0mx\u001b[0m\u001b[0;34m**\u001b[0m\u001b[0;36m2\u001b[0m\u001b[0;34m]\u001b[0m\u001b[0;34m)\u001b[0m\u001b[0;34m\u001b[0m\u001b[0;34m\u001b[0m\u001b[0m\n\u001b[0m\u001b[1;32m      3\u001b[0m     \u001b[0;32mreturn\u001b[0m \u001b[0mx\u001b[0m \u001b[0;34m*\u001b[0m \u001b[0mx\u001b[0m\u001b[0;34m\u001b[0m\u001b[0;34m\u001b[0m\u001b[0m\n",
          "\u001b[0;31mAttributeError\u001b[0m: module 'nbinteract' has no attribute 'plot'"
         ]
        }
       ]
      }
     },
     "4d44a696567240dd9f7b05798d941927": {
      "model_module": "@jupyter-widgets/base",
      "model_module_version": "1.2.0",
      "model_name": "LayoutModel",
      "state": {}
     },
     "4d516791a55f4ecdb7b79bb29aaecb48": {
      "model_module": "bqplot",
      "model_module_version": "^0.4.0",
      "model_name": "AxisModel",
      "state": {
       "orientation": "vertical",
       "scale": "IPY_MODEL_4d049723db9c4c5b897af514cd06f2d0",
       "side": "left",
       "tick_values": {
        "type": null,
        "values": null
       }
      }
     },
     "4d553cc3370147a1b0d45c7592ec053a": {
      "model_module": "bqplot",
      "model_module_version": "^0.4.0",
      "model_name": "LinearScaleModel",
      "state": {
       "stabilized": false
      }
     },
     "4d86623c54aa438d87d445c8f35a3bf4": {
      "model_module": "@jupyter-widgets/controls",
      "model_module_version": "1.5.0",
      "model_name": "SliderStyleModel",
      "state": {
       "description_width": ""
      }
     },
     "4d9703cfa9d14f17b2dcf1265e295132": {
      "model_module": "bqplot",
      "model_module_version": "^0.4.0",
      "model_name": "LinearScaleModel",
      "state": {
       "allow_padding": false,
       "max": 1,
       "min": 0,
       "stabilized": false
      }
     },
     "4dbfee752aeb4d9c87f2f200a731cabe": {
      "model_module": "@jupyter-widgets/output",
      "model_module_version": "1.0.0",
      "model_name": "OutputModel",
      "state": {
       "layout": "IPY_MODEL_e454bb72b8c5406c9f69338180c0229e"
      }
     },
     "4dc2d2e86a6d4b1e90a42b447690c10c": {
      "model_module": "bqplot",
      "model_module_version": "^0.4.0",
      "model_name": "LinearScaleModel",
      "state": {
       "allow_padding": false,
       "max": 1,
       "min": 0,
       "stabilized": false
      }
     },
     "4dcf2c8968274b6da870fc329b4a5bfb": {
      "model_module": "@jupyter-widgets/base",
      "model_module_version": "1.2.0",
      "model_name": "LayoutModel",
      "state": {
       "min_width": "125px"
      }
     },
     "4dd9637f04184a148cfa9dda1e875a09": {
      "model_module": "@jupyter-widgets/controls",
      "model_module_version": "1.5.0",
      "model_name": "VBoxModel",
      "state": {
       "_dom_classes": [
        "widget-interact"
       ],
       "children": [
        "IPY_MODEL_a6d9ed008cdb4e408ebe92cd9a7637bb",
        "IPY_MODEL_68d1a08b4de446818eaae23def36848c"
       ],
       "layout": "IPY_MODEL_eb51eeeccbe748ccb4e258f6b9899a35"
      }
     },
     "4df6d454222544ad868043f9448abc0a": {
      "model_module": "bqplot",
      "model_module_version": "^0.4.0",
      "model_name": "AxisModel",
      "state": {
       "orientation": "vertical",
       "scale": "IPY_MODEL_ab5256c060024b5abc4582ee65e28ac6",
       "side": "left",
       "tick_values": {
        "type": null,
        "values": null
       }
      }
     },
     "4e0881137db7462f8ebb7c05ecf6f358": {
      "model_module": "bqplot",
      "model_module_version": "^0.4.0",
      "model_name": "FigureModel",
      "state": {
       "_dom_classes": [],
       "axes": [
        "IPY_MODEL_e2e916de8eeb418c960574569ac41648",
        "IPY_MODEL_d90f843eaeb945a9980b974d38e2140d"
       ],
       "layout": "IPY_MODEL_ac6800b88f304dd8aa352f3837ab9e7f",
       "marks": [
        "IPY_MODEL_fa8f0448b9684b2b93252c175c582842"
       ],
       "max_aspect_ratio": 6,
       "scale_x": "IPY_MODEL_ae47e7c78157479cbdbc7f3c050cec1e",
       "scale_y": "IPY_MODEL_8d65c2259a7a4a91a910adda6d25a5eb"
      }
     },
     "4e2a993d5de24ece80db3aba22fe1285": {
      "model_module": "@jupyter-widgets/base",
      "model_module_version": "1.2.0",
      "model_name": "LayoutModel",
      "state": {}
     },
     "4e3611e34165484a99b64d4ba3c7bab7": {
      "model_module": "bqplot",
      "model_module_version": "^0.4.0",
      "model_name": "AxisModel",
      "state": {
       "orientation": "vertical",
       "scale": "IPY_MODEL_0c83233a5c5e4e64850d7c2964fd7c83",
       "side": "left",
       "tick_values": {
        "type": null,
        "values": null
       }
      }
     },
     "4e4d75f3424240d588e7a5184b19440c": {
      "model_module": "@jupyter-widgets/controls",
      "model_module_version": "1.5.0",
      "model_name": "VBoxModel",
      "state": {
       "children": [
        "IPY_MODEL_b38b21102427484aac4dea69df15470c",
        "IPY_MODEL_91264dc1ea5844ec845acd494f0399ad"
       ],
       "layout": "IPY_MODEL_96bad1fbdf0c46e085129939449d8a6f"
      }
     },
     "4e50e4e9bcca413b85a293cb28eb6695": {
      "model_module": "@jupyter-widgets/controls",
      "model_module_version": "1.5.0",
      "model_name": "VBoxModel",
      "state": {
       "children": [
        "IPY_MODEL_6236ce385d864c7cbbfa25ea8338c635",
        "IPY_MODEL_f70b539692024b739c2083353b7d8736"
       ],
       "layout": "IPY_MODEL_e8a436190ad542d1afab396a1e149edd"
      }
     },
     "4e804ec70fc9436d8fe25b412584965c": {
      "model_module": "@jupyter-widgets/output",
      "model_module_version": "1.0.0",
      "model_name": "OutputModel",
      "state": {
       "layout": "IPY_MODEL_4e2a993d5de24ece80db3aba22fe1285"
      }
     },
     "4e92533b7b0840d19083eab3f5164106": {
      "model_module": "@jupyter-widgets/base",
      "model_module_version": "1.2.0",
      "model_name": "LayoutModel",
      "state": {}
     },
     "4e9a6b895c914d55b386534b2cdb6077": {
      "model_module": "@jupyter-widgets/base",
      "model_module_version": "1.2.0",
      "model_name": "LayoutModel",
      "state": {}
     },
     "4ea0d32bf09440deb59b5c2cc600ad4d": {
      "model_module": "@jupyter-widgets/base",
      "model_module_version": "1.2.0",
      "model_name": "LayoutModel",
      "state": {}
     },
     "4ea7027ec2b04c1e864df071add399cb": {
      "model_module": "bqplot",
      "model_module_version": "^0.4.0",
      "model_name": "LinearScaleModel",
      "state": {
       "stabilized": false
      }
     },
     "4ea7bbd888b14f6a96b0cb1c975f365c": {
      "model_module": "@jupyter-widgets/base",
      "model_module_version": "1.2.0",
      "model_name": "LayoutModel",
      "state": {
       "min_width": "125px"
      }
     },
     "4eb4e39806384ad89fab296558561413": {
      "model_module": "bqplot",
      "model_module_version": "^0.4.0",
      "model_name": "LinearScaleModel",
      "state": {
       "allow_padding": false,
       "max": 1,
       "min": 0,
       "stabilized": false
      }
     },
     "4ee7bfda39af4e139d2ef201c0a7a2ce": {
      "model_module": "@jupyter-widgets/base",
      "model_module_version": "1.2.0",
      "model_name": "LayoutModel",
      "state": {}
     },
     "4f07ffcbd97a490fb42b60444642af75": {
      "model_module": "bqplot",
      "model_module_version": "^0.4.0",
      "model_name": "LinearScaleModel",
      "state": {
       "allow_padding": false,
       "max": 1,
       "min": 0,
       "stabilized": false
      }
     },
     "4f2596565e80421d9a47b0177962b177": {
      "model_module": "@jupyter-widgets/controls",
      "model_module_version": "1.5.0",
      "model_name": "SliderStyleModel",
      "state": {
       "description_width": ""
      }
     },
     "4f5ef79389ee4fe3adf52cfa5aa43a9f": {
      "model_module": "@jupyter-widgets/base",
      "model_module_version": "1.2.0",
      "model_name": "LayoutModel",
      "state": {}
     },
     "4f66e8a93793460e90d371c97fb0150f": {
      "model_module": "bqplot",
      "model_module_version": "^0.4.0",
      "model_name": "FigureModel",
      "state": {
       "_dom_classes": [],
       "axes": [
        "IPY_MODEL_3f86eaf7465b4533825c8e4558de44ae",
        "IPY_MODEL_ae45b9982b8947059702b4227d3c57e4"
       ],
       "layout": "IPY_MODEL_1b76dba777344979bd1bb368e22ec9e3",
       "marks": [
        "IPY_MODEL_13088d21ec2d4bdbb5c44cbbd459ed8f"
       ],
       "max_aspect_ratio": 6,
       "scale_x": "IPY_MODEL_6d9b4bf2066140c38610d5a38a4bb8ef",
       "scale_y": "IPY_MODEL_5e36d42d212e448292e46997002d6a26"
      }
     },
     "4f9eed2264d9438f93befe74d0da256f": {
      "model_module": "@jupyter-widgets/output",
      "model_module_version": "1.0.0",
      "model_name": "OutputModel",
      "state": {
       "layout": "IPY_MODEL_9e2ce65211d74596be20483dda759707"
      }
     },
     "4fc16889df8847ce8a980ca4e26ca580": {
      "model_module": "bqplot",
      "model_module_version": "^0.4.0",
      "model_name": "LinesModel",
      "state": {
       "color": {
        "type": null,
        "values": null
       },
       "colors": [
        "#475A77"
       ],
       "display_legend": false,
       "fill_colors": [],
       "scales": {
        "x": "IPY_MODEL_df6b6b1d4aad4acba06b583791c87f85",
        "y": "IPY_MODEL_2020b60c8e24423a91477f7d6330c830"
       },
       "selected": [],
       "x": {
        "type": "float",
        "values": []
       },
       "y": {
        "type": "float",
        "values": []
       }
      }
     },
     "4feb6063ece34e809fa6f3cdce13846f": {
      "model_module": "@jupyter-widgets/controls",
      "model_module_version": "1.5.0",
      "model_name": "IntSliderModel",
      "state": {
       "description": "x_axis_scale",
       "layout": "IPY_MODEL_ca0797f2bae942c1affa09d13ebb8eb8",
       "max": 650,
       "min": 30,
       "step": 10,
       "style": "IPY_MODEL_f6837f94fa214ddfba9e1f76605e02e0",
       "value": 350
      }
     },
     "50031851f6354b1682e704fea09a6b17": {
      "model_module": "@jupyter-widgets/controls",
      "model_module_version": "1.5.0",
      "model_name": "VBoxModel",
      "state": {
       "_dom_classes": [
        "widget-interact"
       ],
       "children": [
        "IPY_MODEL_246b1d4e8679452bb6a0534eed4ff269"
       ],
       "layout": "IPY_MODEL_45efadceb1314e4b831649e9e1ffd955"
      }
     },
     "5004b086867a4d2486f1b79472710e09": {
      "model_module": "bqplot",
      "model_module_version": "^0.4.0",
      "model_name": "LinearScaleModel",
      "state": {
       "allow_padding": false,
       "max": 1,
       "min": 0,
       "stabilized": false
      }
     },
     "5036e3d2f2a54f0e8e94c3da92ec9e13": {
      "model_module": "@jupyter-widgets/controls",
      "model_module_version": "1.5.0",
      "model_name": "IntSliderModel",
      "state": {
       "description": "x",
       "layout": "IPY_MODEL_74b13d0e2989458fa1792e6f74031a45",
       "max": 30,
       "min": -10,
       "style": "IPY_MODEL_40fea02aa0ae4ac58802ec5a373ea109",
       "value": 10
      }
     },
     "5041a3041f6e4edb90c63914ff5ba120": {
      "model_module": "bqplot",
      "model_module_version": "^0.4.0",
      "model_name": "AxisModel",
      "state": {
       "orientation": "vertical",
       "scale": "IPY_MODEL_301bf8ba89e74513aa5c5a2a50b19042",
       "side": "left",
       "tick_values": {
        "type": null,
        "values": null
       }
      }
     },
     "504d183325ab4060a7b7a43dac5831b6": {
      "model_module": "@jupyter-widgets/base",
      "model_module_version": "1.2.0",
      "model_name": "LayoutModel",
      "state": {
       "min_width": "125px"
      }
     },
     "507427a3d6504543a20bcbe31bfbd103": {
      "model_module": "bqplot",
      "model_module_version": "^0.4.0",
      "model_name": "FigureModel",
      "state": {
       "_dom_classes": [],
       "axes": [
        "IPY_MODEL_257d462d85614531931f178ccc8f9115",
        "IPY_MODEL_05ab1198545b4a428364008395506f7c"
       ],
       "layout": "IPY_MODEL_ba9a6d40aadf491bb70f7fd17f479b82",
       "marks": [
        "IPY_MODEL_12d938962154451285a7244ffb1bb45a"
       ],
       "max_aspect_ratio": 6,
       "scale_x": "IPY_MODEL_dee55b6b1ad44fb6b5e3dbd5560affa7",
       "scale_y": "IPY_MODEL_2429d8f27bd54fee8d620deb3c484d2f"
      }
     },
     "50c7eace36414e0397b46b783bd866e2": {
      "model_module": "bqplot",
      "model_module_version": "^0.4.0",
      "model_name": "FigureModel",
      "state": {
       "_dom_classes": [],
       "axes": [
        "IPY_MODEL_a7b30c6ac4704e6699d5e130020785ba",
        "IPY_MODEL_6b07a51fa0814250a8c2d3510f78cdab"
       ],
       "layout": "IPY_MODEL_d1c6361f31b6467da90b2dfe1c05a2ae",
       "marks": [
        "IPY_MODEL_34ea113aadf34400ab0594927056e223"
       ],
       "max_aspect_ratio": 6,
       "scale_x": "IPY_MODEL_1d753bafc4234fabb3ab8af01b77826f",
       "scale_y": "IPY_MODEL_5cdc59845e2545c383a20340b816f59e"
      }
     },
     "50e8c29ae06e431abb97315ad1e87a2f": {
      "model_module": "bqplot",
      "model_module_version": "^0.4.0",
      "model_name": "AxisModel",
      "state": {
       "orientation": "vertical",
       "scale": "IPY_MODEL_a3ca5b50f23e4a12a2bb16acd9ffe734",
       "side": "left",
       "tick_values": {
        "type": null,
        "values": null
       }
      }
     },
     "510b8caea1d34641baea9d02c349ab57": {
      "model_module": "@jupyter-widgets/output",
      "model_module_version": "1.0.0",
      "model_name": "OutputModel",
      "state": {
       "layout": "IPY_MODEL_5dfcf4e4920e47d185293ca2e1cfe174"
      }
     },
     "510f2caaaf9d4d28a1db5602f57939aa": {
      "model_module": "bqplot",
      "model_module_version": "^0.4.0",
      "model_name": "LinearScaleModel",
      "state": {
       "allow_padding": false,
       "max": 1,
       "min": 0,
       "stabilized": false
      }
     },
     "514b48004e9a43549eb199b49b3616d2": {
      "model_module": "@jupyter-widgets/output",
      "model_module_version": "1.0.0",
      "model_name": "OutputModel",
      "state": {
       "layout": "IPY_MODEL_661ad6457f844ae0b240415dcfb9825f"
      }
     },
     "514c990c03a643379a665360c7de4ea9": {
      "model_module": "@jupyter-widgets/base",
      "model_module_version": "1.2.0",
      "model_name": "LayoutModel",
      "state": {}
     },
     "51d830e8a104499d8edae71c0ba60283": {
      "model_module": "@jupyter-widgets/base",
      "model_module_version": "1.2.0",
      "model_name": "LayoutModel",
      "state": {}
     },
     "51d955f748d840fca774a5bee51640e1": {
      "model_module": "@jupyter-widgets/controls",
      "model_module_version": "1.5.0",
      "model_name": "VBoxModel",
      "state": {
       "_dom_classes": [
        "widget-interact"
       ],
       "children": [
        "IPY_MODEL_81256a24e7014ac2bb54f38c95820551"
       ],
       "layout": "IPY_MODEL_3da4b496353f4d76b884e6d7c3d0d7e3"
      }
     },
     "52151a400f1f4100bd5578e6d5a6af8b": {
      "model_module": "@jupyter-widgets/base",
      "model_module_version": "1.2.0",
      "model_name": "LayoutModel",
      "state": {}
     },
     "52386ba6ea374b28a37d2abb3e155129": {
      "model_module": "bqplot",
      "model_module_version": "^0.4.0",
      "model_name": "AxisModel",
      "state": {
       "scale": "IPY_MODEL_3a858fe6fdb84b0aa2c376badfdb64ba",
       "side": "bottom",
       "tick_values": {
        "type": null,
        "values": null
       }
      }
     },
     "524324542420428ba87b1fc00b99b3d8": {
      "model_module": "bqplot",
      "model_module_version": "^0.4.0",
      "model_name": "LinearScaleModel",
      "state": {
       "allow_padding": false,
       "max": 1,
       "min": 0,
       "stabilized": false
      }
     },
     "524be09486174de8a32a5adaddf66105": {
      "model_module": "@jupyter-widgets/controls",
      "model_module_version": "1.5.0",
      "model_name": "VBoxModel",
      "state": {
       "children": [
        "IPY_MODEL_7b1cdc96937b433d86f510ed9008aecd",
        "IPY_MODEL_904335d9e0fa4cad8988abed361a4722"
       ],
       "layout": "IPY_MODEL_e3a76847e4684fa1b9a06320b92669ab"
      }
     },
     "525fbeb7d9d9474b8be65856070efcae": {
      "model_module": "@jupyter-widgets/output",
      "model_module_version": "1.0.0",
      "model_name": "OutputModel",
      "state": {
       "layout": "IPY_MODEL_2c525b11ab4348a8830e4a9819163ae8"
      }
     },
     "52788eed7ab2464495c92a362a503033": {
      "model_module": "bqplot",
      "model_module_version": "^0.4.0",
      "model_name": "AxisModel",
      "state": {
       "scale": "IPY_MODEL_566c92f8e56946f58e6771f1d277beb2",
       "side": "bottom",
       "tick_values": {
        "type": null,
        "values": null
       }
      }
     },
     "52878f9383ec485486ce50ab1c0dca2b": {
      "model_module": "@jupyter-widgets/base",
      "model_module_version": "1.2.0",
      "model_name": "LayoutModel",
      "state": {}
     },
     "52ace83f032949778b07e38305b51f06": {
      "model_module": "bqplot",
      "model_module_version": "^0.4.0",
      "model_name": "FigureModel",
      "state": {
       "_dom_classes": [],
       "axes": [
        "IPY_MODEL_5c1c1e3c2f144fdbb84f0c21a8814c94",
        "IPY_MODEL_44b39b6ae1264540b6dc62f55809c277"
       ],
       "layout": "IPY_MODEL_7236de504ddd467792a1c19646b3344a",
       "marks": [
        "IPY_MODEL_8b66654f614f47cca151ac9c054d6102"
       ],
       "max_aspect_ratio": 6,
       "scale_x": "IPY_MODEL_cedf59ac842341f38b9484d0e48f8e13",
       "scale_y": "IPY_MODEL_6595343b2a5746a58c9e5678ae5c0888"
      }
     },
     "52ec2c6a7a7d417cb0f4c6e58ba3e5c3": {
      "model_module": "@jupyter-widgets/base",
      "model_module_version": "1.2.0",
      "model_name": "LayoutModel",
      "state": {
       "min_width": "125px"
      }
     },
     "52ed96cfbacf471086f98a3ae407060e": {
      "model_module": "@jupyter-widgets/base",
      "model_module_version": "1.2.0",
      "model_name": "LayoutModel",
      "state": {}
     },
     "52f22a9864644220af66e0e6f13643fb": {
      "model_module": "bqplot",
      "model_module_version": "^0.4.0",
      "model_name": "LinearScaleModel",
      "state": {
       "stabilized": false
      }
     },
     "52f6c16bdf29465180e81f0821b402d9": {
      "model_module": "@jupyter-widgets/controls",
      "model_module_version": "1.5.0",
      "model_name": "VBoxModel",
      "state": {
       "children": [
        "IPY_MODEL_317d3557f9ee453b8bc729fceb78023b",
        "IPY_MODEL_2c76868f154044c7a0edf3c337719768"
       ],
       "layout": "IPY_MODEL_6dc56e4c88674e6ba45e600d506014d3"
      }
     },
     "53649900b87f487e86ef0a1756ede853": {
      "model_module": "@jupyter-widgets/output",
      "model_module_version": "1.0.0",
      "model_name": "OutputModel",
      "state": {
       "layout": "IPY_MODEL_64345d58a8054e58bbc40b88d08839e5"
      }
     },
     "536691649a8e49669c08a0ae0a6deeac": {
      "model_module": "@jupyter-widgets/base",
      "model_module_version": "1.2.0",
      "model_name": "LayoutModel",
      "state": {
       "min_width": "125px"
      }
     },
     "53bcec498c9e4551874e73569ab44c25": {
      "model_module": "@jupyter-widgets/controls",
      "model_module_version": "1.5.0",
      "model_name": "VBoxModel",
      "state": {
       "_dom_classes": [
        "widget-interact"
       ],
       "children": [
        "IPY_MODEL_238acce99a1f48c3b71ea11973ffbbf9"
       ],
       "layout": "IPY_MODEL_d0585a179dcc4baaa75ae3d6f233cb31"
      }
     },
     "53dae6e58010430a937d68856ca99541": {
      "model_module": "bqplot",
      "model_module_version": "^0.4.0",
      "model_name": "LinearScaleModel",
      "state": {
       "stabilized": false
      }
     },
     "53e69e498eed4c5c9f4d82e7c0fb3319": {
      "model_module": "bqplot",
      "model_module_version": "^0.4.0",
      "model_name": "AxisModel",
      "state": {
       "orientation": "vertical",
       "scale": "IPY_MODEL_087ce0de34c747098f3cfa962a355670",
       "side": "left",
       "tick_values": {
        "type": null,
        "values": null
       }
      }
     },
     "543b19bb9d0b4c999847fa2561881571": {
      "model_module": "bqplot",
      "model_module_version": "^0.4.0",
      "model_name": "FigureModel",
      "state": {
       "_dom_classes": [],
       "axes": [
        "IPY_MODEL_20842aabce4149c48ef46fd7e27afae7",
        "IPY_MODEL_7f8ffa4f5cd64f2f8f517928e530fe27"
       ],
       "layout": "IPY_MODEL_7bfb347e2b2e452283855c2e8bb7784e",
       "marks": [
        "IPY_MODEL_4fc16889df8847ce8a980ca4e26ca580"
       ],
       "max_aspect_ratio": 6,
       "scale_x": "IPY_MODEL_39081a96fa7d48afa9c37eebf87ef9c9",
       "scale_y": "IPY_MODEL_5be6c95823b746d09840153058e12774"
      }
     },
     "546d6d3e37da4ffaa3966f6f8d6c1601": {
      "model_module": "@jupyter-widgets/controls",
      "model_module_version": "1.5.0",
      "model_name": "VBoxModel",
      "state": {
       "_dom_classes": [
        "widget-interact"
       ],
       "children": [
        "IPY_MODEL_392e725668664e80a578b2e49205c135"
       ],
       "layout": "IPY_MODEL_c8e020374f6642ec82c047a42065d7dc"
      }
     },
     "547e94998d714c63a84e6a0816039dff": {
      "model_module": "bqplot",
      "model_module_version": "^0.4.0",
      "model_name": "LinearScaleModel",
      "state": {
       "allow_padding": false,
       "max": 1,
       "min": 0,
       "stabilized": false
      }
     },
     "54877f13c95e4da286a6dfeb5d5dd595": {
      "model_module": "@jupyter-widgets/controls",
      "model_module_version": "1.5.0",
      "model_name": "VBoxModel",
      "state": {
       "_dom_classes": [
        "widget-interact"
       ],
       "children": [
        "IPY_MODEL_ef803a0234e249fcbf87458af9ebb00a"
       ],
       "layout": "IPY_MODEL_b244b135a6de492f9e43e9c1b87adeee"
      }
     },
     "54b1bf0856674dee940129b243e48ee7": {
      "model_module": "@jupyter-widgets/controls",
      "model_module_version": "1.5.0",
      "model_name": "VBoxModel",
      "state": {
       "children": [
        "IPY_MODEL_75ea0c0e5caa4ba3b09488dce4721a91",
        "IPY_MODEL_715f009859e4442696cf3beb7aa0436d"
       ],
       "layout": "IPY_MODEL_3f33eb2308774bc6801bb869f867c878"
      }
     },
     "54c2b5c54e2348ea99bed2515e71d8d9": {
      "model_module": "bqplot",
      "model_module_version": "^0.4.0",
      "model_name": "AxisModel",
      "state": {
       "scale": "IPY_MODEL_7eec5a70615c453f84bcfb9909926297",
       "side": "bottom",
       "tick_values": {
        "type": null,
        "values": null
       }
      }
     },
     "54d0c0fbaa414d46b833262b9d703cbc": {
      "model_module": "@jupyter-widgets/base",
      "model_module_version": "1.2.0",
      "model_name": "LayoutModel",
      "state": {}
     },
     "54d2dbdd91de4e66844a86dda9544709": {
      "model_module": "bqplot",
      "model_module_version": "^0.4.0",
      "model_name": "LinearScaleModel",
      "state": {
       "stabilized": false
      }
     },
     "54e09856c5114dcd818d83f8ebe9fb20": {
      "model_module": "@jupyter-widgets/controls",
      "model_module_version": "1.5.0",
      "model_name": "VBoxModel",
      "state": {
       "_dom_classes": [
        "widget-interact"
       ],
       "children": [
        "IPY_MODEL_3959518a58514b25b2932f0ae23bc2e7"
       ],
       "layout": "IPY_MODEL_46f578075e094923b234a05e89cbc6c4"
      }
     },
     "553f86e259cb466694115686585cff28": {
      "model_module": "@jupyter-widgets/base",
      "model_module_version": "1.2.0",
      "model_name": "LayoutModel",
      "state": {
       "min_width": "125px"
      }
     },
     "5561378183ad4ff2bd86089bfab32081": {
      "model_module": "@jupyter-widgets/controls",
      "model_module_version": "1.5.0",
      "model_name": "VBoxModel",
      "state": {
       "_dom_classes": [
        "widget-interact"
       ],
       "children": [
        "IPY_MODEL_b4dcca2d57354cca9ea5c62a8ba296be"
       ],
       "layout": "IPY_MODEL_23b34cce8cd5446bb8b6403387f336fb"
      }
     },
     "556c43c7586b4c948bfb0783441707bd": {
      "model_module": "bqplot",
      "model_module_version": "^0.4.0",
      "model_name": "HistModel",
      "state": {
       "colors": [
        "#475A77"
       ],
       "count": {
        "type": "float",
        "values": [
         0.00329137617523112,
         0.00987412852569336,
         0.04278789027800456,
         0.13000935892162924,
         0.30938936047172527,
         0.35053156266211427,
         0.39990220529058107,
         0.246853213142334,
         0.10532403760739584,
         0.04772495454085124
        ]
       },
       "display_legend": false,
       "midpoints": [
        3.7165683304251536,
        4.324216892461536,
        4.931865454497919,
        5.5395140165343015,
        6.147162578570684,
        6.7548111406070666,
        7.362459702643449,
        7.970108264679832,
        8.577756826716215,
        9.185405388752596
       ],
       "normalized": true,
       "sample": {
        "type": "float",
        "values": [
         5.592119293274429,
         8.142018802289016,
         7.251945499212,
         7.652658465060847,
         6.3004347641728735,
         7.319146100579206,
         8.174287197478602,
         7.973279214367905,
         5.766875545121739,
         7.542821796384887,
         7.010628347213615,
         6.985048020446366,
         6.823151655174245,
         7.426699281175798,
         8.123748131974182,
         6.42693945380802,
         7.466104021639966,
         8.03912138991506,
         6.668326413764336,
         7.679880535183809,
         8.094836873859805,
         8.06162108130593,
         6.422102857693359,
         7.091775925224696,
         7.618981785468247,
         5.803638044223108,
         3.886419679005157,
         7.5705626227476674,
         8.50774354204021,
         4.6358514635601455,
         5.185810193947845,
         6.246465129275542,
         5.629206980698822,
         5.743355496082721,
         7.972323058371747,
         6.151665181810266,
         6.567583535093751,
         6.029588234766709,
         5.886792175984931,
         6.478396473585224,
         6.3300482890181025,
         7.7084125341582,
         7.525315097126644,
         6.662550594723426,
         6.391478230118364,
         5.773860150460695,
         6.713468349991461,
         7.470803931267064,
         6.100908178587573,
         6.948006143598253,
         8.284969729235167,
         5.0752266314280465,
         6.456677316431246,
         7.238520552245891,
         7.644242036521098,
         7.0759033562862275,
         6.602600455235404,
         7.567798540248455,
         7.388732032776357,
         6.669112060695874,
         6.8357273461731225,
         8.039964227376714,
         6.284989394685248,
         6.412535065398405,
         5.312129977538944,
         7.1880931605328255,
         6.782342226511286,
         6.812622069752659,
         8.506220719383856,
         7.919279748219861,
         8.71920321361239,
         7.162070616095885,
         7.268937262421717,
         5.488175355724467,
         4.912831237848177,
         8.800621535384098,
         5.9555659343580265,
         6.6816639868140495,
         6.795605818289826,
         7.745118115663008,
         6.752998331691595,
         7.126668635313762,
         5.327071586566173,
         6.073094062255773,
         7.1326440723457925,
         5.901853041175486,
         7.724850022157041,
         7.357797503524209,
         7.924197567073165,
         7.155788044073897,
         5.72368692519494,
         6.2666899171729264,
         6.209587829528864,
         6.74893075258604,
         7.045535502113771,
         8.407059503448115,
         5.500675499662615,
         7.708474001524964,
         7.764579517178897,
         7.768704920205328,
         6.679812136056289,
         6.56451410537282,
         5.358859415676387,
         5.652378598422914,
         7.278221472780722,
         6.9030155983467205,
         4.373052188426042,
         8.931528791969276,
         7.205597663526784,
         7.250961086022937,
         7.617299202064193,
         6.734805912992868,
         5.614260933403906,
         6.033969191223703,
         5.524426523866545,
         6.117943143830952,
         7.9593761129920395,
         7.738197434801103,
         6.739593930220904,
         6.0428843309446725,
         6.857705395944953,
         6.795005195538484,
         6.934567092222066,
         8.978029613818421,
         5.757605058064439,
         6.3565931313171955,
         8.453788095199663,
         8.779501409257904,
         5.695520813104451,
         6.010215690629426,
         6.182942646091286,
         6.721879785723177,
         7.0032260008098834,
         8.251064343375642,
         6.505886480298787,
         7.519032827843242,
         7.484113612666272,
         6.2385682427800635,
         7.658216984474195,
         7.205898640427099,
         8.105044945566672,
         5.323891770872478,
         7.291988637514329,
         8.887199733106328,
         6.565790568727615,
         8.092696577506196,
         6.816233325612355,
         6.867327885009,
         8.92352667593527,
         8.391576137480111,
         5.939704579467482,
         6.5164512326547195,
         7.675964559520733,
         7.737548808606556,
         7.642225813691077,
         7.146348321017214,
         7.445414120878775,
         6.147049438166778,
         5.7788429252706255,
         6.493132076051493,
         7.513130522997384,
         8.111774322066232,
         5.8952345129454695,
         6.224499541327638,
         7.895648499889501,
         7.013395389772856,
         5.566380087159468,
         6.092576911785167,
         7.59265956651926,
         8.79104361027992,
         6.679734500256748,
         5.13504720860543,
         7.333697755844064,
         6.542867618996428,
         6.030039973157566,
         6.717976128205382,
         6.479811628882316,
         6.314267758079268,
         7.006046702300454,
         5.80720094837518,
         7.367762875871334,
         5.869531295838051,
         6.378527833741619,
         6.259945576106716,
         6.503406834105606,
         8.482437578428028,
         6.387050760827739,
         9.027921318580985,
         5.318917290017101,
         6.924551676261441,
         6.926214225627896,
         6.344244050132651,
         6.1443662502433805,
         8.074298213374975,
         6.319020366686544,
         6.16173673396455,
         7.189140206673634,
         6.167931313256212,
         7.139924224584303,
         7.968952545541091,
         7.310348970704639,
         5.799695151702537,
         6.667537948973114,
         6.79829026324912,
         7.475255697603576,
         7.113042692195384,
         7.693595097986107,
         7.077706115342761,
         6.4538938220408655,
         7.452115184137923,
         6.398768367324481,
         8.642174815127223,
         7.718069159503665,
         7.498965991983396,
         9.489229669770788,
         7.218859035985119,
         6.9171510248818775,
         6.808663581642291,
         7.825465099981795,
         8.513581519757903,
         7.358355508273908,
         6.69195845862086,
         6.009251528184697,
         7.879950187330129,
         7.158162301937484,
         6.108573919987066,
         5.818907214186259,
         7.288237895515513,
         5.0885220145962204,
         7.364935820553098,
         7.612533479769176,
         6.212045325507413,
         7.248364001244474,
         6.9106159309412885,
         8.118480456165871,
         7.547535315767209,
         9.178769594776714,
         7.008085433290296,
         6.575395196521982,
         7.974899693498199,
         8.122809575859282,
         7.845845114202751,
         5.900121562011918,
         6.005898838713777,
         5.815034668612658,
         6.444017845669602,
         8.083358822686838,
         8.03585078109489,
         6.679599209721441,
         6.630684064566702,
         7.219488326964598,
         5.98957237375357,
         7.1630880798361956,
         6.8284260309295,
         7.620724156148789,
         6.62245376264073,
         6.162940155292436,
         7.606639011302786,
         7.992400035253013,
         7.376231123467696,
         5.079132063125901,
         7.2868592860326205,
         7.167553599628338,
         6.9673999746056605,
         6.68932548612582,
         5.426092197455599,
         6.4938619609773856,
         6.171933988108336,
         6.215366477891444,
         7.094347366779742,
         7.321422505240683,
         7.095781745631321,
         7.942633551699497,
         8.65794230046434,
         5.10327960054414,
         8.03180151786356,
         5.795807033999964,
         6.918969568128005,
         8.058271334341399,
         9.262391654477208,
         8.837302249984338,
         7.529764847134526,
         7.8600743819491035,
         7.964008384319953,
         5.709679469072197,
         7.467645335055324,
         6.099903856510393,
         7.602574729923479,
         6.593849759869071,
         6.058103215518585,
         6.666404222370855,
         7.917853686639104,
         4.740771081974804,
         8.217171334542073,
         6.061379870607703,
         9.448890798450188,
         7.979961329334682,
         6.6284674111763024,
         6.422555537137957,
         7.789390854822307,
         6.981848995437463,
         8.214227102205164,
         7.156144540652604,
         7.51481242677861,
         7.592509853804302,
         6.203458578946201,
         6.436342760458519,
         8.182781875990106,
         8.438692280023226,
         8.557373477632272,
         8.702152557324817,
         8.575048391034601,
         5.949172615565518,
         6.704367754642476,
         7.172322176922227,
         7.015871356712363,
         8.426273352488725,
         6.807700081609008,
         6.297009061533874,
         5.0778150024998485,
         6.9808343122907806,
         8.040651241514505,
         6.647141756582984,
         6.402890495561377,
         6.661950615569022,
         6.696318235062317,
         8.653623873333729,
         4.754587840429581,
         7.131304503876695,
         6.538258645924358,
         7.644492746571511,
         5.671346017197847,
         5.928375374710368,
         7.260158170751752,
         8.055464559160999,
         8.282452843121298,
         7.232044804802582,
         6.7005708122654735,
         7.172440936445478,
         5.765104408713529,
         7.079166075953199,
         6.954272644644358,
         6.348462744106914,
         6.995511486604986,
         3.412744049406962,
         7.554607128159968,
         6.151467780123572,
         9.183743870305769,
         6.411838971720852,
         7.702469042056875,
         4.4209912607111,
         7.758968848800761,
         8.152542455656944,
         6.715398839454982,
         7.601792645544351,
         7.976218496745228,
         7.8657001908943815,
         5.375075535806655,
         5.626100971420169,
         8.155037946159805,
         8.760054978439236,
         6.1121986230808165,
         8.503260480505645,
         5.125254864678975,
         7.409740515135113,
         6.914579866663399,
         7.484677127711643,
         6.048810166771334,
         7.29755039271719,
         7.083171830982396,
         6.648993705684571,
         7.259864902640474,
         6.508308313104404,
         5.665318094409747,
         8.798474994109094,
         5.731506150595575,
         6.631129184324119,
         5.953055506893682,
         8.035499668377344,
         5.957805796876093,
         7.584398187037787,
         6.58665103669447,
         5.847083497568981,
         6.6219846439591095,
         6.415714998234876,
         6.515933737358862,
         7.6543255208468315,
         8.273587184692088,
         6.985785889745863,
         7.2793254513050405,
         6.804571413835189,
         6.234669560414861,
         6.885984307678105,
         6.254577753322241,
         6.654097961838478,
         7.147412513201447,
         8.209073985871239,
         6.999659752715442,
         6.293540070418001,
         8.626625031017792,
         8.399809377565338,
         6.92763151475985,
         7.402961508889963,
         6.208692925233829,
         6.858374376860316,
         7.238591616975645,
         7.132476745631424,
         6.935061917366785,
         6.595480737834039,
         7.508828461062766,
         7.021679254860901,
         8.413190648053282,
         8.246426696923791,
         6.261589342076916,
         6.821404378620761,
         7.054179171549539,
         7.155838131849258,
         7.926716078501655,
         6.280203868154307,
         6.086664542766053,
         7.1858800795883155,
         7.721533163418566,
         7.45273735226518,
         5.781174276348087,
         9.23791241659497,
         7.37116329988409,
         6.332893061486862,
         8.10995540337421,
         6.003633654119035,
         9.30768620860333,
         8.32903632220257,
         6.7288389975791665,
         8.08608600103115,
         6.0201718937553395,
         8.089588071401836,
         7.298474383897621,
         8.09840204293316,
         6.267338361811844,
         7.826248857711252,
         8.226412886610296,
         6.409398012130758,
         6.164165993663799,
         8.247201480707401,
         6.761189467362853,
         7.174739378209089,
         6.25188227903482,
         6.869677520783971,
         6.298468425028637,
         5.809183908766731,
         4.544887594988411,
         6.098543131016786,
         7.743339245771143,
         6.835081343500264,
         8.571860768779427,
         7.0622544580752615,
         5.24812083400551,
         8.259986829459846,
         8.76192871375804,
         6.826983936477067,
         7.222713995806538,
         7.744418683589684,
         6.588217090615532,
         7.009720692627785,
         7.095402507195835,
         8.804501941542295,
         6.9098202994292075,
         7.210143076874599,
         7.005043841384211,
         6.859015010130514,
         5.618375383094484,
         7.005753920881313,
         7.273341287705695,
         6.317336304475283,
         8.195198144091904,
         6.4519925999100565,
         5.602972556299543,
         5.978602265452731,
         7.712140934713181,
         7.043986325801293,
         6.917350448469081,
         6.985806585246869,
         4.993603586674443,
         5.918044537383926,
         9.037271260197667,
         7.262549448891384,
         7.843394483872393,
         6.196478142965165,
         5.7984195800422835,
         7.203893714604367,
         7.330399963169195,
         7.106696003030283,
         7.107287193792247,
         7.809075617700908,
         6.4360539087611235,
         7.263881328626315,
         7.900081465893245,
         5.561996198347206,
         5.270320562954959,
         8.701684589301513,
         8.19287760429858,
         9.40571274046107,
         5.87571907410554,
         7.422837150529686,
         7.154134573668983,
         7.44486852426718,
         6.593692736774659,
         6.70342481163483,
         8.378380262772957,
         7.209566663132067,
         8.112456249750473,
         4.809720100040437,
         7.197737161942072,
         6.483414215969131,
         7.600707062934637,
         5.630317887021723,
         7.393798765030732,
         5.810472733593249,
         6.024564662095952,
         5.8393736769777735,
         7.565739599884285,
         6.317846991894206,
         5.838950286367271,
         5.060532013250202,
         5.955104976772263,
         7.6862229041914745,
         7.4692113646407,
         7.800645405789772,
         8.082540087952392,
         7.609932912434044,
         7.035990151527559,
         5.486472059347701,
         6.500629584322502,
         4.692918951603362,
         6.060779366555429,
         5.16039501182246,
         6.440813581238055,
         7.93309457942443,
         7.161027291137363,
         8.228811829749805,
         6.219887680481644,
         6.571682406426489,
         6.738790858460611,
         5.786585424443923,
         6.502418572258671,
         7.8323547022499875,
         6.756360473582697,
         6.552398098545092,
         8.9497429805913,
         6.610917718689167,
         8.43925556153792,
         6.13426602940198,
         9.037622726164471,
         6.7044206027378,
         8.06789715862179,
         6.973471020093477,
         5.713699299340947,
         6.105412827599711,
         5.986321498483484,
         8.02041434504351,
         6.923517485433143,
         7.406470781081341,
         7.1806594078570845,
         7.95261233761278,
         8.924265407183274,
         8.345478586771348,
         7.930114976879217,
         7.190055255628021,
         6.433693957984773,
         6.669954070285295,
         8.612058370262881,
         9.477253734094184,
         6.398725074965518,
         7.226901723824508,
         7.384115680835455,
         6.353781531010008,
         7.005760547616057,
         9.230967370331538,
         5.561578586494084,
         8.221074153618215,
         6.166767752638388,
         7.832238110379609,
         7.124768638347537,
         6.348838080196737,
         6.444037254667255,
         5.687457087884218,
         7.057605155443769,
         7.412907047052323,
         6.11130057887588,
         5.732582007977081,
         7.088786363272317,
         6.708507637103512,
         6.39231843781786,
         7.532142362132058,
         7.106572093086054,
         5.3283589638498725,
         7.074421899130492,
         7.58771225385358,
         6.033236044157021,
         6.019224032594215,
         5.481926155381462,
         5.891569817423983,
         6.324585383632561,
         7.039841473059855,
         6.093674759258688,
         7.32777035945195,
         5.876128778355848,
         8.36791014017939,
         5.880099081528331,
         6.016252340898646,
         5.470098060396088,
         5.357627501569581,
         7.283909601819546,
         7.588171458921011,
         7.4703184351049625,
         7.353633401538072,
         6.297364695903681,
         7.126754425905307,
         6.610374132399163,
         6.7719057657858475,
         7.397714418582448,
         7.402280672879733,
         7.704949025455703,
         5.914213365706126,
         4.576579103088919,
         7.560443741294075,
         6.860834841849527,
         6.817089251375286,
         7.7137502931542254,
         7.86113137369019,
         5.150454412270252,
         6.18140816944376,
         6.8718146166571135,
         7.998874723648012,
         6.5862239749831435,
         6.306535280209603,
         8.848203857485299,
         8.941924134119706,
         6.1620279161528595,
         8.161464257798245,
         6.943169486855229,
         7.482742353709792,
         6.393372827212854,
         6.321078273026837,
         7.300513073661737,
         8.24366023250337,
         6.594169005957906,
         5.819347679822776,
         8.062011198729458,
         7.181064716900436,
         7.741068941325806,
         6.024944872656932,
         6.833311785875183,
         8.416140036195033,
         7.920845130384674,
         6.293547008311155,
         7.605580178841076,
         7.127934097049619,
         7.330471283522841,
         6.305337122799074,
         6.71896472675948,
         5.454599252480525,
         5.577736685978394,
         5.386604714925614,
         6.681055545180755,
         8.585034736255718,
         6.688932944764517,
         6.936750353390634,
         4.974059483282148,
         6.997522995721608,
         7.100694900349177,
         6.424572578402502,
         6.374404502753729,
         7.059920400463216,
         7.281902353101598,
         7.917421001868018,
         5.903590577952493,
         7.231327983859618,
         6.6009663341717095,
         7.071308520404586,
         6.136992639398976,
         7.519151181727089,
         6.334193248976348,
         6.160177681170826,
         7.7639866808650115,
         7.4375027943643355,
         5.343279225392105,
         6.952811673400666,
         8.579219837861595,
         7.568847776609861,
         8.409165803498507,
         6.535281005391417,
         4.773280461576883,
         6.311880519046912,
         7.130183044230414,
         6.233589019550356,
         7.1493841868145465,
         6.442498783992058,
         7.971811505255352,
         6.898110134834164,
         6.761912994598717,
         6.045483320787507,
         7.625811743265153,
         7.242555560490345,
         7.599055741225941,
         6.064472449094125,
         6.711707176425971,
         6.885840739172295,
         7.49784764100605,
         5.849931405651931,
         7.110347079839101,
         6.638530386003303,
         9.125544647788661,
         6.441570955223058,
         6.018252910364789,
         6.88336435455106,
         6.523414537629321,
         6.310895368006092,
         6.085960614479713,
         6.114020270733816,
         7.130217000561863,
         7.547037483581861,
         6.339726422667748,
         7.8847341487382225,
         6.41278145539377,
         5.911569652720484,
         8.196817002221378,
         5.334246922962336,
         7.821417068980916,
         8.453638122456056,
         7.588609111758432,
         7.129204490668489,
         8.244755016219608,
         7.300150747032375,
         8.356242298346606,
         7.74764459379748,
         6.384913883138353,
         7.0674165423991555,
         7.021334945026177,
         8.384048727881538,
         6.281222158048363,
         5.996485340164892,
         7.472292932949527,
         7.198334753123078,
         5.46531659414246,
         7.657525622723512,
         7.932069603839071,
         6.95443914952337,
         6.6980353726665065,
         5.689206327446633,
         8.037824848990299,
         8.642546240824148,
         8.192150289872458,
         7.190605513093995,
         7.769601474059224,
         6.007733039447911,
         7.761193848325032,
         6.71188434313208,
         6.083908308964679,
         7.443965387463022,
         7.635169634236048,
         7.357154272427377,
         6.859391038386976,
         6.864726765804036,
         7.773023728660707,
         6.9690646845240725,
         5.416917044857591,
         8.676132893565478,
         7.9106497627767896,
         6.024636152547795,
         8.052752960907151,
         4.532633058129784,
         8.520147971397277,
         7.8103700969119485,
         7.531592124520868,
         6.7292408982880705,
         7.442591044220582,
         7.333852532773904,
         6.419708375959692,
         7.097708607144321,
         6.257018625116208,
         7.087743946115735,
         7.2849343619209135,
         7.516545302531134,
         7.559482677770056,
         7.1476700308293655,
         7.099213329801896,
         6.518350771358653,
         6.618362775002124,
         7.48060715851985,
         5.4548241733138525,
         6.372221233869854,
         7.170891033605408,
         6.68496702412003,
         6.2637450229356695,
         7.056887101489474,
         6.198349415162156,
         7.442286101067841,
         5.165594990460654,
         8.774260144218541,
         7.843600840425837,
         8.645288645977859,
         6.189899857116827,
         7.408418433583764,
         7.943881179253891,
         9.41762825252781,
         8.123903674344916,
         8.043226884326133,
         6.696087786181862,
         6.5217717476150865,
         6.125258897724944,
         9.29405246017351,
         7.547019666456351,
         6.9442953587006215,
         6.948479865960702,
         6.058752370658878,
         7.747818614655549,
         6.535949338849814,
         7.024719696591549,
         5.636722758783,
         7.069290544629777,
         7.5387809119528155,
         6.732279660149903,
         7.01414225493005,
         5.7643987636769545,
         7.078869109269274,
         7.193257215705159,
         6.56133204558566,
         7.1584990310312,
         6.626171820284103,
         7.382763180613995,
         7.014891657786023,
         7.2827796616140255,
         7.378625500610148,
         8.413992720033177,
         7.273506858033732,
         7.536328196287804,
         9.230563699664064,
         7.963191638085661,
         7.9157279701870875,
         7.24346615446612,
         6.153027340756751,
         7.935251933105425,
         9.069015648906678,
         7.980128661375577,
         6.529054327136412,
         5.76137826871634,
         7.130136813399254,
         8.745940272681047,
         6.602665876225484,
         9.164088674248212,
         6.94733008446638,
         7.6472327232895765,
         8.202213295375726,
         7.80823747450882,
         7.457011514681047,
         6.580981503904884,
         7.261760197792698,
         7.3874177278702895,
         5.108642814678987,
         6.165767084859382,
         6.473899903841328,
         7.767861572275562,
         6.291158047099128,
         7.340073420702536,
         4.516658460293148,
         6.33028842628778,
         5.884522610697579,
         8.226597792625382,
         5.829155727240602,
         7.9050533762591435,
         8.091629570952275,
         7.279967908976881,
         5.564761161237462,
         8.647331614811666,
         8.171319001747374,
         5.831219736753642,
         6.463705138480201,
         5.741387266560462,
         5.085969426112135,
         6.7394091976088815,
         9.317427332232313,
         8.410238470682751,
         5.717746915741853,
         7.437303133896892,
         5.085012757819513,
         7.236479245656575,
         6.213074246054661,
         8.853616382697293,
         7.93501223627993,
         6.731805063261532,
         6.87080860308655,
         8.858005289140191,
         5.29012752914943,
         6.652942576304169,
         7.319915476137241,
         8.473292969544268,
         5.961851844454243,
         6.01024439644306,
         7.030352862789371,
         6.216410995860826,
         6.8236040041508685,
         7.510128574359685,
         6.645156879033556,
         6.056676198733049,
         8.602388978300223,
         7.670513961471107,
         9.097604108504495,
         6.64810997028323,
         6.698603198383819,
         7.246416639760756,
         7.252819335070486,
         7.436935039845359,
         7.771006354942154,
         5.97099303278453,
         6.813688653368437,
         7.413760121114904,
         5.960666734788075,
         7.5496991641559505,
         7.955550951805263,
         8.069693221998206,
         7.4062534835828835,
         7.234351936994533,
         4.6930698595464015,
         7.08973185488294,
         7.726745550768236,
         7.440422494580889,
         7.856603497305427,
         6.875695886379667,
         5.645724829507252,
         6.668780457789596,
         6.5088153159691196,
         8.109299435919263,
         8.905014209785417,
         8.015112014155944,
         7.256537643319187,
         7.209840165499679,
         5.81932944057837,
         6.106117601197293,
         6.505863029930834,
         7.754146801910512,
         7.3545256278261375,
         8.708472871486626,
         7.304165368316529,
         7.97983120406261,
         6.375883363914957,
         8.202815966770824,
         6.173519361546771,
         4.932830557646231,
         7.293164678889795,
         6.870850301365068,
         6.663265135568056,
         6.193725757765915,
         6.739064912153245,
         7.214270990464103,
         6.812430690083147,
         6.954349973056895,
         8.301821991752568,
         7.993682146735919,
         7.236968647934761,
         6.04255982548244,
         6.463689325734522,
         6.31256725816861,
         5.394019332355064,
         6.835725594994295,
         7.085813902865509,
         7.069314269776876,
         7.904978561794788,
         6.429359311633304,
         6.582001424260428,
         6.809106336037072,
         7.285846548519548,
         7.506562045101541,
         6.038624417110256,
         7.509249821339729,
         6.583868591661671,
         6.658505654778751,
         7.49327668155301,
         6.673702132543614,
         6.907784383723064,
         8.573585431400197,
         5.918116535751494,
         7.27711943724429,
         5.986450466527591,
         7.397418207293493,
         5.8280111120691735,
         6.042019239267657,
         7.140741086805941,
         7.623976104591524,
         7.331399819519877,
         6.323301773325625,
         7.105554715781149,
         6.872085477388543,
         7.36380512433715,
         6.320948274409262,
         8.325405046912191,
         8.818431791271655,
         6.917995399765576,
         7.080017075811689,
         6.051401588695514,
         6.423325273792296
        ]
       },
       "scales": {
        "count": "IPY_MODEL_43689ff8ee4547389e7999e21103c1ab",
        "sample": "IPY_MODEL_9aec6416bf6847b7a4e96407a6cc010d"
       },
       "selected": [],
       "stroke": "#475A77"
      }
     },
     "55742165da6f48e2a05d2fefa3077fa7": {
      "model_module": "bqplot",
      "model_module_version": "^0.4.0",
      "model_name": "AxisModel",
      "state": {
       "scale": "IPY_MODEL_63543ca825c1433f94a8561c73c60acc",
       "side": "bottom",
       "tick_values": {
        "type": null,
        "values": null
       }
      }
     },
     "5582dd5f28114fcfab09cc9b9298d6a9": {
      "model_module": "bqplot",
      "model_module_version": "^0.4.0",
      "model_name": "AxisModel",
      "state": {
       "orientation": "vertical",
       "scale": "IPY_MODEL_8d9286439c244be4aefca40440f1329e",
       "side": "left",
       "tick_values": {
        "type": null,
        "values": null
       }
      }
     },
     "55b970c9874247038c794fc513233629": {
      "model_module": "@jupyter-widgets/base",
      "model_module_version": "1.2.0",
      "model_name": "LayoutModel",
      "state": {
       "min_width": "125px"
      }
     },
     "55cf9d9bf2c24250bdeec7b5b81f8000": {
      "model_module": "@jupyter-widgets/base",
      "model_module_version": "1.2.0",
      "model_name": "LayoutModel",
      "state": {}
     },
     "55e198bbc2584faa98e60bf34346c046": {
      "model_module": "bqplot",
      "model_module_version": "^0.4.0",
      "model_name": "LinearScaleModel",
      "state": {
       "stabilized": false
      }
     },
     "566c92f8e56946f58e6771f1d277beb2": {
      "model_module": "bqplot",
      "model_module_version": "^0.4.0",
      "model_name": "LinearScaleModel",
      "state": {
       "stabilized": false
      }
     },
     "568fa29fd74a44aa88bf3bd03f1c27d4": {
      "model_module": "@jupyter-widgets/controls",
      "model_module_version": "1.5.0",
      "model_name": "VBoxModel",
      "state": {
       "_dom_classes": [
        "widget-interact"
       ],
       "children": [
        "IPY_MODEL_4309cdfb71764baa8c06bd7993c7d0b1"
       ],
       "layout": "IPY_MODEL_bb2d799ce6054ea98686ded08ad8712e"
      }
     },
     "569c8f889c5d4eeb970c82de9be6ad19": {
      "model_module": "bqplot",
      "model_module_version": "^0.4.0",
      "model_name": "LinearScaleModel",
      "state": {
       "allow_padding": false,
       "max": 1,
       "min": 0,
       "stabilized": false
      }
     },
     "56df4772909b45ebaa40fab998ff791e": {
      "model_module": "bqplot",
      "model_module_version": "^0.4.0",
      "model_name": "FigureModel",
      "state": {
       "_dom_classes": [],
       "axes": [
        "IPY_MODEL_7c7ab1373a6740f5b586f6219ef70cb9",
        "IPY_MODEL_49fadd426f834712bb13999983d08724"
       ],
       "layout": "IPY_MODEL_b1e3a767dacf42c3ba2f39b20b3ed71b",
       "marks": [
        "IPY_MODEL_e902e56e52ac4b49bbce2fdc548b09a0"
       ],
       "max_aspect_ratio": 6,
       "scale_x": "IPY_MODEL_ce3c4d135daf4944917c71fcfcc4399e",
       "scale_y": "IPY_MODEL_81a547a75d724d9cb31984e2e416c1af"
      }
     },
     "56e9ba433b5043d4bdafe2fb6ebd0558": {
      "model_module": "@jupyter-widgets/base",
      "model_module_version": "1.2.0",
      "model_name": "LayoutModel",
      "state": {}
     },
     "56f5f49b91894e8eb4dbbd90cf849ef5": {
      "model_module": "bqplot",
      "model_module_version": "^0.4.0",
      "model_name": "LinesModel",
      "state": {
       "color": {
        "type": null,
        "values": null
       },
       "colors": [
        "#475A77"
       ],
       "display_legend": false,
       "fill_colors": [],
       "scales": {
        "x": "IPY_MODEL_0694284c8b7244f1b6164fb32e63e27f",
        "y": "IPY_MODEL_86b34427ce314e1eb745a22d01744d6f"
       },
       "selected": [],
       "x": {
        "type": "float",
        "values": []
       },
       "y": {
        "type": "float",
        "values": []
       }
      }
     },
     "56fc6d9fac5b4090a0d23acffe143355": {
      "model_module": "@jupyter-widgets/controls",
      "model_module_version": "1.5.0",
      "model_name": "VBoxModel",
      "state": {
       "_dom_classes": [
        "widget-interact"
       ],
       "children": [
        "IPY_MODEL_19c0c6b5b11a4c58aee63cf1b6922714"
       ],
       "layout": "IPY_MODEL_a0105af5148b426ca9fdb33fd685e172"
      }
     },
     "5706a1adb7ae4dfeb0d2ef8c9901ce8a": {
      "model_module": "@jupyter-widgets/output",
      "model_module_version": "1.0.0",
      "model_name": "OutputModel",
      "state": {
       "layout": "IPY_MODEL_5c98239a90f644dba62fdaad1580ee5d"
      }
     },
     "574d9763417e4f8cacda7709d63bf370": {
      "model_module": "bqplot",
      "model_module_version": "^0.4.0",
      "model_name": "LinearScaleModel",
      "state": {
       "stabilized": false
      }
     },
     "5780fb3c4c844bed9a987c21f91ea183": {
      "model_module": "@jupyter-widgets/base",
      "model_module_version": "1.2.0",
      "model_name": "LayoutModel",
      "state": {}
     },
     "57ad514a8b4a4a27bc11a618513603a5": {
      "model_module": "bqplot",
      "model_module_version": "^0.4.0",
      "model_name": "LinearScaleModel",
      "state": {
       "stabilized": false
      }
     },
     "57d04a04117149f1a37ddb517b42dc0a": {
      "model_module": "@jupyter-widgets/base",
      "model_module_version": "1.2.0",
      "model_name": "LayoutModel",
      "state": {}
     },
     "57ddce0e33d84e34ae5bf8f70e548452": {
      "model_module": "bqplot",
      "model_module_version": "^0.4.0",
      "model_name": "LinearScaleModel",
      "state": {
       "stabilized": false
      }
     },
     "580e8c349fac4be2b29a149db00d02f3": {
      "model_module": "bqplot",
      "model_module_version": "^0.4.0",
      "model_name": "AxisModel",
      "state": {
       "orientation": "vertical",
       "scale": "IPY_MODEL_d82bb92c04b44789b5953f67c543b042",
       "side": "left",
       "tick_values": {
        "type": null,
        "values": null
       }
      }
     },
     "581f09304efe46788c433fa8a5da027a": {
      "model_module": "@jupyter-widgets/base",
      "model_module_version": "1.2.0",
      "model_name": "LayoutModel",
      "state": {}
     },
     "5862861a206f41c59c445c288c94c7c2": {
      "model_module": "bqplot",
      "model_module_version": "^0.4.0",
      "model_name": "LinearScaleModel",
      "state": {
       "stabilized": false
      }
     },
     "587a69c23c5242e5b4e2ad13555926f6": {
      "model_module": "@jupyter-widgets/base",
      "model_module_version": "1.2.0",
      "model_name": "LayoutModel",
      "state": {}
     },
     "58839629961741db99a1c1bc2a0b1cc9": {
      "model_module": "@jupyter-widgets/controls",
      "model_module_version": "1.5.0",
      "model_name": "VBoxModel",
      "state": {
       "children": [
        "IPY_MODEL_2e1cc5a3082c478f8d8c15760ce99b9a",
        "IPY_MODEL_d2f331521dc94fae828f2411fcf70c37"
       ],
       "layout": "IPY_MODEL_bce371f79b634a7d921f6cfdc9c7fb73"
      }
     },
     "58e1963edc3141398dcaa812bc3574e6": {
      "model_module": "@jupyter-widgets/base",
      "model_module_version": "1.2.0",
      "model_name": "LayoutModel",
      "state": {
       "min_width": "125px"
      }
     },
     "58f7687e30fb4fdcafc353bf6e69f5ab": {
      "model_module": "bqplot",
      "model_module_version": "^0.4.0",
      "model_name": "LinearScaleModel",
      "state": {
       "stabilized": false
      }
     },
     "593a98b66b394acd892c7eb3dc5323af": {
      "model_module": "bqplot",
      "model_module_version": "^0.4.0",
      "model_name": "FigureModel",
      "state": {
       "_dom_classes": [],
       "axes": [
        "IPY_MODEL_1fd3bdc111604ee2b82ebb77ca5a6602",
        "IPY_MODEL_306ec4fbb5204b65a1c9568284cb1131"
       ],
       "layout": "IPY_MODEL_2ad51687061b4325b0990a2707e6ebaa",
       "marks": [
        "IPY_MODEL_c12b64bb16dc4b65b07ec1c3fbe6bd8f"
       ],
       "max_aspect_ratio": 6,
       "scale_x": "IPY_MODEL_81688ef8802a4231b2b94ddf2badb1e6",
       "scale_y": "IPY_MODEL_4d9703cfa9d14f17b2dcf1265e295132"
      }
     },
     "594cde05686344c491a6b78470a6e6b7": {
      "model_module": "bqplot",
      "model_module_version": "^0.4.0",
      "model_name": "AxisModel",
      "state": {
       "scale": "IPY_MODEL_30bbb9ad72f9484fba952dee3979ff24",
       "side": "bottom",
       "tick_values": {
        "type": null,
        "values": null
       }
      }
     },
     "59889cc9243f43b28767acd17acea10b": {
      "model_module": "@jupyter-widgets/base",
      "model_module_version": "1.2.0",
      "model_name": "LayoutModel",
      "state": {}
     },
     "59915f03dacf46a9af13c3e1b9ed8176": {
      "model_module": "@jupyter-widgets/controls",
      "model_module_version": "1.5.0",
      "model_name": "VBoxModel",
      "state": {
       "children": [
        "IPY_MODEL_0bd9f6a2a9334a049cc260c505f87b97",
        "IPY_MODEL_c15274a9775e417cb5c78eb915a3d2d6"
       ],
       "layout": "IPY_MODEL_25037ab3b5564bfdaabcd64db929015a"
      }
     },
     "59e5313ebba5420ea5b4390a15f910de": {
      "model_module": "bqplot",
      "model_module_version": "^0.4.0",
      "model_name": "LinesModel",
      "state": {
       "color": {
        "type": null,
        "values": null
       },
       "colors": [
        "#475A77"
       ],
       "display_legend": false,
       "fill_colors": [],
       "scales": {
        "x": "IPY_MODEL_e97ad47c78ec4c5bad35a7bf519fc9b4",
        "y": "IPY_MODEL_4d553cc3370147a1b0d45c7592ec053a"
       },
       "selected": [],
       "x": {
        "type": "float",
        "values": []
       },
       "y": {
        "type": "float",
        "values": []
       }
      }
     },
     "5a14e65404294e7ab4b7cf08cc46345d": {
      "model_module": "@jupyter-widgets/base",
      "model_module_version": "1.2.0",
      "model_name": "LayoutModel",
      "state": {}
     },
     "5a5acdef22a340d78cc788d9cad84a97": {
      "model_module": "bqplot",
      "model_module_version": "^0.4.0",
      "model_name": "AxisModel",
      "state": {
       "scale": "IPY_MODEL_e97ad47c78ec4c5bad35a7bf519fc9b4",
       "side": "bottom",
       "tick_values": {
        "type": null,
        "values": null
       }
      }
     },
     "5ab2b057e26e43b88375d1a71cbdc424": {
      "model_module": "@jupyter-widgets/controls",
      "model_module_version": "1.5.0",
      "model_name": "SliderStyleModel",
      "state": {
       "description_width": ""
      }
     },
     "5adeba8254ed4cd29fedb036b5f87e2e": {
      "model_module": "bqplot",
      "model_module_version": "^0.4.0",
      "model_name": "LinearScaleModel",
      "state": {
       "stabilized": false
      }
     },
     "5b02dd8d83c94c16a343e6a7ef886f69": {
      "model_module": "@jupyter-widgets/base",
      "model_module_version": "1.2.0",
      "model_name": "LayoutModel",
      "state": {}
     },
     "5b1f71ec8fff42849b1f345b7e1c7cbe": {
      "model_module": "bqplot",
      "model_module_version": "^0.4.0",
      "model_name": "AxisModel",
      "state": {
       "orientation": "vertical",
       "scale": "IPY_MODEL_13f34318ce9a4c50a027504e694047d4",
       "side": "left",
       "tick_values": {
        "type": null,
        "values": null
       }
      }
     },
     "5b5883f2018a48c1866b6433f652701c": {
      "model_module": "@jupyter-widgets/controls",
      "model_module_version": "1.5.0",
      "model_name": "VBoxModel",
      "state": {
       "_dom_classes": [
        "widget-interact"
       ],
       "children": [
        "IPY_MODEL_4ba5d84aa732465bae4dafef247e3a31"
       ],
       "layout": "IPY_MODEL_5b739c42870b42c295ee5d7456123d10"
      }
     },
     "5b739c42870b42c295ee5d7456123d10": {
      "model_module": "@jupyter-widgets/base",
      "model_module_version": "1.2.0",
      "model_name": "LayoutModel",
      "state": {}
     },
     "5b99b5534c474b43bb7a366abd2d9cb1": {
      "model_module": "bqplot",
      "model_module_version": "^0.4.0",
      "model_name": "LinearScaleModel",
      "state": {
       "stabilized": false
      }
     },
     "5ba8894260504d13bac352b4c18d9dc0": {
      "model_module": "@jupyter-widgets/base",
      "model_module_version": "1.2.0",
      "model_name": "LayoutModel",
      "state": {}
     },
     "5bb6a9ae7b344845821c6fb2bbc41550": {
      "model_module": "bqplot",
      "model_module_version": "^0.4.0",
      "model_name": "FigureModel",
      "state": {
       "_dom_classes": [],
       "axes": [
        "IPY_MODEL_48e114a7b64440fd81a5730d5d6fc955",
        "IPY_MODEL_a15e9d9633c846319e22ac5c08a6d8c4"
       ],
       "layout": "IPY_MODEL_4a27dedd42f6459884a1890be7fce0f3",
       "marks": [
        "IPY_MODEL_469dcac2e52b4816902d2c71d993085b"
       ],
       "max_aspect_ratio": 6,
       "scale_x": "IPY_MODEL_a451a045606543a7b2bf1ca553c92dca",
       "scale_y": "IPY_MODEL_285c7c0efb3747debe2f67bc25ba9d7f"
      }
     },
     "5bda3c0af0e34a67b5732965969cdf6d": {
      "model_module": "bqplot",
      "model_module_version": "^0.4.0",
      "model_name": "AxisModel",
      "state": {
       "scale": "IPY_MODEL_b57d101e07fa46a68c80b99022f7ad33",
       "side": "bottom",
       "tick_values": {
        "type": null,
        "values": null
       }
      }
     },
     "5be0d3cd51154229a2dbdc02a9001489": {
      "model_module": "bqplot",
      "model_module_version": "^0.4.0",
      "model_name": "LinearScaleModel",
      "state": {
       "stabilized": false
      }
     },
     "5be6c95823b746d09840153058e12774": {
      "model_module": "bqplot",
      "model_module_version": "^0.4.0",
      "model_name": "LinearScaleModel",
      "state": {
       "allow_padding": false,
       "max": 1,
       "min": 0,
       "stabilized": false
      }
     },
     "5c0c2ca5cb2340cbba6a06475ac15fa2": {
      "model_module": "bqplot",
      "model_module_version": "^0.4.0",
      "model_name": "LinearScaleModel",
      "state": {
       "stabilized": false
      }
     },
     "5c0ef215341b43339235c1013e9ec561": {
      "model_module": "@jupyter-widgets/controls",
      "model_module_version": "1.5.0",
      "model_name": "VBoxModel",
      "state": {
       "children": [
        "IPY_MODEL_9755316ac1be4b17ab8a11ff8d4fdc48",
        "IPY_MODEL_b967db4e51b741948665e694d04b3e67"
       ],
       "layout": "IPY_MODEL_da8974f719f04c04a0bb94fd492b03b9"
      }
     },
     "5c1c1e3c2f144fdbb84f0c21a8814c94": {
      "model_module": "bqplot",
      "model_module_version": "^0.4.0",
      "model_name": "AxisModel",
      "state": {
       "scale": "IPY_MODEL_f5c5f7b5ed19428e838f14696dcaffa3",
       "side": "bottom",
       "tick_values": {
        "type": null,
        "values": null
       }
      }
     },
     "5c2432395a584805955ecc216d445796": {
      "model_module": "bqplot",
      "model_module_version": "^0.4.0",
      "model_name": "LinearScaleModel",
      "state": {
       "allow_padding": false,
       "max": 1,
       "min": 0,
       "stabilized": false
      }
     },
     "5c25d9eceec7406ebb1483f285a9c4e9": {
      "model_module": "@jupyter-widgets/base",
      "model_module_version": "1.2.0",
      "model_name": "LayoutModel",
      "state": {}
     },
     "5c2c7bfc3fe54c8391940a716ec210b6": {
      "model_module": "@jupyter-widgets/controls",
      "model_module_version": "1.5.0",
      "model_name": "VBoxModel",
      "state": {
       "children": [
        "IPY_MODEL_7951199dd6d748bdb1cc4af78bd0b696",
        "IPY_MODEL_33c72539018641babedb10a1d1b440bb"
       ],
       "layout": "IPY_MODEL_373df046e98e484fae6c39f95e6e4942"
      }
     },
     "5c666e221adb4e67bfb5b361f6da9d3b": {
      "model_module": "bqplot",
      "model_module_version": "^0.4.0",
      "model_name": "LinesModel",
      "state": {
       "color": {
        "type": null,
        "values": null
       },
       "colors": [
        "#475A77"
       ],
       "display_legend": false,
       "fill_colors": [],
       "scales": {
        "x": "IPY_MODEL_a4b0da99eb984dd88940d0d0b861a857",
        "y": "IPY_MODEL_16231c635b06475aa6cfd1b3892f1ad4"
       },
       "selected": [],
       "x": {
        "type": "float",
        "values": []
       },
       "y": {
        "type": "float",
        "values": []
       }
      }
     },
     "5c98239a90f644dba62fdaad1580ee5d": {
      "model_module": "@jupyter-widgets/base",
      "model_module_version": "1.2.0",
      "model_name": "LayoutModel",
      "state": {}
     },
     "5cdc59845e2545c383a20340b816f59e": {
      "model_module": "bqplot",
      "model_module_version": "^0.4.0",
      "model_name": "LinearScaleModel",
      "state": {
       "allow_padding": false,
       "max": 1,
       "min": 0,
       "stabilized": false
      }
     },
     "5cf3737c610e4193a7e45fa53f5cdbca": {
      "model_module": "@jupyter-widgets/base",
      "model_module_version": "1.2.0",
      "model_name": "LayoutModel",
      "state": {}
     },
     "5d054c165dae425883b2052fb93ed3ea": {
      "model_module": "@jupyter-widgets/base",
      "model_module_version": "1.2.0",
      "model_name": "LayoutModel",
      "state": {}
     },
     "5d1a85af7dc740e9bae9096e8ec4b6c3": {
      "model_module": "bqplot",
      "model_module_version": "^0.4.0",
      "model_name": "FigureModel",
      "state": {
       "_dom_classes": [],
       "axes": [
        "IPY_MODEL_23c7b15bd6c74dd3acf83310fd354e4a",
        "IPY_MODEL_5d2febc70c814a07bb2820ebbc8e27c5"
       ],
       "layout": "IPY_MODEL_d2668580d70f4733966c8daab2658b17",
       "marks": [
        "IPY_MODEL_93eff4cea03d4d83b02f500660651df7"
       ],
       "max_aspect_ratio": 6,
       "scale_x": "IPY_MODEL_0bbc443ed443421f887705ec8dd798fc",
       "scale_y": "IPY_MODEL_6a1b6b0103534f188311a0619bf46b38"
      }
     },
     "5d20f5bccef9455ab0b717e1c378215c": {
      "model_module": "bqplot",
      "model_module_version": "^0.4.0",
      "model_name": "LinearScaleModel",
      "state": {
       "stabilized": false
      }
     },
     "5d2febc70c814a07bb2820ebbc8e27c5": {
      "model_module": "bqplot",
      "model_module_version": "^0.4.0",
      "model_name": "AxisModel",
      "state": {
       "orientation": "vertical",
       "scale": "IPY_MODEL_3a0802ccb1ba41988a8c8aa6278d2fdf",
       "side": "left",
       "tick_values": {
        "type": null,
        "values": null
       }
      }
     },
     "5da47046293d49ababd4943ad594cadd": {
      "model_module": "@jupyter-widgets/base",
      "model_module_version": "1.2.0",
      "model_name": "LayoutModel",
      "state": {}
     },
     "5dc18be8cad646ba96297552c18a0c15": {
      "model_module": "@jupyter-widgets/base",
      "model_module_version": "1.2.0",
      "model_name": "LayoutModel",
      "state": {}
     },
     "5dfcf4e4920e47d185293ca2e1cfe174": {
      "model_module": "@jupyter-widgets/base",
      "model_module_version": "1.2.0",
      "model_name": "LayoutModel",
      "state": {}
     },
     "5e2fedd265d145f6a0dd9c6dcb171e2c": {
      "model_module": "bqplot",
      "model_module_version": "^0.4.0",
      "model_name": "LinearScaleModel",
      "state": {
       "allow_padding": false,
       "max": 1,
       "min": 0,
       "stabilized": false
      }
     },
     "5e36d42d212e448292e46997002d6a26": {
      "model_module": "bqplot",
      "model_module_version": "^0.4.0",
      "model_name": "LinearScaleModel",
      "state": {
       "allow_padding": false,
       "max": 1,
       "min": 0,
       "stabilized": false
      }
     },
     "5e5cab8496b04d14b2af2cededac7757": {
      "model_module": "@jupyter-widgets/output",
      "model_module_version": "1.0.0",
      "model_name": "OutputModel",
      "state": {
       "layout": "IPY_MODEL_68f9c6928f1e4142abf4d26586f117fb"
      }
     },
     "5e87726b7419404ab0f8c9533985b856": {
      "model_module": "@jupyter-widgets/base",
      "model_module_version": "1.2.0",
      "model_name": "LayoutModel",
      "state": {
       "min_width": "125px"
      }
     },
     "5ef4aa1b1a51439585b05f9ac6a067a6": {
      "model_module": "@jupyter-widgets/base",
      "model_module_version": "1.2.0",
      "model_name": "LayoutModel",
      "state": {}
     },
     "5efc8993f8ae4596b16e4a1510082b20": {
      "model_module": "bqplot",
      "model_module_version": "^0.4.0",
      "model_name": "LinearScaleModel",
      "state": {
       "allow_padding": false,
       "max": 1,
       "min": 0,
       "stabilized": false
      }
     },
     "5f14c99f81a5449381f9d837759ef77d": {
      "model_module": "@jupyter-widgets/output",
      "model_module_version": "1.0.0",
      "model_name": "OutputModel",
      "state": {
       "layout": "IPY_MODEL_dbae1663d8ec42fd8ed7d90718bfb7ef"
      }
     },
     "5f60c29d221240eba7b1b48a47ceddda": {
      "model_module": "@jupyter-widgets/controls",
      "model_module_version": "1.5.0",
      "model_name": "VBoxModel",
      "state": {
       "children": [
        "IPY_MODEL_6ca39e502e82449cb44f083d78621149",
        "IPY_MODEL_e748a4eaa459423ba156aab522dd4ebd"
       ],
       "layout": "IPY_MODEL_51d830e8a104499d8edae71c0ba60283"
      }
     },
     "5fbbad53a1e54d04b5228296a2ebdec8": {
      "model_module": "@jupyter-widgets/base",
      "model_module_version": "1.2.0",
      "model_name": "LayoutModel",
      "state": {
       "min_width": "125px"
      }
     },
     "5fcf06f14dfe49149f4f2a019682b2a9": {
      "model_module": "@jupyter-widgets/base",
      "model_module_version": "1.2.0",
      "model_name": "LayoutModel",
      "state": {}
     },
     "602d6e77171a442aa63bf75397372fbe": {
      "model_module": "bqplot",
      "model_module_version": "^0.4.0",
      "model_name": "LinearScaleModel",
      "state": {
       "allow_padding": false,
       "max": 1,
       "min": 0,
       "stabilized": false
      }
     },
     "60624ee3fd504b78b9369d2614bda884": {
      "model_module": "bqplot",
      "model_module_version": "^0.4.0",
      "model_name": "AxisModel",
      "state": {
       "scale": "IPY_MODEL_c62795d6b37245adb2a324a6d4fe9cba",
       "side": "bottom",
       "tick_values": {
        "type": null,
        "values": null
       }
      }
     },
     "60a314ed4bae41f3a8c72fe7ac08ef07": {
      "model_module": "@jupyter-widgets/base",
      "model_module_version": "1.2.0",
      "model_name": "LayoutModel",
      "state": {}
     },
     "60ad7ebd85cc47f5b0429f8c8ad2f399": {
      "model_module": "bqplot",
      "model_module_version": "^0.4.0",
      "model_name": "LinesModel",
      "state": {
       "color": {
        "type": null,
        "values": null
       },
       "colors": [
        "#475A77"
       ],
       "display_legend": false,
       "fill_colors": [],
       "scales": {
        "x": "IPY_MODEL_ac98349103f141fcbf6ae29d1ecb5925",
        "y": "IPY_MODEL_a99fb95c37bd43a998e55da510646a63"
       },
       "selected": [],
       "x": {
        "type": "float",
        "values": []
       },
       "y": {
        "type": "float",
        "values": []
       }
      }
     },
     "60b12d38204c4589bf67f56475e04b34": {
      "model_module": "bqplot",
      "model_module_version": "^0.4.0",
      "model_name": "LinesModel",
      "state": {
       "color": {
        "type": null,
        "values": null
       },
       "colors": [
        "#475A77"
       ],
       "display_legend": false,
       "fill_colors": [],
       "labels": [
        "C1"
       ],
       "scales": {
        "x": "IPY_MODEL_b8c62299c466472dae16f8df030e07af",
        "y": "IPY_MODEL_ded3b0e6936141099e23def01ee137dc"
       },
       "selected": [],
       "x": {
        "type": "float",
        "values": [
         1,
         2,
         3
        ]
       },
       "y": {
        "type": "float",
        "values": [
         26,
         9,
         126
        ]
       }
      }
     },
     "60c0056989d447c38b3f6665d840c9fa": {
      "model_module": "bqplot",
      "model_module_version": "^0.4.0",
      "model_name": "LinearScaleModel",
      "state": {
       "stabilized": false
      }
     },
     "6149eae834e34040837c9dc134006a73": {
      "model_module": "bqplot",
      "model_module_version": "^0.4.0",
      "model_name": "LinearScaleModel",
      "state": {
       "stabilized": false
      }
     },
     "614d8cfcd68d49fd805afff366deeb72": {
      "model_module": "bqplot",
      "model_module_version": "^0.4.0",
      "model_name": "LinearScaleModel",
      "state": {
       "stabilized": false
      }
     },
     "616dc5f9d7704787bed2706ce3411deb": {
      "model_module": "bqplot",
      "model_module_version": "^0.4.0",
      "model_name": "AxisModel",
      "state": {
       "scale": "IPY_MODEL_ac8d3a9f4d6445459e6a09bdc8a516fa",
       "side": "bottom",
       "tick_values": {
        "type": null,
        "values": null
       }
      }
     },
     "6182cca704c8499bb63384a007c4e9e9": {
      "model_module": "bqplot",
      "model_module_version": "^0.4.0",
      "model_name": "LinearScaleModel",
      "state": {
       "stabilized": false
      }
     },
     "61b27417c04645adbbe45ac140f05f53": {
      "model_module": "bqplot",
      "model_module_version": "^0.4.0",
      "model_name": "LinesModel",
      "state": {
       "color": {
        "type": null,
        "values": null
       },
       "colors": [
        "#475A77"
       ],
       "display_legend": false,
       "fill_colors": [],
       "scales": {
        "x": "IPY_MODEL_3bf810f1cb71482398b5a23eace50c74",
        "y": "IPY_MODEL_7d87e273293947f1ab16ae51b2b0b6bc"
       },
       "selected": [],
       "x": {
        "type": "float",
        "values": []
       },
       "y": {
        "type": "float",
        "values": []
       }
      }
     },
     "61d507d1ae684afca33b8cd19fe390b5": {
      "model_module": "bqplot",
      "model_module_version": "^0.4.0",
      "model_name": "FigureModel",
      "state": {
       "_dom_classes": [],
       "axes": [
        "IPY_MODEL_04f8f247993c4733abeeccc875204029",
        "IPY_MODEL_4298aa80456f450e98a6fe9ca132d9b7"
       ],
       "layout": "IPY_MODEL_c0a62e2eb321431798859aca615d24e8",
       "marks": [
        "IPY_MODEL_6e23675e40304e2eb27bf177e4287199"
       ],
       "max_aspect_ratio": 6,
       "scale_x": "IPY_MODEL_808f990bc4834ca39aed33783710ee63",
       "scale_y": "IPY_MODEL_438267ab3c9045d685a6d307821ac868"
      }
     },
     "61fd93416abe43d49dcd911230455651": {
      "model_module": "@jupyter-widgets/controls",
      "model_module_version": "1.5.0",
      "model_name": "VBoxModel",
      "state": {
       "_dom_classes": [
        "widget-interact"
       ],
       "children": [
        "IPY_MODEL_6ea3284caf674274acb5cf0ef94aca7d"
       ],
       "layout": "IPY_MODEL_ce3263cc0c844d37bde9dab2e94ebbbe"
      }
     },
     "621b617b27024860943f6ac3d93d271f": {
      "model_module": "bqplot",
      "model_module_version": "^0.4.0",
      "model_name": "LinesModel",
      "state": {
       "color": {
        "type": null,
        "values": null
       },
       "colors": [
        "#475A77"
       ],
       "display_legend": false,
       "fill_colors": [],
       "labels": [
        "C1"
       ],
       "scales": {
        "x": "IPY_MODEL_6a58bc5ac7c148859c763b981feb59a2",
        "y": "IPY_MODEL_4ea7027ec2b04c1e864df071add399cb"
       },
       "selected": [],
       "x": {
        "type": "float",
        "values": [
         1,
         2,
         3
        ]
       },
       "y": {
        "type": "float",
        "values": [
         8,
         9,
         5
        ]
       }
      }
     },
     "621d48b14b114466b89d7085857866fe": {
      "model_module": "@jupyter-widgets/output",
      "model_module_version": "1.0.0",
      "model_name": "OutputModel",
      "state": {
       "layout": "IPY_MODEL_d12bb220ef38445ea054dba51f3a2983"
      }
     },
     "6229116fc54643e99e1a064136861b87": {
      "model_module": "@jupyter-widgets/base",
      "model_module_version": "1.2.0",
      "model_name": "LayoutModel",
      "state": {}
     },
     "6235fa2d267044a2a7db007e04850f6e": {
      "model_module": "@jupyter-widgets/base",
      "model_module_version": "1.2.0",
      "model_name": "LayoutModel",
      "state": {
       "min_width": "125px"
      }
     },
     "6236ce385d864c7cbbfa25ea8338c635": {
      "model_module": "@jupyter-widgets/controls",
      "model_module_version": "1.5.0",
      "model_name": "VBoxModel",
      "state": {
       "_dom_classes": [
        "widget-interact"
       ],
       "children": [
        "IPY_MODEL_d0a410061348473882ba3912f6f69cea"
       ],
       "layout": "IPY_MODEL_60a314ed4bae41f3a8c72fe7ac08ef07"
      }
     },
     "62580203a7064197baa1e860d939974a": {
      "model_module": "bqplot",
      "model_module_version": "^0.4.0",
      "model_name": "AxisModel",
      "state": {
       "scale": "IPY_MODEL_eb553eacf52b48c1888099e2a45d05c9",
       "side": "bottom",
       "tick_values": {
        "type": null,
        "values": null
       }
      }
     },
     "6258814a6c544e84912e08018fb2a809": {
      "model_module": "@jupyter-widgets/controls",
      "model_module_version": "1.5.0",
      "model_name": "VBoxModel",
      "state": {
       "children": [
        "IPY_MODEL_a765f329daeb43af850097606a8b08cf",
        "IPY_MODEL_250e846c70bc4b5e92dd6a6f1665c674"
       ],
       "layout": "IPY_MODEL_f24847d0deae4263882a738cd4f0c55e"
      }
     },
     "62604e473f3b4b66b1ced11e1275df8f": {
      "model_module": "@jupyter-widgets/output",
      "model_module_version": "1.0.0",
      "model_name": "OutputModel",
      "state": {
       "layout": "IPY_MODEL_87376380b9a14dc2a52e961e6f6aaf66"
      }
     },
     "628803a2d70e4017902988ed33d721f8": {
      "model_module": "@jupyter-widgets/controls",
      "model_module_version": "1.5.0",
      "model_name": "VBoxModel",
      "state": {
       "_dom_classes": [
        "widget-interact"
       ],
       "children": [
        "IPY_MODEL_514b48004e9a43549eb199b49b3616d2"
       ],
       "layout": "IPY_MODEL_7fa9c031e6584eb58a778c901c34117a"
      }
     },
     "632a320c87fa4c76ada4ae4984b4580c": {
      "model_module": "@jupyter-widgets/base",
      "model_module_version": "1.2.0",
      "model_name": "LayoutModel",
      "state": {}
     },
     "63543ca825c1433f94a8561c73c60acc": {
      "model_module": "bqplot",
      "model_module_version": "^0.4.0",
      "model_name": "LinearScaleModel",
      "state": {
       "stabilized": false
      }
     },
     "639dbb093d864281a856c3bba6d8acaa": {
      "model_module": "bqplot",
      "model_module_version": "^0.4.0",
      "model_name": "AxisModel",
      "state": {
       "orientation": "vertical",
       "scale": "IPY_MODEL_4d553cc3370147a1b0d45c7592ec053a",
       "side": "left",
       "tick_values": {
        "type": null,
        "values": null
       }
      }
     },
     "63a43d90952b449bb9218898813bae02": {
      "model_module": "@jupyter-widgets/output",
      "model_module_version": "1.0.0",
      "model_name": "OutputModel",
      "state": {
       "layout": "IPY_MODEL_24502df7186847e29e8fff957f227ab5"
      }
     },
     "63abca4c66ba4623a42cd756240e7df1": {
      "model_module": "@jupyter-widgets/controls",
      "model_module_version": "1.5.0",
      "model_name": "VBoxModel",
      "state": {
       "children": [
        "IPY_MODEL_fb44680afd5547c78e3d23e62d1a411f",
        "IPY_MODEL_7a64c659dec24bdca41aecba6ae3d1f9"
       ],
       "layout": "IPY_MODEL_7ce9ebebaae245c2bc78301e6b3de0ac"
      }
     },
     "63c54128f4464e41a1e4dcc587620281": {
      "model_module": "@jupyter-widgets/output",
      "model_module_version": "1.0.0",
      "model_name": "OutputModel",
      "state": {
       "layout": "IPY_MODEL_f4d6c08531aa47afb4b1c308d3360aff"
      }
     },
     "63eedf2e1f5c43c1b31bbd94e0b613c0": {
      "model_module": "@jupyter-widgets/base",
      "model_module_version": "1.2.0",
      "model_name": "LayoutModel",
      "state": {}
     },
     "63fe48e76560478bac8cdbfa1c510ec9": {
      "model_module": "@jupyter-widgets/base",
      "model_module_version": "1.2.0",
      "model_name": "LayoutModel",
      "state": {}
     },
     "64345d58a8054e58bbc40b88d08839e5": {
      "model_module": "@jupyter-widgets/base",
      "model_module_version": "1.2.0",
      "model_name": "LayoutModel",
      "state": {}
     },
     "64389c75d18f4788885fa357d6eabc8a": {
      "model_module": "@jupyter-widgets/base",
      "model_module_version": "1.2.0",
      "model_name": "LayoutModel",
      "state": {}
     },
     "64468eba2a754795934636c52830bdc6": {
      "model_module": "bqplot",
      "model_module_version": "^0.4.0",
      "model_name": "FigureModel",
      "state": {
       "_dom_classes": [],
       "axes": [
        "IPY_MODEL_056e831fcaf14741b5ab9538266e3801",
        "IPY_MODEL_90cd339e24a14a1b959fa813accd5822"
       ],
       "layout": "IPY_MODEL_44a0aefc124841cfbddb64b3141e2f93",
       "marks": [
        "IPY_MODEL_6f6059e3b4b540f89b236342b28f6019"
       ],
       "max_aspect_ratio": 6,
       "scale_x": "IPY_MODEL_8452a2959776434e8479254769e38627",
       "scale_y": "IPY_MODEL_670387df85ef49088766e417414e2c5a"
      }
     },
     "644dbaad4c194571b48ef55e27e6ed94": {
      "model_module": "@jupyter-widgets/output",
      "model_module_version": "1.0.0",
      "model_name": "OutputModel",
      "state": {
       "layout": "IPY_MODEL_c871d229c1834901a94a166dbc68ff3c"
      }
     },
     "646496d12ada45cfaa6cd08804c9ea4b": {
      "model_module": "@jupyter-widgets/base",
      "model_module_version": "1.2.0",
      "model_name": "LayoutModel",
      "state": {
       "min_width": "125px"
      }
     },
     "64726ae0ac2447e9ab7144d90220eb0c": {
      "model_module": "@jupyter-widgets/controls",
      "model_module_version": "1.5.0",
      "model_name": "VBoxModel",
      "state": {
       "children": [
        "IPY_MODEL_dd5ca1556f604ac3af3efc179f7990fa",
        "IPY_MODEL_c7fe31f7457e4bc38a4f6af8729a945e"
       ],
       "layout": "IPY_MODEL_ce84b48990084af28d9cb0f405271b4e"
      }
     },
     "64815fb4d9d54b159fba1b9ce9626b1e": {
      "model_module": "bqplot",
      "model_module_version": "^0.4.0",
      "model_name": "LinesModel",
      "state": {
       "color": {
        "type": null,
        "values": null
       },
       "colors": [
        "#475A77"
       ],
       "display_legend": false,
       "fill_colors": [],
       "scales": {
        "x": "IPY_MODEL_8c9986f6838143138282f209ffa532b9",
        "y": "IPY_MODEL_cc0e8eab92164155b9e29e72e5822f3e"
       },
       "selected": [],
       "x": {
        "type": "float",
        "values": []
       },
       "y": {
        "type": "float",
        "values": []
       }
      }
     },
     "652da4b1045e4059a1d091934774aea4": {
      "model_module": "bqplot",
      "model_module_version": "^0.4.0",
      "model_name": "FigureModel",
      "state": {
       "_dom_classes": [],
       "axes": [
        "IPY_MODEL_ecca58c03257485496a7accacd18699e",
        "IPY_MODEL_a10382ccd36342f2a4d6a5cc810f63c5"
       ],
       "layout": "IPY_MODEL_da17682dd4be4e1686c84be6a4255869",
       "marks": [
        "IPY_MODEL_681970179a584928a1425ba7fde8bc04"
       ],
       "max_aspect_ratio": 6,
       "scale_x": "IPY_MODEL_7d06f1b786e245fdabc4ace0eafd94d6",
       "scale_y": "IPY_MODEL_930465d70be14605a89e666424c62fb0"
      }
     },
     "6532a9d034f04b3390eb6e304645cc2f": {
      "model_module": "bqplot",
      "model_module_version": "^0.4.0",
      "model_name": "LinesModel",
      "state": {
       "color": {
        "type": null,
        "values": null
       },
       "colors": [
        "#475A77"
       ],
       "display_legend": false,
       "fill_colors": [],
       "labels": [
        "C1"
       ],
       "scales": {
        "x": "IPY_MODEL_8fb85c9c6fcb4805a322721797946f53",
        "y": "IPY_MODEL_8d9286439c244be4aefca40440f1329e"
       },
       "selected": [],
       "x": {
        "type": "float",
        "values": [
         1,
         2,
         3
        ]
       },
       "y": {
        "type": "float",
        "values": [
         4,
         -13,
         -28
        ]
       }
      }
     },
     "656856dfa94b469d8944ab0205905754": {
      "model_module": "bqplot",
      "model_module_version": "^0.4.0",
      "model_name": "AxisModel",
      "state": {
       "orientation": "vertical",
       "scale": "IPY_MODEL_d0412a1c4eb2446bbaea046dee653af0",
       "side": "left",
       "tick_values": {
        "type": null,
        "values": null
       }
      }
     },
     "6595343b2a5746a58c9e5678ae5c0888": {
      "model_module": "bqplot",
      "model_module_version": "^0.4.0",
      "model_name": "LinearScaleModel",
      "state": {
       "allow_padding": false,
       "max": 1,
       "min": 0,
       "stabilized": false
      }
     },
     "659e7a0ad85f4b1b875d337380a56e61": {
      "model_module": "@jupyter-widgets/controls",
      "model_module_version": "1.5.0",
      "model_name": "VBoxModel",
      "state": {
       "children": [
        "IPY_MODEL_4ab5ce38ec3e4b139a68dab43cec21c0",
        "IPY_MODEL_50c7eace36414e0397b46b783bd866e2"
       ],
       "layout": "IPY_MODEL_16d282b4f54b4b4d9733c9b82e48e91e"
      }
     },
     "65f564f801ae4341901c3a332fff08ef": {
      "model_module": "@jupyter-widgets/controls",
      "model_module_version": "1.5.0",
      "model_name": "VBoxModel",
      "state": {
       "children": [
        "IPY_MODEL_f29c03bb3c454f61b80ba44845e6ec2a",
        "IPY_MODEL_3d4adf7d3fca49a18c1a459a882948ca"
       ],
       "layout": "IPY_MODEL_82c70184eb124eee99ef5019a50853af"
      }
     },
     "660f6c542eb94db492372d91b02976d5": {
      "model_module": "@jupyter-widgets/base",
      "model_module_version": "1.2.0",
      "model_name": "LayoutModel",
      "state": {}
     },
     "661ad6457f844ae0b240415dcfb9825f": {
      "model_module": "@jupyter-widgets/base",
      "model_module_version": "1.2.0",
      "model_name": "LayoutModel",
      "state": {}
     },
     "669ba4866a944c8d8a101dd6da25c17a": {
      "model_module": "@jupyter-widgets/base",
      "model_module_version": "1.2.0",
      "model_name": "LayoutModel",
      "state": {}
     },
     "66a00815bd594e7faf1fcd556b55d957": {
      "model_module": "@jupyter-widgets/base",
      "model_module_version": "1.2.0",
      "model_name": "LayoutModel",
      "state": {}
     },
     "66a33e2d20ec479bb2ff49674ecc43a0": {
      "model_module": "bqplot",
      "model_module_version": "^0.4.0",
      "model_name": "AxisModel",
      "state": {
       "orientation": "vertical",
       "scale": "IPY_MODEL_c8788787e1574d81bbe7adcb5e3310da",
       "side": "left",
       "tick_values": {
        "type": null,
        "values": null
       }
      }
     },
     "66dbc3576f09479a943c4aa33fe16e3d": {
      "model_module": "bqplot",
      "model_module_version": "^0.4.0",
      "model_name": "AxisModel",
      "state": {
       "orientation": "vertical",
       "scale": "IPY_MODEL_e9f7e31dff1648cb955bbcd3ea7664b5",
       "side": "left",
       "tick_values": {
        "type": null,
        "values": null
       }
      }
     },
     "66e2845fc00a42dcb9b19aad5d99ca07": {
      "model_module": "@jupyter-widgets/controls",
      "model_module_version": "1.5.0",
      "model_name": "VBoxModel",
      "state": {
       "children": [
        "IPY_MODEL_d1e8f7700444430b8f705c8c432a9537",
        "IPY_MODEL_f7295832815340c6a6739479b2e17aca"
       ],
       "layout": "IPY_MODEL_2d65999f6b6d4f5e8fd44eaed43753a9"
      }
     },
     "66e763af63ae4a788a72f5173b2b8034": {
      "model_module": "@jupyter-widgets/controls",
      "model_module_version": "1.5.0",
      "model_name": "VBoxModel",
      "state": {
       "_dom_classes": [
        "widget-interact"
       ],
       "children": [
        "IPY_MODEL_ad645dc9fb2a404fb5a92387e0617d6d"
       ],
       "layout": "IPY_MODEL_4d44a696567240dd9f7b05798d941927"
      }
     },
     "66ff85fdd60248baa04593a2a5489ddf": {
      "model_module": "@jupyter-widgets/controls",
      "model_module_version": "1.5.0",
      "model_name": "VBoxModel",
      "state": {
       "children": [
        "IPY_MODEL_a642e09e49c64b09a164b034eb7bd316",
        "IPY_MODEL_2875d67c7d974ff3835cd706f66d6434"
       ],
       "layout": "IPY_MODEL_ec9d0030f204409899ed8f448c162de9"
      }
     },
     "670387df85ef49088766e417414e2c5a": {
      "model_module": "bqplot",
      "model_module_version": "^0.4.0",
      "model_name": "LinearScaleModel",
      "state": {
       "allow_padding": false,
       "max": 1,
       "min": 0,
       "stabilized": false
      }
     },
     "67527dd146cd48cda8873d3c697dde50": {
      "model_module": "@jupyter-widgets/output",
      "model_module_version": "1.0.0",
      "model_name": "OutputModel",
      "state": {
       "layout": "IPY_MODEL_5dc18be8cad646ba96297552c18a0c15"
      }
     },
     "677536d42c2e478fa820e423ec79a0d4": {
      "model_module": "@jupyter-widgets/output",
      "model_module_version": "1.0.0",
      "model_name": "OutputModel",
      "state": {
       "layout": "IPY_MODEL_a4b0c738b5c84bbbadd1d241a425735f"
      }
     },
     "67f5b7fa881d40d8978c7d6e18088fe8": {
      "model_module": "bqplot",
      "model_module_version": "^0.4.0",
      "model_name": "LinearScaleModel",
      "state": {
       "stabilized": false
      }
     },
     "67ff0842b39f4439a6e5161c512f8f7c": {
      "model_module": "@jupyter-widgets/controls",
      "model_module_version": "1.5.0",
      "model_name": "VBoxModel",
      "state": {
       "children": [
        "IPY_MODEL_3052f5ccfad440f5a5f2c1ad36e324ae",
        "IPY_MODEL_2780ac9be45c4bc0b3a1baed22464fbb"
       ],
       "layout": "IPY_MODEL_da09df57dc0b4903a8cea9d1bf12cde5"
      }
     },
     "681970179a584928a1425ba7fde8bc04": {
      "model_module": "bqplot",
      "model_module_version": "^0.4.0",
      "model_name": "LinesModel",
      "state": {
       "color": {
        "type": null,
        "values": null
       },
       "colors": [
        "#475A77"
       ],
       "display_legend": false,
       "fill_colors": [],
       "scales": {
        "x": "IPY_MODEL_f6673cc58c8a4a5096cf62a0578ea6cf",
        "y": "IPY_MODEL_defa557e64ed477bb89e630f6d920591"
       },
       "selected": [],
       "x": {
        "type": "float",
        "values": []
       },
       "y": {
        "type": "float",
        "values": []
       }
      }
     },
     "68232953bdc24f9a9009e181a6270008": {
      "model_module": "bqplot",
      "model_module_version": "^0.4.0",
      "model_name": "LinearScaleModel",
      "state": {
       "stabilized": false
      }
     },
     "68407bf789d64f8eb0be996c117bd5ca": {
      "model_module": "bqplot",
      "model_module_version": "^0.4.0",
      "model_name": "LinearScaleModel",
      "state": {
       "allow_padding": false,
       "max": 1,
       "min": 0,
       "stabilized": false
      }
     },
     "686ff7bf5729483cacaaa115c367943d": {
      "model_module": "@jupyter-widgets/controls",
      "model_module_version": "1.5.0",
      "model_name": "VBoxModel",
      "state": {
       "_dom_classes": [
        "widget-interact"
       ],
       "children": [
        "IPY_MODEL_990e4bd4e26d4d0186a46da33514e196"
       ],
       "layout": "IPY_MODEL_be5c76c1ed8e4a218f77330d28fd803f"
      }
     },
     "68d1a08b4de446818eaae23def36848c": {
      "model_module": "@jupyter-widgets/output",
      "model_module_version": "1.0.0",
      "model_name": "OutputModel",
      "state": {
       "layout": "IPY_MODEL_b8ca0c001ab04c27b0f96feae41c0411",
       "outputs": [
        {
         "data": {
          "image/png": "iVBORw0KGgoAAAANSUhEUgAAAXcAAAD4CAYAAAAXUaZHAAAABHNCSVQICAgIfAhkiAAAAAlwSFlzAAALEgAACxIB0t1+/AAAADh0RVh0U29mdHdhcmUAbWF0cGxvdGxpYiB2ZXJzaW9uMy4yLjAsIGh0dHA6Ly9tYXRwbG90bGliLm9yZy8GearUAAAgAElEQVR4nO3deVyVdd7/8ddXBRFF3BVFxF1R0BTXNkubyiwzq2mZ9rJm+s163wm2TJYtts3UNDXd1tTUTOsILu2maZtlaSmboIiIKAKKArLD+d5/wO/3cxodkXPgOsv7+Xj0gHNd1+G8v3J8c3VxzkdjrUVERPxLO6cDiIiI56ncRUT8kMpdRMQPqdxFRPyQyl1ExA91cDoAQK9evWx0dLTTMUREfMqWLVsOWmt7H2+fV5R7dHQ0mzdvdjqGiIhPMcbsOdE+XZYREfFDKncRET+kchcR8UMqdxERP6RyFxHxQyctd2PMy8aYImNM2jHbehhjPjHG7Gz62P2YfYuMMdnGmCxjzPmtFVxERE6sOWfufwMu+NG2RGCdtXY4sK7pNsaYGOAqYEzTfZ43xrT3WFoREWmWk5a7tfZzoORHm+cCrzZ9/ipw6THb37LW1lhrdwPZwGQPZRUR8RvWWt7+Lo+1GYWt8vVbes29r7W2AKDpY5+m7QOAvcccl9+07d8YYxYYYzYbYzYXFxe3MIaIiO/JO1TJtS9tIiEplZVb97XKY3j6HarmONuO+6+BWGuXAcsA4uPj9S+GiIjfa3BZ/rYxlyc/zqJ9O8PD88Zy9aSoVnmslpZ7oTEmwlpbYIyJAIqatucDA485LhLY705AERF/sKOwnIXLU9i69wjnjurDw/PGEhHeqdUer6Xlvhq4AVja9HHVMdvfMMb8AegPDAe+dTekiIivqq138ZcNu/jz+p2EhQTxzFXjuWRcf4w53oUOzzlpuRtj3gRmAL2MMfnA/TSW+jvGmFuAPOAKAGttujHmHSADqAfutNY2tFJ2ERGvtm3vERKSUsg8UM4l4/pz/8Ux9OzSsU0e+6Tlbq29+gS7Zp7g+IeBh90JJSLiy6pqG/jj2h289EUOfcJCeOn6eGbF9G3TDF4x8ldExF98vesQi5JTyD1UydWTo1g0exRdQ4LaPIfKXUTEA8qq61j6YSZvbMpjUM9Q3rhtCtOH9nIsj8pdRMRN67YXcs+KNIrKq1lw1hB+O2sEnYKdfXO+yl1EpIUOHa3hgXczWL1tPyP7hvHCdRMZP7Cb07EAlbuIyCmz1rJ6234eeDeD8uo6fjtrBD+fMZTgDt4zaFflLiJyCgpKq7h3RRrrMosYN7Abj8+PY2S/MKdj/RuVu4hIM7hclre+28ujH2ynzuXi3otGc9Ppg2nfrnXfjNRSKncRkZPIPVhBYnIK3+SUMH1oT5ZeFkdUz1CnY/1HKncRkROob3Dx8le7eWrNDoLbt2PpZbH8dNLAVh8d4AkqdxGR48g8UEbC8hS25Zcya3RfHrp0LP3CQ5yO1WwqdxGRY9TUN/Dc+l08vz6b8E5BPHv1acyJi/CJs/VjqdxFRJr8kHeYhKQUdhQeZd5pA7hvTgw9Ogc7HatFVO4iEvAqa+t5as0OXv5qN/26hvDKjZM4Z1Sfk9/Ri6ncRSSgbcw+SGJyKnkllfxsahQJF4wizIFBX56mcheRgFRaVcejH2znre/2MrhXZ95eMJUpQ3o6HctjVO4iEnDWpB/g3pVpHDxaw+1nNw76CglydtCXp6ncRSRgHDxaw+LV6byXUsCofmG8dEM8cZHeMejL01TuIuL3rLWs3LqPB97NoLKmgf86bwR3zBhKUHvvGfTlaSp3EfFr+49Ucc+KVNZnFTMhqhuPzY9jeF/vG/TlaSp3EfFLLpfl9W/zWPrBdlwW7r84huunRXvtoC9PU7mLiN/JKT5KYlIq3+aWcMawXjx6WSwDe3j3oC9PU7mLiN+ob3Dx0pe7+eMnO+jYoR2PXx7HFRMjfW50gCeo3EXEL2TsL2Nh0jbS9pVx/pi+LJk7lj5dfWfQl6ep3EXEp9XUN/DnT7P5y4ZddAsN4vlrJ3Dh2H4BebZ+LJW7iPisLXtKSEhKJbvoKPMnRHLfnNF0C/XNQV+epnIXEZ9TUVPPEx9n8erXufQP78SrN0/m7BG9nY7lVVTuIuJTvthZzKLkVPIPV3HDtEHcdcEounRUlf2Y/kRExCeUVtbx0PsZ/HNLPkN6d+afd0xjUnQPp2N5LZW7iHi9j9IOcN+qNEoqavnFjKH8auZwvxv05WkqdxHxWkXl1Sxenc4HqQeIiejKKzdOYuyAcKdj+QSVu4h4HWstSd/vY8l7GVTVNXDX+SNZcNYQvx705WkqdxHxKvmHK7l7RRqf7ygmflB3ls6PY1ifLk7H8jkqdxHxCi6X5e/f7OGxjzIBeOCSMVw3dRDtAmTQl6ep3EXEcbuKj5KwPIXNew5z1ojePDJvLJHdA2vQl6ep3EXEMXUNLpZ9nsMz63bSKag9T14xjvkTBgT86ABPcKvcjTG/BW4FLJAK3ASEAm8D0UAucKW19rBbKUXE76TtK2Xh8hQyCsqYHduPxZeMoU9Y4A768rQW/+rZGDMA+BUQb60dC7QHrgISgXXW2uHAuqbbIiIAVNc18NhHmcx97iuKj9bwws8m8Py1E1XsHubuZZkOQCdjTB2NZ+z7gUXAjKb9rwIbgAQ3H0dE/MB3uSUkLE8h52AFV0yM5N6LYggPDXI6ll9qcblba/cZY54E8oAqYI21do0xpq+1tqDpmAJjTJ/j3d8YswBYABAVFdXSGCLiA47W1PP4R5m89vUeIrt34u+3TObM4Rr01ZpaXO7GmO7AXGAwcAT4pzHmZ829v7V2GbAMID4+3rY0h4h4t892FHN3cir7S6u4cXo0d50/ks4a9NXq3PkTngXsttYWAxhjkoHpQKExJqLprD0CKPJAThHxMYcralnyfgbJ3+9jaO/OLL9jGhMHadBXW3Gn3POAqcaYUBovy8wENgMVwA3A0qaPq9wNKSK+w1rLh2kH+P2qNI5U1vHLc4dx5znDNOirjblzzX2TMWY58D1QD/xA42WWLsA7xphbaPwBcIUngoqI9ysqq+a+VWl8nF5I7IBwXrt5CjH9uzodKyC5deHLWns/cP+PNtfQeBYvIgHCWss/t+Tz0HsZ1NS7SLxwFLeeMZgOGvTlGP1WQ0TcsrekkkXJqXyZfZDJ0T1YOj+WIb016MtpKncRaZEGl+W1r3N5/KMs2hlYculYrp0cpUFfXkLlLiKnbGdhOQlJKXyfd4QZI3vz8LxYBnTr5HQsOYbKXUSara7BxQsbdvHsp9l07tiep386nrnj+2vQlxdSuYtIs6Tml3LX8m1kHihnTlwEiy8ZQ68uHZ2OJSegcheR/6i6roE/rt3Bi5/n0KtLR5ZdN5GfjOnndCw5CZW7iJzQppxDJCansvtgBVdNGsii2aMJ76RBX75A5S4i/6a8uo7HPsrkH9/kMbBHJ16/dQqnD+vldCw5BSp3EfkX6zOLuHtFKoVl1dx6xmB+95MRhAarKnyNvmMiAkBJRS0PvpvOyq37Gd6nC8//fDqnRXV3Opa0kMpdJMBZa3kvpYDFq9Mprarj1zOH84tzhtKxgwZ9+TKVu0gAKyyr5p4VaazdXkhcZDiv3zaFUf006MsfqNxFApC1lre/28vDH2yntt7FPbNHc9Pp0Rr05UdU7iIBZs+hChYlp7Jx1yGmDO7BY/PjiO7V2elY4mEqd5EA0eCyvPLVbp5ck0VQu3Y8Mi+WqyYN1KAvP6VyFwkAWQfKWZiUwra9R5g5qg8PzRtLRLgGffkzlbuIH6utd/H8hmyeW59NWEgQz1w1nkvGadBXIFC5i/ipbXuPsHB5ClmF5cwd35/fz4mhpwZ9BQyVu4ifqapt4A+fZPHXL3fTJyyEl66PZ1ZMX6djSRtTuYv4kY27DrIoOZU9hyq5ZkoUiReOomuIBn0FIpW7iB8oq67j0Q8yefPbPAb1DOXN26YybWhPp2OJg1TuIj5ubUYh96xMpbi8hgVnDeG3s0bQKVijAwKdyl3ERx06WsMD72awett+RvULY9l18Ywb2M3pWOIlVO4iPsZay+pt+1m8Op2jNfX8dtYIfj5jKMEdNDpA/j+Vu4gPKSit4t4VaazLLGL8wG48fnkcI/qGOR1LvJDKXcQHuFyWN7/L49EPMmlwWe6bE8ON06Npr9EBcgIqdxEvt/tgBYlJKWzaXcLpw3ry6Lw4onqGOh1LvJzKXcRL1Te4ePmr3Ty1ZgfBHdrx2PxYrowfqNEB0iwqdxEvtL2gjISkFFLySzkvpi8PXTqWvl1DnI4lPkTlLuJFauobeG79Lp5fn014pyD+fM1pXBQbobN1OWUqdxEv8X3eYRKWp7Cz6CjzThvA7+fE0L1zsNOxxEep3EUcVllbz5Mf7+CVjbuJ6BrCKzdO4pxRfZyOJT5O5S7ioK+yD5KYnMLekiqumzqIhReMJEyDvsQDVO4iDiitquOR97fz9ua9DO7VmbcXTGXKEA36Es9RuYu0sTXpB7h3ZRqHKmq54+yh/GbWcEKCNOhLPMutcjfGdANeAsYCFrgZyALeBqKBXOBKa+1ht1KK+IHi8hoWv5vO+ykFjI7oyl9vmERsZLjTscRPuXvm/gzwkbX2cmNMMBAK3A2ss9YuNcYkAolAgpuPI+KzrLWs+GEfD76XQWVNA//9kxHcfvZQgtpr0Je0nhaXuzGmK3AWcCOAtbYWqDXGzAVmNB32KrABlbsEqH1HqrhnRSobsoqZENU46GtYHw36ktbnzpn7EKAYeMUYMw7YAvwa6GutLQCw1hYYY477mi5jzAJgAUBUVJQbMUS8j8tleX3THpZ+mIkFFl8cw3XTNOhL2o475d4BmAD80lq7yRjzDI2XYJrFWrsMWAYQHx9v3cgh4lVyio+SmJTKt7klnDm8F4/Mi2VgDw36krblTrnnA/nW2k1Nt5fTWO6FxpiIprP2CKDI3ZAivqC+wcWLX+zmj2t3ENKhHU9cHsflEyM1OkAc0eJyt9YeMMbsNcaMtNZmATOBjKb/bgCWNn1c5ZGkIl4sfX8pCUkppO0r4/wxfVkydyx9NOhLHOTuq2V+Cbze9EqZHOAmoB3wjjHmFiAPuMLNxxDxWtV1DTz76U5e+CyH7qHB/OXaCVwYG+F0LBH3yt1auxWIP86ume58XRFfsGVPCQuXp7CruIL5EyK5b85ouoVq0Jd4B71DVeQUVdTU88THWbz6dS79wzvx6s2TOXtEb6djifwLlbvIKfh8RzGLklPZX1rF9VMHcdcFo+jSUX+NxPvoWSnSDKWVdSx5P4PlW/IZ0rsz79w+jUnRPZyOJXJCKneRk/gorYD7VqVTUlHLL2YM5VczNehLvJ/KXeQEisqruX9VOh+mHWBM/668cuMkxg7QoC/xDSp3kR+x1rJ8Sz4Pvb+dqroGFl4wktvOHKJBX+JTVO4ix9hbUsndK1L5YudBJkV3Z+n8OIb27uJ0LJFTpnIXoXHQ12tf5/L4x1kY4MG5Y/jZlEG006Av8VEqdwl42UVHSUxKYfOew5w1ojePzBtLZHcN+hLfpnKXgFXX4GLZ5zk8s3YnnYLb89QV47hswgAN+hK/oHKXgJS2r5SFy1PIKCjjotgIFl8yht5hHZ2OJeIxKncJKNV1DTyzbifLPs+hR+dgXvjZRC4Y28/pWCIep3KXgPFdbgkJy1PIOVjBlfGR3DM7hvDQIKdjibQKlbv4vaM19Tz+USavfb2HyO6d+MctUzhjeC+nY4m0KpW7+LX1WUXck5xKQVk1N50ezX//ZCSdNehLAoCe5eKXDlfUsuS9DJJ/2MewPl1Yfsd0Jg7q7nQskTajche/Yq3lg9QD3L86jSOVdfzq3GHcee4wOnbQoC8JLCp38RtFZdXcuzKNNRmFxA4I57WbpxDTv6vTsUQcoXIXn2et5Z+b81nyfga19S4WXTiKW84YTAcN+pIApnIXn5Z3qHHQ15fZB5k8uAdLL4tliAZ9iajcxTc1uCx/25jLkx9n0b6d4aFLx3LN5CgN+hJponIXn7OzsJyFSSn8kHeEc0b25uF5sfTv1snpWCJeReUuPqO23sULn+3iz59m07lje57+6Xjmju+vQV8ix6FyF5+Qkn+EhctTyDxQzsXj+nP/xTH06qJBXyInonIXr1Zd18AfP9nBi1/k0DusIy9eH895MX2djiXi9VTu4rW+yTlEYlIKuYcquXryQBIvHE14Jw36EmkOlbt4nfLqOpZ+mMnrm/KI6hHKG7dOYfowDfoSORUqd/Eqn2YWcs+KNArLqrn1jMH87icjCA3W01TkVOlvjXiFkopaHnw3nZVb9zOibxeev3Y6p0Vp0JdIS6ncxVHWWt5NKWDx6nTKq+v49czh3HnOMII7aHSAiDtU7uKYA6WNg77Wbi9kXGQ4j10+hVH9NOhLxBNU7tLmrLW89d1eHnl/O3UuF/fMHs3NZwymvUYHiHiMyl3a1J5DFSQmpfJ1ziGmDunB0sviiO7V2elYIn5H5S5tosFleeWr3Ty5Jougdu149LJYfho/UIO+RFqJyl1aXdaBxkFf2/YeYdboPjx0aSz9wkOcjiXi19wud2NMe2AzsM9aO8cY0wN4G4gGcoErrbWH3X0c8T219S6e35DNc+uzCQsJ4k9Xn8bFcREa9CXSBjzxerNfA9uPuZ0IrLPWDgfWNd2WALN17xEufvZLnl67k9mxEaz93dlcMk4THEXailtn7saYSOAi4GHgd02b5wIzmj5/FdgAJLjzOOI7qmobeGpNFi9/tZs+YSH89YZ4Zo7WoC+RtubuZZmngYVA2DHb+lprCwCstQXGmD7Hu6MxZgGwACAqKsrNGOINNu46SGJSKnkllVwzJYrEC0fRNUSDvkSc0OJyN8bMAYqstVuMMTNO9f7W2mXAMoD4+Hjb0hzivLLqOh79YDtvfruX6J6hvHnbVKYN7el0LJGA5s6Z++nAJcaY2UAI0NUY8w+g0BgT0XTWHgEUeSKoeKe1GYXcszKV4vIabj9rCL+ZNYJOwe2djiUS8Fr8C1Vr7SJrbaS1Nhq4CvjUWvszYDVwQ9NhNwCr3E4pXufQ0Rp++eYP3PraZrqHBrPyztNZNHu0il3ES7TG69yXAu8YY24B8oArWuExxCHWWlZt3c8D76ZztKae3503gjvOHqpBXyJexiPlbq3dQOOrYrDWHgJmeuLrinfZf6SKe1em8WlmEeMHduPxy+MY0Tfs5HcUkTand6jKSblclje+zWPph5k0uCz3zYnhxunRGvQl4sVU7vIf7T5YQWJSCpt2l3D6sJ48Oi+OqJ6hTscSkZNQuctx1Te4+OuXu/nDJzsI7tCOx+fHcUV8pN5hKuIjVO7ybzL2l5GQlELqvlLOi+nLQ5eOpW9XDfoS8SUqd/l/auob+POn2fxlwy66hQbx3DUTmB3bT2frIj5I5S4AbNlzmISkFLKLjnLZaQO4b04M3TsHOx1LRFpI5R7gKmvreeLjLP62MZeIriG8ctMkzhl53HFAIuJDVO4B7MudB0lMTiH/cBXXTxvEwgtG0aWjnhIi/kB/kwNQaVUdD7+fwTub8xncqzPv3D6NyYN7OB1LRDxI5R5gPk4/wH0r0zhUUcvPZwzl1zOHExKkeTAi/kblHiCKy2tYvDqd91MLGB3Rlb/eMInYyHCnY4lIK1G5+zlrLcnf7+PB9zKoqm3grvNHsuCsIQS116AvEX+mcvdj+45UcXdyKp/tKGbioO48Nj+WYX006EskEKjc/ZDLZfnHpj089mEmFlh8cQzXT4umnQZ9iQQMlbuf2VV8lMSkFL7LPcyZw3vxyLxYBvbQoC+RQKNy9xN1DS5e/CKHp9fuJKRDO564PI7LJ2rQl0igUrn7gbR9pSQkpZC+v4wLxvTjwUvH0CdMg75EApnK3YdV1zXw7Kc7eeGzHLqHBvOXaydwYWyE07FExAuo3H3U5twSFialkFNcweUTI7n3otF0C9WgLxFppHL3MRU1jYO+Xv06l/7hnXjt5smcNaK307FExMuo3H3IZzuKuTs5lf2lVdwwLZq7zh9JZw36EpHjUDP4gCOVtSx5bztJ3+czpHdn/nn7NOKjNehLRE5M5e7lPkwt4L5V6RyurOXOc4byy3M16EtETk7l7qWKyqr5/ap0Pko/wJj+XXn15kmM6a9BXyLSPCp3L2OtZfmWfJa8l0F1vYuEC0Zx25mD6aBBXyJyClTuXmRvSSV3r0jli50HmRTdnaXz4xjau4vTsUTEB6ncvUCDy/La17k88XEWBlgydwzXThmkQV8i0mIqd4dlF5WTkJTKlj2HOXtEbx6eN5bI7hr0JSLuUbk7pK7Bxf98tos/rcsmtGN7/nDlOOadNkCDvkTEI1TuDkjbV8pdy1PYXlDGRXERLL54DL3DOjodS0T8iMq9DVXXNfD02p28+EUOPToH8z/XTeT8Mf2cjiUifkjl3ka+3V1CYlIKOQcr+Gn8QO6ePZrw0CCnY4mIn1K5t7Ly6joe/yiLv3+zh8junfjHLVM4Y3gvp2OJiJ9Tubei9VlF3JOcSkFZNTefPpj/Pn8EocH6IxeR1qemaQWHK2pZ8l4GyT/sY1ifLiy/YzoTB3V3OpaIBJAWl7sxZiDwGtAPcAHLrLXPGGN6AG8D0UAucKW19rD7Ub2ftZb3Uwu4f1U6pVV1/OrcYdx57jA6dtCgLxFpW+6cudcD/2Wt/d4YEwZsMcZ8AtwIrLPWLjXGJAKJQIL7Ub1bYVk1961MY01GIbEDwvnHrVMYHdHV6VgiEqBaXO7W2gKgoOnzcmPMdmAAMBeY0XTYq8AG/LjcrbW8s3kvD72/ndp6F4suHMUtZ2jQl4g4yyPX3I0x0cBpwCagb1PxY60tMMb0OcF9FgALAKKiojwRo83lHaokMTmFjbsOMXlwDx6bH8fgXp2djiUi4n65G2O6AEnAb6y1Zc19+7y1dhmwDCA+Pt66m6MtNbgsf9uYy5MfZ9G+neGhS8dyzeQoDfoSEa/hVrkbY4JoLPbXrbXJTZsLjTERTWftEUCRuyG9yY7CchYuT2Hr3iOcM7I3D8+LpX+3Tk7HEhH5F+68WsYAfwW2W2v/cMyu1cANwNKmj6vcSuglautdvPDZLp79dCddOnbgmavGc8m4/hr0JSJeyZ0z99OB64BUY8zWpm1301jq7xhjbgHygCvci+i8bXuPkJCUQuaBci4e15/FF8fQs4sGfYmI93Ln1TJfAic6bZ3Z0q/rTapqG/jj2h289EUOvcM68uL18ZwX09fpWCIiJ6V3qJ7A17sOsSg5hdxDlVw9eSCLZo+ma4gGfYmIb1C5/0hZdR1LP8zkjU15RPUI5Y1bpzB9mAZ9iYhvUbkf49PMQu5OTqOovJrbzhzM784bSadgjQ4QEd+jcgcOHa3hwfcyWLV1PyP7hvHCdRMZP7Cb07FERFosoMvdWsvqbft54N0Myqvr+M2s4fxixjCCO2h0gIj4toAt94LSKu5dkca6zCLGDezG4/PjGNkvzOlYIiIeEXDl7nJZ3vpuL49+sJ06l4t7LxrNTacPpr1GB4iIHwmocs89WEFicgrf5JQwbUhPls6PZVBPDfoSEf8TEOXe4LK8/OVunvoki6B27Xj0sliumjRQowNExG/5fblnHigjYXkK2/JLmTW6Dw9dGku/8BCnY4mItCq/Lfea+gaeW7+L59dnE94piGevPo05cRE6WxeRgOCX5f5D3mESklLYUXiUS8f35/cXj6FH52CnY4mItBm/KvfK2nqeWrODl7/aTb+uIbx8YzznjtKgLxEJPH5T7huzD5KYnEpeSSXXToki8cJRhGnQl4gEKJ8v99KqOh79YDtvfbeX6J6hvLVgKlOH9HQ6loiIo3y63FPyj3Dba5spLq/h9rOH8NtZIwgJ0qAvERGfLveoHqGM6BvGi9fHExepQV8iIv+XT5d7t9Bg/n7LFKdjiIh4HY0/FBHxQyp3ERE/pHIXEfFDKncRET+kchcR8UMqdxERP6RyFxHxQyp3ERE/ZKy1TmfAGFMM7HHjS/QCDnooji8ItPWC1hwotOZTM8ha2/t4O7yi3N1ljNlsrY13OkdbCbT1gtYcKLRmz9FlGRERP6RyFxHxQ/5S7sucDtDGAm29oDUHCq3ZQ/zimruIiPwrfzlzFxGRY6jcRUT8kM+UuzHmAmNMljEm2xiTeJz9xhjzp6b9KcaYCU7k9KRmrPnaprWmGGM2GmPGOZHTk0625mOOm2SMaTDGXN6W+VpDc9ZsjJlhjNlqjEk3xnzW1hk9rRnP7XBjzLvGmG1Na77JiZyeYox52RhTZIxJO8F+z/eXtdbr/wPaA7uAIUAwsA2I+dExs4EPAQNMBTY5nbsN1jwd6N70+YWBsOZjjvsU+AC43OncbfB97gZkAFFNt/s4nbsN1nw38FjT572BEiDY6exurPksYAKQdoL9Hu8vXzlznwxkW2tzrLW1wFvA3B8dMxd4zTb6BuhmjIlo66AedNI1W2s3WmsPN938Bohs44ye1pzvM8AvgSSgqC3DtZLmrPkaINlamwdgrfX1dTdnzRYIM8YYoAuN5V7ftjE9x1r7OY1rOBGP95evlPsAYO8xt/Obtp3qMb7kVNdzC40/+X3ZSddsjBkAzANeaMNcrak53+cRQHdjzAZjzBZjzPVtlq51NGfNfwZGA/uBVODX1lpX28RzhMf7y1f+gWxznG0/fg1nc47xJc1ejzHmHBrL/YxWTdT6mrPmp4EEa21D40mdz2vOmjsAE4GZQCfga2PMN9baHa0drpU0Z83nA1uBc4GhwCfGmC+stWWtHc4hHu8vXyn3fGDgMbcjafyJfqrH+JJmrccYEwe8BFxorT3URtlaS3PWHA+81VTsvYDZxph6a+3Ktonocc19bh+01lYAFcaYz4FxgK+We3PWfBOw1DZekM42xuwGRgHftk3ENufx/vKVyzLfAcONMYONMcHAVcDqHx2zGri+6bfOU4FSa21BWwf1oJOu2RgTBSQD1/nwWdyxTrpma+1ga220tTYaWA78woeLHZr33F4FnGmM6WCMCQWmANvbOKcnNWfNeTT+nwrGmGT/X84AAAC2SURBVL7ASCCnTVO2LY/3l0+cuVtr640x/wf4mMbftL9srU03xtzRtP8FGl85MRvIBipp/Mnvs5q55t8DPYHnm85k660PT9Rr5pr9SnPWbK3dboz5CEgBXMBL1trjvqTOFzTz+7wE+JsxJpXGSxYJ1lqfHQVsjHkTmAH0MsbkA/cDQdB6/aXxAyIifshXLsuIiMgpULmLiPghlbuIiB9SuYuI+CGVu4iIH1K5i4j4IZW7iIgf+l8zun3Y7bTMDQAAAABJRU5ErkJggg==\n",
          "text/plain": "<Figure size 432x288 with 1 Axes>"
         },
         "metadata": {
          "needs_background": "light"
         },
         "output_type": "display_data"
        },
        {
         "data": {
          "text/plain": "100"
         },
         "metadata": {},
         "output_type": "display_data"
        }
       ]
      }
     },
     "68f9c6928f1e4142abf4d26586f117fb": {
      "model_module": "@jupyter-widgets/base",
      "model_module_version": "1.2.0",
      "model_name": "LayoutModel",
      "state": {}
     },
     "690383d2503f4f6394ee0c956be9ecc2": {
      "model_module": "@jupyter-widgets/base",
      "model_module_version": "1.2.0",
      "model_name": "LayoutModel",
      "state": {}
     },
     "69050130d17147cf94443f3f270bcda4": {
      "model_module": "@jupyter-widgets/controls",
      "model_module_version": "1.5.0",
      "model_name": "VBoxModel",
      "state": {
       "_dom_classes": [
        "widget-interact"
       ],
       "children": [
        "IPY_MODEL_a1cebc9085d049efa6b16ac423680a1a"
       ],
       "layout": "IPY_MODEL_826f46b02c594bb9b9047b060a2dafb4"
      }
     },
     "6969d6205ac44dbaa845ae1951f13712": {
      "model_module": "bqplot",
      "model_module_version": "^0.4.0",
      "model_name": "LinearScaleModel",
      "state": {
       "allow_padding": false,
       "max": 1,
       "min": 0,
       "stabilized": false
      }
     },
     "696b202ea8784806921208fedc7a9ed3": {
      "model_module": "bqplot",
      "model_module_version": "^0.4.0",
      "model_name": "LinesModel",
      "state": {
       "color": {
        "type": null,
        "values": null
       },
       "colors": [
        "#475A77"
       ],
       "display_legend": false,
       "fill_colors": [],
       "scales": {
        "x": "IPY_MODEL_c62795d6b37245adb2a324a6d4fe9cba",
        "y": "IPY_MODEL_153dd8f6d4d942289ede7505c6f46ec5"
       },
       "selected": [],
       "x": {
        "type": "float",
        "values": []
       },
       "y": {
        "type": "float",
        "values": []
       }
      }
     },
     "69b6edd26ce24dbcad21421da770563e": {
      "model_module": "@jupyter-widgets/controls",
      "model_module_version": "1.5.0",
      "model_name": "SliderStyleModel",
      "state": {
       "description_width": ""
      }
     },
     "69d27de4057d45c9b62f5f00c124b519": {
      "model_module": "@jupyter-widgets/base",
      "model_module_version": "1.2.0",
      "model_name": "LayoutModel",
      "state": {}
     },
     "69de5618b02a44efb6ce434cf0227912": {
      "model_module": "bqplot",
      "model_module_version": "^0.4.0",
      "model_name": "AxisModel",
      "state": {
       "orientation": "vertical",
       "scale": "IPY_MODEL_9883a071812d4291805fe5b1153ab559",
       "side": "left",
       "tick_values": {
        "type": null,
        "values": null
       }
      }
     },
     "6a1a4f89a76243d0ae75ef279952ce9f": {
      "model_module": "bqplot",
      "model_module_version": "^0.4.0",
      "model_name": "LinearScaleModel",
      "state": {
       "stabilized": false
      }
     },
     "6a1b6b0103534f188311a0619bf46b38": {
      "model_module": "bqplot",
      "model_module_version": "^0.4.0",
      "model_name": "LinearScaleModel",
      "state": {
       "allow_padding": false,
       "max": 1,
       "min": 0,
       "stabilized": false
      }
     },
     "6a58bc5ac7c148859c763b981feb59a2": {
      "model_module": "bqplot",
      "model_module_version": "^0.4.0",
      "model_name": "LinearScaleModel",
      "state": {
       "stabilized": false
      }
     },
     "6a8192afb32649dca909a889bbabd227": {
      "model_module": "@jupyter-widgets/base",
      "model_module_version": "1.2.0",
      "model_name": "LayoutModel",
      "state": {
       "min_width": "125px"
      }
     },
     "6a8b8c59fc294ab6b30968dc06693c1f": {
      "model_module": "@jupyter-widgets/controls",
      "model_module_version": "1.5.0",
      "model_name": "VBoxModel",
      "state": {
       "children": [
        "IPY_MODEL_b1a5e037db534d09a963e798890967a5",
        "IPY_MODEL_c19856ea9485494698857c4e7fb5d988"
       ],
       "layout": "IPY_MODEL_247fe40bd241439ab0b9366793e9e80a"
      }
     },
     "6ab4de7e15b14949b8f0ed1702e9421f": {
      "model_module": "@jupyter-widgets/output",
      "model_module_version": "1.0.0",
      "model_name": "OutputModel",
      "state": {
       "layout": "IPY_MODEL_3277ad1b2b14475282b3b649c3ab1212"
      }
     },
     "6aba09d56361465c94655b722eedb148": {
      "model_module": "bqplot",
      "model_module_version": "^0.4.0",
      "model_name": "AxisModel",
      "state": {
       "scale": "IPY_MODEL_89d6cd093ed54e87be0ee6f26f8b63db",
       "side": "bottom",
       "tick_values": {
        "type": null,
        "values": null
       }
      }
     },
     "6ae60927119c46ac86be39303706dfb1": {
      "model_module": "@jupyter-widgets/base",
      "model_module_version": "1.2.0",
      "model_name": "LayoutModel",
      "state": {}
     },
     "6b07a51fa0814250a8c2d3510f78cdab": {
      "model_module": "bqplot",
      "model_module_version": "^0.4.0",
      "model_name": "AxisModel",
      "state": {
       "orientation": "vertical",
       "scale": "IPY_MODEL_86acdac4589d4a098632239e1b021075",
       "side": "left",
       "tick_values": {
        "type": null,
        "values": null
       }
      }
     },
     "6b1e03fe3d014a9fb4eefe57001e98c8": {
      "model_module": "@jupyter-widgets/base",
      "model_module_version": "1.2.0",
      "model_name": "LayoutModel",
      "state": {
       "min_width": "125px"
      }
     },
     "6b301ced16034f6c91d4d7fb54b7fb71": {
      "model_module": "@jupyter-widgets/output",
      "model_module_version": "1.0.0",
      "model_name": "OutputModel",
      "state": {
       "layout": "IPY_MODEL_eb281eab22bc4690addb981148a946b0"
      }
     },
     "6b9bbd90330447a2ac3cf06bb0b51341": {
      "model_module": "@jupyter-widgets/controls",
      "model_module_version": "1.5.0",
      "model_name": "VBoxModel",
      "state": {
       "_dom_classes": [
        "widget-interact"
       ],
       "children": [
        "IPY_MODEL_0b0bb2c83c0c47d2afc83bea7dad762c"
       ],
       "layout": "IPY_MODEL_8d7c8257543a4b6e903f7f9313b50e83"
      }
     },
     "6bcc0f82d60245fda833abe05ba5f437": {
      "model_module": "@jupyter-widgets/base",
      "model_module_version": "1.2.0",
      "model_name": "LayoutModel",
      "state": {
       "min_width": "125px"
      }
     },
     "6c040faa2f054940a989cc534d598e65": {
      "model_module": "@jupyter-widgets/controls",
      "model_module_version": "1.5.0",
      "model_name": "VBoxModel",
      "state": {
       "children": [
        "IPY_MODEL_7d09b153f1c7422ebf9ecfa74090c087",
        "IPY_MODEL_c4e965a27d5c474ca8da7753b17fb1ee"
       ],
       "layout": "IPY_MODEL_69d27de4057d45c9b62f5f00c124b519"
      }
     },
     "6c060b419c094bb38ad96766067d6730": {
      "model_module": "@jupyter-widgets/output",
      "model_module_version": "1.0.0",
      "model_name": "OutputModel",
      "state": {
       "layout": "IPY_MODEL_4e9a6b895c914d55b386534b2cdb6077"
      }
     },
     "6c26bc55b5e1435c90c7c28ec3d81da2": {
      "model_module": "@jupyter-widgets/base",
      "model_module_version": "1.2.0",
      "model_name": "LayoutModel",
      "state": {}
     },
     "6ca39e502e82449cb44f083d78621149": {
      "model_module": "@jupyter-widgets/controls",
      "model_module_version": "1.5.0",
      "model_name": "VBoxModel",
      "state": {
       "_dom_classes": [
        "widget-interact"
       ],
       "children": [
        "IPY_MODEL_62604e473f3b4b66b1ced11e1275df8f"
       ],
       "layout": "IPY_MODEL_4ee7bfda39af4e139d2ef201c0a7a2ce"
      }
     },
     "6ccbf81d225747248d44bcd11b150db7": {
      "model_module": "@jupyter-widgets/controls",
      "model_module_version": "1.5.0",
      "model_name": "VBoxModel",
      "state": {
       "children": [
        "IPY_MODEL_2814e8a1307042c393c2441aea58470d",
        "IPY_MODEL_da2abad9327143ca96ce46bdea340d7c"
       ],
       "layout": "IPY_MODEL_8be0a306d9e947f4b9a228b5c5a8dae3"
      }
     },
     "6cf6d9eff84b4781a956f64a11230ed9": {
      "model_module": "@jupyter-widgets/controls",
      "model_module_version": "1.5.0",
      "model_name": "VBoxModel",
      "state": {
       "_dom_classes": [
        "widget-interact"
       ],
       "children": [
        "IPY_MODEL_621d48b14b114466b89d7085857866fe"
       ],
       "layout": "IPY_MODEL_4ea0d32bf09440deb59b5c2cc600ad4d"
      }
     },
     "6d1ead70edec4f148a976558b1da0c62": {
      "model_module": "bqplot",
      "model_module_version": "^0.4.0",
      "model_name": "LinesModel",
      "state": {
       "color": {
        "type": null,
        "values": null
       },
       "colors": [
        "#475A77"
       ],
       "display_legend": false,
       "fill_colors": [],
       "labels": [
        "C1"
       ],
       "scales": {
        "x": "IPY_MODEL_ed8af2cbc8d445e09a91617de86da272",
        "y": "IPY_MODEL_53dae6e58010430a937d68856ca99541"
       },
       "selected": [],
       "x": {
        "type": "float",
        "values": [
         1,
         2,
         3
        ]
       },
       "y": {
        "type": "float",
        "values": [
         10,
         11,
         9
        ]
       }
      }
     },
     "6d9b4bf2066140c38610d5a38a4bb8ef": {
      "model_module": "bqplot",
      "model_module_version": "^0.4.0",
      "model_name": "LinearScaleModel",
      "state": {
       "allow_padding": false,
       "max": 1,
       "min": 0,
       "stabilized": false
      }
     },
     "6dc56e4c88674e6ba45e600d506014d3": {
      "model_module": "@jupyter-widgets/base",
      "model_module_version": "1.2.0",
      "model_name": "LayoutModel",
      "state": {}
     },
     "6df12091bd434669a31411d4535acf37": {
      "model_module": "bqplot",
      "model_module_version": "^0.4.0",
      "model_name": "LinearScaleModel",
      "state": {
       "allow_padding": false,
       "max": 1,
       "min": 0,
       "stabilized": false
      }
     },
     "6e23675e40304e2eb27bf177e4287199": {
      "model_module": "bqplot",
      "model_module_version": "^0.4.0",
      "model_name": "LinesModel",
      "state": {
       "color": {
        "type": null,
        "values": null
       },
       "colors": [
        "#475A77"
       ],
       "display_legend": false,
       "fill_colors": [],
       "scales": {
        "x": "IPY_MODEL_403fd30e67bb43599a68deb75df6670a",
        "y": "IPY_MODEL_fb5bc6331c774a77b47320a1fc729703"
       },
       "selected": [],
       "x": {
        "type": "float",
        "values": []
       },
       "y": {
        "type": "float",
        "values": []
       }
      }
     },
     "6e5002f96e704e27a2ce795314cf46fb": {
      "model_module": "@jupyter-widgets/controls",
      "model_module_version": "1.5.0",
      "model_name": "VBoxModel",
      "state": {
       "_dom_classes": [
        "widget-interact"
       ],
       "children": [
        "IPY_MODEL_b2b1b00f065f452d912f5ba8ff38a4c9",
        "IPY_MODEL_2534062ffc674e34b9dc3455f7d9f0b2"
       ],
       "layout": "IPY_MODEL_f58b243d027340f2b2ee00d0b33013db"
      }
     },
     "6e579226239248e5acfcf5a66f0b3d9d": {
      "model_module": "@jupyter-widgets/base",
      "model_module_version": "1.2.0",
      "model_name": "LayoutModel",
      "state": {}
     },
     "6ea3284caf674274acb5cf0ef94aca7d": {
      "model_module": "@jupyter-widgets/output",
      "model_module_version": "1.0.0",
      "model_name": "OutputModel",
      "state": {
       "layout": "IPY_MODEL_758d3ce264bd4d3eb94c65d92a0e0f02"
      }
     },
     "6ea50f839883451b8a718d56faeddc06": {
      "model_module": "@jupyter-widgets/controls",
      "model_module_version": "1.5.0",
      "model_name": "VBoxModel",
      "state": {
       "children": [
        "IPY_MODEL_6cf6d9eff84b4781a956f64a11230ed9",
        "IPY_MODEL_64468eba2a754795934636c52830bdc6"
       ],
       "layout": "IPY_MODEL_3459cdad75b8443c9d4c8aab06e188b6"
      }
     },
     "6ece334a97f94f07926e385296cc0c2f": {
      "model_module": "@jupyter-widgets/output",
      "model_module_version": "1.0.0",
      "model_name": "OutputModel",
      "state": {
       "layout": "IPY_MODEL_483c6b23f97c4e3fba42748e53ea2f38"
      }
     },
     "6edf25afda794efb94b113188f8e5bf1": {
      "model_module": "@jupyter-widgets/base",
      "model_module_version": "1.2.0",
      "model_name": "LayoutModel",
      "state": {}
     },
     "6f0c7816c85a4fd1b8215d447b1ed94d": {
      "model_module": "@jupyter-widgets/base",
      "model_module_version": "1.2.0",
      "model_name": "LayoutModel",
      "state": {}
     },
     "6f6059e3b4b540f89b236342b28f6019": {
      "model_module": "bqplot",
      "model_module_version": "^0.4.0",
      "model_name": "LinesModel",
      "state": {
       "color": {
        "type": null,
        "values": null
       },
       "colors": [
        "#475A77"
       ],
       "display_legend": false,
       "fill_colors": [],
       "labels": [
        "C1"
       ],
       "scales": {
        "x": "IPY_MODEL_364ab9d72baf48ec93d14c20040b4644",
        "y": "IPY_MODEL_8615bb2b72dd4205b849c9a52ee3e24e"
       },
       "selected": [],
       "x": {
        "type": "float",
        "values": [
         1,
         2,
         3
        ]
       },
       "y": {
        "type": "float",
        "values": [
         12,
         -5,
         28
        ]
       }
      }
     },
     "6f62612acbbf4999a5591662c2d7f583": {
      "model_module": "@jupyter-widgets/base",
      "model_module_version": "1.2.0",
      "model_name": "LayoutModel",
      "state": {}
     },
     "6fab775310814b62988bf2195c950bfd": {
      "model_module": "bqplot",
      "model_module_version": "^0.4.0",
      "model_name": "LinearScaleModel",
      "state": {
       "stabilized": false
      }
     },
     "6fb14ff9cda54b25a55ea6c2831f3819": {
      "model_module": "@jupyter-widgets/base",
      "model_module_version": "1.2.0",
      "model_name": "LayoutModel",
      "state": {}
     },
     "6fb6ac649e284b9986ded4b5e3416555": {
      "model_module": "bqplot",
      "model_module_version": "^0.4.0",
      "model_name": "AxisModel",
      "state": {
       "scale": "IPY_MODEL_fefdc686dba34494a2dd1280cd4393cd",
       "side": "bottom",
       "tick_values": {
        "type": null,
        "values": null
       }
      }
     },
     "6fcc4c7454ac4492b26c16a6f37184e1": {
      "model_module": "bqplot",
      "model_module_version": "^0.4.0",
      "model_name": "LinesModel",
      "state": {
       "color": {
        "type": null,
        "values": null
       },
       "colors": [
        "#475A77"
       ],
       "display_legend": false,
       "fill_colors": [],
       "labels": [
        "C1"
       ],
       "scales": {
        "x": "IPY_MODEL_03bc973eaf75496f9c3aed33264080f5",
        "y": "IPY_MODEL_2947a4c061254777a4683a34817ea38e"
       },
       "selected": [],
       "x": {
        "type": "float",
        "values": [
         1,
         2,
         3
        ]
       },
       "y": {
        "type": "float",
        "values": [
         18,
         1,
         70
        ]
       }
      }
     },
     "70043250849a4066ac1d479647065962": {
      "model_module": "@jupyter-widgets/base",
      "model_module_version": "1.2.0",
      "model_name": "LayoutModel",
      "state": {}
     },
     "7010c78b03da4666a64d1aa98d07c942": {
      "model_module": "@jupyter-widgets/base",
      "model_module_version": "1.2.0",
      "model_name": "LayoutModel",
      "state": {
       "min_width": "125px"
      }
     },
     "7015a7e62be146bdb089ce5c06864d34": {
      "model_module": "@jupyter-widgets/base",
      "model_module_version": "1.2.0",
      "model_name": "LayoutModel",
      "state": {}
     },
     "707c35fca06341cb9c3c5c037d5ce12e": {
      "model_module": "@jupyter-widgets/base",
      "model_module_version": "1.2.0",
      "model_name": "LayoutModel",
      "state": {}
     },
     "70a2679053f54c1b8e6c68f0cad84084": {
      "model_module": "@jupyter-widgets/base",
      "model_module_version": "1.2.0",
      "model_name": "LayoutModel",
      "state": {}
     },
     "70b58a22e87c4029aa6f681d2e52b894": {
      "model_module": "bqplot",
      "model_module_version": "^0.4.0",
      "model_name": "AxisModel",
      "state": {
       "orientation": "vertical",
       "scale": "IPY_MODEL_77bca9484363471b93319626831b7fb4",
       "side": "left",
       "tick_values": {
        "type": null,
        "values": null
       }
      }
     },
     "70b80a3bf6c04282a13026bbf5ad9d1b": {
      "model_module": "bqplot",
      "model_module_version": "^0.4.0",
      "model_name": "LinearScaleModel",
      "state": {
       "allow_padding": false,
       "max": 1,
       "min": 0,
       "stabilized": false
      }
     },
     "70dd77945e74466c829b17c3cac963f9": {
      "model_module": "bqplot",
      "model_module_version": "^0.4.0",
      "model_name": "LinearScaleModel",
      "state": {
       "allow_padding": false,
       "max": 1,
       "min": 0,
       "stabilized": false
      }
     },
     "7106223d98d04d7fa9e8ad4f0ecb7586": {
      "model_module": "@jupyter-widgets/output",
      "model_module_version": "1.0.0",
      "model_name": "OutputModel",
      "state": {
       "layout": "IPY_MODEL_66a00815bd594e7faf1fcd556b55d957",
       "outputs": [
        {
         "data": {
          "text/plain": "49"
         },
         "metadata": {},
         "output_type": "display_data"
        }
       ]
      }
     },
     "711faed3503741678def33e1cb89ad3a": {
      "model_module": "@jupyter-widgets/base",
      "model_module_version": "1.2.0",
      "model_name": "LayoutModel",
      "state": {}
     },
     "71356d14f3c94c9b82d07720c0914c77": {
      "model_module": "bqplot",
      "model_module_version": "^0.4.0",
      "model_name": "LinearScaleModel",
      "state": {
       "allow_padding": false,
       "max": 1,
       "min": 0,
       "stabilized": false
      }
     },
     "715f009859e4442696cf3beb7aa0436d": {
      "model_module": "bqplot",
      "model_module_version": "^0.4.0",
      "model_name": "FigureModel",
      "state": {
       "_dom_classes": [],
       "axes": [
        "IPY_MODEL_bcb12fc077ab45a7bfef0a13a4bb2dda",
        "IPY_MODEL_977a1b278e654f76ad4f2540e9e702f9"
       ],
       "layout": "IPY_MODEL_536691649a8e49669c08a0ae0a6deeac",
       "marks": [
        "IPY_MODEL_10db649a466040cd83f1e9c003d2ea3d"
       ],
       "max_aspect_ratio": 6,
       "scale_x": "IPY_MODEL_f05d4842fad44145acc63a584076f7c6",
       "scale_y": "IPY_MODEL_7e044a6be7844917845f54864774b1c0"
      }
     },
     "716a195bc8784f039a72d69921909279": {
      "model_module": "bqplot",
      "model_module_version": "^0.4.0",
      "model_name": "LinearScaleModel",
      "state": {
       "allow_padding": false,
       "max": 1,
       "min": 0,
       "stabilized": false
      }
     },
     "71704d9af12d46c4a41a6c84e278e75f": {
      "model_module": "@jupyter-widgets/base",
      "model_module_version": "1.2.0",
      "model_name": "LayoutModel",
      "state": {}
     },
     "717a1aee3e804db5a0b97afcd9af9156": {
      "model_module": "bqplot",
      "model_module_version": "^0.4.0",
      "model_name": "AxisModel",
      "state": {
       "scale": "IPY_MODEL_42a11db0c92041c8831d58b098dc9c49",
       "side": "bottom",
       "tick_values": {
        "type": null,
        "values": null
       }
      }
     },
     "718c59ec023442b3bd139e01218bb7de": {
      "model_module": "@jupyter-widgets/controls",
      "model_module_version": "1.5.0",
      "model_name": "VBoxModel",
      "state": {
       "_dom_classes": [
        "widget-interact"
       ],
       "children": [
        "IPY_MODEL_933d78be4d184243ab78e93eb7d8e63c"
       ],
       "layout": "IPY_MODEL_54d0c0fbaa414d46b833262b9d703cbc"
      }
     },
     "718d3dc9a60542aa998fa50f7d9669ef": {
      "model_module": "@jupyter-widgets/base",
      "model_module_version": "1.2.0",
      "model_name": "LayoutModel",
      "state": {}
     },
     "719c23a1df4745bcb9068d5cc89390e3": {
      "model_module": "bqplot",
      "model_module_version": "^0.4.0",
      "model_name": "LinesModel",
      "state": {
       "color": {
        "type": null,
        "values": null
       },
       "colors": [
        "#475A77"
       ],
       "display_legend": false,
       "fill_colors": [],
       "labels": [
        "C1"
       ],
       "scales": {
        "x": "IPY_MODEL_60c0056989d447c38b3f6665d840c9fa",
        "y": "IPY_MODEL_4d049723db9c4c5b897af514cd06f2d0"
       },
       "selected": [],
       "x": {
        "type": "float",
        "values": [
         1,
         2,
         3
        ]
       },
       "y": {
        "type": "float",
        "values": [
         14,
         -3,
         42
        ]
       }
      }
     },
     "7236de504ddd467792a1c19646b3344a": {
      "model_module": "@jupyter-widgets/base",
      "model_module_version": "1.2.0",
      "model_name": "LayoutModel",
      "state": {
       "min_width": "125px"
      }
     },
     "72bea51a4b6d4160af62975a1936a1c8": {
      "model_module": "@jupyter-widgets/base",
      "model_module_version": "1.2.0",
      "model_name": "LayoutModel",
      "state": {}
     },
     "72d6347ee6d243d4a18a547236b14a3b": {
      "model_module": "@jupyter-widgets/output",
      "model_module_version": "1.0.0",
      "model_name": "OutputModel",
      "state": {
       "layout": "IPY_MODEL_336a53aa11d44a81abb984f2319bdf4d"
      }
     },
     "72f20e7b26814b1aa3c088ee0ab5debc": {
      "model_module": "@jupyter-widgets/base",
      "model_module_version": "1.2.0",
      "model_name": "LayoutModel",
      "state": {}
     },
     "7339b121941744539b655de78f0a5ac5": {
      "model_module": "@jupyter-widgets/base",
      "model_module_version": "1.2.0",
      "model_name": "LayoutModel",
      "state": {}
     },
     "736ecf2aad774871902c3fae7be2be4d": {
      "model_module": "@jupyter-widgets/base",
      "model_module_version": "1.2.0",
      "model_name": "LayoutModel",
      "state": {}
     },
     "738d58536a5249aea998070ef1315b4c": {
      "model_module": "@jupyter-widgets/base",
      "model_module_version": "1.2.0",
      "model_name": "LayoutModel",
      "state": {}
     },
     "738fc2c670e1471eafefbb1a7a3178d3": {
      "model_module": "bqplot",
      "model_module_version": "^0.4.0",
      "model_name": "LinearScaleModel",
      "state": {
       "allow_padding": false,
       "max": 1,
       "min": 0,
       "stabilized": false
      }
     },
     "7436b2ba66184a91a5b4b106c3a3ee5e": {
      "model_module": "bqplot",
      "model_module_version": "^0.4.0",
      "model_name": "LinearScaleModel",
      "state": {
       "allow_padding": false,
       "max": 1,
       "min": 0,
       "stabilized": false
      }
     },
     "74683a9acab440d98d6df7a2cfe188be": {
      "model_module": "bqplot",
      "model_module_version": "^0.4.0",
      "model_name": "LinearScaleModel",
      "state": {
       "allow_padding": false,
       "max": 1,
       "min": 0,
       "stabilized": false
      }
     },
     "7481bcca9a2e41fbacfef8d7bda4846b": {
      "model_module": "@jupyter-widgets/base",
      "model_module_version": "1.2.0",
      "model_name": "LayoutModel",
      "state": {
       "min_width": "125px"
      }
     },
     "74aa2f10ad4045dbabe0de967c9bb628": {
      "model_module": "@jupyter-widgets/base",
      "model_module_version": "1.2.0",
      "model_name": "LayoutModel",
      "state": {}
     },
     "74b13d0e2989458fa1792e6f74031a45": {
      "model_module": "@jupyter-widgets/base",
      "model_module_version": "1.2.0",
      "model_name": "LayoutModel",
      "state": {}
     },
     "74bed9a814d94a47a9d7770ace591bf7": {
      "model_module": "bqplot",
      "model_module_version": "^0.4.0",
      "model_name": "LinearScaleModel",
      "state": {
       "allow_padding": false,
       "max": 1,
       "min": 0,
       "stabilized": false
      }
     },
     "754c6686348c494b8c5bf86e118658a0": {
      "model_module": "@jupyter-widgets/base",
      "model_module_version": "1.2.0",
      "model_name": "LayoutModel",
      "state": {}
     },
     "7560dbd961a8466ab81cd0c142acd162": {
      "model_module": "bqplot",
      "model_module_version": "^0.4.0",
      "model_name": "AxisModel",
      "state": {
       "orientation": "vertical",
       "scale": "IPY_MODEL_b72d47caefae4c87a810b18c6b7f8720",
       "side": "left",
       "tick_values": {
        "type": null,
        "values": null
       }
      }
     },
     "7569a903f5e84dd9ba1fb7da3c6e783d": {
      "model_module": "bqplot",
      "model_module_version": "^0.4.0",
      "model_name": "AxisModel",
      "state": {
       "scale": "IPY_MODEL_1707ef0c6fb2475ebc6d68dbe5a228d3",
       "side": "bottom",
       "tick_values": {
        "type": null,
        "values": null
       }
      }
     },
     "757699191e7b4f9d800732110e95fdef": {
      "model_module": "@jupyter-widgets/base",
      "model_module_version": "1.2.0",
      "model_name": "LayoutModel",
      "state": {}
     },
     "758ae4d1bf81440597017d072d8515b9": {
      "model_module": "bqplot",
      "model_module_version": "^0.4.0",
      "model_name": "AxisModel",
      "state": {
       "scale": "IPY_MODEL_25e0d184de854a10a4035630eba4087e",
       "side": "bottom",
       "tick_values": {
        "type": null,
        "values": null
       }
      }
     },
     "758d3ce264bd4d3eb94c65d92a0e0f02": {
      "model_module": "@jupyter-widgets/base",
      "model_module_version": "1.2.0",
      "model_name": "LayoutModel",
      "state": {}
     },
     "75ea0c0e5caa4ba3b09488dce4721a91": {
      "model_module": "@jupyter-widgets/controls",
      "model_module_version": "1.5.0",
      "model_name": "VBoxModel",
      "state": {
       "_dom_classes": [
        "widget-interact"
       ],
       "children": [
        "IPY_MODEL_6c060b419c094bb38ad96766067d6730"
       ],
       "layout": "IPY_MODEL_424764f7fd7f40afb11ad6cebb2d0861"
      }
     },
     "75ff2ad69f554817bc2c9cae9d1bc274": {
      "model_module": "@jupyter-widgets/base",
      "model_module_version": "1.2.0",
      "model_name": "LayoutModel",
      "state": {
       "min_width": "125px"
      }
     },
     "762fb04b625e432587e7448e028e592b": {
      "model_module": "bqplot",
      "model_module_version": "^0.4.0",
      "model_name": "LinearScaleModel",
      "state": {
       "allow_padding": false,
       "max": 1,
       "min": 0,
       "stabilized": false
      }
     },
     "7648ccf378434ae2be1fc943682f3efa": {
      "model_module": "bqplot",
      "model_module_version": "^0.4.0",
      "model_name": "LinesModel",
      "state": {
       "color": {
        "type": null,
        "values": null
       },
       "colors": [
        "#475A77"
       ],
       "display_legend": false,
       "fill_colors": [],
       "scales": {
        "x": "IPY_MODEL_89d6cd093ed54e87be0ee6f26f8b63db",
        "y": "IPY_MODEL_8411cc305650467ab56ffa63daf12a1b"
       },
       "selected": [],
       "x": {
        "type": "float",
        "values": []
       },
       "y": {
        "type": "float",
        "values": []
       }
      }
     },
     "7670837c6a2d40928d57f074707c2f70": {
      "model_module": "bqplot",
      "model_module_version": "^0.4.0",
      "model_name": "LinearScaleModel",
      "state": {
       "allow_padding": false,
       "max": 1,
       "min": 0,
       "stabilized": false
      }
     },
     "768eb954dffa4b448f5b528a6a74c569": {
      "model_module": "@jupyter-widgets/base",
      "model_module_version": "1.2.0",
      "model_name": "LayoutModel",
      "state": {}
     },
     "76d20aa482d341deaac983e4d37e3191": {
      "model_module": "bqplot",
      "model_module_version": "^0.4.0",
      "model_name": "LinearScaleModel",
      "state": {
       "stabilized": false
      }
     },
     "76e80ab1bd3440cabf4e638970b2c43b": {
      "model_module": "@jupyter-widgets/controls",
      "model_module_version": "1.5.0",
      "model_name": "VBoxModel",
      "state": {
       "children": [
        "IPY_MODEL_41edb522fa354446b477acb60a6d0fa4",
        "IPY_MODEL_1da79d6b109a4bc18b025bebb99fb2d8"
       ],
       "layout": "IPY_MODEL_aea338e96ab34507acf53c69ab219037"
      }
     },
     "772fac6c89b849c7991bcaeca484ee4d": {
      "model_module": "bqplot",
      "model_module_version": "^0.4.0",
      "model_name": "FigureModel",
      "state": {
       "_dom_classes": [],
       "axes": [
        "IPY_MODEL_52788eed7ab2464495c92a362a503033",
        "IPY_MODEL_8d46e01d52d74377865fa3aa7fbb544c"
       ],
       "layout": "IPY_MODEL_8345e001b5f14727a8eb5fc443691c54",
       "marks": [
        "IPY_MODEL_ba7eb037f96a4db1b515ecb546d1a5ca"
       ],
       "max_aspect_ratio": 6,
       "scale_x": "IPY_MODEL_9c85db7d9cdc4a4e84a513c4aa12e9c4",
       "scale_y": "IPY_MODEL_d798d0dfff1a4af49efd81cf8d88447c"
      }
     },
     "77519b1963c94b7eb5acdf74a74d7d38": {
      "model_module": "bqplot",
      "model_module_version": "^0.4.0",
      "model_name": "FigureModel",
      "state": {
       "_dom_classes": [],
       "axes": [
        "IPY_MODEL_616dc5f9d7704787bed2706ce3411deb",
        "IPY_MODEL_adb6dfe7663944619d933c1e7de8ae4f"
       ],
       "layout": "IPY_MODEL_e48dde1c37054c9b89b2017556cb374e",
       "marks": [
        "IPY_MODEL_e951ce1881704ee0a3d76979585e6fdc"
       ],
       "max_aspect_ratio": 6,
       "scale_x": "IPY_MODEL_3fd9e690ce704c648b9fa679356229e1",
       "scale_y": "IPY_MODEL_ff4971f94d754ec4900e34be8a096869"
      }
     },
     "775397ee91d74390b36e7957286b862b": {
      "model_module": "bqplot",
      "model_module_version": "^0.4.0",
      "model_name": "LinesModel",
      "state": {
       "color": {
        "type": null,
        "values": null
       },
       "colors": [
        "#475A77"
       ],
       "display_legend": false,
       "fill_colors": [],
       "labels": [
        "C1"
       ],
       "scales": {
        "x": "IPY_MODEL_20763071cb3540cba34ece2e5e9d4f97",
        "y": "IPY_MODEL_898fcbe7118d4592b723e4b2a4b79bd1"
       },
       "selected": [],
       "x": {
        "type": "float",
        "values": [
         1,
         2,
         3
        ]
       },
       "y": {
        "type": "float",
        "values": [
         25,
         8,
         119
        ]
       }
      }
     },
     "7763ba34194a4eb089bdab8330218aee": {
      "model_module": "bqplot",
      "model_module_version": "^0.4.0",
      "model_name": "LinearScaleModel",
      "state": {
       "stabilized": false
      }
     },
     "779e743c61cf4007b2baaff11b4556d6": {
      "model_module": "@jupyter-widgets/output",
      "model_module_version": "1.0.0",
      "model_name": "OutputModel",
      "state": {
       "layout": "IPY_MODEL_6f62612acbbf4999a5591662c2d7f583"
      }
     },
     "77a8191cc0224d89ba3226f727f18d66": {
      "model_module": "@jupyter-widgets/controls",
      "model_module_version": "1.5.0",
      "model_name": "VBoxModel",
      "state": {
       "_dom_classes": [
        "widget-interact"
       ],
       "children": [
        "IPY_MODEL_784d28e313424afc9ede4c5185c33445"
       ],
       "layout": "IPY_MODEL_3e843c6698154c4da61b305411062740"
      }
     },
     "77bca9484363471b93319626831b7fb4": {
      "model_module": "bqplot",
      "model_module_version": "^0.4.0",
      "model_name": "LinearScaleModel",
      "state": {
       "stabilized": false
      }
     },
     "77cc3a7ca2244fdfbeea7635f9cbddc4": {
      "model_module": "bqplot",
      "model_module_version": "^0.4.0",
      "model_name": "LinearScaleModel",
      "state": {
       "stabilized": false
      }
     },
     "7841f6d518b946488c89013aa61d0a66": {
      "model_module": "bqplot",
      "model_module_version": "^0.4.0",
      "model_name": "LinearScaleModel",
      "state": {
       "stabilized": false
      }
     },
     "784d28e313424afc9ede4c5185c33445": {
      "model_module": "@jupyter-widgets/output",
      "model_module_version": "1.0.0",
      "model_name": "OutputModel",
      "state": {
       "layout": "IPY_MODEL_a83f33f6135e4d4bab1622b73204fb05"
      }
     },
     "788d31bb05fc47d2a7fbed99b8664ea3": {
      "model_module": "bqplot",
      "model_module_version": "^0.4.0",
      "model_name": "LinearScaleModel",
      "state": {
       "stabilized": false
      }
     },
     "792e42ea44374a219f6ba260d09b825a": {
      "model_module": "@jupyter-widgets/controls",
      "model_module_version": "1.5.0",
      "model_name": "IntSliderModel",
      "state": {
       "description": "x",
       "layout": "IPY_MODEL_587a69c23c5242e5b4e2ad13555926f6",
       "max": 30,
       "min": -10,
       "style": "IPY_MODEL_98fb5e9a51264f5d9cefcdbbebbe4eed",
       "value": 10
      }
     },
     "7951199dd6d748bdb1cc4af78bd0b696": {
      "model_module": "@jupyter-widgets/controls",
      "model_module_version": "1.5.0",
      "model_name": "VBoxModel",
      "state": {
       "_dom_classes": [
        "widget-interact"
       ],
       "children": [
        "IPY_MODEL_a5a0431a73e740799d9c595d91865de8"
       ],
       "layout": "IPY_MODEL_b25bd79c5aa34592b9ce063e729edf79"
      }
     },
     "79942e413b5444de8e9d4f442cb461e0": {
      "model_module": "bqplot",
      "model_module_version": "^0.4.0",
      "model_name": "LinearScaleModel",
      "state": {
       "stabilized": false
      }
     },
     "79bfdd311dbb488a9739e1a6963307ed": {
      "model_module": "@jupyter-widgets/base",
      "model_module_version": "1.2.0",
      "model_name": "LayoutModel",
      "state": {}
     },
     "7a0c9aa646964b54827cb66c20fb85cc": {
      "model_module": "@jupyter-widgets/base",
      "model_module_version": "1.2.0",
      "model_name": "LayoutModel",
      "state": {}
     },
     "7a2f3a6127c64c6aa975d8ed9ed58753": {
      "model_module": "bqplot",
      "model_module_version": "^0.4.0",
      "model_name": "LinesModel",
      "state": {
       "color": {
        "type": null,
        "values": null
       },
       "colors": [
        "#475A77"
       ],
       "display_legend": false,
       "fill_colors": [],
       "scales": {
        "x": "IPY_MODEL_6a1a4f89a76243d0ae75ef279952ce9f",
        "y": "IPY_MODEL_a9e5f0472a0f45cf8ceffa946ac505d1"
       },
       "selected": [],
       "x": {
        "type": "float",
        "values": []
       },
       "y": {
        "type": "float",
        "values": []
       }
      }
     },
     "7a41f30ff0d4448c80588f91ba1ff13d": {
      "model_module": "@jupyter-widgets/base",
      "model_module_version": "1.2.0",
      "model_name": "LayoutModel",
      "state": {}
     },
     "7a476a4af6a444ba8086497027bb1093": {
      "model_module": "bqplot",
      "model_module_version": "^0.4.0",
      "model_name": "FigureModel",
      "state": {
       "_dom_classes": [],
       "axes": [
        "IPY_MODEL_b21e50ff365040fd94f3240b91de41f7",
        "IPY_MODEL_126767a512e84760905f582f85e475d9"
       ],
       "layout": "IPY_MODEL_4dcf2c8968274b6da870fc329b4a5bfb",
       "marks": [
        "IPY_MODEL_d4aa9d5eba6c4a2395113b8143586d9d"
       ],
       "max_aspect_ratio": 6,
       "scale_x": "IPY_MODEL_8fc353ac2db84f95a22640f45a774e53",
       "scale_y": "IPY_MODEL_d8131dff2f844a799972419be3297708"
      }
     },
     "7a4928a46ae942f79bb063e125541f0e": {
      "model_module": "bqplot",
      "model_module_version": "^0.4.0",
      "model_name": "FigureModel",
      "state": {
       "_dom_classes": [],
       "axes": [
        "IPY_MODEL_c6458e24defc49b88608f28e7090697e",
        "IPY_MODEL_fde2350e07d24e12af822ff29560ae4f"
       ],
       "layout": "IPY_MODEL_f54e3b14b0ea433188f147375915f664",
       "marks": [
        "IPY_MODEL_b01275e6a0134930bedef0585685808f"
       ],
       "max_aspect_ratio": 6,
       "scale_x": "IPY_MODEL_bae936f5bc6a4ed2b164b68bd882bd2a",
       "scale_y": "IPY_MODEL_738fc2c670e1471eafefbb1a7a3178d3"
      }
     },
     "7a64c659dec24bdca41aecba6ae3d1f9": {
      "model_module": "bqplot",
      "model_module_version": "^0.4.0",
      "model_name": "FigureModel",
      "state": {
       "_dom_classes": [],
       "axes": [
        "IPY_MODEL_d245929d33bc4d1f91e5309c3cac3217",
        "IPY_MODEL_9a79778ee59441168a10a2d9b7cef1e0"
       ],
       "layout": "IPY_MODEL_8cdf8fbf598940b2888a756b090f792a",
       "marks": [
        "IPY_MODEL_af770589ccda4bda88ec0686d8d9c2b3"
       ],
       "max_aspect_ratio": 6,
       "scale_x": "IPY_MODEL_5004b086867a4d2486f1b79472710e09",
       "scale_y": "IPY_MODEL_5c2432395a584805955ecc216d445796"
      }
     },
     "7a910dba90bc4db2bce3af02a0520bcd": {
      "model_module": "bqplot",
      "model_module_version": "^0.4.0",
      "model_name": "LinearScaleModel",
      "state": {
       "stabilized": false
      }
     },
     "7aaa2abdea8c4c47a86b04f6a5f26265": {
      "model_module": "@jupyter-widgets/controls",
      "model_module_version": "1.5.0",
      "model_name": "FloatSliderModel",
      "state": {
       "description": "sd",
       "layout": "IPY_MODEL_a3d0ddbaf7f841c086be7d3911b0469f",
       "max": 2,
       "step": 0.2,
       "style": "IPY_MODEL_a3c61432b7b74486b2fec844713cdf75",
       "value": 1
      }
     },
     "7acb8d8d32e6461393fa05cbca75f096": {
      "model_module": "bqplot",
      "model_module_version": "^0.4.0",
      "model_name": "AxisModel",
      "state": {
       "orientation": "vertical",
       "scale": "IPY_MODEL_2947a4c061254777a4683a34817ea38e",
       "side": "left",
       "tick_values": {
        "type": null,
        "values": null
       }
      }
     },
     "7b139deee95f4b90ab0a84cf77539f95": {
      "model_module": "bqplot",
      "model_module_version": "^0.4.0",
      "model_name": "FigureModel",
      "state": {
       "_dom_classes": [],
       "axes": [
        "IPY_MODEL_f1dae3e19ff2439ca8b7249240a88905",
        "IPY_MODEL_28a9adda984d4d8698cf4858d56cd3b4"
       ],
       "layout": "IPY_MODEL_e7900db4e9eb47daa61a0f1df1897a92",
       "marks": [
        "IPY_MODEL_4339b55d0b8743b59d6d8a8af76de68d"
       ],
       "max_aspect_ratio": 6,
       "scale_x": "IPY_MODEL_48f18c5896aa41fcbf1c05497870ff49",
       "scale_y": "IPY_MODEL_e8ad80280371414da7fb79acb26b74b4"
      }
     },
     "7b1cdc96937b433d86f510ed9008aecd": {
      "model_module": "@jupyter-widgets/controls",
      "model_module_version": "1.5.0",
      "model_name": "VBoxModel",
      "state": {
       "_dom_classes": [
        "widget-interact"
       ],
       "children": [
        "IPY_MODEL_4e804ec70fc9436d8fe25b412584965c"
       ],
       "layout": "IPY_MODEL_57d04a04117149f1a37ddb517b42dc0a"
      }
     },
     "7b42bf9b6e1e4c609a18591b93cd759b": {
      "model_module": "bqplot",
      "model_module_version": "^0.4.0",
      "model_name": "LinesModel",
      "state": {
       "color": {
        "type": null,
        "values": null
       },
       "colors": [
        "#475A77"
       ],
       "display_legend": false,
       "fill_colors": [],
       "labels": [
        "C1"
       ],
       "scales": {
        "x": "IPY_MODEL_eefe4307d41e42938e2759e29d583a70",
        "y": "IPY_MODEL_1b1a87b10c2846e98baa87969be79da9"
       },
       "selected": [],
       "x": {
        "type": "float",
        "values": [
         1,
         2,
         3
        ]
       },
       "y": {
        "type": "float",
        "values": [
         21,
         4,
         91
        ]
       }
      }
     },
     "7ba0ae563ed34224a2885aebb4c82fdf": {
      "model_module": "@jupyter-widgets/base",
      "model_module_version": "1.2.0",
      "model_name": "LayoutModel",
      "state": {
       "min_width": "125px"
      }
     },
     "7baef5434bef4bec9f4722d3eb245b89": {
      "model_module": "@jupyter-widgets/output",
      "model_module_version": "1.0.0",
      "model_name": "OutputModel",
      "state": {
       "layout": "IPY_MODEL_331eefb5e3ec4c31b64ce5100e09930a",
       "outputs": [
        {
         "data": {
          "image/png": "iVBORw0KGgoAAAANSUhEUgAAAXcAAAD4CAYAAAAXUaZHAAAABHNCSVQICAgIfAhkiAAAAAlwSFlzAAALEgAACxIB0t1+/AAAADh0RVh0U29mdHdhcmUAbWF0cGxvdGxpYiB2ZXJzaW9uMy4yLjAsIGh0dHA6Ly9tYXRwbG90bGliLm9yZy8GearUAAAgAElEQVR4nO3deVyVdd7/8ddXBRFF3BVFxF1R0BTXNkubyiwzq2mZ9rJm+s163wm2TJYtts3UNDXd1tTUTOsILu2maZtlaSmboIiIKAKKArLD+d5/wO/3cxodkXPgOsv7+Xj0gHNd1+G8v3J8c3VxzkdjrUVERPxLO6cDiIiI56ncRUT8kMpdRMQPqdxFRPyQyl1ExA91cDoAQK9evWx0dLTTMUREfMqWLVsOWmt7H2+fV5R7dHQ0mzdvdjqGiIhPMcbsOdE+XZYREfFDKncRET+kchcR8UMqdxERP6RyFxHxQyctd2PMy8aYImNM2jHbehhjPjHG7Gz62P2YfYuMMdnGmCxjzPmtFVxERE6sOWfufwMu+NG2RGCdtXY4sK7pNsaYGOAqYEzTfZ43xrT3WFoREWmWk5a7tfZzoORHm+cCrzZ9/ipw6THb37LW1lhrdwPZwGQPZRUR8RvWWt7+Lo+1GYWt8vVbes29r7W2AKDpY5+m7QOAvcccl9+07d8YYxYYYzYbYzYXFxe3MIaIiO/JO1TJtS9tIiEplZVb97XKY3j6HarmONuO+6+BWGuXAcsA4uPj9S+GiIjfa3BZ/rYxlyc/zqJ9O8PD88Zy9aSoVnmslpZ7oTEmwlpbYIyJAIqatucDA485LhLY705AERF/sKOwnIXLU9i69wjnjurDw/PGEhHeqdUer6Xlvhq4AVja9HHVMdvfMMb8AegPDAe+dTekiIivqq138ZcNu/jz+p2EhQTxzFXjuWRcf4w53oUOzzlpuRtj3gRmAL2MMfnA/TSW+jvGmFuAPOAKAGttujHmHSADqAfutNY2tFJ2ERGvtm3vERKSUsg8UM4l4/pz/8Ux9OzSsU0e+6Tlbq29+gS7Zp7g+IeBh90JJSLiy6pqG/jj2h289EUOfcJCeOn6eGbF9G3TDF4x8ldExF98vesQi5JTyD1UydWTo1g0exRdQ4LaPIfKXUTEA8qq61j6YSZvbMpjUM9Q3rhtCtOH9nIsj8pdRMRN67YXcs+KNIrKq1lw1hB+O2sEnYKdfXO+yl1EpIUOHa3hgXczWL1tPyP7hvHCdRMZP7Cb07EAlbuIyCmz1rJ6234eeDeD8uo6fjtrBD+fMZTgDt4zaFflLiJyCgpKq7h3RRrrMosYN7Abj8+PY2S/MKdj/RuVu4hIM7hclre+28ujH2ynzuXi3otGc9Ppg2nfrnXfjNRSKncRkZPIPVhBYnIK3+SUMH1oT5ZeFkdUz1CnY/1HKncRkROob3Dx8le7eWrNDoLbt2PpZbH8dNLAVh8d4AkqdxGR48g8UEbC8hS25Zcya3RfHrp0LP3CQ5yO1WwqdxGRY9TUN/Dc+l08vz6b8E5BPHv1acyJi/CJs/VjqdxFRJr8kHeYhKQUdhQeZd5pA7hvTgw9Ogc7HatFVO4iEvAqa+t5as0OXv5qN/26hvDKjZM4Z1Sfk9/Ri6ncRSSgbcw+SGJyKnkllfxsahQJF4wizIFBX56mcheRgFRaVcejH2znre/2MrhXZ95eMJUpQ3o6HctjVO4iEnDWpB/g3pVpHDxaw+1nNw76CglydtCXp6ncRSRgHDxaw+LV6byXUsCofmG8dEM8cZHeMejL01TuIuL3rLWs3LqPB97NoLKmgf86bwR3zBhKUHvvGfTlaSp3EfFr+49Ucc+KVNZnFTMhqhuPzY9jeF/vG/TlaSp3EfFLLpfl9W/zWPrBdlwW7r84huunRXvtoC9PU7mLiN/JKT5KYlIq3+aWcMawXjx6WSwDe3j3oC9PU7mLiN+ob3Dx0pe7+eMnO+jYoR2PXx7HFRMjfW50gCeo3EXEL2TsL2Nh0jbS9pVx/pi+LJk7lj5dfWfQl6ep3EXEp9XUN/DnT7P5y4ZddAsN4vlrJ3Dh2H4BebZ+LJW7iPisLXtKSEhKJbvoKPMnRHLfnNF0C/XNQV+epnIXEZ9TUVPPEx9n8erXufQP78SrN0/m7BG9nY7lVVTuIuJTvthZzKLkVPIPV3HDtEHcdcEounRUlf2Y/kRExCeUVtbx0PsZ/HNLPkN6d+afd0xjUnQPp2N5LZW7iHi9j9IOcN+qNEoqavnFjKH8auZwvxv05WkqdxHxWkXl1Sxenc4HqQeIiejKKzdOYuyAcKdj+QSVu4h4HWstSd/vY8l7GVTVNXDX+SNZcNYQvx705WkqdxHxKvmHK7l7RRqf7ygmflB3ls6PY1ifLk7H8jkqdxHxCi6X5e/f7OGxjzIBeOCSMVw3dRDtAmTQl6ep3EXEcbuKj5KwPIXNew5z1ojePDJvLJHdA2vQl6ep3EXEMXUNLpZ9nsMz63bSKag9T14xjvkTBgT86ABPcKvcjTG/BW4FLJAK3ASEAm8D0UAucKW19rBbKUXE76TtK2Xh8hQyCsqYHduPxZeMoU9Y4A768rQW/+rZGDMA+BUQb60dC7QHrgISgXXW2uHAuqbbIiIAVNc18NhHmcx97iuKj9bwws8m8Py1E1XsHubuZZkOQCdjTB2NZ+z7gUXAjKb9rwIbgAQ3H0dE/MB3uSUkLE8h52AFV0yM5N6LYggPDXI6ll9qcblba/cZY54E8oAqYI21do0xpq+1tqDpmAJjTJ/j3d8YswBYABAVFdXSGCLiA47W1PP4R5m89vUeIrt34u+3TObM4Rr01ZpaXO7GmO7AXGAwcAT4pzHmZ829v7V2GbAMID4+3rY0h4h4t892FHN3cir7S6u4cXo0d50/ks4a9NXq3PkTngXsttYWAxhjkoHpQKExJqLprD0CKPJAThHxMYcralnyfgbJ3+9jaO/OLL9jGhMHadBXW3Gn3POAqcaYUBovy8wENgMVwA3A0qaPq9wNKSK+w1rLh2kH+P2qNI5U1vHLc4dx5znDNOirjblzzX2TMWY58D1QD/xA42WWLsA7xphbaPwBcIUngoqI9ysqq+a+VWl8nF5I7IBwXrt5CjH9uzodKyC5deHLWns/cP+PNtfQeBYvIgHCWss/t+Tz0HsZ1NS7SLxwFLeeMZgOGvTlGP1WQ0TcsrekkkXJqXyZfZDJ0T1YOj+WIb016MtpKncRaZEGl+W1r3N5/KMs2hlYculYrp0cpUFfXkLlLiKnbGdhOQlJKXyfd4QZI3vz8LxYBnTr5HQsOYbKXUSara7BxQsbdvHsp9l07tiep386nrnj+2vQlxdSuYtIs6Tml3LX8m1kHihnTlwEiy8ZQ68uHZ2OJSegcheR/6i6roE/rt3Bi5/n0KtLR5ZdN5GfjOnndCw5CZW7iJzQppxDJCansvtgBVdNGsii2aMJ76RBX75A5S4i/6a8uo7HPsrkH9/kMbBHJ16/dQqnD+vldCw5BSp3EfkX6zOLuHtFKoVl1dx6xmB+95MRhAarKnyNvmMiAkBJRS0PvpvOyq37Gd6nC8//fDqnRXV3Opa0kMpdJMBZa3kvpYDFq9Mprarj1zOH84tzhtKxgwZ9+TKVu0gAKyyr5p4VaazdXkhcZDiv3zaFUf006MsfqNxFApC1lre/28vDH2yntt7FPbNHc9Pp0Rr05UdU7iIBZs+hChYlp7Jx1yGmDO7BY/PjiO7V2elY4mEqd5EA0eCyvPLVbp5ck0VQu3Y8Mi+WqyYN1KAvP6VyFwkAWQfKWZiUwra9R5g5qg8PzRtLRLgGffkzlbuIH6utd/H8hmyeW59NWEgQz1w1nkvGadBXIFC5i/ipbXuPsHB5ClmF5cwd35/fz4mhpwZ9BQyVu4ifqapt4A+fZPHXL3fTJyyEl66PZ1ZMX6djSRtTuYv4kY27DrIoOZU9hyq5ZkoUiReOomuIBn0FIpW7iB8oq67j0Q8yefPbPAb1DOXN26YybWhPp2OJg1TuIj5ubUYh96xMpbi8hgVnDeG3s0bQKVijAwKdyl3ERx06WsMD72awett+RvULY9l18Ywb2M3pWOIlVO4iPsZay+pt+1m8Op2jNfX8dtYIfj5jKMEdNDpA/j+Vu4gPKSit4t4VaazLLGL8wG48fnkcI/qGOR1LvJDKXcQHuFyWN7/L49EPMmlwWe6bE8ON06Npr9EBcgIqdxEvt/tgBYlJKWzaXcLpw3ry6Lw4onqGOh1LvJzKXcRL1Te4ePmr3Ty1ZgfBHdrx2PxYrowfqNEB0iwqdxEvtL2gjISkFFLySzkvpi8PXTqWvl1DnI4lPkTlLuJFauobeG79Lp5fn014pyD+fM1pXBQbobN1OWUqdxEv8X3eYRKWp7Cz6CjzThvA7+fE0L1zsNOxxEep3EUcVllbz5Mf7+CVjbuJ6BrCKzdO4pxRfZyOJT5O5S7ioK+yD5KYnMLekiqumzqIhReMJEyDvsQDVO4iDiitquOR97fz9ua9DO7VmbcXTGXKEA36Es9RuYu0sTXpB7h3ZRqHKmq54+yh/GbWcEKCNOhLPMutcjfGdANeAsYCFrgZyALeBqKBXOBKa+1ht1KK+IHi8hoWv5vO+ykFjI7oyl9vmERsZLjTscRPuXvm/gzwkbX2cmNMMBAK3A2ss9YuNcYkAolAgpuPI+KzrLWs+GEfD76XQWVNA//9kxHcfvZQgtpr0Je0nhaXuzGmK3AWcCOAtbYWqDXGzAVmNB32KrABlbsEqH1HqrhnRSobsoqZENU46GtYHw36ktbnzpn7EKAYeMUYMw7YAvwa6GutLQCw1hYYY477mi5jzAJgAUBUVJQbMUS8j8tleX3THpZ+mIkFFl8cw3XTNOhL2o475d4BmAD80lq7yRjzDI2XYJrFWrsMWAYQHx9v3cgh4lVyio+SmJTKt7klnDm8F4/Mi2VgDw36krblTrnnA/nW2k1Nt5fTWO6FxpiIprP2CKDI3ZAivqC+wcWLX+zmj2t3ENKhHU9cHsflEyM1OkAc0eJyt9YeMMbsNcaMtNZmATOBjKb/bgCWNn1c5ZGkIl4sfX8pCUkppO0r4/wxfVkydyx9NOhLHOTuq2V+Cbze9EqZHOAmoB3wjjHmFiAPuMLNxxDxWtV1DTz76U5e+CyH7qHB/OXaCVwYG+F0LBH3yt1auxWIP86ume58XRFfsGVPCQuXp7CruIL5EyK5b85ouoVq0Jd4B71DVeQUVdTU88THWbz6dS79wzvx6s2TOXtEb6djifwLlbvIKfh8RzGLklPZX1rF9VMHcdcFo+jSUX+NxPvoWSnSDKWVdSx5P4PlW/IZ0rsz79w+jUnRPZyOJXJCKneRk/gorYD7VqVTUlHLL2YM5VczNehLvJ/KXeQEisqruX9VOh+mHWBM/668cuMkxg7QoC/xDSp3kR+x1rJ8Sz4Pvb+dqroGFl4wktvOHKJBX+JTVO4ix9hbUsndK1L5YudBJkV3Z+n8OIb27uJ0LJFTpnIXoXHQ12tf5/L4x1kY4MG5Y/jZlEG006Av8VEqdwl42UVHSUxKYfOew5w1ojePzBtLZHcN+hLfpnKXgFXX4GLZ5zk8s3YnnYLb89QV47hswgAN+hK/oHKXgJS2r5SFy1PIKCjjotgIFl8yht5hHZ2OJeIxKncJKNV1DTyzbifLPs+hR+dgXvjZRC4Y28/pWCIep3KXgPFdbgkJy1PIOVjBlfGR3DM7hvDQIKdjibQKlbv4vaM19Tz+USavfb2HyO6d+MctUzhjeC+nY4m0KpW7+LX1WUXck5xKQVk1N50ezX//ZCSdNehLAoCe5eKXDlfUsuS9DJJ/2MewPl1Yfsd0Jg7q7nQskTajche/Yq3lg9QD3L86jSOVdfzq3GHcee4wOnbQoC8JLCp38RtFZdXcuzKNNRmFxA4I57WbpxDTv6vTsUQcoXIXn2et5Z+b81nyfga19S4WXTiKW84YTAcN+pIApnIXn5Z3qHHQ15fZB5k8uAdLL4tliAZ9iajcxTc1uCx/25jLkx9n0b6d4aFLx3LN5CgN+hJponIXn7OzsJyFSSn8kHeEc0b25uF5sfTv1snpWCJeReUuPqO23sULn+3iz59m07lje57+6Xjmju+vQV8ix6FyF5+Qkn+EhctTyDxQzsXj+nP/xTH06qJBXyInonIXr1Zd18AfP9nBi1/k0DusIy9eH895MX2djiXi9VTu4rW+yTlEYlIKuYcquXryQBIvHE14Jw36EmkOlbt4nfLqOpZ+mMnrm/KI6hHKG7dOYfowDfoSORUqd/Eqn2YWcs+KNArLqrn1jMH87icjCA3W01TkVOlvjXiFkopaHnw3nZVb9zOibxeev3Y6p0Vp0JdIS6ncxVHWWt5NKWDx6nTKq+v49czh3HnOMII7aHSAiDtU7uKYA6WNg77Wbi9kXGQ4j10+hVH9NOhLxBNU7tLmrLW89d1eHnl/O3UuF/fMHs3NZwymvUYHiHiMyl3a1J5DFSQmpfJ1ziGmDunB0sviiO7V2elYIn5H5S5tosFleeWr3Ty5Jougdu149LJYfho/UIO+RFqJyl1aXdaBxkFf2/YeYdboPjx0aSz9wkOcjiXi19wud2NMe2AzsM9aO8cY0wN4G4gGcoErrbWH3X0c8T219S6e35DNc+uzCQsJ4k9Xn8bFcREa9CXSBjzxerNfA9uPuZ0IrLPWDgfWNd2WALN17xEufvZLnl67k9mxEaz93dlcMk4THEXailtn7saYSOAi4GHgd02b5wIzmj5/FdgAJLjzOOI7qmobeGpNFi9/tZs+YSH89YZ4Zo7WoC+RtubuZZmngYVA2DHb+lprCwCstQXGmD7Hu6MxZgGwACAqKsrNGOINNu46SGJSKnkllVwzJYrEC0fRNUSDvkSc0OJyN8bMAYqstVuMMTNO9f7W2mXAMoD4+Hjb0hzivLLqOh79YDtvfruX6J6hvHnbVKYN7el0LJGA5s6Z++nAJcaY2UAI0NUY8w+g0BgT0XTWHgEUeSKoeKe1GYXcszKV4vIabj9rCL+ZNYJOwe2djiUS8Fr8C1Vr7SJrbaS1Nhq4CvjUWvszYDVwQ9NhNwCr3E4pXufQ0Rp++eYP3PraZrqHBrPyztNZNHu0il3ES7TG69yXAu8YY24B8oArWuExxCHWWlZt3c8D76ZztKae3503gjvOHqpBXyJexiPlbq3dQOOrYrDWHgJmeuLrinfZf6SKe1em8WlmEeMHduPxy+MY0Tfs5HcUkTand6jKSblclje+zWPph5k0uCz3zYnhxunRGvQl4sVU7vIf7T5YQWJSCpt2l3D6sJ48Oi+OqJ6hTscSkZNQuctx1Te4+OuXu/nDJzsI7tCOx+fHcUV8pN5hKuIjVO7ybzL2l5GQlELqvlLOi+nLQ5eOpW9XDfoS8SUqd/l/auob+POn2fxlwy66hQbx3DUTmB3bT2frIj5I5S4AbNlzmISkFLKLjnLZaQO4b04M3TsHOx1LRFpI5R7gKmvreeLjLP62MZeIriG8ctMkzhl53HFAIuJDVO4B7MudB0lMTiH/cBXXTxvEwgtG0aWjnhIi/kB/kwNQaVUdD7+fwTub8xncqzPv3D6NyYN7OB1LRDxI5R5gPk4/wH0r0zhUUcvPZwzl1zOHExKkeTAi/kblHiCKy2tYvDqd91MLGB3Rlb/eMInYyHCnY4lIK1G5+zlrLcnf7+PB9zKoqm3grvNHsuCsIQS116AvEX+mcvdj+45UcXdyKp/tKGbioO48Nj+WYX006EskEKjc/ZDLZfnHpj089mEmFlh8cQzXT4umnQZ9iQQMlbuf2VV8lMSkFL7LPcyZw3vxyLxYBvbQoC+RQKNy9xN1DS5e/CKHp9fuJKRDO564PI7LJ2rQl0igUrn7gbR9pSQkpZC+v4wLxvTjwUvH0CdMg75EApnK3YdV1zXw7Kc7eeGzHLqHBvOXaydwYWyE07FExAuo3H3U5twSFialkFNcweUTI7n3otF0C9WgLxFppHL3MRU1jYO+Xv06l/7hnXjt5smcNaK307FExMuo3H3IZzuKuTs5lf2lVdwwLZq7zh9JZw36EpHjUDP4gCOVtSx5bztJ3+czpHdn/nn7NOKjNehLRE5M5e7lPkwt4L5V6RyurOXOc4byy3M16EtETk7l7qWKyqr5/ap0Pko/wJj+XXn15kmM6a9BXyLSPCp3L2OtZfmWfJa8l0F1vYuEC0Zx25mD6aBBXyJyClTuXmRvSSV3r0jli50HmRTdnaXz4xjau4vTsUTEB6ncvUCDy/La17k88XEWBlgydwzXThmkQV8i0mIqd4dlF5WTkJTKlj2HOXtEbx6eN5bI7hr0JSLuUbk7pK7Bxf98tos/rcsmtGN7/nDlOOadNkCDvkTEI1TuDkjbV8pdy1PYXlDGRXERLL54DL3DOjodS0T8iMq9DVXXNfD02p28+EUOPToH8z/XTeT8Mf2cjiUifkjl3ka+3V1CYlIKOQcr+Gn8QO6ePZrw0CCnY4mIn1K5t7Ly6joe/yiLv3+zh8junfjHLVM4Y3gvp2OJiJ9Tubei9VlF3JOcSkFZNTefPpj/Pn8EocH6IxeR1qemaQWHK2pZ8l4GyT/sY1ifLiy/YzoTB3V3OpaIBJAWl7sxZiDwGtAPcAHLrLXPGGN6AG8D0UAucKW19rD7Ub2ftZb3Uwu4f1U6pVV1/OrcYdx57jA6dtCgLxFpW+6cudcD/2Wt/d4YEwZsMcZ8AtwIrLPWLjXGJAKJQIL7Ub1bYVk1961MY01GIbEDwvnHrVMYHdHV6VgiEqBaXO7W2gKgoOnzcmPMdmAAMBeY0XTYq8AG/LjcrbW8s3kvD72/ndp6F4suHMUtZ2jQl4g4yyPX3I0x0cBpwCagb1PxY60tMMb0OcF9FgALAKKiojwRo83lHaokMTmFjbsOMXlwDx6bH8fgXp2djiUi4n65G2O6AEnAb6y1Zc19+7y1dhmwDCA+Pt66m6MtNbgsf9uYy5MfZ9G+neGhS8dyzeQoDfoSEa/hVrkbY4JoLPbXrbXJTZsLjTERTWftEUCRuyG9yY7CchYuT2Hr3iOcM7I3D8+LpX+3Tk7HEhH5F+68WsYAfwW2W2v/cMyu1cANwNKmj6vcSuglautdvPDZLp79dCddOnbgmavGc8m4/hr0JSJeyZ0z99OB64BUY8zWpm1301jq7xhjbgHygCvci+i8bXuPkJCUQuaBci4e15/FF8fQs4sGfYmI93Ln1TJfAic6bZ3Z0q/rTapqG/jj2h289EUOvcM68uL18ZwX09fpWCIiJ6V3qJ7A17sOsSg5hdxDlVw9eSCLZo+ma4gGfYmIb1C5/0hZdR1LP8zkjU15RPUI5Y1bpzB9mAZ9iYhvUbkf49PMQu5OTqOovJrbzhzM784bSadgjQ4QEd+jcgcOHa3hwfcyWLV1PyP7hvHCdRMZP7Cb07FERFosoMvdWsvqbft54N0Myqvr+M2s4fxixjCCO2h0gIj4toAt94LSKu5dkca6zCLGDezG4/PjGNkvzOlYIiIeEXDl7nJZ3vpuL49+sJ06l4t7LxrNTacPpr1GB4iIHwmocs89WEFicgrf5JQwbUhPls6PZVBPDfoSEf8TEOXe4LK8/OVunvoki6B27Xj0sliumjRQowNExG/5fblnHigjYXkK2/JLmTW6Dw9dGku/8BCnY4mItCq/Lfea+gaeW7+L59dnE94piGevPo05cRE6WxeRgOCX5f5D3mESklLYUXiUS8f35/cXj6FH52CnY4mItBm/KvfK2nqeWrODl7/aTb+uIbx8YzznjtKgLxEJPH5T7huzD5KYnEpeSSXXToki8cJRhGnQl4gEKJ8v99KqOh79YDtvfbeX6J6hvLVgKlOH9HQ6loiIo3y63FPyj3Dba5spLq/h9rOH8NtZIwgJ0qAvERGfLveoHqGM6BvGi9fHExepQV8iIv+XT5d7t9Bg/n7LFKdjiIh4HY0/FBHxQyp3ERE/pHIXEfFDKncRET+kchcR8UMqdxERP6RyFxHxQyp3ERE/ZKy1TmfAGFMM7HHjS/QCDnooji8ItPWC1hwotOZTM8ha2/t4O7yi3N1ljNlsrY13OkdbCbT1gtYcKLRmz9FlGRERP6RyFxHxQ/5S7sucDtDGAm29oDUHCq3ZQ/zimruIiPwrfzlzFxGRY6jcRUT8kM+UuzHmAmNMljEm2xiTeJz9xhjzp6b9KcaYCU7k9KRmrPnaprWmGGM2GmPGOZHTk0625mOOm2SMaTDGXN6W+VpDc9ZsjJlhjNlqjEk3xnzW1hk9rRnP7XBjzLvGmG1Na77JiZyeYox52RhTZIxJO8F+z/eXtdbr/wPaA7uAIUAwsA2I+dExs4EPAQNMBTY5nbsN1jwd6N70+YWBsOZjjvsU+AC43OncbfB97gZkAFFNt/s4nbsN1nw38FjT572BEiDY6exurPksYAKQdoL9Hu8vXzlznwxkW2tzrLW1wFvA3B8dMxd4zTb6BuhmjIlo66AedNI1W2s3WmsPN938Bohs44ye1pzvM8AvgSSgqC3DtZLmrPkaINlamwdgrfX1dTdnzRYIM8YYoAuN5V7ftjE9x1r7OY1rOBGP95evlPsAYO8xt/Obtp3qMb7kVNdzC40/+X3ZSddsjBkAzANeaMNcrak53+cRQHdjzAZjzBZjzPVtlq51NGfNfwZGA/uBVODX1lpX28RzhMf7y1f+gWxznG0/fg1nc47xJc1ejzHmHBrL/YxWTdT6mrPmp4EEa21D40mdz2vOmjsAE4GZQCfga2PMN9baHa0drpU0Z83nA1uBc4GhwCfGmC+stWWtHc4hHu8vXyn3fGDgMbcjafyJfqrH+JJmrccYEwe8BFxorT3URtlaS3PWHA+81VTsvYDZxph6a+3Ktonocc19bh+01lYAFcaYz4FxgK+We3PWfBOw1DZekM42xuwGRgHftk3ENufx/vKVyzLfAcONMYONMcHAVcDqHx2zGri+6bfOU4FSa21BWwf1oJOu2RgTBSQD1/nwWdyxTrpma+1ga220tTYaWA78woeLHZr33F4FnGmM6WCMCQWmANvbOKcnNWfNeTT+nwrGmGT/X84AAAC2SURBVL7ASCCnTVO2LY/3l0+cuVtr640x/wf4mMbftL9srU03xtzRtP8FGl85MRvIBipp/Mnvs5q55t8DPYHnm85k660PT9Rr5pr9SnPWbK3dboz5CEgBXMBL1trjvqTOFzTz+7wE+JsxJpXGSxYJ1lqfHQVsjHkTmAH0MsbkA/cDQdB6/aXxAyIifshXLsuIiMgpULmLiPghlbuIiB9SuYuI+CGVu4iIH1K5i4j4IZW7iIgf+l8zun3Y7bTMDQAAAABJRU5ErkJggg==\n",
          "text/plain": "<Figure size 432x288 with 1 Axes>"
         },
         "metadata": {
          "needs_background": "light"
         },
         "output_type": "display_data"
        },
        {
         "data": {
          "text/plain": "100"
         },
         "metadata": {},
         "output_type": "display_data"
        }
       ]
      }
     },
     "7bbcead946d1419bb7883313f355fa65": {
      "model_module": "@jupyter-widgets/controls",
      "model_module_version": "1.5.0",
      "model_name": "IntSliderModel",
      "state": {
       "description": "x",
       "layout": "IPY_MODEL_ad9f65f7b3264deba73186fb5f222729",
       "max": 30,
       "min": -10,
       "style": "IPY_MODEL_4d86623c54aa438d87d445c8f35a3bf4",
       "value": 10
      }
     },
     "7bfb347e2b2e452283855c2e8bb7784e": {
      "model_module": "@jupyter-widgets/base",
      "model_module_version": "1.2.0",
      "model_name": "LayoutModel",
      "state": {
       "min_width": "125px"
      }
     },
     "7c4f569a92664d89bd10832ebd39a9ea": {
      "model_module": "@jupyter-widgets/controls",
      "model_module_version": "1.5.0",
      "model_name": "VBoxModel",
      "state": {
       "_dom_classes": [
        "widget-interact"
       ],
       "children": [
        "IPY_MODEL_fbd591627db84bb8adf628174cf061b7"
       ],
       "layout": "IPY_MODEL_2aa1504395074a768729764d28878d3f"
      }
     },
     "7c7ab1373a6740f5b586f6219ef70cb9": {
      "model_module": "bqplot",
      "model_module_version": "^0.4.0",
      "model_name": "AxisModel",
      "state": {
       "scale": "IPY_MODEL_b0f871b8a40d47e69664ce0d0d665e39",
       "side": "bottom",
       "tick_values": {
        "type": null,
        "values": null
       }
      }
     },
     "7ccb0f2d2f604bc7a619bbdbddba72a7": {
      "model_module": "bqplot",
      "model_module_version": "^0.4.0",
      "model_name": "FigureModel",
      "state": {
       "_dom_classes": [],
       "axes": [
        "IPY_MODEL_4a2df8b147254f1ebe6626307323bf64",
        "IPY_MODEL_8d45a1360c18477d8e8023687d24f52a"
       ],
       "layout": "IPY_MODEL_504d183325ab4060a7b7a43dac5831b6",
       "marks": [
        "IPY_MODEL_89728e28ee1b466eb477f3b27e1ca240"
       ],
       "max_aspect_ratio": 6,
       "scale_x": "IPY_MODEL_dd75b1d1be1a4c1882abf5e44277d5be",
       "scale_y": "IPY_MODEL_80632706c9b24a5b865dcbfff0490f04"
      }
     },
     "7ce9ebebaae245c2bc78301e6b3de0ac": {
      "model_module": "@jupyter-widgets/base",
      "model_module_version": "1.2.0",
      "model_name": "LayoutModel",
      "state": {}
     },
     "7cf089823265422fb8e68fc137baf0f6": {
      "model_module": "@jupyter-widgets/controls",
      "model_module_version": "1.5.0",
      "model_name": "VBoxModel",
      "state": {
       "children": [
        "IPY_MODEL_240bebee31eb4681aa23d9d830912e97",
        "IPY_MODEL_915aaad38cc841b99f90b7dfd46a1450"
       ],
       "layout": "IPY_MODEL_3543acf5415848c59cf549c35fd99c7c"
      }
     },
     "7cf9555af31d4741ad763abd99a26420": {
      "model_module": "bqplot",
      "model_module_version": "^0.4.0",
      "model_name": "LinearScaleModel",
      "state": {
       "allow_padding": false,
       "max": 1,
       "min": 0,
       "stabilized": false
      }
     },
     "7d06f1b786e245fdabc4ace0eafd94d6": {
      "model_module": "bqplot",
      "model_module_version": "^0.4.0",
      "model_name": "LinearScaleModel",
      "state": {
       "allow_padding": false,
       "max": 1,
       "min": 0,
       "stabilized": false
      }
     },
     "7d09b153f1c7422ebf9ecfa74090c087": {
      "model_module": "@jupyter-widgets/controls",
      "model_module_version": "1.5.0",
      "model_name": "VBoxModel",
      "state": {
       "_dom_classes": [
        "widget-interact"
       ],
       "children": [
        "IPY_MODEL_d13581cf6dbd487c94b60e0dc4a14e31"
       ],
       "layout": "IPY_MODEL_91daddf60bfb4360bf245460a5e7c842"
      }
     },
     "7d0abc245d2047fca3014e1215dc7721": {
      "model_module": "@jupyter-widgets/controls",
      "model_module_version": "1.5.0",
      "model_name": "VBoxModel",
      "state": {
       "children": [
        "IPY_MODEL_ba607a2251ac479bb04d6a3338cd99eb",
        "IPY_MODEL_7a4928a46ae942f79bb063e125541f0e"
       ],
       "layout": "IPY_MODEL_cf6240004ba3430aad789ed3833711dd"
      }
     },
     "7d3e98183cc34ca78679fbdc67de54ae": {
      "model_module": "@jupyter-widgets/controls",
      "model_module_version": "1.5.0",
      "model_name": "VBoxModel",
      "state": {
       "children": [
        "IPY_MODEL_7f9c9aeaf6064638b94a85c1dbbb387c",
        "IPY_MODEL_3deec9a75cc54e9e8b0c9615a8410a28"
       ],
       "layout": "IPY_MODEL_fca4b44a658c4744b8b070f0173e4d0e"
      }
     },
     "7d506d6aaf3c420c8b7da9f17d734f91": {
      "model_module": "@jupyter-widgets/controls",
      "model_module_version": "1.5.0",
      "model_name": "VBoxModel",
      "state": {
       "_dom_classes": [
        "widget-interact"
       ],
       "children": [
        "IPY_MODEL_7e35c31bc6a14f3ab66b653b76e081a9"
       ],
       "layout": "IPY_MODEL_4e92533b7b0840d19083eab3f5164106"
      }
     },
     "7d598706e18840b7b255a84cfac39f32": {
      "model_module": "@jupyter-widgets/base",
      "model_module_version": "1.2.0",
      "model_name": "LayoutModel",
      "state": {}
     },
     "7d87e273293947f1ab16ae51b2b0b6bc": {
      "model_module": "bqplot",
      "model_module_version": "^0.4.0",
      "model_name": "LinearScaleModel",
      "state": {
       "stabilized": false
      }
     },
     "7e01fad18792481e8ee640e150263f8f": {
      "model_module": "@jupyter-widgets/controls",
      "model_module_version": "1.5.0",
      "model_name": "VBoxModel",
      "state": {
       "_dom_classes": [
        "widget-interact"
       ],
       "children": [
        "IPY_MODEL_6ece334a97f94f07926e385296cc0c2f"
       ],
       "layout": "IPY_MODEL_0625ff6f6f504da59fd2c60f7fdef952"
      }
     },
     "7e044a6be7844917845f54864774b1c0": {
      "model_module": "bqplot",
      "model_module_version": "^0.4.0",
      "model_name": "LinearScaleModel",
      "state": {
       "allow_padding": false,
       "max": 1,
       "min": 0,
       "stabilized": false
      }
     },
     "7e35c31bc6a14f3ab66b653b76e081a9": {
      "model_module": "@jupyter-widgets/output",
      "model_module_version": "1.0.0",
      "model_name": "OutputModel",
      "state": {
       "layout": "IPY_MODEL_db3cb178ffcc4735a02e201e0da19028"
      }
     },
     "7e9ac5f0239b488bb4e8c1c7cbef18e8": {
      "model_module": "@jupyter-widgets/controls",
      "model_module_version": "1.5.0",
      "model_name": "VBoxModel",
      "state": {
       "_dom_classes": [
        "widget-interact"
       ],
       "children": [
        "IPY_MODEL_46f1b42e6efa456e9d27413dd71448f1",
        "IPY_MODEL_4237ee6f2482400caf571474dd3fdc39"
       ],
       "layout": "IPY_MODEL_aeeba06495904492b0cc01f2dd45e42f"
      }
     },
     "7eabe9c939da459884cd13925f9044f8": {
      "model_module": "@jupyter-widgets/output",
      "model_module_version": "1.0.0",
      "model_name": "OutputModel",
      "state": {
       "layout": "IPY_MODEL_4acc99df214c4ad7a4805837bf5efad8"
      }
     },
     "7eec5a70615c453f84bcfb9909926297": {
      "model_module": "bqplot",
      "model_module_version": "^0.4.0",
      "model_name": "LinearScaleModel",
      "state": {
       "stabilized": false
      }
     },
     "7efafef09c0149be9ef19b978b3f58d9": {
      "model_module": "bqplot",
      "model_module_version": "^0.4.0",
      "model_name": "AxisModel",
      "state": {
       "scale": "IPY_MODEL_1593f5ed58614723aa62f80d01039fcf",
       "side": "bottom",
       "tick_values": {
        "type": null,
        "values": null
       }
      }
     },
     "7f012de9ad0c41728258d54c1b72d199": {
      "model_module": "bqplot",
      "model_module_version": "^0.4.0",
      "model_name": "FigureModel",
      "state": {
       "_dom_classes": [],
       "axes": [
        "IPY_MODEL_7efafef09c0149be9ef19b978b3f58d9",
        "IPY_MODEL_22561316749141758abf232d7472c6dd"
       ],
       "layout": "IPY_MODEL_c506ea9b3f9e4d87bcf1599dbd3e368c",
       "marks": [
        "IPY_MODEL_f92216203dcf4a528da7986bdc6fc8a0"
       ],
       "max_aspect_ratio": 6,
       "scale_x": "IPY_MODEL_b17ac4c90ac34d46805cd04fda163657",
       "scale_y": "IPY_MODEL_d8a3bdd50469455c86ef5adb24300c87"
      }
     },
     "7f675147838a4d90bde8fec2fb16b89f": {
      "model_module": "bqplot",
      "model_module_version": "^0.4.0",
      "model_name": "LinearScaleModel",
      "state": {
       "allow_padding": false,
       "max": 1,
       "min": 0,
       "stabilized": false
      }
     },
     "7f7a135ba2ae4b698f9b015f1de34d06": {
      "model_module": "bqplot",
      "model_module_version": "^0.4.0",
      "model_name": "LinearScaleModel",
      "state": {
       "allow_padding": false,
       "max": 1,
       "min": 0,
       "stabilized": false
      }
     },
     "7f8ffa4f5cd64f2f8f517928e530fe27": {
      "model_module": "bqplot",
      "model_module_version": "^0.4.0",
      "model_name": "AxisModel",
      "state": {
       "orientation": "vertical",
       "scale": "IPY_MODEL_2020b60c8e24423a91477f7d6330c830",
       "side": "left",
       "tick_values": {
        "type": null,
        "values": null
       }
      }
     },
     "7f9c9aeaf6064638b94a85c1dbbb387c": {
      "model_module": "@jupyter-widgets/controls",
      "model_module_version": "1.5.0",
      "model_name": "VBoxModel",
      "state": {
       "_dom_classes": [
        "widget-interact"
       ],
       "children": [
        "IPY_MODEL_5706a1adb7ae4dfeb0d2ef8c9901ce8a"
       ],
       "layout": "IPY_MODEL_b024355745a645218c0edb6a25b9eacb"
      }
     },
     "7fa9c031e6584eb58a778c901c34117a": {
      "model_module": "@jupyter-widgets/base",
      "model_module_version": "1.2.0",
      "model_name": "LayoutModel",
      "state": {}
     },
     "7fa9e232f0cf40799b242b86f1cbcfc0": {
      "model_module": "@jupyter-widgets/controls",
      "model_module_version": "1.5.0",
      "model_name": "VBoxModel",
      "state": {
       "_dom_classes": [
        "widget-interact"
       ],
       "children": [
        "IPY_MODEL_d28ca3db3eea423890a71c91faede352"
       ],
       "layout": "IPY_MODEL_a373d2cb157c4b7d987c1fb750808d13"
      }
     },
     "7faa17cf5fb1424cb5f1ebbed76e8e60": {
      "model_module": "@jupyter-widgets/base",
      "model_module_version": "1.2.0",
      "model_name": "LayoutModel",
      "state": {}
     },
     "7ffe9248546a4145a570516fc552bad3": {
      "model_module": "bqplot",
      "model_module_version": "^0.4.0",
      "model_name": "LinearScaleModel",
      "state": {
       "allow_padding": false,
       "max": 1,
       "min": 0,
       "stabilized": false
      }
     },
     "804df1da2a194f4dbb30b7092586fa8c": {
      "model_module": "@jupyter-widgets/controls",
      "model_module_version": "1.5.0",
      "model_name": "VBoxModel",
      "state": {
       "_dom_classes": [
        "widget-interact"
       ],
       "children": [
        "IPY_MODEL_36416936f23c43dd9a1e0ced5f57d4fe"
       ],
       "layout": "IPY_MODEL_2bcadc56f3e24d46ba4bd566c86a5989"
      }
     },
     "80632706c9b24a5b865dcbfff0490f04": {
      "model_module": "bqplot",
      "model_module_version": "^0.4.0",
      "model_name": "LinearScaleModel",
      "state": {
       "allow_padding": false,
       "max": 1,
       "min": 0,
       "stabilized": false
      }
     },
     "808f990bc4834ca39aed33783710ee63": {
      "model_module": "bqplot",
      "model_module_version": "^0.4.0",
      "model_name": "LinearScaleModel",
      "state": {
       "allow_padding": false,
       "max": 1,
       "min": 0,
       "stabilized": false
      }
     },
     "80baf8df1c1c419fa94bbbab10af3df6": {
      "model_module": "@jupyter-widgets/base",
      "model_module_version": "1.2.0",
      "model_name": "LayoutModel",
      "state": {
       "min_width": "125px"
      }
     },
     "80e654fd838a402cb0b46070e5d9ad51": {
      "model_module": "@jupyter-widgets/base",
      "model_module_version": "1.2.0",
      "model_name": "LayoutModel",
      "state": {}
     },
     "81055cb5f87c49bfb5e1df9764eddb1e": {
      "model_module": "bqplot",
      "model_module_version": "^0.4.0",
      "model_name": "LinearScaleModel",
      "state": {
       "stabilized": false
      }
     },
     "81256a24e7014ac2bb54f38c95820551": {
      "model_module": "@jupyter-widgets/output",
      "model_module_version": "1.0.0",
      "model_name": "OutputModel",
      "state": {
       "layout": "IPY_MODEL_0244de74f3344ad7928a71af3be73255"
      }
     },
     "81688ef8802a4231b2b94ddf2badb1e6": {
      "model_module": "bqplot",
      "model_module_version": "^0.4.0",
      "model_name": "LinearScaleModel",
      "state": {
       "allow_padding": false,
       "max": 1,
       "min": 0,
       "stabilized": false
      }
     },
     "819d150f9f314ea99021307125495361": {
      "model_module": "bqplot",
      "model_module_version": "^0.4.0",
      "model_name": "LinearScaleModel",
      "state": {
       "allow_padding": false,
       "max": 1,
       "min": 0,
       "stabilized": false
      }
     },
     "81a547a75d724d9cb31984e2e416c1af": {
      "model_module": "bqplot",
      "model_module_version": "^0.4.0",
      "model_name": "LinearScaleModel",
      "state": {
       "allow_padding": false,
       "max": 1,
       "min": 0,
       "stabilized": false
      }
     },
     "81aeb63d51fc4e71ab578071f2b5b28d": {
      "model_module": "@jupyter-widgets/controls",
      "model_module_version": "1.5.0",
      "model_name": "VBoxModel",
      "state": {
       "_dom_classes": [
        "widget-interact"
       ],
       "children": [
        "IPY_MODEL_c45d17d15277480a9c182d86127bc63a"
       ],
       "layout": "IPY_MODEL_07529d034a8d4292be8d24ca790d1de5"
      }
     },
     "81f9303a39314e628664ae41e6e5a9ef": {
      "model_module": "@jupyter-widgets/base",
      "model_module_version": "1.2.0",
      "model_name": "LayoutModel",
      "state": {
       "min_width": "125px"
      }
     },
     "821d9cf9623943f88684c33e0a9bb8df": {
      "model_module": "bqplot",
      "model_module_version": "^0.4.0",
      "model_name": "AxisModel",
      "state": {
       "orientation": "vertical",
       "scale": "IPY_MODEL_7a910dba90bc4db2bce3af02a0520bcd",
       "side": "left",
       "tick_values": {
        "type": null,
        "values": null
       }
      }
     },
     "822c29b6aa454b60ad14f0acdd70e031": {
      "model_module": "bqplot",
      "model_module_version": "^0.4.0",
      "model_name": "LinearScaleModel",
      "state": {
       "allow_padding": false,
       "max": 1,
       "min": 0,
       "stabilized": false
      }
     },
     "8267bcc3187a423b9c66e7ff0d18ce84": {
      "model_module": "@jupyter-widgets/controls",
      "model_module_version": "1.5.0",
      "model_name": "VBoxModel",
      "state": {
       "_dom_classes": [
        "widget-interact"
       ],
       "children": [
        "IPY_MODEL_f7b05456439f4497ae78ddd77a8d675b"
       ],
       "layout": "IPY_MODEL_632a320c87fa4c76ada4ae4984b4580c"
      }
     },
     "826f46b02c594bb9b9047b060a2dafb4": {
      "model_module": "@jupyter-widgets/base",
      "model_module_version": "1.2.0",
      "model_name": "LayoutModel",
      "state": {}
     },
     "82c70184eb124eee99ef5019a50853af": {
      "model_module": "@jupyter-widgets/base",
      "model_module_version": "1.2.0",
      "model_name": "LayoutModel",
      "state": {}
     },
     "82fb9d82245f40879043d2e79a9cc463": {
      "model_module": "bqplot",
      "model_module_version": "^0.4.0",
      "model_name": "AxisModel",
      "state": {
       "orientation": "vertical",
       "scale": "IPY_MODEL_96b36e7c93e442868a3ccc6674ca720c",
       "side": "left",
       "tick_values": {
        "type": null,
        "values": null
       }
      }
     },
     "8345e001b5f14727a8eb5fc443691c54": {
      "model_module": "@jupyter-widgets/base",
      "model_module_version": "1.2.0",
      "model_name": "LayoutModel",
      "state": {
       "min_width": "125px"
      }
     },
     "835bad01b2d24598854bab160ed7d64f": {
      "model_module": "@jupyter-widgets/base",
      "model_module_version": "1.2.0",
      "model_name": "LayoutModel",
      "state": {}
     },
     "8411cc305650467ab56ffa63daf12a1b": {
      "model_module": "bqplot",
      "model_module_version": "^0.4.0",
      "model_name": "LinearScaleModel",
      "state": {
       "stabilized": false
      }
     },
     "8452a2959776434e8479254769e38627": {
      "model_module": "bqplot",
      "model_module_version": "^0.4.0",
      "model_name": "LinearScaleModel",
      "state": {
       "allow_padding": false,
       "max": 1,
       "min": 0,
       "stabilized": false
      }
     },
     "847f726e027f4d0b9c9c5dfab271e6e9": {
      "model_module": "bqplot",
      "model_module_version": "^0.4.0",
      "model_name": "LinearScaleModel",
      "state": {
       "allow_padding": false,
       "max": 1,
       "min": 0,
       "stabilized": false
      }
     },
     "84835623125f4284b3c3997393e0fdc5": {
      "model_module": "bqplot",
      "model_module_version": "^0.4.0",
      "model_name": "LinearScaleModel",
      "state": {
       "allow_padding": false,
       "max": 1,
       "min": 0,
       "stabilized": false
      }
     },
     "84cec308171545c5acf84d96d379c34f": {
      "model_module": "bqplot",
      "model_module_version": "^0.4.0",
      "model_name": "LinesModel",
      "state": {
       "color": {
        "type": null,
        "values": null
       },
       "colors": [
        "#475A77"
       ],
       "display_legend": false,
       "fill_colors": [],
       "labels": [
        "C1"
       ],
       "scales": {
        "x": "IPY_MODEL_34cf1866bb2e498b859d1ebaf9e86294",
        "y": "IPY_MODEL_c8788787e1574d81bbe7adcb5e3310da"
       },
       "selected": [],
       "x": {
        "type": "float",
        "values": [
         1,
         2,
         3
        ]
       },
       "y": {
        "type": "float",
        "values": [
         27,
         10,
         133
        ]
       }
      }
     },
     "84e743fe9ccb4339ad685eb0e0bb42f3": {
      "model_module": "bqplot",
      "model_module_version": "^0.4.0",
      "model_name": "AxisModel",
      "state": {
       "scale": "IPY_MODEL_48bfd13a83cd4e0c85434d7f70c3229e",
       "side": "bottom",
       "tick_values": {
        "type": null,
        "values": null
       }
      }
     },
     "855d277612354d7c9141945fb0cb8099": {
      "model_module": "bqplot",
      "model_module_version": "^0.4.0",
      "model_name": "FigureModel",
      "state": {
       "_dom_classes": [],
       "axes": [
        "IPY_MODEL_26721e2ac56747889b4c0d5cb433aa7a",
        "IPY_MODEL_5041a3041f6e4edb90c63914ff5ba120"
       ],
       "layout": "IPY_MODEL_867bf553aa084ccf9ac97eae2c52dcae",
       "marks": [
        "IPY_MODEL_2d1f20d204ed4c09bbda46bad0987fe1"
       ],
       "max_aspect_ratio": 6,
       "scale_x": "IPY_MODEL_f9d852c67db547238f872a1a21076f2c",
       "scale_y": "IPY_MODEL_9fb0afba97e942df965aa4fb98e5ad73"
      }
     },
     "85e9d956dfc84466aa7acf2f247b813a": {
      "model_module": "bqplot",
      "model_module_version": "^0.4.0",
      "model_name": "FigureModel",
      "state": {
       "_dom_classes": [],
       "axes": [
        "IPY_MODEL_3e210696a82c4f81b7620e07c15bdc9e",
        "IPY_MODEL_1f3eae33040440a5bd17bc359b3bfac0"
       ],
       "layout": "IPY_MODEL_81f9303a39314e628664ae41e6e5a9ef",
       "marks": [
        "IPY_MODEL_c3bd05871e024cfe948d44ac8315b3df"
       ],
       "max_aspect_ratio": 6,
       "scale_x": "IPY_MODEL_b3d27c5a888a48ddb0c561d46f3d949c",
       "scale_y": "IPY_MODEL_066208fad5014701adc5936ac3525cf1"
      }
     },
     "86088610e4d640f0970fd013f78d2e76": {
      "model_module": "@jupyter-widgets/base",
      "model_module_version": "1.2.0",
      "model_name": "LayoutModel",
      "state": {}
     },
     "8615bb2b72dd4205b849c9a52ee3e24e": {
      "model_module": "bqplot",
      "model_module_version": "^0.4.0",
      "model_name": "LinearScaleModel",
      "state": {
       "stabilized": false
      }
     },
     "8615c0b7fb554941bfaf8fd8db2e9d40": {
      "model_module": "@jupyter-widgets/controls",
      "model_module_version": "1.5.0",
      "model_name": "VBoxModel",
      "state": {
       "children": [
        "IPY_MODEL_d10a93ec48e24abbab5f493ad2a641df",
        "IPY_MODEL_9d1cd5fecc04429f9830e0e8135ba92a"
       ],
       "layout": "IPY_MODEL_cb75775c0336450caba10e6ceb328c4a"
      }
     },
     "861e00e532764952a32bb7a14c8ce350": {
      "model_module": "@jupyter-widgets/base",
      "model_module_version": "1.2.0",
      "model_name": "LayoutModel",
      "state": {}
     },
     "867a7418c2af4131ad6d402b6f6a7ad9": {
      "model_module": "@jupyter-widgets/controls",
      "model_module_version": "1.5.0",
      "model_name": "VBoxModel",
      "state": {
       "children": [
        "IPY_MODEL_81aeb63d51fc4e71ab578071f2b5b28d",
        "IPY_MODEL_d8b7c76712ba4f338a960a41e3cfa2c3"
       ],
       "layout": "IPY_MODEL_5ef4aa1b1a51439585b05f9ac6a067a6"
      }
     },
     "867bf553aa084ccf9ac97eae2c52dcae": {
      "model_module": "@jupyter-widgets/base",
      "model_module_version": "1.2.0",
      "model_name": "LayoutModel",
      "state": {
       "min_width": "125px"
      }
     },
     "86acdac4589d4a098632239e1b021075": {
      "model_module": "bqplot",
      "model_module_version": "^0.4.0",
      "model_name": "LinearScaleModel",
      "state": {
       "stabilized": false
      }
     },
     "86b34427ce314e1eb745a22d01744d6f": {
      "model_module": "bqplot",
      "model_module_version": "^0.4.0",
      "model_name": "LinearScaleModel",
      "state": {
       "stabilized": false
      }
     },
     "87376380b9a14dc2a52e961e6f6aaf66": {
      "model_module": "@jupyter-widgets/base",
      "model_module_version": "1.2.0",
      "model_name": "LayoutModel",
      "state": {}
     },
     "8760b414f0e8480d8b27724f0b36f51c": {
      "model_module": "bqplot",
      "model_module_version": "^0.4.0",
      "model_name": "LinearScaleModel",
      "state": {
       "allow_padding": false,
       "max": 1,
       "min": 0,
       "stabilized": false
      }
     },
     "87668da53113406790b3368975892c68": {
      "model_module": "bqplot",
      "model_module_version": "^0.4.0",
      "model_name": "LinearScaleModel",
      "state": {
       "stabilized": false
      }
     },
     "87685b42a6f64baeaf2de373bd0790ff": {
      "model_module": "bqplot",
      "model_module_version": "^0.4.0",
      "model_name": "LinesModel",
      "state": {
       "color": {
        "type": null,
        "values": null
       },
       "colors": [
        "#475A77"
       ],
       "display_legend": false,
       "fill_colors": [],
       "scales": {
        "x": "IPY_MODEL_c1d51c595bd040778b2edaadff48cc33",
        "y": "IPY_MODEL_9883a071812d4291805fe5b1153ab559"
       },
       "selected": [],
       "x": {
        "type": "float",
        "values": []
       },
       "y": {
        "type": "float",
        "values": []
       }
      }
     },
     "878a855d76154d559e29505fd9d60478": {
      "model_module": "bqplot",
      "model_module_version": "^0.4.0",
      "model_name": "LinesModel",
      "state": {
       "color": {
        "type": null,
        "values": null
       },
       "colors": [
        "#475A77"
       ],
       "display_legend": false,
       "fill_colors": [],
       "scales": {
        "x": "IPY_MODEL_30bbb9ad72f9484fba952dee3979ff24",
        "y": "IPY_MODEL_981259fa0cd34dc78d463d4d27386a7f"
       },
       "selected": [],
       "x": {
        "type": "float",
        "values": []
       },
       "y": {
        "type": "float",
        "values": []
       }
      }
     },
     "880d26f7dfee42fcaa8845e27e75bea1": {
      "model_module": "bqplot",
      "model_module_version": "^0.4.0",
      "model_name": "LinearScaleModel",
      "state": {
       "allow_padding": false,
       "max": 1,
       "min": 0,
       "stabilized": false
      }
     },
     "8813fbd624114083ab216611e8388e4c": {
      "model_module": "bqplot",
      "model_module_version": "^0.4.0",
      "model_name": "LinearScaleModel",
      "state": {
       "allow_padding": false,
       "max": 1,
       "min": 0,
       "stabilized": false
      }
     },
     "8897fb0374b04855b7389fda62f37ea5": {
      "model_module": "@jupyter-widgets/base",
      "model_module_version": "1.2.0",
      "model_name": "LayoutModel",
      "state": {}
     },
     "88c9d3812ac24991b21e4a3ad75066af": {
      "model_module": "@jupyter-widgets/controls",
      "model_module_version": "1.5.0",
      "model_name": "VBoxModel",
      "state": {
       "children": [
        "IPY_MODEL_cd2c9b82286d436d89e11d3a0b5b06d6",
        "IPY_MODEL_248bb81c9aaf4350a60b39e15e6fc1d5"
       ],
       "layout": "IPY_MODEL_46824b2847e14d7bb12549a34fed376a"
      }
     },
     "88ca5195355c443a8ace33e40e226bb3": {
      "model_module": "bqplot",
      "model_module_version": "^0.4.0",
      "model_name": "AxisModel",
      "state": {
       "scale": "IPY_MODEL_c1d51c595bd040778b2edaadff48cc33",
       "side": "bottom",
       "tick_values": {
        "type": null,
        "values": null
       }
      }
     },
     "89555df67676433ab4dbe853e2e2f122": {
      "model_module": "bqplot",
      "model_module_version": "^0.4.0",
      "model_name": "LinearScaleModel",
      "state": {
       "allow_padding": false,
       "max": 1,
       "min": 0,
       "stabilized": false
      }
     },
     "8959314179f84c3cb985f88a78336ef7": {
      "model_module": "bqplot",
      "model_module_version": "^0.4.0",
      "model_name": "LinesModel",
      "state": {
       "color": {
        "type": null,
        "values": null
       },
       "colors": [
        "#475A77"
       ],
       "display_legend": false,
       "fill_colors": [],
       "scales": {
        "x": "IPY_MODEL_5862861a206f41c59c445c288c94c7c2",
        "y": "IPY_MODEL_7763ba34194a4eb089bdab8330218aee"
       },
       "selected": [],
       "x": {
        "type": "float",
        "values": []
       },
       "y": {
        "type": "float",
        "values": []
       }
      }
     },
     "89619e021c03412b95dbc1d1d4309fd9": {
      "model_module": "bqplot",
      "model_module_version": "^0.4.0",
      "model_name": "AxisModel",
      "state": {
       "orientation": "vertical",
       "scale": "IPY_MODEL_e49846a7163c4049a4d84d122dccdb33",
       "side": "left",
       "tick_values": {
        "type": null,
        "values": null
       }
      }
     },
     "89728e28ee1b466eb477f3b27e1ca240": {
      "model_module": "bqplot",
      "model_module_version": "^0.4.0",
      "model_name": "LinesModel",
      "state": {
       "color": {
        "type": null,
        "values": null
       },
       "colors": [
        "#475A77"
       ],
       "display_legend": false,
       "fill_colors": [],
       "labels": [
        "C1"
       ],
       "scales": {
        "x": "IPY_MODEL_8a643184d8084a52b1b611caa9e8878c",
        "y": "IPY_MODEL_40b1241e9be1484fa97308ff2b04a931"
       },
       "selected": [],
       "x": {
        "type": "float",
        "values": [
         1,
         2,
         3
        ]
       },
       "y": {
        "type": "float",
        "values": [
         24,
         7,
         112
        ]
       }
      }
     },
     "898fcbe7118d4592b723e4b2a4b79bd1": {
      "model_module": "bqplot",
      "model_module_version": "^0.4.0",
      "model_name": "LinearScaleModel",
      "state": {
       "stabilized": false
      }
     },
     "89d6cd093ed54e87be0ee6f26f8b63db": {
      "model_module": "bqplot",
      "model_module_version": "^0.4.0",
      "model_name": "LinearScaleModel",
      "state": {
       "stabilized": false
      }
     },
     "89e3359f53d84b7c8f2baaf31486f070": {
      "model_module": "bqplot",
      "model_module_version": "^0.4.0",
      "model_name": "FigureModel",
      "state": {
       "_dom_classes": [],
       "axes": [
        "IPY_MODEL_62580203a7064197baa1e860d939974a",
        "IPY_MODEL_4c71e495c56349d9991f5e8ac1ebc073"
       ],
       "layout": "IPY_MODEL_8b5d756b6ef844d1b481da226af697cc",
       "marks": [
        "IPY_MODEL_9758bba2aa3d4017acf61ec956dbe350"
       ],
       "max_aspect_ratio": 6,
       "scale_x": "IPY_MODEL_496ea6defc5d42dfa82d62a11edc8be2",
       "scale_y": "IPY_MODEL_adfa4ce1118e4f34a3b2a80729516e02"
      }
     },
     "8a643184d8084a52b1b611caa9e8878c": {
      "model_module": "bqplot",
      "model_module_version": "^0.4.0",
      "model_name": "LinearScaleModel",
      "state": {
       "stabilized": false
      }
     },
     "8a644b5a16bc417db4846f818a21f44c": {
      "model_module": "bqplot",
      "model_module_version": "^0.4.0",
      "model_name": "AxisModel",
      "state": {
       "orientation": "vertical",
       "scale": "IPY_MODEL_0d2f00c5134e4312b08c07edfeebe208",
       "side": "left",
       "tick_values": {
        "type": null,
        "values": null
       }
      }
     },
     "8b01322e333c43b38ffbb60bf678bd0b": {
      "model_module": "@jupyter-widgets/output",
      "model_module_version": "1.0.0",
      "model_name": "OutputModel",
      "state": {
       "layout": "IPY_MODEL_d809d14d35be4bcc800fe488fb4c4165"
      }
     },
     "8b2b80223c074b97b43fc8033b74424e": {
      "model_module": "bqplot",
      "model_module_version": "^0.4.0",
      "model_name": "LinesModel",
      "state": {
       "color": {
        "type": null,
        "values": null
       },
       "colors": [
        "#475A77"
       ],
       "display_legend": false,
       "fill_colors": [],
       "labels": [
        "C1"
       ],
       "scales": {
        "x": "IPY_MODEL_25e0d184de854a10a4035630eba4087e",
        "y": "IPY_MODEL_614d8cfcd68d49fd805afff366deeb72"
       },
       "selected": [],
       "x": {
        "type": "float",
        "values": [
         1,
         2,
         3
        ]
       },
       "y": {
        "type": "float",
        "values": [
         17,
         0,
         63
        ]
       }
      }
     },
     "8b5d5c10aeb9488080a77aa256e14ee8": {
      "model_module": "bqplot",
      "model_module_version": "^0.4.0",
      "model_name": "FigureModel",
      "state": {
       "_dom_classes": [],
       "axes": [
        "IPY_MODEL_49f0adaf92c14bb4b1f76857fe0d0b84",
        "IPY_MODEL_9cf3def240c94c9b93eeb0dc61d51c08"
       ],
       "layout": "IPY_MODEL_7ba0ae563ed34224a2885aebb4c82fdf",
       "marks": [
        "IPY_MODEL_1fc055e47dea48288611b3190df9d4a0"
       ],
       "max_aspect_ratio": 6,
       "scale_x": "IPY_MODEL_31def885576a4fb3a4e9cf29d6dca218",
       "scale_y": "IPY_MODEL_08a098af32db42548278903ed7ee5868"
      }
     },
     "8b5d756b6ef844d1b481da226af697cc": {
      "model_module": "@jupyter-widgets/base",
      "model_module_version": "1.2.0",
      "model_name": "LayoutModel",
      "state": {
       "min_width": "125px"
      }
     },
     "8b646b0a255b4c56839dbd038ff459e5": {
      "model_module": "@jupyter-widgets/output",
      "model_module_version": "1.0.0",
      "model_name": "OutputModel",
      "state": {
       "layout": "IPY_MODEL_5d054c165dae425883b2052fb93ed3ea",
       "outputs": [
        {
         "data": {
          "image/png": "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\n",
          "text/plain": "<Figure size 432x288 with 1 Axes>"
         },
         "metadata": {
          "needs_background": "light"
         },
         "output_type": "display_data"
        },
        {
         "data": {
          "text/plain": "100"
         },
         "metadata": {},
         "output_type": "display_data"
        }
       ]
      }
     },
     "8b66654f614f47cca151ac9c054d6102": {
      "model_module": "bqplot",
      "model_module_version": "^0.4.0",
      "model_name": "LinesModel",
      "state": {
       "color": {
        "type": null,
        "values": null
       },
       "colors": [
        "#475A77"
       ],
       "display_legend": false,
       "fill_colors": [],
       "labels": [
        "C1"
       ],
       "scales": {
        "x": "IPY_MODEL_f5c5f7b5ed19428e838f14696dcaffa3",
        "y": "IPY_MODEL_a3defc0b1ad44fe498434d3dd3dada15"
       },
       "selected": [],
       "x": {
        "type": "float",
        "values": [
         1,
         2,
         3
        ]
       },
       "y": {
        "type": "float",
        "values": [
         10,
         11,
         9
        ]
       }
      }
     },
     "8b94f5467d74413e8eb0796d4e38ab79": {
      "model_module": "bqplot",
      "model_module_version": "^0.4.0",
      "model_name": "FigureModel",
      "state": {
       "_dom_classes": [],
       "axes": [
        "IPY_MODEL_c7cf900c6c8748e3a59eeeb404bb61f0",
        "IPY_MODEL_656856dfa94b469d8944ab0205905754"
       ],
       "layout": "IPY_MODEL_5e87726b7419404ab0f8c9533985b856",
       "marks": [
        "IPY_MODEL_0a17e229999e4accb0a3b0bff232210e"
       ],
       "max_aspect_ratio": 6,
       "scale_x": "IPY_MODEL_e6bcf82260564664ba9c0ac7abaf4012",
       "scale_y": "IPY_MODEL_fac5215f8ec3467f96f24baa7811ddf6"
      }
     },
     "8be0a306d9e947f4b9a228b5c5a8dae3": {
      "model_module": "@jupyter-widgets/base",
      "model_module_version": "1.2.0",
      "model_name": "LayoutModel",
      "state": {}
     },
     "8c49c6d360cb490d9499e7f265ad824b": {
      "model_module": "@jupyter-widgets/base",
      "model_module_version": "1.2.0",
      "model_name": "LayoutModel",
      "state": {}
     },
     "8c628113fc014bc7b5fdd74ba32a3766": {
      "model_module": "@jupyter-widgets/base",
      "model_module_version": "1.2.0",
      "model_name": "LayoutModel",
      "state": {}
     },
     "8c9986f6838143138282f209ffa532b9": {
      "model_module": "bqplot",
      "model_module_version": "^0.4.0",
      "model_name": "LinearScaleModel",
      "state": {
       "stabilized": false
      }
     },
     "8cc07825e82d4bc8a1747f46ae6d5434": {
      "model_module": "@jupyter-widgets/base",
      "model_module_version": "1.2.0",
      "model_name": "LayoutModel",
      "state": {
       "min_width": "125px"
      }
     },
     "8cd887a563a54f4c936d8558b94389aa": {
      "model_module": "@jupyter-widgets/controls",
      "model_module_version": "1.5.0",
      "model_name": "VBoxModel",
      "state": {
       "children": [
        "IPY_MODEL_10fd3f79094f43c8a824ec57029c99d2",
        "IPY_MODEL_f726438588c3424bafcc8dda1995a0ac"
       ],
       "layout": "IPY_MODEL_7d598706e18840b7b255a84cfac39f32"
      }
     },
     "8cdf8fbf598940b2888a756b090f792a": {
      "model_module": "@jupyter-widgets/base",
      "model_module_version": "1.2.0",
      "model_name": "LayoutModel",
      "state": {
       "min_width": "125px"
      }
     },
     "8d36102b5c994baf941c9edbadf7fb0d": {
      "model_module": "@jupyter-widgets/controls",
      "model_module_version": "1.5.0",
      "model_name": "VBoxModel",
      "state": {
       "_dom_classes": [
        "widget-interact"
       ],
       "children": [
        "IPY_MODEL_5036e3d2f2a54f0e8e94c3da92ec9e13",
        "IPY_MODEL_193efe2340fe4b35bc89e9d18a1cf086"
       ],
       "layout": "IPY_MODEL_04827b1771324a9984d919a270dd8e95"
      }
     },
     "8d45a1360c18477d8e8023687d24f52a": {
      "model_module": "bqplot",
      "model_module_version": "^0.4.0",
      "model_name": "AxisModel",
      "state": {
       "orientation": "vertical",
       "scale": "IPY_MODEL_40b1241e9be1484fa97308ff2b04a931",
       "side": "left",
       "tick_values": {
        "type": null,
        "values": null
       }
      }
     },
     "8d46e01d52d74377865fa3aa7fbb544c": {
      "model_module": "bqplot",
      "model_module_version": "^0.4.0",
      "model_name": "AxisModel",
      "state": {
       "orientation": "vertical",
       "scale": "IPY_MODEL_c005b6c54d09460c8a47ddf413dc9f64",
       "side": "left",
       "tick_values": {
        "type": null,
        "values": null
       }
      }
     },
     "8d55c49529234d728c3c24d051e573d0": {
      "model_module": "@jupyter-widgets/controls",
      "model_module_version": "1.5.0",
      "model_name": "VBoxModel",
      "state": {
       "_dom_classes": [
        "widget-interact"
       ],
       "children": [
        "IPY_MODEL_e3014ebf514f4806978ac723255d2f2e",
        "IPY_MODEL_7106223d98d04d7fa9e8ad4f0ecb7586"
       ],
       "layout": "IPY_MODEL_fa6fb0f61b994ec395b07e773d8c2f6d"
      }
     },
     "8d65c2259a7a4a91a910adda6d25a5eb": {
      "model_module": "bqplot",
      "model_module_version": "^0.4.0",
      "model_name": "LinearScaleModel",
      "state": {
       "allow_padding": false,
       "max": 1,
       "min": 0,
       "stabilized": false
      }
     },
     "8d7c8257543a4b6e903f7f9313b50e83": {
      "model_module": "@jupyter-widgets/base",
      "model_module_version": "1.2.0",
      "model_name": "LayoutModel",
      "state": {}
     },
     "8d9286439c244be4aefca40440f1329e": {
      "model_module": "bqplot",
      "model_module_version": "^0.4.0",
      "model_name": "LinearScaleModel",
      "state": {
       "stabilized": false
      }
     },
     "8e02e2b12ee144fcb38e9079974cc9cd": {
      "model_module": "@jupyter-widgets/base",
      "model_module_version": "1.2.0",
      "model_name": "LayoutModel",
      "state": {
       "min_width": "125px"
      }
     },
     "8e810cb1f8d44904a3bdfe6aa3169543": {
      "model_module": "@jupyter-widgets/controls",
      "model_module_version": "1.5.0",
      "model_name": "VBoxModel",
      "state": {
       "_dom_classes": [
        "widget-interact"
       ],
       "children": [
        "IPY_MODEL_ab9c5d6fb3b34e88bc8d0743b33fa49e",
        "IPY_MODEL_7aaa2abdea8c4c47a86b04f6a5f26265",
        "IPY_MODEL_4980126cb61740dd9c8736f6620873ea"
       ],
       "layout": "IPY_MODEL_72f20e7b26814b1aa3c088ee0ab5debc"
      }
     },
     "8e9a3e91cc86491a9940d0bb78ca22c0": {
      "model_module": "@jupyter-widgets/controls",
      "model_module_version": "1.5.0",
      "model_name": "VBoxModel",
      "state": {
       "_dom_classes": [
        "widget-interact"
       ],
       "children": [
        "IPY_MODEL_ad48c366b9f94cdbb35f738f89256ab9"
       ],
       "layout": "IPY_MODEL_ad5a1ef5356340f39af4c5d33f65d931"
      }
     },
     "8eac79764bd44360a418a89a6077c096": {
      "model_module": "bqplot",
      "model_module_version": "^0.4.0",
      "model_name": "LinearScaleModel",
      "state": {
       "allow_padding": false,
       "max": 1,
       "min": 0,
       "stabilized": false
      }
     },
     "8ee666ed59f44658a1cee07ab9c2f39d": {
      "model_module": "bqplot",
      "model_module_version": "^0.4.0",
      "model_name": "LinearScaleModel",
      "state": {
       "allow_padding": false,
       "max": 1,
       "min": 0,
       "stabilized": false
      }
     },
     "8ef4420db1f74453b831b1efef71a031": {
      "model_module": "bqplot",
      "model_module_version": "^0.4.0",
      "model_name": "LinearScaleModel",
      "state": {
       "allow_padding": false,
       "max": 1,
       "min": 0,
       "stabilized": false
      }
     },
     "8f126844635c4f27b8a08b23db1495ae": {
      "model_module": "@jupyter-widgets/output",
      "model_module_version": "1.0.0",
      "model_name": "OutputModel",
      "state": {
       "layout": "IPY_MODEL_660f6c542eb94db492372d91b02976d5",
       "outputs": [
        {
         "data": {
          "application/vnd.jupyter.widget-view+json": {
           "model_id": "66ff85fdd60248baa04593a2a5489ddf",
           "version_major": 2,
           "version_minor": 0
          },
          "text/plain": "VBox(children=(interactive(children=(Output(),), _dom_classes=('widget-interact',)), Figure(axes=[Axis(scale=L…"
         },
         "metadata": {},
         "output_type": "display_data"
        }
       ]
      }
     },
     "8f1357cd392846edacc3cb1f03457c98": {
      "model_module": "bqplot",
      "model_module_version": "^0.4.0",
      "model_name": "LinearScaleModel",
      "state": {
       "allow_padding": false,
       "max": 1,
       "min": 0,
       "stabilized": false
      }
     },
     "8f6a20f607e04719983a623c40679bac": {
      "model_module": "bqplot",
      "model_module_version": "^0.4.0",
      "model_name": "LinearScaleModel",
      "state": {
       "allow_padding": false,
       "max": 1,
       "min": 0,
       "stabilized": false
      }
     },
     "8f9c9796db044f7aa9c31254ac15b233": {
      "model_module": "bqplot",
      "model_module_version": "^0.4.0",
      "model_name": "LinearScaleModel",
      "state": {
       "allow_padding": false,
       "max": 1,
       "min": 0,
       "stabilized": false
      }
     },
     "8fb85c9c6fcb4805a322721797946f53": {
      "model_module": "bqplot",
      "model_module_version": "^0.4.0",
      "model_name": "LinearScaleModel",
      "state": {
       "stabilized": false
      }
     },
     "8fc353ac2db84f95a22640f45a774e53": {
      "model_module": "bqplot",
      "model_module_version": "^0.4.0",
      "model_name": "LinearScaleModel",
      "state": {
       "allow_padding": false,
       "max": 1,
       "min": 0,
       "stabilized": false
      }
     },
     "8fe2c5cdcc1645849386c3feb6c3e7e4": {
      "model_module": "@jupyter-widgets/base",
      "model_module_version": "1.2.0",
      "model_name": "LayoutModel",
      "state": {
       "min_width": "125px"
      }
     },
     "900fafd9e4554ce99b70a6332f13211c": {
      "model_module": "@jupyter-widgets/base",
      "model_module_version": "1.2.0",
      "model_name": "LayoutModel",
      "state": {}
     },
     "904335d9e0fa4cad8988abed361a4722": {
      "model_module": "bqplot",
      "model_module_version": "^0.4.0",
      "model_name": "FigureModel",
      "state": {
       "_dom_classes": [],
       "axes": [
        "IPY_MODEL_3cb8669c6d344fadaa74c4b101a56207",
        "IPY_MODEL_9ff39db07f2944fc81ddc2e858ce34e5"
       ],
       "layout": "IPY_MODEL_04797decc088450ab9c23af1c29e0b15",
       "marks": [
        "IPY_MODEL_a7248b63d19146a0862648691f3ec4cc"
       ],
       "max_aspect_ratio": 6,
       "scale_x": "IPY_MODEL_02fdfd8876314941a2ead85e1352251a",
       "scale_y": "IPY_MODEL_0f64bf6967c647688181aca006ab3828"
      }
     },
     "904976c0822748f1b612a8abdb1f7239": {
      "model_module": "@jupyter-widgets/controls",
      "model_module_version": "1.5.0",
      "model_name": "VBoxModel",
      "state": {
       "children": [
        "IPY_MODEL_0238a0e0673e44e98ea615f94a9eeaff",
        "IPY_MODEL_21384cd290fc464085fd3818b9f476e8"
       ],
       "layout": "IPY_MODEL_3d937930bee44e468248474136dbe25a"
      }
     },
     "905ffe5247eb490f8adc3abd30d282e9": {
      "model_module": "@jupyter-widgets/base",
      "model_module_version": "1.2.0",
      "model_name": "LayoutModel",
      "state": {}
     },
     "90cd339e24a14a1b959fa813accd5822": {
      "model_module": "bqplot",
      "model_module_version": "^0.4.0",
      "model_name": "AxisModel",
      "state": {
       "orientation": "vertical",
       "scale": "IPY_MODEL_8615bb2b72dd4205b849c9a52ee3e24e",
       "side": "left",
       "tick_values": {
        "type": null,
        "values": null
       }
      }
     },
     "90cffda2670943ddb029efb5fa5b1a97": {
      "model_module": "bqplot",
      "model_module_version": "^0.4.0",
      "model_name": "FigureModel",
      "state": {
       "_dom_classes": [],
       "axes": [
        "IPY_MODEL_0d1370bdecc140d991469a13fc0edfa7",
        "IPY_MODEL_a1958f27bdca47a5a48ba57a3e5934a6"
       ],
       "layout": "IPY_MODEL_1df3317ee692475cb42eacfae9dc9649",
       "marks": [
        "IPY_MODEL_f8500c81373b4d70ad580f9be1e967e7"
       ],
       "max_aspect_ratio": 6,
       "scale_x": "IPY_MODEL_b47056eb2b0945e99457a7a3719f9318",
       "scale_y": "IPY_MODEL_0175317111b84e6f90ff50efaac644bd"
      }
     },
     "90d9ff08ac1645a39925f194da939ea3": {
      "model_module": "bqplot",
      "model_module_version": "^0.4.0",
      "model_name": "LinearScaleModel",
      "state": {
       "stabilized": false
      }
     },
     "90f5145bc9dd402c8f2868a6ed63d74a": {
      "model_module": "bqplot",
      "model_module_version": "^0.4.0",
      "model_name": "AxisModel",
      "state": {
       "scale": "IPY_MODEL_ea699396154e4ee0b45e083e3c8868eb",
       "side": "bottom",
       "tick_values": {
        "type": null,
        "values": null
       }
      }
     },
     "91264dc1ea5844ec845acd494f0399ad": {
      "model_module": "bqplot",
      "model_module_version": "^0.4.0",
      "model_name": "FigureModel",
      "state": {
       "_dom_classes": [],
       "axes": [
        "IPY_MODEL_2df22d58d9c64e37be1a114228ba6d15",
        "IPY_MODEL_143f87d534694c1299a40660d52916c7"
       ],
       "layout": "IPY_MODEL_a8d47ed63d3e438ea2ee50f4fd5f0b6e",
       "marks": [
        "IPY_MODEL_7b42bf9b6e1e4c609a18591b93cd759b"
       ],
       "max_aspect_ratio": 6,
       "scale_x": "IPY_MODEL_4011ee749983429c9247542130fcb1b2",
       "scale_y": "IPY_MODEL_914aa4ab917b401d980321b4c03d162a"
      }
     },
     "9128486fefe149529dcb4697495cb8ad": {
      "model_module": "@jupyter-widgets/controls",
      "model_module_version": "1.5.0",
      "model_name": "VBoxModel",
      "state": {
       "_dom_classes": [
        "widget-interact"
       ],
       "children": [
        "IPY_MODEL_7bbcead946d1419bb7883313f355fa65",
        "IPY_MODEL_c25a8d6ff09641288e6c0de40ebda94a"
       ],
       "layout": "IPY_MODEL_44657f84f9394186a72a30137d84a889"
      }
     },
     "914aa4ab917b401d980321b4c03d162a": {
      "model_module": "bqplot",
      "model_module_version": "^0.4.0",
      "model_name": "LinearScaleModel",
      "state": {
       "allow_padding": false,
       "max": 1,
       "min": 0,
       "stabilized": false
      }
     },
     "9157a99375e64d4c913c46f3607c3c74": {
      "model_module": "@jupyter-widgets/base",
      "model_module_version": "1.2.0",
      "model_name": "LayoutModel",
      "state": {
       "min_width": "125px"
      }
     },
     "915aaad38cc841b99f90b7dfd46a1450": {
      "model_module": "bqplot",
      "model_module_version": "^0.4.0",
      "model_name": "FigureModel",
      "state": {
       "_dom_classes": [],
       "axes": [
        "IPY_MODEL_4a40fe979c9b485694405495b1de78ad",
        "IPY_MODEL_50e8c29ae06e431abb97315ad1e87a2f"
       ],
       "layout": "IPY_MODEL_aedaf3cc5c2848d78159b120a28cc9ac",
       "marks": [
        "IPY_MODEL_acd2d35ba28f4a9b8ab3918683790f5b"
       ],
       "max_aspect_ratio": 6,
       "scale_x": "IPY_MODEL_4f07ffcbd97a490fb42b60444642af75",
       "scale_y": "IPY_MODEL_dbc2626fdcdf49b48563446eeb0dce5f"
      }
     },
     "915fe5ceecd3462aa4d92fb42b2836c4": {
      "model_module": "bqplot",
      "model_module_version": "^0.4.0",
      "model_name": "FigureModel",
      "state": {
       "_dom_classes": [],
       "axes": [
        "IPY_MODEL_cf1960e86d3e42668faeffaa57c308de",
        "IPY_MODEL_8a644b5a16bc417db4846f818a21f44c"
       ],
       "layout": "IPY_MODEL_28765304fcf0480a964e9a499188d9b8",
       "marks": [
        "IPY_MODEL_e98b4fa67f3b4c139e923627952ae40a"
       ],
       "max_aspect_ratio": 6,
       "scale_x": "IPY_MODEL_2d961f79c58049bd903f204c70b7411d",
       "scale_y": "IPY_MODEL_925def370c8143d2bf6113245122ceb7"
      }
     },
     "9164a7fcf34949b28780feeeb2409746": {
      "model_module": "@jupyter-widgets/output",
      "model_module_version": "1.0.0",
      "model_name": "OutputModel",
      "state": {
       "layout": "IPY_MODEL_db8af4ad1ae54a6fb86bd9676dac252c"
      }
     },
     "916f7acbc8944108944b86f1102e77f7": {
      "model_module": "bqplot",
      "model_module_version": "^0.4.0",
      "model_name": "LinearScaleModel",
      "state": {
       "allow_padding": false,
       "max": 1,
       "min": 0,
       "stabilized": false
      }
     },
     "91885c61fc3c47eeae2cf2836322495c": {
      "model_module": "bqplot",
      "model_module_version": "^0.4.0",
      "model_name": "LinearScaleModel",
      "state": {
       "stabilized": false
      }
     },
     "91daddf60bfb4360bf245460a5e7c842": {
      "model_module": "@jupyter-widgets/base",
      "model_module_version": "1.2.0",
      "model_name": "LayoutModel",
      "state": {}
     },
     "91ef48fad4834ac89b5f9bd33ae6ab0c": {
      "model_module": "bqplot",
      "model_module_version": "^0.4.0",
      "model_name": "LinesModel",
      "state": {
       "color": {
        "type": null,
        "values": null
       },
       "colors": [
        "#475A77"
       ],
       "display_legend": false,
       "fill_colors": [],
       "labels": [
        "C1"
       ],
       "scales": {
        "x": "IPY_MODEL_e7e552b3ca2b4a9aa035aa57f8abe08a",
        "y": "IPY_MODEL_20aebde7e6ca4b1fb8ac2370d38452c7"
       },
       "selected": [],
       "x": {
        "type": "float",
        "values": [
         1,
         2,
         3
        ]
       },
       "y": {
        "type": "float",
        "values": [
         5,
         -12,
         -21
        ]
       }
      }
     },
     "92064e0e98e74ebfa8d2d34e9e153496": {
      "model_module": "bqplot",
      "model_module_version": "^0.4.0",
      "model_name": "FigureModel",
      "state": {
       "_dom_classes": [],
       "axes": [
        "IPY_MODEL_41faaa3286bf4ff5a082afc0b8fa5f24",
        "IPY_MODEL_66a33e2d20ec479bb2ff49674ecc43a0"
       ],
       "layout": "IPY_MODEL_46601513e6e246cf899a0a57bc87502d",
       "marks": [
        "IPY_MODEL_84cec308171545c5acf84d96d379c34f"
       ],
       "max_aspect_ratio": 6,
       "scale_x": "IPY_MODEL_4dc2d2e86a6d4b1e90a42b447690c10c",
       "scale_y": "IPY_MODEL_762fb04b625e432587e7448e028e592b"
      }
     },
     "923949af947d4b49b6b7d901cff9f696": {
      "model_module": "@jupyter-widgets/base",
      "model_module_version": "1.2.0",
      "model_name": "LayoutModel",
      "state": {}
     },
     "9248e9d474074f59a9785a6495473499": {
      "model_module": "@jupyter-widgets/controls",
      "model_module_version": "1.5.0",
      "model_name": "VBoxModel",
      "state": {
       "children": [
        "IPY_MODEL_23191c5004224ddcabd1bb6361e517f2",
        "IPY_MODEL_e40afb867db2497b8489ee6cdd22fdd3"
       ],
       "layout": "IPY_MODEL_514c990c03a643379a665360c7de4ea9"
      }
     },
     "925def370c8143d2bf6113245122ceb7": {
      "model_module": "bqplot",
      "model_module_version": "^0.4.0",
      "model_name": "LinearScaleModel",
      "state": {
       "allow_padding": false,
       "max": 1,
       "min": 0,
       "stabilized": false
      }
     },
     "92b5d321e44e4e10a4010afd23036eda": {
      "model_module": "@jupyter-widgets/controls",
      "model_module_version": "1.5.0",
      "model_name": "VBoxModel",
      "state": {
       "_dom_classes": [
        "widget-interact"
       ],
       "children": [
        "IPY_MODEL_0cff389874f0408296ba34bb6ea24fee"
       ],
       "layout": "IPY_MODEL_dd29bbc044aa476ebb08a4c3f4a09ae3"
      }
     },
     "92d877e308fb42eba118b359281e66f2": {
      "model_module": "@jupyter-widgets/controls",
      "model_module_version": "1.5.0",
      "model_name": "IntSliderModel",
      "state": {
       "description": "x",
       "layout": "IPY_MODEL_5c25d9eceec7406ebb1483f285a9c4e9",
       "max": 30,
       "min": -10,
       "style": "IPY_MODEL_28f84f0785954b86b3f399698d091749",
       "value": 10
      }
     },
     "930465d70be14605a89e666424c62fb0": {
      "model_module": "bqplot",
      "model_module_version": "^0.4.0",
      "model_name": "LinearScaleModel",
      "state": {
       "allow_padding": false,
       "max": 1,
       "min": 0,
       "stabilized": false
      }
     },
     "931995dcfcf7475085c568f7d151f55a": {
      "model_module": "bqplot",
      "model_module_version": "^0.4.0",
      "model_name": "LinearScaleModel",
      "state": {
       "allow_padding": false,
       "max": 1,
       "min": 0,
       "stabilized": false
      }
     },
     "933d78be4d184243ab78e93eb7d8e63c": {
      "model_module": "@jupyter-widgets/output",
      "model_module_version": "1.0.0",
      "model_name": "OutputModel",
      "state": {
       "layout": "IPY_MODEL_428007638e774eae932ed0052df42278"
      }
     },
     "935ee0d2c60b48ac8d3e36e5c3178df9": {
      "model_module": "@jupyter-widgets/controls",
      "model_module_version": "1.5.0",
      "model_name": "IntSliderModel",
      "state": {
       "description": "x",
       "layout": "IPY_MODEL_22835d66035c4cf4864edb0401296cb3",
       "max": 30,
       "min": -10,
       "style": "IPY_MODEL_33da61a7ab0d4cacbe8216939925d8b8",
       "value": 11
      }
     },
     "93673cda28bf48049a4b5653f063ee86": {
      "model_module": "bqplot",
      "model_module_version": "^0.4.0",
      "model_name": "LinesModel",
      "state": {
       "color": {
        "type": null,
        "values": null
       },
       "colors": [
        "#475A77"
       ],
       "display_legend": false,
       "fill_colors": [],
       "labels": [
        "C1"
       ],
       "scales": {
        "x": "IPY_MODEL_3a858fe6fdb84b0aa2c376badfdb64ba",
        "y": "IPY_MODEL_77bca9484363471b93319626831b7fb4"
       },
       "selected": [],
       "x": {
        "type": "float",
        "values": [
         1,
         2,
         3
        ]
       },
       "y": {
        "type": "float",
        "values": [
         15,
         -2,
         49
        ]
       }
      }
     },
     "937864fffb2844eca8ff0424991d89ae": {
      "model_module": "@jupyter-widgets/output",
      "model_module_version": "1.0.0",
      "model_name": "OutputModel",
      "state": {
       "layout": "IPY_MODEL_d95257f5dc5c4a8e8cb800b9b346c011"
      }
     },
     "93a4cb7e9d924c8c8701b992a6685a1b": {
      "model_module": "bqplot",
      "model_module_version": "^0.4.0",
      "model_name": "LinearScaleModel",
      "state": {
       "allow_padding": false,
       "max": 1,
       "min": 0,
       "stabilized": false
      }
     },
     "93abf39ccb23469db8d27c1cf124ddb8": {
      "model_module": "@jupyter-widgets/base",
      "model_module_version": "1.2.0",
      "model_name": "LayoutModel",
      "state": {}
     },
     "93ea09d45a354dbcac632509462b4b3b": {
      "model_module": "@jupyter-widgets/base",
      "model_module_version": "1.2.0",
      "model_name": "LayoutModel",
      "state": {}
     },
     "93eff4cea03d4d83b02f500660651df7": {
      "model_module": "bqplot",
      "model_module_version": "^0.4.0",
      "model_name": "HistModel",
      "state": {
       "colors": [
        "#475A77"
       ],
       "count": {
        "type": "float",
        "values": [
         null,
         null,
         null,
         null,
         null,
         null,
         null,
         null,
         null,
         null
        ]
       },
       "display_legend": false,
       "midpoints": [
        0,
        0,
        0,
        0,
        0,
        0,
        0,
        0,
        0,
        0
       ],
       "normalized": true,
       "sample": {
        "type": "float",
        "values": [
         0,
         0,
         0,
         0,
         0,
         0,
         0,
         0,
         0,
         0
        ]
       },
       "scales": {
        "count": "IPY_MODEL_3a0802ccb1ba41988a8c8aa6278d2fdf",
        "sample": "IPY_MODEL_81055cb5f87c49bfb5e1df9764eddb1e"
       },
       "selected": [],
       "stroke": "#475A77"
      }
     },
     "943c75f8ccdc4986b8a04dc83ab70d36": {
      "model_module": "@jupyter-widgets/controls",
      "model_module_version": "1.5.0",
      "model_name": "VBoxModel",
      "state": {
       "_dom_classes": [
        "widget-interact"
       ],
       "children": [
        "IPY_MODEL_779e743c61cf4007b2baaff11b4556d6"
       ],
       "layout": "IPY_MODEL_256b6ed89bc7487d99177336f786f8b0"
      }
     },
     "94d70fa1e5e840fd9e50c5e126763fa6": {
      "model_module": "bqplot",
      "model_module_version": "^0.4.0",
      "model_name": "AxisModel",
      "state": {
       "scale": "IPY_MODEL_54d2dbdd91de4e66844a86dda9544709",
       "side": "bottom",
       "tick_values": {
        "type": null,
        "values": null
       }
      }
     },
     "94e64a2735d14402830450a979020faa": {
      "model_module": "@jupyter-widgets/base",
      "model_module_version": "1.2.0",
      "model_name": "LayoutModel",
      "state": {}
     },
     "95a55864a6c44878b7e38cee902c0007": {
      "model_module": "@jupyter-widgets/base",
      "model_module_version": "1.2.0",
      "model_name": "LayoutModel",
      "state": {}
     },
     "95ddd499df4c4de195c4916514568e84": {
      "model_module": "@jupyter-widgets/controls",
      "model_module_version": "1.5.0",
      "model_name": "VBoxModel",
      "state": {
       "children": [
        "IPY_MODEL_bbf55bb80e7f463995eb853e5f28dd1d",
        "IPY_MODEL_652da4b1045e4059a1d091934774aea4"
       ],
       "layout": "IPY_MODEL_52151a400f1f4100bd5578e6d5a6af8b"
      }
     },
     "95e309c569fd4271ad660512c6216915": {
      "model_module": "@jupyter-widgets/base",
      "model_module_version": "1.2.0",
      "model_name": "LayoutModel",
      "state": {}
     },
     "96127a1b1d8a4627a5b3ac28a9075eb4": {
      "model_module": "bqplot",
      "model_module_version": "^0.4.0",
      "model_name": "LinearScaleModel",
      "state": {
       "stabilized": false
      }
     },
     "9645733aa90545c39dfc7b72c426eb25": {
      "model_module": "bqplot",
      "model_module_version": "^0.4.0",
      "model_name": "LinearScaleModel",
      "state": {
       "allow_padding": false,
       "max": 1,
       "min": 0,
       "stabilized": false
      }
     },
     "96755d6c007146179e78f0c756482531": {
      "model_module": "@jupyter-widgets/output",
      "model_module_version": "1.0.0",
      "model_name": "OutputModel",
      "state": {
       "layout": "IPY_MODEL_163e63b4e3f54411a917c018d778067b"
      }
     },
     "96962f1c004e4b41be05f3fb92790ccd": {
      "model_module": "@jupyter-widgets/base",
      "model_module_version": "1.2.0",
      "model_name": "LayoutModel",
      "state": {
       "min_width": "125px"
      }
     },
     "969cfc9bf54d4bd788c1c3d972f1e78f": {
      "model_module": "bqplot",
      "model_module_version": "^0.4.0",
      "model_name": "FigureModel",
      "state": {
       "_dom_classes": [],
       "axes": [
        "IPY_MODEL_281345dfd0a246b4aed476c645f59a71",
        "IPY_MODEL_f5df9581addf4a7cb1f05e45d476893b"
       ],
       "layout": "IPY_MODEL_b86b052d968f4548a29980b4dfc05728",
       "marks": [
        "IPY_MODEL_60b12d38204c4589bf67f56475e04b34"
       ],
       "max_aspect_ratio": 6,
       "scale_x": "IPY_MODEL_b825f2dd3ec643d0b39de2093a368185",
       "scale_y": "IPY_MODEL_602d6e77171a442aa63bf75397372fbe"
      }
     },
     "96b36e7c93e442868a3ccc6674ca720c": {
      "model_module": "bqplot",
      "model_module_version": "^0.4.0",
      "model_name": "LinearScaleModel",
      "state": {
       "stabilized": false
      }
     },
     "96bad1fbdf0c46e085129939449d8a6f": {
      "model_module": "@jupyter-widgets/base",
      "model_module_version": "1.2.0",
      "model_name": "LayoutModel",
      "state": {}
     },
     "96c06d2b05754790bf6d9719c4a94f9e": {
      "model_module": "bqplot",
      "model_module_version": "^0.4.0",
      "model_name": "LinearScaleModel",
      "state": {
       "stabilized": false
      }
     },
     "9707fdf9b80e4ee692e5b47db6d9a07c": {
      "model_module": "@jupyter-widgets/base",
      "model_module_version": "1.2.0",
      "model_name": "LayoutModel",
      "state": {}
     },
     "971567de978c4e57996f46a8c02392f4": {
      "model_module": "@jupyter-widgets/base",
      "model_module_version": "1.2.0",
      "model_name": "LayoutModel",
      "state": {}
     },
     "9755316ac1be4b17ab8a11ff8d4fdc48": {
      "model_module": "@jupyter-widgets/controls",
      "model_module_version": "1.5.0",
      "model_name": "VBoxModel",
      "state": {
       "_dom_classes": [
        "widget-interact"
       ],
       "children": [
        "IPY_MODEL_f589f5a0612244a383056912e80bb1d8"
       ],
       "layout": "IPY_MODEL_ffefe811879049a4be7e244b4b1d8a24"
      }
     },
     "9758bba2aa3d4017acf61ec956dbe350": {
      "model_module": "bqplot",
      "model_module_version": "^0.4.0",
      "model_name": "LinesModel",
      "state": {
       "color": {
        "type": null,
        "values": null
       },
       "colors": [
        "#475A77"
       ],
       "display_legend": false,
       "fill_colors": [],
       "labels": [
        "C1"
       ],
       "scales": {
        "x": "IPY_MODEL_eb553eacf52b48c1888099e2a45d05c9",
        "y": "IPY_MODEL_218025391afe4d70a0ac7eb6c93b423e"
       },
       "selected": [],
       "x": {
        "type": "float",
        "values": [
         1,
         2,
         3
        ]
       },
       "y": {
        "type": "float",
        "values": [
         28,
         11,
         140
        ]
       }
      }
     },
     "977a1b278e654f76ad4f2540e9e702f9": {
      "model_module": "bqplot",
      "model_module_version": "^0.4.0",
      "model_name": "AxisModel",
      "state": {
       "orientation": "vertical",
       "scale": "IPY_MODEL_37aaa15f706d411db4b6f9fb47eb1b6b",
       "side": "left",
       "tick_values": {
        "type": null,
        "values": null
       }
      }
     },
     "9794358867a54203bb40ae4b7b9ac3ec": {
      "model_module": "@jupyter-widgets/base",
      "model_module_version": "1.2.0",
      "model_name": "LayoutModel",
      "state": {}
     },
     "97cc49deeb9b41559383a0db1b89da6e": {
      "model_module": "bqplot",
      "model_module_version": "^0.4.0",
      "model_name": "LinearScaleModel",
      "state": {
       "stabilized": false
      }
     },
     "97f54f0551d740fba27b68d877a2b044": {
      "model_module": "@jupyter-widgets/base",
      "model_module_version": "1.2.0",
      "model_name": "LayoutModel",
      "state": {}
     },
     "981259fa0cd34dc78d463d4d27386a7f": {
      "model_module": "bqplot",
      "model_module_version": "^0.4.0",
      "model_name": "LinearScaleModel",
      "state": {
       "stabilized": false
      }
     },
     "982885a559f64fe395393b9e82ae1e19": {
      "model_module": "@jupyter-widgets/output",
      "model_module_version": "1.0.0",
      "model_name": "OutputModel",
      "state": {
       "layout": "IPY_MODEL_6f0c7816c85a4fd1b8215d447b1ed94d"
      }
     },
     "9883a071812d4291805fe5b1153ab559": {
      "model_module": "bqplot",
      "model_module_version": "^0.4.0",
      "model_name": "LinearScaleModel",
      "state": {
       "stabilized": false
      }
     },
     "98fb5e9a51264f5d9cefcdbbebbe4eed": {
      "model_module": "@jupyter-widgets/controls",
      "model_module_version": "1.5.0",
      "model_name": "SliderStyleModel",
      "state": {
       "description_width": ""
      }
     },
     "990e4bd4e26d4d0186a46da33514e196": {
      "model_module": "@jupyter-widgets/output",
      "model_module_version": "1.0.0",
      "model_name": "OutputModel",
      "state": {
       "layout": "IPY_MODEL_137f1464bcab423ab4c144a9f3a4dbb0"
      }
     },
     "9933426c52014145935d4ffd394fb096": {
      "model_module": "bqplot",
      "model_module_version": "^0.4.0",
      "model_name": "AxisModel",
      "state": {
       "scale": "IPY_MODEL_144d56a6d8e9434bb0cf4dd6be638fa5",
       "side": "bottom",
       "tick_values": {
        "type": null,
        "values": null
       }
      }
     },
     "994c912731e643b0a335571a4e3e0eac": {
      "model_module": "bqplot",
      "model_module_version": "^0.4.0",
      "model_name": "AxisModel",
      "state": {
       "scale": "IPY_MODEL_1022c3680ebc4a58b514817958b6bc47",
       "side": "bottom",
       "tick_values": {
        "type": null,
        "values": null
       }
      }
     },
     "9953dcd2b5cc4f35be1b97a2501cb93d": {
      "model_module": "@jupyter-widgets/base",
      "model_module_version": "1.2.0",
      "model_name": "LayoutModel",
      "state": {}
     },
     "997cf849bb4e4e93ad2c332e6f5a6c18": {
      "model_module": "@jupyter-widgets/base",
      "model_module_version": "1.2.0",
      "model_name": "LayoutModel",
      "state": {}
     },
     "9989624e60b64fcd8fa5f13a8968e446": {
      "model_module": "bqplot",
      "model_module_version": "^0.4.0",
      "model_name": "LinearScaleModel",
      "state": {
       "allow_padding": false,
       "max": 1,
       "min": 0,
       "stabilized": false
      }
     },
     "999dfc7c2995472391842e9e55023af0": {
      "model_module": "bqplot",
      "model_module_version": "^0.4.0",
      "model_name": "LinearScaleModel",
      "state": {
       "allow_padding": false,
       "max": 1,
       "min": 0,
       "stabilized": false
      }
     },
     "99a1e10ea8f145ea8b4a848fd860f046": {
      "model_module": "@jupyter-widgets/base",
      "model_module_version": "1.2.0",
      "model_name": "LayoutModel",
      "state": {}
     },
     "9a0f85b95ea24cfa8121449a4af2589c": {
      "model_module": "@jupyter-widgets/base",
      "model_module_version": "1.2.0",
      "model_name": "LayoutModel",
      "state": {
       "min_width": "125px"
      }
     },
     "9a10dcf1d9e741dcbb98d5d83afcd9be": {
      "model_module": "@jupyter-widgets/controls",
      "model_module_version": "1.5.0",
      "model_name": "VBoxModel",
      "state": {
       "_dom_classes": [
        "widget-interact"
       ],
       "children": [
        "IPY_MODEL_fc02de5eb3cd491ab7ca6a70f89fe7e6"
       ],
       "layout": "IPY_MODEL_17f7decd15734783b5c9f5891b7be4fd"
      }
     },
     "9a79778ee59441168a10a2d9b7cef1e0": {
      "model_module": "bqplot",
      "model_module_version": "^0.4.0",
      "model_name": "AxisModel",
      "state": {
       "orientation": "vertical",
       "scale": "IPY_MODEL_0c52609aa80b4121bc4972f83b7c1725",
       "side": "left",
       "tick_values": {
        "type": null,
        "values": null
       }
      }
     },
     "9aec6416bf6847b7a4e96407a6cc010d": {
      "model_module": "bqplot",
      "model_module_version": "^0.4.0",
      "model_name": "LinearScaleModel",
      "state": {
       "stabilized": false
      }
     },
     "9b78a9b4f3a447d8842ce11ea5fc7958": {
      "model_module": "@jupyter-widgets/output",
      "model_module_version": "1.0.0",
      "model_name": "OutputModel",
      "state": {
       "layout": "IPY_MODEL_fc4f4ddabe9146048726e97bf2056a33",
       "outputs": [
        {
         "data": {
          "image/png": "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\n",
          "text/plain": "<Figure size 432x288 with 1 Axes>"
         },
         "metadata": {
          "needs_background": "light"
         },
         "output_type": "display_data"
        },
        {
         "data": {
          "text/plain": "121"
         },
         "metadata": {},
         "output_type": "display_data"
        }
       ]
      }
     },
     "9c85db7d9cdc4a4e84a513c4aa12e9c4": {
      "model_module": "bqplot",
      "model_module_version": "^0.4.0",
      "model_name": "LinearScaleModel",
      "state": {
       "allow_padding": false,
       "max": 1,
       "min": 0,
       "stabilized": false
      }
     },
     "9cf3def240c94c9b93eeb0dc61d51c08": {
      "model_module": "bqplot",
      "model_module_version": "^0.4.0",
      "model_name": "AxisModel",
      "state": {
       "orientation": "vertical",
       "scale": "IPY_MODEL_37a7ede57e5e46e1a42963c7689c213e",
       "side": "left",
       "tick_values": {
        "type": null,
        "values": null
       }
      }
     },
     "9d1cd5fecc04429f9830e0e8135ba92a": {
      "model_module": "bqplot",
      "model_module_version": "^0.4.0",
      "model_name": "FigureModel",
      "state": {
       "_dom_classes": [],
       "axes": [
        "IPY_MODEL_f7b3218884a1498caab0b2a966962ae0",
        "IPY_MODEL_66dbc3576f09479a943c4aa33fe16e3d"
       ],
       "layout": "IPY_MODEL_cf99a83d38954340b688fc133fab1f1a",
       "marks": [
        "IPY_MODEL_be591311c51641269fe30dbcd24c1f98"
       ],
       "max_aspect_ratio": 6,
       "scale_x": "IPY_MODEL_8ef4420db1f74453b831b1efef71a031",
       "scale_y": "IPY_MODEL_510f2caaaf9d4d28a1db5602f57939aa"
      }
     },
     "9d6baafd541e47abaf2f806f472adc24": {
      "model_module": "@jupyter-widgets/base",
      "model_module_version": "1.2.0",
      "model_name": "LayoutModel",
      "state": {}
     },
     "9d9a49e3934846048d84dcd8774aafcf": {
      "model_module": "@jupyter-widgets/base",
      "model_module_version": "1.2.0",
      "model_name": "LayoutModel",
      "state": {
       "min_width": "125px"
      }
     },
     "9db865fe78744a49a0ebe3e5ba0081af": {
      "model_module": "@jupyter-widgets/controls",
      "model_module_version": "1.5.0",
      "model_name": "VBoxModel",
      "state": {
       "children": [
        "IPY_MODEL_1c742cdd46ed44de98f7a113755c5865",
        "IPY_MODEL_edd464b49508435ab28afb94a637b1c2"
       ],
       "layout": "IPY_MODEL_a64b254191414240b37068e95676adc3"
      }
     },
     "9e2ce65211d74596be20483dda759707": {
      "model_module": "@jupyter-widgets/base",
      "model_module_version": "1.2.0",
      "model_name": "LayoutModel",
      "state": {}
     },
     "9e4a3f7530e24c3faf429418a5053d73": {
      "model_module": "@jupyter-widgets/controls",
      "model_module_version": "1.5.0",
      "model_name": "IntSliderModel",
      "state": {
       "description": "mean",
       "layout": "IPY_MODEL_5b02dd8d83c94c16a343e6a7ef886f69",
       "max": 10,
       "style": "IPY_MODEL_4514f201e78543b280db77593158ad31",
       "value": 5
      }
     },
     "9e78e71d0b014e0daff918fe91f879b4": {
      "model_module": "@jupyter-widgets/controls",
      "model_module_version": "1.5.0",
      "model_name": "SliderStyleModel",
      "state": {
       "description_width": ""
      }
     },
     "9eb6022e4f464543bc5d8ecbc4d2b478": {
      "model_module": "@jupyter-widgets/base",
      "model_module_version": "1.2.0",
      "model_name": "LayoutModel",
      "state": {}
     },
     "9ed01d18219c429a97d925948261e44f": {
      "model_module": "bqplot",
      "model_module_version": "^0.4.0",
      "model_name": "LinesModel",
      "state": {
       "color": {
        "type": null,
        "values": null
       },
       "colors": [
        "#475A77"
       ],
       "display_legend": false,
       "fill_colors": [],
       "labels": [
        "C1"
       ],
       "scales": {
        "x": "IPY_MODEL_3f4a9b9fa3764060bbbe684611939bcd",
        "y": "IPY_MODEL_e49846a7163c4049a4d84d122dccdb33"
       },
       "selected": [],
       "x": {
        "type": "float",
        "values": [
         1,
         2,
         3
        ]
       },
       "y": {
        "type": "float",
        "values": [
         8,
         -9,
         0
        ]
       }
      }
     },
     "9ef72b2d1175415a8d6052914ae47345": {
      "model_module": "bqplot",
      "model_module_version": "^0.4.0",
      "model_name": "LinearScaleModel",
      "state": {
       "allow_padding": false,
       "max": 1,
       "min": 0,
       "stabilized": false
      }
     },
     "9f6f4b930ef64a0aa62f5248c068301d": {
      "model_module": "bqplot",
      "model_module_version": "^0.4.0",
      "model_name": "FigureModel",
      "state": {
       "_dom_classes": [],
       "axes": [
        "IPY_MODEL_2a0f4fd0e3d341d6aa3b470612768685",
        "IPY_MODEL_077503b84d574c5eaf3bc9a62e030c3e"
       ],
       "layout": "IPY_MODEL_e282cfbecaa0420894418867544b9bd1",
       "marks": [
        "IPY_MODEL_30ab9696393c4867b55617adcee623dd"
       ],
       "max_aspect_ratio": 6,
       "scale_x": "IPY_MODEL_68407bf789d64f8eb0be996c117bd5ca",
       "scale_y": "IPY_MODEL_93a4cb7e9d924c8c8701b992a6685a1b"
      }
     },
     "9f80f4ebe8104e33bafce4d755f960ed": {
      "model_module": "@jupyter-widgets/output",
      "model_module_version": "1.0.0",
      "model_name": "OutputModel",
      "state": {
       "layout": "IPY_MODEL_99a1e10ea8f145ea8b4a848fd860f046"
      }
     },
     "9fb0afba97e942df965aa4fb98e5ad73": {
      "model_module": "bqplot",
      "model_module_version": "^0.4.0",
      "model_name": "LinearScaleModel",
      "state": {
       "allow_padding": false,
       "max": 1,
       "min": 0,
       "stabilized": false
      }
     },
     "9ff39db07f2944fc81ddc2e858ce34e5": {
      "model_module": "bqplot",
      "model_module_version": "^0.4.0",
      "model_name": "AxisModel",
      "state": {
       "orientation": "vertical",
       "scale": "IPY_MODEL_45e18f45bc104787b8d1e79340848d5e",
       "side": "left",
       "tick_values": {
        "type": null,
        "values": null
       }
      }
     },
     "a0105af5148b426ca9fdb33fd685e172": {
      "model_module": "@jupyter-widgets/base",
      "model_module_version": "1.2.0",
      "model_name": "LayoutModel",
      "state": {}
     },
     "a046cc9a1f224f7daa8dd11c5fde0d6b": {
      "model_module": "@jupyter-widgets/base",
      "model_module_version": "1.2.0",
      "model_name": "LayoutModel",
      "state": {}
     },
     "a06f9f2f5df04762bb84cbf06bee8f01": {
      "model_module": "bqplot",
      "model_module_version": "^0.4.0",
      "model_name": "AxisModel",
      "state": {
       "scale": "IPY_MODEL_d1bd212c40204aff8d6cf75b04fae61e",
       "side": "bottom",
       "tick_values": {
        "type": null,
        "values": null
       }
      }
     },
     "a10382ccd36342f2a4d6a5cc810f63c5": {
      "model_module": "bqplot",
      "model_module_version": "^0.4.0",
      "model_name": "AxisModel",
      "state": {
       "orientation": "vertical",
       "scale": "IPY_MODEL_defa557e64ed477bb89e630f6d920591",
       "side": "left",
       "tick_values": {
        "type": null,
        "values": null
       }
      }
     },
     "a12a3582808846f2beae534a4eb41883": {
      "model_module": "@jupyter-widgets/base",
      "model_module_version": "1.2.0",
      "model_name": "LayoutModel",
      "state": {}
     },
     "a15e9d9633c846319e22ac5c08a6d8c4": {
      "model_module": "bqplot",
      "model_module_version": "^0.4.0",
      "model_name": "AxisModel",
      "state": {
       "orientation": "vertical",
       "scale": "IPY_MODEL_3b3a1e1d48ca462ba7e51b1a18c3399a",
       "side": "left",
       "tick_values": {
        "type": null,
        "values": null
       }
      }
     },
     "a1958f27bdca47a5a48ba57a3e5934a6": {
      "model_module": "bqplot",
      "model_module_version": "^0.4.0",
      "model_name": "AxisModel",
      "state": {
       "orientation": "vertical",
       "scale": "IPY_MODEL_68232953bdc24f9a9009e181a6270008",
       "side": "left",
       "tick_values": {
        "type": null,
        "values": null
       }
      }
     },
     "a1a4ccab2aeb4b0e8d19bd5adfbccb35": {
      "model_module": "bqplot",
      "model_module_version": "^0.4.0",
      "model_name": "AxisModel",
      "state": {
       "orientation": "vertical",
       "scale": "IPY_MODEL_8411cc305650467ab56ffa63daf12a1b",
       "side": "left",
       "tick_values": {
        "type": null,
        "values": null
       }
      }
     },
     "a1a84e60287c4094aa6e398a4614b9ff": {
      "model_module": "@jupyter-widgets/base",
      "model_module_version": "1.2.0",
      "model_name": "LayoutModel",
      "state": {}
     },
     "a1cebc9085d049efa6b16ac423680a1a": {
      "model_module": "@jupyter-widgets/output",
      "model_module_version": "1.0.0",
      "model_name": "OutputModel",
      "state": {
       "layout": "IPY_MODEL_bd083015bab04402ba32ff063b1d0bf2"
      }
     },
     "a218cb7223a44771800b35b5480e2d4e": {
      "model_module": "@jupyter-widgets/base",
      "model_module_version": "1.2.0",
      "model_name": "LayoutModel",
      "state": {}
     },
     "a234b50499074daea82cc4b6318df1fc": {
      "model_module": "bqplot",
      "model_module_version": "^0.4.0",
      "model_name": "LinearScaleModel",
      "state": {
       "stabilized": false
      }
     },
     "a266f6123ff647a6b141e516d2366bc7": {
      "model_module": "@jupyter-widgets/base",
      "model_module_version": "1.2.0",
      "model_name": "LayoutModel",
      "state": {
       "min_width": "125px"
      }
     },
     "a275b55c711843fbaf1b1a36cb131d36": {
      "model_module": "@jupyter-widgets/output",
      "model_module_version": "1.0.0",
      "model_name": "OutputModel",
      "state": {
       "layout": "IPY_MODEL_2c6bad938c9846c08ae3ae31ee34257d"
      }
     },
     "a3086ae244e3494b946da08f04bf9cf9": {
      "model_module": "@jupyter-widgets/controls",
      "model_module_version": "1.5.0",
      "model_name": "VBoxModel",
      "state": {
       "children": [
        "IPY_MODEL_61fd93416abe43d49dcd911230455651",
        "IPY_MODEL_30b6486469824f6ab0676ad066a18732"
       ],
       "layout": "IPY_MODEL_440dabc3b36341c680b0751f57f794ad"
      }
     },
     "a3318ab8137e453f866aede77a7fde1b": {
      "model_module": "@jupyter-widgets/base",
      "model_module_version": "1.2.0",
      "model_name": "LayoutModel",
      "state": {}
     },
     "a373d2cb157c4b7d987c1fb750808d13": {
      "model_module": "@jupyter-widgets/base",
      "model_module_version": "1.2.0",
      "model_name": "LayoutModel",
      "state": {}
     },
     "a3c61432b7b74486b2fec844713cdf75": {
      "model_module": "@jupyter-widgets/controls",
      "model_module_version": "1.5.0",
      "model_name": "SliderStyleModel",
      "state": {
       "description_width": ""
      }
     },
     "a3ca5b50f23e4a12a2bb16acd9ffe734": {
      "model_module": "bqplot",
      "model_module_version": "^0.4.0",
      "model_name": "LinearScaleModel",
      "state": {
       "stabilized": false
      }
     },
     "a3d0ddbaf7f841c086be7d3911b0469f": {
      "model_module": "@jupyter-widgets/base",
      "model_module_version": "1.2.0",
      "model_name": "LayoutModel",
      "state": {}
     },
     "a3defc0b1ad44fe498434d3dd3dada15": {
      "model_module": "bqplot",
      "model_module_version": "^0.4.0",
      "model_name": "LinearScaleModel",
      "state": {
       "stabilized": false
      }
     },
     "a3f903e22fae4e2f95c9f1ec0dd681f1": {
      "model_module": "bqplot",
      "model_module_version": "^0.4.0",
      "model_name": "LinearScaleModel",
      "state": {
       "allow_padding": false,
       "max": 1,
       "min": 0,
       "stabilized": false
      }
     },
     "a437b37068a74aeebee9fd5a06af0cb8": {
      "model_module": "@jupyter-widgets/base",
      "model_module_version": "1.2.0",
      "model_name": "LayoutModel",
      "state": {}
     },
     "a449e6b8dc414103baf5dcd101b2c79f": {
      "model_module": "bqplot",
      "model_module_version": "^0.4.0",
      "model_name": "LinesModel",
      "state": {
       "color": {
        "type": null,
        "values": null
       },
       "colors": [
        "#475A77"
       ],
       "display_legend": false,
       "fill_colors": [],
       "labels": [
        "C1"
       ],
       "scales": {
        "x": "IPY_MODEL_7eec5a70615c453f84bcfb9909926297",
        "y": "IPY_MODEL_cd88455f6a044eccac8bf224075b5d63"
       },
       "selected": [],
       "x": {
        "type": "float",
        "values": [
         1,
         2,
         3
        ]
       },
       "y": {
        "type": "float",
        "values": [
         31,
         14,
         161
        ]
       }
      }
     },
     "a451a045606543a7b2bf1ca553c92dca": {
      "model_module": "bqplot",
      "model_module_version": "^0.4.0",
      "model_name": "LinearScaleModel",
      "state": {
       "allow_padding": false,
       "max": 1,
       "min": 0,
       "stabilized": false
      }
     },
     "a4560bcad02646e4b793754f9114eb6d": {
      "model_module": "bqplot",
      "model_module_version": "^0.4.0",
      "model_name": "LinearScaleModel",
      "state": {
       "stabilized": false
      }
     },
     "a45dfb5bed0f4a85847014c7bcb05739": {
      "model_module": "bqplot",
      "model_module_version": "^0.4.0",
      "model_name": "LinearScaleModel",
      "state": {
       "allow_padding": false,
       "max": 1,
       "min": 0,
       "stabilized": false
      }
     },
     "a4b0c738b5c84bbbadd1d241a425735f": {
      "model_module": "@jupyter-widgets/base",
      "model_module_version": "1.2.0",
      "model_name": "LayoutModel",
      "state": {}
     },
     "a4b0da99eb984dd88940d0d0b861a857": {
      "model_module": "bqplot",
      "model_module_version": "^0.4.0",
      "model_name": "LinearScaleModel",
      "state": {
       "stabilized": false
      }
     },
     "a5132fca5a634361a73e852edb0d837f": {
      "model_module": "bqplot",
      "model_module_version": "^0.4.0",
      "model_name": "AxisModel",
      "state": {
       "scale": "IPY_MODEL_a4560bcad02646e4b793754f9114eb6d",
       "side": "bottom",
       "tick_values": {
        "type": null,
        "values": null
       }
      }
     },
     "a53eb865bdbe4b80b3ddf551db58b7ba": {
      "model_module": "bqplot",
      "model_module_version": "^0.4.0",
      "model_name": "AxisModel",
      "state": {
       "scale": "IPY_MODEL_e7940a5df8d449328ca07e436374cf6c",
       "side": "bottom",
       "tick_values": {
        "type": null,
        "values": null
       }
      }
     },
     "a53faef7379e453db6b57a33dbe5b989": {
      "model_module": "bqplot",
      "model_module_version": "^0.4.0",
      "model_name": "LinearScaleModel",
      "state": {
       "allow_padding": false,
       "max": 1,
       "min": 0,
       "stabilized": false
      }
     },
     "a54904d2da6040c1ad87d428616fd6bb": {
      "model_module": "bqplot",
      "model_module_version": "^0.4.0",
      "model_name": "LinearScaleModel",
      "state": {
       "stabilized": false
      }
     },
     "a5a0431a73e740799d9c595d91865de8": {
      "model_module": "@jupyter-widgets/output",
      "model_module_version": "1.0.0",
      "model_name": "OutputModel",
      "state": {
       "layout": "IPY_MODEL_a8c2d59425394c63a8151fec17a57bd1"
      }
     },
     "a6410bb7c4ef469fa94676eaac2d3064": {
      "model_module": "bqplot",
      "model_module_version": "^0.4.0",
      "model_name": "AxisModel",
      "state": {
       "scale": "IPY_MODEL_3d11d8a505524059b04d0c1a1bd9831f",
       "side": "bottom",
       "tick_values": {
        "type": null,
        "values": null
       }
      }
     },
     "a642e09e49c64b09a164b034eb7bd316": {
      "model_module": "@jupyter-widgets/controls",
      "model_module_version": "1.5.0",
      "model_name": "VBoxModel",
      "state": {
       "_dom_classes": [
        "widget-interact"
       ],
       "children": [
        "IPY_MODEL_dbf9798282d643abb6afc04d45531266"
       ],
       "layout": "IPY_MODEL_6edf25afda794efb94b113188f8e5bf1"
      }
     },
     "a64b254191414240b37068e95676adc3": {
      "model_module": "@jupyter-widgets/base",
      "model_module_version": "1.2.0",
      "model_name": "LayoutModel",
      "state": {}
     },
     "a6cbf19c66ed445bb1c24681163e4e39": {
      "model_module": "bqplot",
      "model_module_version": "^0.4.0",
      "model_name": "LinearScaleModel",
      "state": {
       "stabilized": false
      }
     },
     "a6d9ed008cdb4e408ebe92cd9a7637bb": {
      "model_module": "@jupyter-widgets/controls",
      "model_module_version": "1.5.0",
      "model_name": "IntSliderModel",
      "state": {
       "description": "x",
       "layout": "IPY_MODEL_3b64b5e8fcfa4d39b56518e2fda11704",
       "max": 30,
       "min": -10,
       "style": "IPY_MODEL_c39500cb7ca54eb8951bda0bd57bc94a",
       "value": 10
      }
     },
     "a7198ea1ab57465484f70c57e82fec66": {
      "model_module": "bqplot",
      "model_module_version": "^0.4.0",
      "model_name": "LinearScaleModel",
      "state": {
       "allow_padding": false,
       "max": 1,
       "min": 0,
       "stabilized": false
      }
     },
     "a7248b63d19146a0862648691f3ec4cc": {
      "model_module": "bqplot",
      "model_module_version": "^0.4.0",
      "model_name": "LinesModel",
      "state": {
       "color": {
        "type": null,
        "values": null
       },
       "colors": [
        "#475A77"
       ],
       "display_legend": false,
       "fill_colors": [],
       "scales": {
        "x": "IPY_MODEL_38e314b412df4053a2d05df750b7a535",
        "y": "IPY_MODEL_45e18f45bc104787b8d1e79340848d5e"
       },
       "selected": [],
       "x": {
        "type": "float",
        "values": []
       },
       "y": {
        "type": "float",
        "values": []
       }
      }
     },
     "a73ea77c3c7a4f72b67f89fdcd56f319": {
      "model_module": "bqplot",
      "model_module_version": "^0.4.0",
      "model_name": "LinearScaleModel",
      "state": {
       "allow_padding": false,
       "max": 1,
       "min": 0,
       "stabilized": false
      }
     },
     "a765f329daeb43af850097606a8b08cf": {
      "model_module": "@jupyter-widgets/controls",
      "model_module_version": "1.5.0",
      "model_name": "VBoxModel",
      "state": {
       "_dom_classes": [
        "widget-interact"
       ],
       "children": [
        "IPY_MODEL_8b01322e333c43b38ffbb60bf678bd0b"
       ],
       "layout": "IPY_MODEL_e8d4e1c00a174cebb73654382a8d1e9e"
      }
     },
     "a7945325afca481999edeeeab9598673": {
      "model_module": "@jupyter-widgets/controls",
      "model_module_version": "1.5.0",
      "model_name": "VBoxModel",
      "state": {
       "_dom_classes": [
        "widget-interact"
       ],
       "children": [
        "IPY_MODEL_bdd3cb72379e4cc1afe754d50add7e9d",
        "IPY_MODEL_d1bae6fa8f8543588d8f5266c07cda81"
       ],
       "layout": "IPY_MODEL_c1bec902401b41c885d2cefdf85bf5ab"
      }
     },
     "a7b30c6ac4704e6699d5e130020785ba": {
      "model_module": "bqplot",
      "model_module_version": "^0.4.0",
      "model_name": "AxisModel",
      "state": {
       "scale": "IPY_MODEL_d78953fd1779470c842643db2f7873bd",
       "side": "bottom",
       "tick_values": {
        "type": null,
        "values": null
       }
      }
     },
     "a7c7968a60dc49209f6f64079bc1a352": {
      "model_module": "@jupyter-widgets/base",
      "model_module_version": "1.2.0",
      "model_name": "LayoutModel",
      "state": {}
     },
     "a7e99d09139b4d3d91873bfef70f7722": {
      "model_module": "bqplot",
      "model_module_version": "^0.4.0",
      "model_name": "AxisModel",
      "state": {
       "scale": "IPY_MODEL_3f4a9b9fa3764060bbbe684611939bcd",
       "side": "bottom",
       "tick_values": {
        "type": null,
        "values": null
       }
      }
     },
     "a81edce37e304ae9adc0a88886380bec": {
      "model_module": "bqplot",
      "model_module_version": "^0.4.0",
      "model_name": "LinearScaleModel",
      "state": {
       "allow_padding": false,
       "max": 1,
       "min": 0,
       "stabilized": false
      }
     },
     "a83f33f6135e4d4bab1622b73204fb05": {
      "model_module": "@jupyter-widgets/base",
      "model_module_version": "1.2.0",
      "model_name": "LayoutModel",
      "state": {}
     },
     "a84269d6c4ea4d5782f75a06af3f9898": {
      "model_module": "bqplot",
      "model_module_version": "^0.4.0",
      "model_name": "LinearScaleModel",
      "state": {
       "stabilized": false
      }
     },
     "a855b8f6c9794f5d8e5298b63cae6958": {
      "model_module": "@jupyter-widgets/base",
      "model_module_version": "1.2.0",
      "model_name": "LayoutModel",
      "state": {}
     },
     "a863ef8dc6f141198136cfe9e7f134e5": {
      "model_module": "bqplot",
      "model_module_version": "^0.4.0",
      "model_name": "AxisModel",
      "state": {
       "scale": "IPY_MODEL_16524b5f5608483a9f3e0cd3edbad04d",
       "side": "bottom",
       "tick_values": {
        "type": null,
        "values": null
       }
      }
     },
     "a886580748c548a984090ac016155b5b": {
      "model_module": "@jupyter-widgets/base",
      "model_module_version": "1.2.0",
      "model_name": "LayoutModel",
      "state": {}
     },
     "a8c2d59425394c63a8151fec17a57bd1": {
      "model_module": "@jupyter-widgets/base",
      "model_module_version": "1.2.0",
      "model_name": "LayoutModel",
      "state": {}
     },
     "a8d47ed63d3e438ea2ee50f4fd5f0b6e": {
      "model_module": "@jupyter-widgets/base",
      "model_module_version": "1.2.0",
      "model_name": "LayoutModel",
      "state": {
       "min_width": "125px"
      }
     },
     "a8fef6d1173c4055a72e9625804009dd": {
      "model_module": "@jupyter-widgets/output",
      "model_module_version": "1.0.0",
      "model_name": "OutputModel",
      "state": {
       "layout": "IPY_MODEL_0dc20d8094924261924de6d13ba5a060",
       "outputs": [
        {
         "data": {
          "application/javascript": "/* Put everything inside the global mpl namespace */\nwindow.mpl = {};\n\n\nmpl.get_websocket_type = function() {\n    if (typeof(WebSocket) !== 'undefined') {\n        return WebSocket;\n    } else if (typeof(MozWebSocket) !== 'undefined') {\n        return MozWebSocket;\n    } else {\n        alert('Your browser does not have WebSocket support. ' +\n              'Please try Chrome, Safari or Firefox ≥ 6. ' +\n              'Firefox 4 and 5 are also supported but you ' +\n              'have to enable WebSockets in about:config.');\n    };\n}\n\nmpl.figure = function(figure_id, websocket, ondownload, parent_element) {\n    this.id = figure_id;\n\n    this.ws = websocket;\n\n    this.supports_binary = (this.ws.binaryType != undefined);\n\n    if (!this.supports_binary) {\n        var warnings = document.getElementById(\"mpl-warnings\");\n        if (warnings) {\n            warnings.style.display = 'block';\n            warnings.textContent = (\n                \"This browser does not support binary websocket messages. \" +\n                    \"Performance may be slow.\");\n        }\n    }\n\n    this.imageObj = new Image();\n\n    this.context = undefined;\n    this.message = undefined;\n    this.canvas = undefined;\n    this.rubberband_canvas = undefined;\n    this.rubberband_context = undefined;\n    this.format_dropdown = undefined;\n\n    this.image_mode = 'full';\n\n    this.root = $('<div/>');\n    this._root_extra_style(this.root)\n    this.root.attr('style', 'display: inline-block');\n\n    $(parent_element).append(this.root);\n\n    this._init_header(this);\n    this._init_canvas(this);\n    this._init_toolbar(this);\n\n    var fig = this;\n\n    this.waiting = false;\n\n    this.ws.onopen =  function () {\n            fig.send_message(\"supports_binary\", {value: fig.supports_binary});\n            fig.send_message(\"send_image_mode\", {});\n            if (mpl.ratio != 1) {\n                fig.send_message(\"set_dpi_ratio\", {'dpi_ratio': mpl.ratio});\n            }\n            fig.send_message(\"refresh\", {});\n        }\n\n    this.imageObj.onload = function() {\n            if (fig.image_mode == 'full') {\n                // Full images could contain transparency (where diff images\n                // almost always do), so we need to clear the canvas so that\n                // there is no ghosting.\n                fig.context.clearRect(0, 0, fig.canvas.width, fig.canvas.height);\n            }\n            fig.context.drawImage(fig.imageObj, 0, 0);\n        };\n\n    this.imageObj.onunload = function() {\n        fig.ws.close();\n    }\n\n    this.ws.onmessage = this._make_on_message_function(this);\n\n    this.ondownload = ondownload;\n}\n\nmpl.figure.prototype._init_header = function() {\n    var titlebar = $(\n        '<div class=\"ui-dialog-titlebar ui-widget-header ui-corner-all ' +\n        'ui-helper-clearfix\"/>');\n    var titletext = $(\n        '<div class=\"ui-dialog-title\" style=\"width: 100%; ' +\n        'text-align: center; padding: 3px;\"/>');\n    titlebar.append(titletext)\n    this.root.append(titlebar);\n    this.header = titletext[0];\n}\n\n\n\nmpl.figure.prototype._canvas_extra_style = function(canvas_div) {\n\n}\n\n\nmpl.figure.prototype._root_extra_style = function(canvas_div) {\n\n}\n\nmpl.figure.prototype._init_canvas = function() {\n    var fig = this;\n\n    var canvas_div = $('<div/>');\n\n    canvas_div.attr('style', 'position: relative; clear: both; outline: 0');\n\n    function canvas_keyboard_event(event) {\n        return fig.key_event(event, event['data']);\n    }\n\n    canvas_div.keydown('key_press', canvas_keyboard_event);\n    canvas_div.keyup('key_release', canvas_keyboard_event);\n    this.canvas_div = canvas_div\n    this._canvas_extra_style(canvas_div)\n    this.root.append(canvas_div);\n\n    var canvas = $('<canvas/>');\n    canvas.addClass('mpl-canvas');\n    canvas.attr('style', \"left: 0; top: 0; z-index: 0; outline: 0\")\n\n    this.canvas = canvas[0];\n    this.context = canvas[0].getContext(\"2d\");\n\n    var backingStore = this.context.backingStorePixelRatio ||\n\tthis.context.webkitBackingStorePixelRatio ||\n\tthis.context.mozBackingStorePixelRatio ||\n\tthis.context.msBackingStorePixelRatio ||\n\tthis.context.oBackingStorePixelRatio ||\n\tthis.context.backingStorePixelRatio || 1;\n\n    mpl.ratio = (window.devicePixelRatio || 1) / backingStore;\n\n    var rubberband = $('<canvas/>');\n    rubberband.attr('style', \"position: absolute; left: 0; top: 0; z-index: 1;\")\n\n    var pass_mouse_events = true;\n\n    canvas_div.resizable({\n        start: function(event, ui) {\n            pass_mouse_events = false;\n        },\n        resize: function(event, ui) {\n            fig.request_resize(ui.size.width, ui.size.height);\n        },\n        stop: function(event, ui) {\n            pass_mouse_events = true;\n            fig.request_resize(ui.size.width, ui.size.height);\n        },\n    });\n\n    function mouse_event_fn(event) {\n        if (pass_mouse_events)\n            return fig.mouse_event(event, event['data']);\n    }\n\n    rubberband.mousedown('button_press', mouse_event_fn);\n    rubberband.mouseup('button_release', mouse_event_fn);\n    // Throttle sequential mouse events to 1 every 20ms.\n    rubberband.mousemove('motion_notify', mouse_event_fn);\n\n    rubberband.mouseenter('figure_enter', mouse_event_fn);\n    rubberband.mouseleave('figure_leave', mouse_event_fn);\n\n    canvas_div.on(\"wheel\", function (event) {\n        event = event.originalEvent;\n        event['data'] = 'scroll'\n        if (event.deltaY < 0) {\n            event.step = 1;\n        } else {\n            event.step = -1;\n        }\n        mouse_event_fn(event);\n    });\n\n    canvas_div.append(canvas);\n    canvas_div.append(rubberband);\n\n    this.rubberband = rubberband;\n    this.rubberband_canvas = rubberband[0];\n    this.rubberband_context = rubberband[0].getContext(\"2d\");\n    this.rubberband_context.strokeStyle = \"#000000\";\n\n    this._resize_canvas = function(width, height) {\n        // Keep the size of the canvas, canvas container, and rubber band\n        // canvas in synch.\n        canvas_div.css('width', width)\n        canvas_div.css('height', height)\n\n        canvas.attr('width', width * mpl.ratio);\n        canvas.attr('height', height * mpl.ratio);\n        canvas.attr('style', 'width: ' + width + 'px; height: ' + height + 'px;');\n\n        rubberband.attr('width', width);\n        rubberband.attr('height', height);\n    }\n\n    // Set the figure to an initial 600x600px, this will subsequently be updated\n    // upon first draw.\n    this._resize_canvas(600, 600);\n\n    // Disable right mouse context menu.\n    $(this.rubberband_canvas).bind(\"contextmenu\",function(e){\n        return false;\n    });\n\n    function set_focus () {\n        canvas.focus();\n        canvas_div.focus();\n    }\n\n    window.setTimeout(set_focus, 100);\n}\n\nmpl.figure.prototype._init_toolbar = function() {\n    var fig = this;\n\n    var nav_element = $('<div/>');\n    nav_element.attr('style', 'width: 100%');\n    this.root.append(nav_element);\n\n    // Define a callback function for later on.\n    function toolbar_event(event) {\n        return fig.toolbar_button_onclick(event['data']);\n    }\n    function toolbar_mouse_event(event) {\n        return fig.toolbar_button_onmouseover(event['data']);\n    }\n\n    for(var toolbar_ind in mpl.toolbar_items) {\n        var name = mpl.toolbar_items[toolbar_ind][0];\n        var tooltip = mpl.toolbar_items[toolbar_ind][1];\n        var image = mpl.toolbar_items[toolbar_ind][2];\n        var method_name = mpl.toolbar_items[toolbar_ind][3];\n\n        if (!name) {\n            // put a spacer in here.\n            continue;\n        }\n        var button = $('<button/>');\n        button.addClass('ui-button ui-widget ui-state-default ui-corner-all ' +\n                        'ui-button-icon-only');\n        button.attr('role', 'button');\n        button.attr('aria-disabled', 'false');\n        button.click(method_name, toolbar_event);\n        button.mouseover(tooltip, toolbar_mouse_event);\n\n        var icon_img = $('<span/>');\n        icon_img.addClass('ui-button-icon-primary ui-icon');\n        icon_img.addClass(image);\n        icon_img.addClass('ui-corner-all');\n\n        var tooltip_span = $('<span/>');\n        tooltip_span.addClass('ui-button-text');\n        tooltip_span.html(tooltip);\n\n        button.append(icon_img);\n        button.append(tooltip_span);\n\n        nav_element.append(button);\n    }\n\n    var fmt_picker_span = $('<span/>');\n\n    var fmt_picker = $('<select/>');\n    fmt_picker.addClass('mpl-toolbar-option ui-widget ui-widget-content');\n    fmt_picker_span.append(fmt_picker);\n    nav_element.append(fmt_picker_span);\n    this.format_dropdown = fmt_picker[0];\n\n    for (var ind in mpl.extensions) {\n        var fmt = mpl.extensions[ind];\n        var option = $(\n            '<option/>', {selected: fmt === mpl.default_extension}).html(fmt);\n        fmt_picker.append(option);\n    }\n\n    // Add hover states to the ui-buttons\n    $( \".ui-button\" ).hover(\n        function() { $(this).addClass(\"ui-state-hover\");},\n        function() { $(this).removeClass(\"ui-state-hover\");}\n    );\n\n    var status_bar = $('<span class=\"mpl-message\"/>');\n    nav_element.append(status_bar);\n    this.message = status_bar[0];\n}\n\nmpl.figure.prototype.request_resize = function(x_pixels, y_pixels) {\n    // Request matplotlib to resize the figure. Matplotlib will then trigger a resize in the client,\n    // which will in turn request a refresh of the image.\n    this.send_message('resize', {'width': x_pixels, 'height': y_pixels});\n}\n\nmpl.figure.prototype.send_message = function(type, properties) {\n    properties['type'] = type;\n    properties['figure_id'] = this.id;\n    this.ws.send(JSON.stringify(properties));\n}\n\nmpl.figure.prototype.send_draw_message = function() {\n    if (!this.waiting) {\n        this.waiting = true;\n        this.ws.send(JSON.stringify({type: \"draw\", figure_id: this.id}));\n    }\n}\n\n\nmpl.figure.prototype.handle_save = function(fig, msg) {\n    var format_dropdown = fig.format_dropdown;\n    var format = format_dropdown.options[format_dropdown.selectedIndex].value;\n    fig.ondownload(fig, format);\n}\n\n\nmpl.figure.prototype.handle_resize = function(fig, msg) {\n    var size = msg['size'];\n    if (size[0] != fig.canvas.width || size[1] != fig.canvas.height) {\n        fig._resize_canvas(size[0], size[1]);\n        fig.send_message(\"refresh\", {});\n    };\n}\n\nmpl.figure.prototype.handle_rubberband = function(fig, msg) {\n    var x0 = msg['x0'] / mpl.ratio;\n    var y0 = (fig.canvas.height - msg['y0']) / mpl.ratio;\n    var x1 = msg['x1'] / mpl.ratio;\n    var y1 = (fig.canvas.height - msg['y1']) / mpl.ratio;\n    x0 = Math.floor(x0) + 0.5;\n    y0 = Math.floor(y0) + 0.5;\n    x1 = Math.floor(x1) + 0.5;\n    y1 = Math.floor(y1) + 0.5;\n    var min_x = Math.min(x0, x1);\n    var min_y = Math.min(y0, y1);\n    var width = Math.abs(x1 - x0);\n    var height = Math.abs(y1 - y0);\n\n    fig.rubberband_context.clearRect(\n        0, 0, fig.canvas.width / mpl.ratio, fig.canvas.height / mpl.ratio);\n\n    fig.rubberband_context.strokeRect(min_x, min_y, width, height);\n}\n\nmpl.figure.prototype.handle_figure_label = function(fig, msg) {\n    // Updates the figure title.\n    fig.header.textContent = msg['label'];\n}\n\nmpl.figure.prototype.handle_cursor = function(fig, msg) {\n    var cursor = msg['cursor'];\n    switch(cursor)\n    {\n    case 0:\n        cursor = 'pointer';\n        break;\n    case 1:\n        cursor = 'default';\n        break;\n    case 2:\n        cursor = 'crosshair';\n        break;\n    case 3:\n        cursor = 'move';\n        break;\n    }\n    fig.rubberband_canvas.style.cursor = cursor;\n}\n\nmpl.figure.prototype.handle_message = function(fig, msg) {\n    fig.message.textContent = msg['message'];\n}\n\nmpl.figure.prototype.handle_draw = function(fig, msg) {\n    // Request the server to send over a new figure.\n    fig.send_draw_message();\n}\n\nmpl.figure.prototype.handle_image_mode = function(fig, msg) {\n    fig.image_mode = msg['mode'];\n}\n\nmpl.figure.prototype.updated_canvas_event = function() {\n    // Called whenever the canvas gets updated.\n    this.send_message(\"ack\", {});\n}\n\n// A function to construct a web socket function for onmessage handling.\n// Called in the figure constructor.\nmpl.figure.prototype._make_on_message_function = function(fig) {\n    return function socket_on_message(evt) {\n        if (evt.data instanceof Blob) {\n            /* FIXME: We get \"Resource interpreted as Image but\n             * transferred with MIME type text/plain:\" errors on\n             * Chrome.  But how to set the MIME type?  It doesn't seem\n             * to be part of the websocket stream */\n            evt.data.type = \"image/png\";\n\n            /* Free the memory for the previous frames */\n            if (fig.imageObj.src) {\n                (window.URL || window.webkitURL).revokeObjectURL(\n                    fig.imageObj.src);\n            }\n\n            fig.imageObj.src = (window.URL || window.webkitURL).createObjectURL(\n                evt.data);\n            fig.updated_canvas_event();\n            fig.waiting = false;\n            return;\n        }\n        else if (typeof evt.data === 'string' && evt.data.slice(0, 21) == \"data:image/png;base64\") {\n            fig.imageObj.src = evt.data;\n            fig.updated_canvas_event();\n            fig.waiting = false;\n            return;\n        }\n\n        var msg = JSON.parse(evt.data);\n        var msg_type = msg['type'];\n\n        // Call the  \"handle_{type}\" callback, which takes\n        // the figure and JSON message as its only arguments.\n        try {\n            var callback = fig[\"handle_\" + msg_type];\n        } catch (e) {\n            console.log(\"No handler for the '\" + msg_type + \"' message type: \", msg);\n            return;\n        }\n\n        if (callback) {\n            try {\n                // console.log(\"Handling '\" + msg_type + \"' message: \", msg);\n                callback(fig, msg);\n            } catch (e) {\n                console.log(\"Exception inside the 'handler_\" + msg_type + \"' callback:\", e, e.stack, msg);\n            }\n        }\n    };\n}\n\n// from http://stackoverflow.com/questions/1114465/getting-mouse-location-in-canvas\nmpl.findpos = function(e) {\n    //this section is from http://www.quirksmode.org/js/events_properties.html\n    var targ;\n    if (!e)\n        e = window.event;\n    if (e.target)\n        targ = e.target;\n    else if (e.srcElement)\n        targ = e.srcElement;\n    if (targ.nodeType == 3) // defeat Safari bug\n        targ = targ.parentNode;\n\n    // jQuery normalizes the pageX and pageY\n    // pageX,Y are the mouse positions relative to the document\n    // offset() returns the position of the element relative to the document\n    var x = e.pageX - $(targ).offset().left;\n    var y = e.pageY - $(targ).offset().top;\n\n    return {\"x\": x, \"y\": y};\n};\n\n/*\n * return a copy of an object with only non-object keys\n * we need this to avoid circular references\n * http://stackoverflow.com/a/24161582/3208463\n */\nfunction simpleKeys (original) {\n  return Object.keys(original).reduce(function (obj, key) {\n    if (typeof original[key] !== 'object')\n        obj[key] = original[key]\n    return obj;\n  }, {});\n}\n\nmpl.figure.prototype.mouse_event = function(event, name) {\n    var canvas_pos = mpl.findpos(event)\n\n    if (name === 'button_press')\n    {\n        this.canvas.focus();\n        this.canvas_div.focus();\n    }\n\n    var x = canvas_pos.x * mpl.ratio;\n    var y = canvas_pos.y * mpl.ratio;\n\n    this.send_message(name, {x: x, y: y, button: event.button,\n                             step: event.step,\n                             guiEvent: simpleKeys(event)});\n\n    /* This prevents the web browser from automatically changing to\n     * the text insertion cursor when the button is pressed.  We want\n     * to control all of the cursor setting manually through the\n     * 'cursor' event from matplotlib */\n    event.preventDefault();\n    return false;\n}\n\nmpl.figure.prototype._key_event_extra = function(event, name) {\n    // Handle any extra behaviour associated with a key event\n}\n\nmpl.figure.prototype.key_event = function(event, name) {\n\n    // Prevent repeat events\n    if (name == 'key_press')\n    {\n        if (event.which === this._key)\n            return;\n        else\n            this._key = event.which;\n    }\n    if (name == 'key_release')\n        this._key = null;\n\n    var value = '';\n    if (event.ctrlKey && event.which != 17)\n        value += \"ctrl+\";\n    if (event.altKey && event.which != 18)\n        value += \"alt+\";\n    if (event.shiftKey && event.which != 16)\n        value += \"shift+\";\n\n    value += 'k';\n    value += event.which.toString();\n\n    this._key_event_extra(event, name);\n\n    this.send_message(name, {key: value,\n                             guiEvent: simpleKeys(event)});\n    return false;\n}\n\nmpl.figure.prototype.toolbar_button_onclick = function(name) {\n    if (name == 'download') {\n        this.handle_save(this, null);\n    } else {\n        this.send_message(\"toolbar_button\", {name: name});\n    }\n};\n\nmpl.figure.prototype.toolbar_button_onmouseover = function(tooltip) {\n    this.message.textContent = tooltip;\n};\nmpl.toolbar_items = [[\"Home\", \"Reset original view\", \"fa fa-home icon-home\", \"home\"], [\"Back\", \"Back to previous view\", \"fa fa-arrow-left icon-arrow-left\", \"back\"], [\"Forward\", \"Forward to next view\", \"fa fa-arrow-right icon-arrow-right\", \"forward\"], [\"\", \"\", \"\", \"\"], [\"Pan\", \"Pan axes with left mouse, zoom with right\", \"fa fa-arrows icon-move\", \"pan\"], [\"Zoom\", \"Zoom to rectangle\", \"fa fa-square-o icon-check-empty\", \"zoom\"], [\"\", \"\", \"\", \"\"], [\"Download\", \"Download plot\", \"fa fa-floppy-o icon-save\", \"download\"]];\n\nmpl.extensions = [\"eps\", \"pdf\", \"png\", \"ps\", \"raw\", \"svg\"];\n\nmpl.default_extension = \"png\";var comm_websocket_adapter = function(comm) {\n    // Create a \"websocket\"-like object which calls the given IPython comm\n    // object with the appropriate methods. Currently this is a non binary\n    // socket, so there is still some room for performance tuning.\n    var ws = {};\n\n    ws.close = function() {\n        comm.close()\n    };\n    ws.send = function(m) {\n        //console.log('sending', m);\n        comm.send(m);\n    };\n    // Register the callback with on_msg.\n    comm.on_msg(function(msg) {\n        //console.log('receiving', msg['content']['data'], msg);\n        // Pass the mpl event to the overridden (by mpl) onmessage function.\n        ws.onmessage(msg['content']['data'])\n    });\n    return ws;\n}\n\nmpl.mpl_figure_comm = function(comm, msg) {\n    // This is the function which gets called when the mpl process\n    // starts-up an IPython Comm through the \"matplotlib\" channel.\n\n    var id = msg.content.data.id;\n    // Get hold of the div created by the display call when the Comm\n    // socket was opened in Python.\n    var element = $(\"#\" + id);\n    var ws_proxy = comm_websocket_adapter(comm)\n\n    function ondownload(figure, format) {\n        window.open(figure.imageObj.src);\n    }\n\n    var fig = new mpl.figure(id, ws_proxy,\n                           ondownload,\n                           element.get(0));\n\n    // Call onopen now - mpl needs it, as it is assuming we've passed it a real\n    // web socket which is closed, not our websocket->open comm proxy.\n    ws_proxy.onopen();\n\n    fig.parent_element = element.get(0);\n    fig.cell_info = mpl.find_output_cell(\"<div id='\" + id + \"'></div>\");\n    if (!fig.cell_info) {\n        console.error(\"Failed to find cell for figure\", id, fig);\n        return;\n    }\n\n    var output_index = fig.cell_info[2]\n    var cell = fig.cell_info[0];\n\n};\n\nmpl.figure.prototype.handle_close = function(fig, msg) {\n    var width = fig.canvas.width/mpl.ratio\n    fig.root.unbind('remove')\n\n    // Update the output cell to use the data from the current canvas.\n    fig.push_to_output();\n    var dataURL = fig.canvas.toDataURL();\n    // Re-enable the keyboard manager in IPython - without this line, in FF,\n    // the notebook keyboard shortcuts fail.\n    IPython.keyboard_manager.enable()\n    $(fig.parent_element).html('<img src=\"' + dataURL + '\" width=\"' + width + '\">');\n    fig.close_ws(fig, msg);\n}\n\nmpl.figure.prototype.close_ws = function(fig, msg){\n    fig.send_message('closing', msg);\n    // fig.ws.close()\n}\n\nmpl.figure.prototype.push_to_output = function(remove_interactive) {\n    // Turn the data on the canvas into data in the output cell.\n    var width = this.canvas.width/mpl.ratio\n    var dataURL = this.canvas.toDataURL();\n    this.cell_info[1]['text/html'] = '<img src=\"' + dataURL + '\" width=\"' + width + '\">';\n}\n\nmpl.figure.prototype.updated_canvas_event = function() {\n    // Tell IPython that the notebook contents must change.\n    IPython.notebook.set_dirty(true);\n    this.send_message(\"ack\", {});\n    var fig = this;\n    // Wait a second, then push the new image to the DOM so\n    // that it is saved nicely (might be nice to debounce this).\n    setTimeout(function () { fig.push_to_output() }, 1000);\n}\n\nmpl.figure.prototype._init_toolbar = function() {\n    var fig = this;\n\n    var nav_element = $('<div/>');\n    nav_element.attr('style', 'width: 100%');\n    this.root.append(nav_element);\n\n    // Define a callback function for later on.\n    function toolbar_event(event) {\n        return fig.toolbar_button_onclick(event['data']);\n    }\n    function toolbar_mouse_event(event) {\n        return fig.toolbar_button_onmouseover(event['data']);\n    }\n\n    for(var toolbar_ind in mpl.toolbar_items){\n        var name = mpl.toolbar_items[toolbar_ind][0];\n        var tooltip = mpl.toolbar_items[toolbar_ind][1];\n        var image = mpl.toolbar_items[toolbar_ind][2];\n        var method_name = mpl.toolbar_items[toolbar_ind][3];\n\n        if (!name) { continue; };\n\n        var button = $('<button class=\"btn btn-default\" href=\"#\" title=\"' + name + '\"><i class=\"fa ' + image + ' fa-lg\"></i></button>');\n        button.click(method_name, toolbar_event);\n        button.mouseover(tooltip, toolbar_mouse_event);\n        nav_element.append(button);\n    }\n\n    // Add the status bar.\n    var status_bar = $('<span class=\"mpl-message\" style=\"text-align:right; float: right;\"/>');\n    nav_element.append(status_bar);\n    this.message = status_bar[0];\n\n    // Add the close button to the window.\n    var buttongrp = $('<div class=\"btn-group inline pull-right\"></div>');\n    var button = $('<button class=\"btn btn-mini btn-primary\" href=\"#\" title=\"Stop Interaction\"><i class=\"fa fa-power-off icon-remove icon-large\"></i></button>');\n    button.click(function (evt) { fig.handle_close(fig, {}); } );\n    button.mouseover('Stop Interaction', toolbar_mouse_event);\n    buttongrp.append(button);\n    var titlebar = this.root.find($('.ui-dialog-titlebar'));\n    titlebar.prepend(buttongrp);\n}\n\nmpl.figure.prototype._root_extra_style = function(el){\n    var fig = this\n    el.on(\"remove\", function(){\n\tfig.close_ws(fig, {});\n    });\n}\n\nmpl.figure.prototype._canvas_extra_style = function(el){\n    // this is important to make the div 'focusable\n    el.attr('tabindex', 0)\n    // reach out to IPython and tell the keyboard manager to turn it's self\n    // off when our div gets focus\n\n    // location in version 3\n    if (IPython.notebook.keyboard_manager) {\n        IPython.notebook.keyboard_manager.register_events(el);\n    }\n    else {\n        // location in version 2\n        IPython.keyboard_manager.register_events(el);\n    }\n\n}\n\nmpl.figure.prototype._key_event_extra = function(event, name) {\n    var manager = IPython.notebook.keyboard_manager;\n    if (!manager)\n        manager = IPython.keyboard_manager;\n\n    // Check for shift+enter\n    if (event.shiftKey && event.which == 13) {\n        this.canvas_div.blur();\n        // select the cell after this one\n        var index = IPython.notebook.find_cell_index(this.cell_info[0]);\n        IPython.notebook.select(index + 1);\n    }\n}\n\nmpl.figure.prototype.handle_save = function(fig, msg) {\n    fig.ondownload(fig, null);\n}\n\n\nmpl.find_output_cell = function(html_output) {\n    // Return the cell and output element which can be found *uniquely* in the notebook.\n    // Note - this is a bit hacky, but it is done because the \"notebook_saving.Notebook\"\n    // IPython event is triggered only after the cells have been serialised, which for\n    // our purposes (turning an active figure into a static one), is too late.\n    var cells = IPython.notebook.get_cells();\n    var ncells = cells.length;\n    for (var i=0; i<ncells; i++) {\n        var cell = cells[i];\n        if (cell.cell_type === 'code'){\n            for (var j=0; j<cell.output_area.outputs.length; j++) {\n                var data = cell.output_area.outputs[j];\n                if (data.data) {\n                    // IPython >= 3 moved mimebundle to data attribute of output\n                    data = data.data;\n                }\n                if (data['text/html'] == html_output) {\n                    return [cell, data, j];\n                }\n            }\n        }\n    }\n}\n\n// Register the function which deals with the matplotlib target/channel.\n// The kernel may be null if the page has been refreshed.\nif (IPython.notebook.kernel != null) {\n    IPython.notebook.kernel.comm_manager.register_target('matplotlib', mpl.mpl_figure_comm);\n}\n",
          "text/plain": "<IPython.core.display.Javascript object>"
         },
         "metadata": {},
         "output_type": "display_data"
        },
        {
         "data": {
          "text/html": "<div id='77dcb497-bef5-4a19-b897-789850c05aa7'></div>",
          "text/plain": "<IPython.core.display.HTML object>"
         },
         "metadata": {},
         "output_type": "display_data"
        },
        {
         "data": {
          "text/plain": "100"
         },
         "metadata": {},
         "output_type": "display_data"
        }
       ]
      }
     },
     "a90fcf995c5c4c63aa74441484bf8069": {
      "model_module": "bqplot",
      "model_module_version": "^0.4.0",
      "model_name": "LinesModel",
      "state": {
       "color": {
        "type": null,
        "values": null
       },
       "colors": [
        "#475A77"
       ],
       "display_legend": false,
       "fill_colors": [],
       "labels": [
        "C1"
       ],
       "scales": {
        "x": "IPY_MODEL_3d11d8a505524059b04d0c1a1bd9831f",
        "y": "IPY_MODEL_7a910dba90bc4db2bce3af02a0520bcd"
       },
       "selected": [],
       "x": {
        "type": "float",
        "values": [
         1,
         2,
         3
        ]
       },
       "y": {
        "type": "float",
        "values": [
         13,
         -4,
         35
        ]
       }
      }
     },
     "a92ae92e80384156baca232a9cfe1cd0": {
      "model_module": "@jupyter-widgets/base",
      "model_module_version": "1.2.0",
      "model_name": "LayoutModel",
      "state": {}
     },
     "a93adb8105dd43dbb98a485c1c650200": {
      "model_module": "bqplot",
      "model_module_version": "^0.4.0",
      "model_name": "LinearScaleModel",
      "state": {
       "allow_padding": false,
       "max": 1,
       "min": 0,
       "stabilized": false
      }
     },
     "a96e114fed2c4305a417654dde01f241": {
      "model_module": "bqplot",
      "model_module_version": "^0.4.0",
      "model_name": "LinearScaleModel",
      "state": {
       "stabilized": false
      }
     },
     "a982bd3256364452a7350a610f14db7b": {
      "model_module": "@jupyter-widgets/controls",
      "model_module_version": "1.5.0",
      "model_name": "VBoxModel",
      "state": {
       "_dom_classes": [
        "widget-interact"
       ],
       "children": [
        "IPY_MODEL_e242f266864b4ee9b3b92c93695fadfe",
        "IPY_MODEL_37fa0d4cbb1a4060bb12c57f9d7ccc77"
       ],
       "layout": "IPY_MODEL_bb1bf4dd3b394ceab8e7340a1ea34c29"
      }
     },
     "a9881d3222fe4b9a84dd324b218e89f4": {
      "model_module": "@jupyter-widgets/base",
      "model_module_version": "1.2.0",
      "model_name": "LayoutModel",
      "state": {}
     },
     "a99fb95c37bd43a998e55da510646a63": {
      "model_module": "bqplot",
      "model_module_version": "^0.4.0",
      "model_name": "LinearScaleModel",
      "state": {
       "stabilized": false
      }
     },
     "a9e5f0472a0f45cf8ceffa946ac505d1": {
      "model_module": "bqplot",
      "model_module_version": "^0.4.0",
      "model_name": "LinearScaleModel",
      "state": {
       "stabilized": false
      }
     },
     "aa1beb33d3114fc3b52b8ffe88378f5a": {
      "model_module": "bqplot",
      "model_module_version": "^0.4.0",
      "model_name": "LinesModel",
      "state": {
       "color": {
        "type": null,
        "values": null
       },
       "colors": [
        "#475A77"
       ],
       "display_legend": false,
       "fill_colors": [],
       "scales": {
        "x": "IPY_MODEL_a4560bcad02646e4b793754f9114eb6d",
        "y": "IPY_MODEL_087ce0de34c747098f3cfa962a355670"
       },
       "selected": [],
       "x": {
        "type": "float",
        "values": []
       },
       "y": {
        "type": "float",
        "values": []
       }
      }
     },
     "aa219dbc25274580968d70f755dd687c": {
      "model_module": "@jupyter-widgets/base",
      "model_module_version": "1.2.0",
      "model_name": "LayoutModel",
      "state": {
       "min_width": "125px"
      }
     },
     "aa35e036c2c14d40aacb1dd23dd893e0": {
      "model_module": "@jupyter-widgets/controls",
      "model_module_version": "1.5.0",
      "model_name": "VBoxModel",
      "state": {
       "_dom_classes": [
        "widget-interact"
       ],
       "children": [
        "IPY_MODEL_13f6dc88fbed423ba80742e0ede24e50"
       ],
       "layout": "IPY_MODEL_c64c4cb31e554737ab791198510665a3"
      }
     },
     "aa4d5b4423aa47438377875e0d9be69b": {
      "model_module": "@jupyter-widgets/controls",
      "model_module_version": "1.5.0",
      "model_name": "VBoxModel",
      "state": {
       "children": [
        "IPY_MODEL_cfcbd685f0bd47b9a6f591e3b48ddcb4",
        "IPY_MODEL_b854c4ea19e04581a59a2ed1476251f0"
       ],
       "layout": "IPY_MODEL_fa3004580dee42bdbd955c4cff4e888f"
      }
     },
     "aa56df4e5db04b8c9a856456f55ec3d0": {
      "model_module": "bqplot",
      "model_module_version": "^0.4.0",
      "model_name": "LinesModel",
      "state": {
       "color": {
        "type": null,
        "values": null
       },
       "colors": [
        "#475A77"
       ],
       "display_legend": false,
       "fill_colors": [],
       "scales": {
        "x": "IPY_MODEL_1022c3680ebc4a58b514817958b6bc47",
        "y": "IPY_MODEL_0d2ac306f9a14676ad7042b4318fbd63"
       },
       "selected": [],
       "x": {
        "type": "float",
        "values": []
       },
       "y": {
        "type": "float",
        "values": []
       }
      }
     },
     "aaa218bf25ef423290102393fd7585ac": {
      "model_module": "@jupyter-widgets/base",
      "model_module_version": "1.2.0",
      "model_name": "LayoutModel",
      "state": {
       "min_width": "125px"
      }
     },
     "aac4b30cb6614384984ea002eb68d4c0": {
      "model_module": "@jupyter-widgets/controls",
      "model_module_version": "1.5.0",
      "model_name": "VBoxModel",
      "state": {
       "_dom_classes": [
        "widget-interact"
       ],
       "children": [
        "IPY_MODEL_1c4763440cad46b189402bd4fa25c5ed"
       ],
       "layout": "IPY_MODEL_669ba4866a944c8d8a101dd6da25c17a"
      }
     },
     "ab5256c060024b5abc4582ee65e28ac6": {
      "model_module": "bqplot",
      "model_module_version": "^0.4.0",
      "model_name": "LinearScaleModel",
      "state": {
       "stabilized": false
      }
     },
     "ab9c5d6fb3b34e88bc8d0743b33fa49e": {
      "model_module": "@jupyter-widgets/controls",
      "model_module_version": "1.5.0",
      "model_name": "IntSliderModel",
      "state": {
       "description": "mean",
       "layout": "IPY_MODEL_9d6baafd541e47abaf2f806f472adc24",
       "max": 10,
       "style": "IPY_MODEL_f495f356880247c4b5d240180d73e61a",
       "value": 7
      }
     },
     "aba4954ae2c24771866d006fb9eb1bdd": {
      "model_module": "bqplot",
      "model_module_version": "^0.4.0",
      "model_name": "AxisModel",
      "state": {
       "scale": "IPY_MODEL_bdbe38c2d9e8445bb3ee59e5bfc2a45d",
       "side": "bottom",
       "tick_values": {
        "type": null,
        "values": null
       }
      }
     },
     "ac2081347d9a4eb9b8bd318ea444bf48": {
      "model_module": "bqplot",
      "model_module_version": "^0.4.0",
      "model_name": "LinearScaleModel",
      "state": {
       "allow_padding": false,
       "max": 1,
       "min": 0,
       "stabilized": false
      }
     },
     "ac6800b88f304dd8aa352f3837ab9e7f": {
      "model_module": "@jupyter-widgets/base",
      "model_module_version": "1.2.0",
      "model_name": "LayoutModel",
      "state": {
       "min_width": "125px"
      }
     },
     "ac8d3a9f4d6445459e6a09bdc8a516fa": {
      "model_module": "bqplot",
      "model_module_version": "^0.4.0",
      "model_name": "LinearScaleModel",
      "state": {
       "stabilized": false
      }
     },
     "ac8e03166f444209b6c0beb00bbba682": {
      "model_module": "bqplot",
      "model_module_version": "^0.4.0",
      "model_name": "LinearScaleModel",
      "state": {
       "allow_padding": false,
       "max": 1,
       "min": 0,
       "stabilized": false
      }
     },
     "ac98349103f141fcbf6ae29d1ecb5925": {
      "model_module": "bqplot",
      "model_module_version": "^0.4.0",
      "model_name": "LinearScaleModel",
      "state": {
       "stabilized": false
      }
     },
     "ac9e870e88c64086a15a33f8049244be": {
      "model_module": "@jupyter-widgets/controls",
      "model_module_version": "1.5.0",
      "model_name": "VBoxModel",
      "state": {
       "_dom_classes": [
        "widget-interact"
       ],
       "children": [
        "IPY_MODEL_25721c42539e480fa745cf92edcfbd9e",
        "IPY_MODEL_a8fef6d1173c4055a72e9625804009dd"
       ],
       "layout": "IPY_MODEL_707c35fca06341cb9c3c5c037d5ce12e"
      }
     },
     "acd2d35ba28f4a9b8ab3918683790f5b": {
      "model_module": "bqplot",
      "model_module_version": "^0.4.0",
      "model_name": "HistModel",
      "state": {
       "colors": [
        "#475A77"
       ],
       "count": {
        "type": "float",
        "values": [
         null,
         null,
         null,
         null,
         null,
         null,
         null,
         null,
         null,
         null
        ]
       },
       "display_legend": false,
       "midpoints": [
        0,
        0,
        0,
        0,
        0,
        0,
        0,
        0,
        0,
        0
       ],
       "normalized": true,
       "sample": {
        "type": "float",
        "values": [
         0,
         0,
         0,
         0,
         0,
         0,
         0,
         0,
         0,
         0
        ]
       },
       "scales": {
        "count": "IPY_MODEL_a3ca5b50f23e4a12a2bb16acd9ffe734",
        "sample": "IPY_MODEL_45494b60460046d8be107a77f7cd702c"
       },
       "selected": [],
       "stroke": "#475A77"
      }
     },
     "aceb7095f78840abb581ddebeca11ad9": {
      "model_module": "bqplot",
      "model_module_version": "^0.4.0",
      "model_name": "AxisModel",
      "state": {
       "orientation": "vertical",
       "scale": "IPY_MODEL_6fab775310814b62988bf2195c950bfd",
       "side": "left",
       "tick_values": {
        "type": null,
        "values": null
       }
      }
     },
     "ad02d5626a204c95999787e28a516345": {
      "model_module": "@jupyter-widgets/base",
      "model_module_version": "1.2.0",
      "model_name": "LayoutModel",
      "state": {
       "min_width": "125px"
      }
     },
     "ad3ecc6fc8564aacaf683b52c2414f4f": {
      "model_module": "bqplot",
      "model_module_version": "^0.4.0",
      "model_name": "FigureModel",
      "state": {
       "_dom_classes": [],
       "axes": [
        "IPY_MODEL_90f5145bc9dd402c8f2868a6ed63d74a",
        "IPY_MODEL_df4f477c0bf6465d8d36adb34c49dfd3"
       ],
       "layout": "IPY_MODEL_a266f6123ff647a6b141e516d2366bc7",
       "marks": [
        "IPY_MODEL_c2b92b7626ea464e925c375e5cd74f0f"
       ],
       "max_aspect_ratio": 6,
       "scale_x": "IPY_MODEL_7436b2ba66184a91a5b4b106c3a3ee5e",
       "scale_y": "IPY_MODEL_d60dde0ed9984c83ab4aac2a71e76af7"
      }
     },
     "ad48c366b9f94cdbb35f738f89256ab9": {
      "model_module": "@jupyter-widgets/output",
      "model_module_version": "1.0.0",
      "model_name": "OutputModel",
      "state": {
       "layout": "IPY_MODEL_9707fdf9b80e4ee692e5b47db6d9a07c"
      }
     },
     "ad5a1ef5356340f39af4c5d33f65d931": {
      "model_module": "@jupyter-widgets/base",
      "model_module_version": "1.2.0",
      "model_name": "LayoutModel",
      "state": {}
     },
     "ad637743927e4ba490a609c1236fb820": {
      "model_module": "bqplot",
      "model_module_version": "^0.4.0",
      "model_name": "AxisModel",
      "state": {
       "orientation": "vertical",
       "scale": "IPY_MODEL_5d20f5bccef9455ab0b717e1c378215c",
       "side": "left",
       "tick_values": {
        "type": null,
        "values": null
       }
      }
     },
     "ad645dc9fb2a404fb5a92387e0617d6d": {
      "model_module": "@jupyter-widgets/output",
      "model_module_version": "1.0.0",
      "model_name": "OutputModel",
      "state": {
       "layout": "IPY_MODEL_6c26bc55b5e1435c90c7c28ec3d81da2"
      }
     },
     "ad8e3b41e6394b7886ec2395e67348ed": {
      "model_module": "bqplot",
      "model_module_version": "^0.4.0",
      "model_name": "LinearScaleModel",
      "state": {
       "stabilized": false
      }
     },
     "ad9f65f7b3264deba73186fb5f222729": {
      "model_module": "@jupyter-widgets/base",
      "model_module_version": "1.2.0",
      "model_name": "LayoutModel",
      "state": {}
     },
     "adb6dfe7663944619d933c1e7de8ae4f": {
      "model_module": "bqplot",
      "model_module_version": "^0.4.0",
      "model_name": "AxisModel",
      "state": {
       "orientation": "vertical",
       "scale": "IPY_MODEL_4c9b24e1c3844582a1def3bdceb0af57",
       "side": "left",
       "tick_values": {
        "type": null,
        "values": null
       }
      }
     },
     "adf8801305c6445e9d878f83b084b69d": {
      "model_module": "bqplot",
      "model_module_version": "^0.4.0",
      "model_name": "LinesModel",
      "state": {
       "color": {
        "type": null,
        "values": null
       },
       "colors": [
        "#475A77"
       ],
       "display_legend": false,
       "fill_colors": [],
       "scales": {
        "x": "IPY_MODEL_bcfc3bba60144f85a87cbc3f90c03d57",
        "y": "IPY_MODEL_6149eae834e34040837c9dc134006a73"
       },
       "selected": [],
       "x": {
        "type": "float",
        "values": []
       },
       "y": {
        "type": "float",
        "values": []
       }
      }
     },
     "adfa4ce1118e4f34a3b2a80729516e02": {
      "model_module": "bqplot",
      "model_module_version": "^0.4.0",
      "model_name": "LinearScaleModel",
      "state": {
       "allow_padding": false,
       "max": 1,
       "min": 0,
       "stabilized": false
      }
     },
     "ae00884795b04ee7a60b2afff335c51e": {
      "model_module": "@jupyter-widgets/controls",
      "model_module_version": "1.5.0",
      "model_name": "VBoxModel",
      "state": {
       "children": [
        "IPY_MODEL_eb04b47e9f1341eda4d291f24e7913df",
        "IPY_MODEL_5d1a85af7dc740e9bae9096e8ec4b6c3"
       ],
       "layout": "IPY_MODEL_44a2f017302a4cd3a5ceb502d3083847"
      }
     },
     "ae3e08f6c8574dcda6b7b3214f7a2d0c": {
      "model_module": "bqplot",
      "model_module_version": "^0.4.0",
      "model_name": "LinearScaleModel",
      "state": {
       "allow_padding": false,
       "max": 1,
       "min": 0,
       "stabilized": false
      }
     },
     "ae45b9982b8947059702b4227d3c57e4": {
      "model_module": "bqplot",
      "model_module_version": "^0.4.0",
      "model_name": "AxisModel",
      "state": {
       "orientation": "vertical",
       "scale": "IPY_MODEL_76d20aa482d341deaac983e4d37e3191",
       "side": "left",
       "tick_values": {
        "type": null,
        "values": null
       }
      }
     },
     "ae47e7c78157479cbdbc7f3c050cec1e": {
      "model_module": "bqplot",
      "model_module_version": "^0.4.0",
      "model_name": "LinearScaleModel",
      "state": {
       "allow_padding": false,
       "max": 1,
       "min": 0,
       "stabilized": false
      }
     },
     "aea338e96ab34507acf53c69ab219037": {
      "model_module": "@jupyter-widgets/base",
      "model_module_version": "1.2.0",
      "model_name": "LayoutModel",
      "state": {}
     },
     "aedaf3cc5c2848d78159b120a28cc9ac": {
      "model_module": "@jupyter-widgets/base",
      "model_module_version": "1.2.0",
      "model_name": "LayoutModel",
      "state": {
       "min_width": "125px"
      }
     },
     "aeeba06495904492b0cc01f2dd45e42f": {
      "model_module": "@jupyter-widgets/base",
      "model_module_version": "1.2.0",
      "model_name": "LayoutModel",
      "state": {}
     },
     "af65cb4812e542a5bb591f7c10720ec5": {
      "model_module": "bqplot",
      "model_module_version": "^0.4.0",
      "model_name": "AxisModel",
      "state": {
       "orientation": "vertical",
       "scale": "IPY_MODEL_5adeba8254ed4cd29fedb036b5f87e2e",
       "side": "left",
       "tick_values": {
        "type": null,
        "values": null
       }
      }
     },
     "af770589ccda4bda88ec0686d8d9c2b3": {
      "model_module": "bqplot",
      "model_module_version": "^0.4.0",
      "model_name": "LinesModel",
      "state": {
       "color": {
        "type": null,
        "values": null
       },
       "colors": [
        "#475A77"
       ],
       "display_legend": false,
       "fill_colors": [],
       "labels": [
        "C1"
       ],
       "scales": {
        "x": "IPY_MODEL_d7911274941d4322b60f638429c7bf72",
        "y": "IPY_MODEL_0c52609aa80b4121bc4972f83b7c1725"
       },
       "selected": [],
       "x": {
        "type": "float",
        "values": [
         1,
         2,
         3
        ]
       },
       "y": {
        "type": "float",
        "values": [
         30,
         13,
         154
        ]
       }
      }
     },
     "af9c39aaa801470c9b0b7c1d41e6272a": {
      "model_module": "bqplot",
      "model_module_version": "^0.4.0",
      "model_name": "LinearScaleModel",
      "state": {
       "stabilized": false
      }
     },
     "afabf1447fe2444da54b5ecec39a625d": {
      "model_module": "bqplot",
      "model_module_version": "^0.4.0",
      "model_name": "LinearScaleModel",
      "state": {
       "allow_padding": false,
       "max": 1,
       "min": 0,
       "stabilized": false
      }
     },
     "b01275e6a0134930bedef0585685808f": {
      "model_module": "bqplot",
      "model_module_version": "^0.4.0",
      "model_name": "LinesModel",
      "state": {
       "color": {
        "type": null,
        "values": null
       },
       "colors": [
        "#475A77"
       ],
       "display_legend": false,
       "fill_colors": [],
       "labels": [
        "C1"
       ],
       "scales": {
        "x": "IPY_MODEL_f5c9cea8c5464745a107fc4a1e3f4756",
        "y": "IPY_MODEL_c57465d809ef4178b1997cf1dec0465e"
       },
       "selected": [],
       "x": {
        "type": "float",
        "values": [
         1,
         2,
         3
        ]
       },
       "y": {
        "type": "float",
        "values": [
         15,
         -2,
         49
        ]
       }
      }
     },
     "b024355745a645218c0edb6a25b9eacb": {
      "model_module": "@jupyter-widgets/base",
      "model_module_version": "1.2.0",
      "model_name": "LayoutModel",
      "state": {}
     },
     "b07f2ef998974c1781a662af93c900bb": {
      "model_module": "bqplot",
      "model_module_version": "^0.4.0",
      "model_name": "AxisModel",
      "state": {
       "scale": "IPY_MODEL_a4b0da99eb984dd88940d0d0b861a857",
       "side": "bottom",
       "tick_values": {
        "type": null,
        "values": null
       }
      }
     },
     "b08b24b3ecf94bff92fc6790a4b3d60c": {
      "model_module": "@jupyter-widgets/controls",
      "model_module_version": "1.5.0",
      "model_name": "VBoxModel",
      "state": {
       "_dom_classes": [
        "widget-interact"
       ],
       "children": [
        "IPY_MODEL_72d6347ee6d243d4a18a547236b14a3b"
       ],
       "layout": "IPY_MODEL_861e00e532764952a32bb7a14c8ce350"
      }
     },
     "b0ee3573361b4ceda663a1116578e3e4": {
      "model_module": "@jupyter-widgets/base",
      "model_module_version": "1.2.0",
      "model_name": "LayoutModel",
      "state": {}
     },
     "b0f871b8a40d47e69664ce0d0d665e39": {
      "model_module": "bqplot",
      "model_module_version": "^0.4.0",
      "model_name": "LinearScaleModel",
      "state": {
       "stabilized": false
      }
     },
     "b17ac4c90ac34d46805cd04fda163657": {
      "model_module": "bqplot",
      "model_module_version": "^0.4.0",
      "model_name": "LinearScaleModel",
      "state": {
       "allow_padding": false,
       "max": 1,
       "min": 0,
       "stabilized": false
      }
     },
     "b195c32760b3432595c55b1b39eef26a": {
      "model_module": "@jupyter-widgets/controls",
      "model_module_version": "1.5.0",
      "model_name": "VBoxModel",
      "state": {
       "_dom_classes": [
        "widget-interact"
       ],
       "children": [
        "IPY_MODEL_4d1872a011274c9389d87bdd82052e6f"
       ],
       "layout": "IPY_MODEL_a855b8f6c9794f5d8e5298b63cae6958"
      }
     },
     "b1a5e037db534d09a963e798890967a5": {
      "model_module": "@jupyter-widgets/controls",
      "model_module_version": "1.5.0",
      "model_name": "VBoxModel",
      "state": {
       "_dom_classes": [
        "widget-interact"
       ],
       "children": [
        "IPY_MODEL_510b8caea1d34641baea9d02c349ab57"
       ],
       "layout": "IPY_MODEL_768eb954dffa4b448f5b528a6a74c569"
      }
     },
     "b1b3bb2da9334cdca81880be5c7c60f4": {
      "model_module": "@jupyter-widgets/controls",
      "model_module_version": "1.5.0",
      "model_name": "VBoxModel",
      "state": {
       "children": [
        "IPY_MODEL_5b5883f2018a48c1866b6433f652701c",
        "IPY_MODEL_772fac6c89b849c7991bcaeca484ee4d"
       ],
       "layout": "IPY_MODEL_41a42e5fd5dd4521b6e0f85b57c871a7"
      }
     },
     "b1bd08eee2654260a680bdc0e8c386b5": {
      "model_module": "@jupyter-widgets/controls",
      "model_module_version": "1.5.0",
      "model_name": "VBoxModel",
      "state": {
       "children": [
        "IPY_MODEL_d963bf8fc71a451ea1a11325c7a93f42",
        "IPY_MODEL_969cfc9bf54d4bd788c1c3d972f1e78f"
       ],
       "layout": "IPY_MODEL_f2f813828ab142999c125caff265d8fa"
      }
     },
     "b1da7a485a4347af82e9a7a738664a85": {
      "model_module": "@jupyter-widgets/base",
      "model_module_version": "1.2.0",
      "model_name": "LayoutModel",
      "state": {}
     },
     "b1e3a767dacf42c3ba2f39b20b3ed71b": {
      "model_module": "@jupyter-widgets/base",
      "model_module_version": "1.2.0",
      "model_name": "LayoutModel",
      "state": {
       "min_width": "125px"
      }
     },
     "b1f5cf9b5932484abef5de44e15854ef": {
      "model_module": "@jupyter-widgets/controls",
      "model_module_version": "1.5.0",
      "model_name": "IntSliderModel",
      "state": {
       "description": "x",
       "layout": "IPY_MODEL_6fb14ff9cda54b25a55ea6c2831f3819",
       "max": 30,
       "min": -10,
       "style": "IPY_MODEL_2343f65807bf4ffe9cedf94d835d3195",
       "value": 10
      }
     },
     "b21e50ff365040fd94f3240b91de41f7": {
      "model_module": "bqplot",
      "model_module_version": "^0.4.0",
      "model_name": "AxisModel",
      "state": {
       "scale": "IPY_MODEL_cd556c525a83448794a9707ed4088c56",
       "side": "bottom",
       "tick_values": {
        "type": null,
        "values": null
       }
      }
     },
     "b244b135a6de492f9e43e9c1b87adeee": {
      "model_module": "@jupyter-widgets/base",
      "model_module_version": "1.2.0",
      "model_name": "LayoutModel",
      "state": {}
     },
     "b25bd79c5aa34592b9ce063e729edf79": {
      "model_module": "@jupyter-widgets/base",
      "model_module_version": "1.2.0",
      "model_name": "LayoutModel",
      "state": {}
     },
     "b2b1b00f065f452d912f5ba8ff38a4c9": {
      "model_module": "@jupyter-widgets/controls",
      "model_module_version": "1.5.0",
      "model_name": "IntSliderModel",
      "state": {
       "description": "x",
       "layout": "IPY_MODEL_fe7de64666ac4c6f9e145ec5e016760d",
       "max": 30,
       "min": -10,
       "style": "IPY_MODEL_0b797f4d021a4c779672cf00fda7d58e",
       "value": 10
      }
     },
     "b2bcd0605e2f4090a6ceeff071090ced": {
      "model_module": "@jupyter-widgets/output",
      "model_module_version": "1.0.0",
      "model_name": "OutputModel",
      "state": {
       "layout": "IPY_MODEL_4f5ef79389ee4fe3adf52cfa5aa43a9f",
       "outputs": [
        {
         "ename": "NameError",
         "evalue": "name 'plot' is not defined",
         "output_type": "error",
         "traceback": [
          "\u001b[0;31m---------------------------------------------------------------------------\u001b[0m",
          "\u001b[0;31mNameError\u001b[0m                                 Traceback (most recent call last)",
          "\u001b[0;32m/usr/lib/python3.8/site-packages/ipywidgets/widgets/interaction.py\u001b[0m in \u001b[0;36mupdate\u001b[0;34m(self, *args)\u001b[0m\n\u001b[1;32m    254\u001b[0m                     \u001b[0mvalue\u001b[0m \u001b[0;34m=\u001b[0m \u001b[0mwidget\u001b[0m\u001b[0;34m.\u001b[0m\u001b[0mget_interact_value\u001b[0m\u001b[0;34m(\u001b[0m\u001b[0;34m)\u001b[0m\u001b[0;34m\u001b[0m\u001b[0;34m\u001b[0m\u001b[0m\n\u001b[1;32m    255\u001b[0m                     \u001b[0mself\u001b[0m\u001b[0;34m.\u001b[0m\u001b[0mkwargs\u001b[0m\u001b[0;34m[\u001b[0m\u001b[0mwidget\u001b[0m\u001b[0;34m.\u001b[0m\u001b[0m_kwarg\u001b[0m\u001b[0;34m]\u001b[0m \u001b[0;34m=\u001b[0m \u001b[0mvalue\u001b[0m\u001b[0;34m\u001b[0m\u001b[0;34m\u001b[0m\u001b[0m\n\u001b[0;32m--> 256\u001b[0;31m                 \u001b[0mself\u001b[0m\u001b[0;34m.\u001b[0m\u001b[0mresult\u001b[0m \u001b[0;34m=\u001b[0m \u001b[0mself\u001b[0m\u001b[0;34m.\u001b[0m\u001b[0mf\u001b[0m\u001b[0;34m(\u001b[0m\u001b[0;34m**\u001b[0m\u001b[0mself\u001b[0m\u001b[0;34m.\u001b[0m\u001b[0mkwargs\u001b[0m\u001b[0;34m)\u001b[0m\u001b[0;34m\u001b[0m\u001b[0;34m\u001b[0m\u001b[0m\n\u001b[0m\u001b[1;32m    257\u001b[0m                 \u001b[0mshow_inline_matplotlib_plots\u001b[0m\u001b[0;34m(\u001b[0m\u001b[0;34m)\u001b[0m\u001b[0;34m\u001b[0m\u001b[0;34m\u001b[0m\u001b[0m\n\u001b[1;32m    258\u001b[0m                 \u001b[0;32mif\u001b[0m \u001b[0mself\u001b[0m\u001b[0;34m.\u001b[0m\u001b[0mauto_display\u001b[0m \u001b[0;32mand\u001b[0m \u001b[0mself\u001b[0m\u001b[0;34m.\u001b[0m\u001b[0mresult\u001b[0m \u001b[0;32mis\u001b[0m \u001b[0;32mnot\u001b[0m \u001b[0;32mNone\u001b[0m\u001b[0;34m:\u001b[0m\u001b[0;34m\u001b[0m\u001b[0;34m\u001b[0m\u001b[0m\n",
          "\u001b[0;32m<ipython-input-13-d551df7f45e5>\u001b[0m in \u001b[0;36mpmp_example_sliders\u001b[0;34m(corn_price, corn_initial_acres, x_axis_scale)\u001b[0m\n\u001b[1;32m      6\u001b[0m \u001b[0;34m\u001b[0m\u001b[0m\n\u001b[1;32m      7\u001b[0m \u001b[0;32mdef\u001b[0m \u001b[0mpmp_example_sliders\u001b[0m\u001b[0;34m(\u001b[0m\u001b[0mcorn_price\u001b[0m\u001b[0;34m=\u001b[0m\u001b[0;36m250\u001b[0m\u001b[0;34m,\u001b[0m \u001b[0mcorn_initial_acres\u001b[0m\u001b[0;34m=\u001b[0m\u001b[0;36m200\u001b[0m\u001b[0;34m,\u001b[0m \u001b[0mx_axis_scale\u001b[0m\u001b[0;34m=\u001b[0m\u001b[0;36m350\u001b[0m\u001b[0;34m)\u001b[0m\u001b[0;34m:\u001b[0m\u001b[0;34m\u001b[0m\u001b[0;34m\u001b[0m\u001b[0m\n\u001b[0;32m----> 8\u001b[0;31m     \u001b[0;32mreturn\u001b[0m \u001b[0mplot\u001b[0m\u001b[0;34m\u001b[0m\u001b[0;34m\u001b[0m\u001b[0m\n\u001b[0m\u001b[1;32m      9\u001b[0m \u001b[0;31m###Code for Running Calibration and Graphing Resulting Graph###\u001b[0m\u001b[0;34m\u001b[0m\u001b[0;34m\u001b[0m\u001b[0;34m\u001b[0m\u001b[0m\n\u001b[1;32m     10\u001b[0m \u001b[0;31m#create sliders for three variables to be changed\u001b[0m\u001b[0;34m\u001b[0m\u001b[0;34m\u001b[0m\u001b[0;34m\u001b[0m\u001b[0m\n",
          "\u001b[0;31mNameError\u001b[0m: name 'plot' is not defined"
         ]
        }
       ]
      }
     },
     "b2dd13350d1d4dbfa50162061bcbe17a": {
      "model_module": "@jupyter-widgets/base",
      "model_module_version": "1.2.0",
      "model_name": "LayoutModel",
      "state": {}
     },
     "b2dfb49fe1f44bd8b5b91bf89b08d010": {
      "model_module": "@jupyter-widgets/controls",
      "model_module_version": "1.5.0",
      "model_name": "VBoxModel",
      "state": {
       "children": [
        "IPY_MODEL_69050130d17147cf94443f3f270bcda4",
        "IPY_MODEL_04bddd4ab1124d36b1ea1eea05f02386"
       ],
       "layout": "IPY_MODEL_0847b2c72faa4c09846bc111e4cd4be5"
      }
     },
     "b2ec71d17e384b1d9919c9bd9420b4dd": {
      "model_module": "bqplot",
      "model_module_version": "^0.4.0",
      "model_name": "AxisModel",
      "state": {
       "scale": "IPY_MODEL_081b1f0862b24b67b429e0aad4adf76f",
       "side": "bottom",
       "tick_values": {
        "type": null,
        "values": null
       }
      }
     },
     "b3038303320c4a1b918981d21abc5b14": {
      "model_module": "@jupyter-widgets/controls",
      "model_module_version": "1.5.0",
      "model_name": "IntSliderModel",
      "state": {
       "description": "x",
       "layout": "IPY_MODEL_ed96524b15c34118bf963abf056e9d0e",
       "max": 30,
       "min": -10,
       "style": "IPY_MODEL_401a25164dc04158ba7a850f6de03e1f",
       "value": 10
      }
     },
     "b32130daa3344040ae0683aad1345db1": {
      "model_module": "@jupyter-widgets/base",
      "model_module_version": "1.2.0",
      "model_name": "LayoutModel",
      "state": {}
     },
     "b358e8ab40eb4057a98336987e54c352": {
      "model_module": "@jupyter-widgets/base",
      "model_module_version": "1.2.0",
      "model_name": "LayoutModel",
      "state": {}
     },
     "b386314e0226445a9ffe24f2b7478b3f": {
      "model_module": "bqplot",
      "model_module_version": "^0.4.0",
      "model_name": "LinearScaleModel",
      "state": {
       "stabilized": false
      }
     },
     "b38acd79aaa74e0591301987bac4c391": {
      "model_module": "@jupyter-widgets/base",
      "model_module_version": "1.2.0",
      "model_name": "LayoutModel",
      "state": {}
     },
     "b38b21102427484aac4dea69df15470c": {
      "model_module": "@jupyter-widgets/controls",
      "model_module_version": "1.5.0",
      "model_name": "VBoxModel",
      "state": {
       "_dom_classes": [
        "widget-interact"
       ],
       "children": [
        "IPY_MODEL_11de29e447eb47b889d56364b8234d2c"
       ],
       "layout": "IPY_MODEL_d0cc59a486c14cb1a01aeaafdb21b9c3"
      }
     },
     "b3b34417e8844abea5edaf0642c5be25": {
      "model_module": "@jupyter-widgets/output",
      "model_module_version": "1.0.0",
      "model_name": "OutputModel",
      "state": {
       "layout": "IPY_MODEL_95e309c569fd4271ad660512c6216915",
       "outputs": [
        {
         "data": {
          "text/plain": "100"
         },
         "metadata": {},
         "output_type": "display_data"
        }
       ]
      }
     },
     "b3d27c5a888a48ddb0c561d46f3d949c": {
      "model_module": "bqplot",
      "model_module_version": "^0.4.0",
      "model_name": "LinearScaleModel",
      "state": {
       "allow_padding": false,
       "max": 1,
       "min": 0,
       "stabilized": false
      }
     },
     "b414df7e4bfe42218764caed8abbd6ac": {
      "model_module": "@jupyter-widgets/base",
      "model_module_version": "1.2.0",
      "model_name": "LayoutModel",
      "state": {
       "min_width": "125px"
      }
     },
     "b47056eb2b0945e99457a7a3719f9318": {
      "model_module": "bqplot",
      "model_module_version": "^0.4.0",
      "model_name": "LinearScaleModel",
      "state": {
       "allow_padding": false,
       "max": 1,
       "min": 0,
       "stabilized": false
      }
     },
     "b470df478b32465c98d3cafd99faf357": {
      "model_module": "bqplot",
      "model_module_version": "^0.4.0",
      "model_name": "LinearScaleModel",
      "state": {
       "allow_padding": false,
       "max": 1,
       "min": 0,
       "stabilized": false
      }
     },
     "b4a654dbf14c4ec19b454f103bd8f1ad": {
      "model_module": "@jupyter-widgets/controls",
      "model_module_version": "1.5.0",
      "model_name": "SliderStyleModel",
      "state": {
       "description_width": ""
      }
     },
     "b4c407094eec4bf4a510c7c8ef621f4c": {
      "model_module": "@jupyter-widgets/controls",
      "model_module_version": "1.5.0",
      "model_name": "VBoxModel",
      "state": {
       "_dom_classes": [
        "widget-interact"
       ],
       "children": [
        "IPY_MODEL_5f14c99f81a5449381f9d837759ef77d"
       ],
       "layout": "IPY_MODEL_c6a48963d6844ef28c07a9ef00453ccb"
      }
     },
     "b4dcca2d57354cca9ea5c62a8ba296be": {
      "model_module": "@jupyter-widgets/output",
      "model_module_version": "1.0.0",
      "model_name": "OutputModel",
      "state": {
       "layout": "IPY_MODEL_2d48058661c0476e88cc6f02322afd97"
      }
     },
     "b4efb8cb27584c10ab69fc7e59bd5c02": {
      "model_module": "bqplot",
      "model_module_version": "^0.4.0",
      "model_name": "AxisModel",
      "state": {
       "orientation": "vertical",
       "scale": "IPY_MODEL_67f5b7fa881d40d8978c7d6e18088fe8",
       "side": "left",
       "tick_values": {
        "type": null,
        "values": null
       }
      }
     },
     "b523c64c25a54541a848282c0e568ed7": {
      "model_module": "bqplot",
      "model_module_version": "^0.4.0",
      "model_name": "LinearScaleModel",
      "state": {
       "stabilized": false
      }
     },
     "b543a533cd8744beb94194673c34a38b": {
      "model_module": "bqplot",
      "model_module_version": "^0.4.0",
      "model_name": "FigureModel",
      "state": {
       "_dom_classes": [],
       "axes": [
        "IPY_MODEL_c69cab787a024ff7b22d9194640e6ea0",
        "IPY_MODEL_e17caa4d43bf40fc89db2e49a6194d4a"
       ],
       "layout": "IPY_MODEL_36b524988ab74653995ead6151b4fb82",
       "marks": [
        "IPY_MODEL_64815fb4d9d54b159fba1b9ce9626b1e"
       ],
       "max_aspect_ratio": 6,
       "scale_x": "IPY_MODEL_a45dfb5bed0f4a85847014c7bcb05739",
       "scale_y": "IPY_MODEL_e28a6521b03e4978b754801020408440"
      }
     },
     "b55f610a1149405d973ccab000cf2910": {
      "model_module": "@jupyter-widgets/controls",
      "model_module_version": "1.5.0",
      "model_name": "VBoxModel",
      "state": {
       "children": [
        "IPY_MODEL_cd03c39a99024af094da8f1589232455",
        "IPY_MODEL_5bb6a9ae7b344845821c6fb2bbc41550"
       ],
       "layout": "IPY_MODEL_3d97f316ee23421bb63fd849b055a160"
      }
     },
     "b57d101e07fa46a68c80b99022f7ad33": {
      "model_module": "bqplot",
      "model_module_version": "^0.4.0",
      "model_name": "LinearScaleModel",
      "state": {
       "stabilized": false
      }
     },
     "b5a26372309b40f2b4696b1fa2219ba2": {
      "model_module": "bqplot",
      "model_module_version": "^0.4.0",
      "model_name": "LinearScaleModel",
      "state": {
       "allow_padding": false,
       "max": 1,
       "min": 0,
       "stabilized": false
      }
     },
     "b5da091d8b3542dc8786ee5589349b6e": {
      "model_module": "@jupyter-widgets/base",
      "model_module_version": "1.2.0",
      "model_name": "LayoutModel",
      "state": {}
     },
     "b6854cfa2a3b41918f1037fb9602c26a": {
      "model_module": "bqplot",
      "model_module_version": "^0.4.0",
      "model_name": "LinesModel",
      "state": {
       "color": {
        "type": null,
        "values": null
       },
       "colors": [
        "#475A77"
       ],
       "display_legend": false,
       "fill_colors": [],
       "labels": [
        "C1"
       ],
       "scales": {
        "x": "IPY_MODEL_fefdc686dba34494a2dd1280cd4393cd",
        "y": "IPY_MODEL_5be0d3cd51154229a2dbdc02a9001489"
       },
       "selected": [],
       "x": {
        "type": "float",
        "values": [
         1,
         2,
         3
        ]
       },
       "y": {
        "type": "float",
        "values": [
         20,
         3,
         84
        ]
       }
      }
     },
     "b6a0b7c6f80347bdae863b4311d60899": {
      "model_module": "@jupyter-widgets/base",
      "model_module_version": "1.2.0",
      "model_name": "LayoutModel",
      "state": {}
     },
     "b72d47caefae4c87a810b18c6b7f8720": {
      "model_module": "bqplot",
      "model_module_version": "^0.4.0",
      "model_name": "LinearScaleModel",
      "state": {
       "stabilized": false
      }
     },
     "b7514857b49648dbbbc1ae1382d32775": {
      "model_module": "@jupyter-widgets/controls",
      "model_module_version": "1.5.0",
      "model_name": "IntSliderModel",
      "state": {
       "description": "mean",
       "layout": "IPY_MODEL_3275f41d8ed4495181294cd6843759a1",
       "max": 10,
       "style": "IPY_MODEL_be76bc26f3d84d33b7cabfc222fa50b0",
       "value": 5
      }
     },
     "b7fd9f87add742c58a36c4ed1d416f73": {
      "model_module": "bqplot",
      "model_module_version": "^0.4.0",
      "model_name": "FigureModel",
      "state": {
       "_dom_classes": [],
       "axes": [
        "IPY_MODEL_bbb532f9510a4d039b585bfdd3a981b3",
        "IPY_MODEL_f09938cc142d40759a0936ee12aeb173"
       ],
       "layout": "IPY_MODEL_7010c78b03da4666a64d1aa98d07c942",
       "marks": [
        "IPY_MODEL_2658c19149f74ed989e6681f75b90b59"
       ],
       "max_aspect_ratio": 6,
       "scale_x": "IPY_MODEL_beeb0b677604405187b85b43bd5bc003",
       "scale_y": "IPY_MODEL_c8490eb36c7742a3bb3f3fe86a4f48e4"
      }
     },
     "b8213ef781a346498ad821789a4ce4e1": {
      "model_module": "@jupyter-widgets/controls",
      "model_module_version": "1.5.0",
      "model_name": "VBoxModel",
      "state": {
       "children": [
        "IPY_MODEL_21dd8387d291439b9728538ce54c26bd",
        "IPY_MODEL_507427a3d6504543a20bcbe31bfbd103"
       ],
       "layout": "IPY_MODEL_7faa17cf5fb1424cb5f1ebbed76e8e60"
      }
     },
     "b825f2dd3ec643d0b39de2093a368185": {
      "model_module": "bqplot",
      "model_module_version": "^0.4.0",
      "model_name": "LinearScaleModel",
      "state": {
       "allow_padding": false,
       "max": 1,
       "min": 0,
       "stabilized": false
      }
     },
     "b854c4ea19e04581a59a2ed1476251f0": {
      "model_module": "bqplot",
      "model_module_version": "^0.4.0",
      "model_name": "FigureModel",
      "state": {
       "_dom_classes": [],
       "axes": [
        "IPY_MODEL_e7a42f4bb31e48efb0fe9eeca074f089",
        "IPY_MODEL_01a98cacaa9449da9b3d3ba996ad982a"
       ],
       "layout": "IPY_MODEL_31837a0c7aa84d6098f6b469cd09465d",
       "marks": [
        "IPY_MODEL_dfea743c259d4e1085fbbfb34018471b"
       ],
       "max_aspect_ratio": 6,
       "scale_x": "IPY_MODEL_ac2081347d9a4eb9b8bd318ea444bf48",
       "scale_y": "IPY_MODEL_ac8e03166f444209b6c0beb00bbba682"
      }
     },
     "b8624308bb5d4ebc847f03a937829352": {
      "model_module": "@jupyter-widgets/output",
      "model_module_version": "1.0.0",
      "model_name": "OutputModel",
      "state": {
       "layout": "IPY_MODEL_28cb2d1f7d33434f970ca6656e58fa3d"
      }
     },
     "b86b052d968f4548a29980b4dfc05728": {
      "model_module": "@jupyter-widgets/base",
      "model_module_version": "1.2.0",
      "model_name": "LayoutModel",
      "state": {
       "min_width": "125px"
      }
     },
     "b8c62299c466472dae16f8df030e07af": {
      "model_module": "bqplot",
      "model_module_version": "^0.4.0",
      "model_name": "LinearScaleModel",
      "state": {
       "stabilized": false
      }
     },
     "b8ca0c001ab04c27b0f96feae41c0411": {
      "model_module": "@jupyter-widgets/base",
      "model_module_version": "1.2.0",
      "model_name": "LayoutModel",
      "state": {}
     },
     "b8f41ef0f6c04aeab67b6a84bede90cb": {
      "model_module": "@jupyter-widgets/base",
      "model_module_version": "1.2.0",
      "model_name": "LayoutModel",
      "state": {}
     },
     "b90e2287cb704f5eac250b189942b72c": {
      "model_module": "bqplot",
      "model_module_version": "^0.4.0",
      "model_name": "LinearScaleModel",
      "state": {
       "allow_padding": false,
       "max": 1,
       "min": 0,
       "stabilized": false
      }
     },
     "b92cd4d45f33474483b9057e28eaaf88": {
      "model_module": "bqplot",
      "model_module_version": "^0.4.0",
      "model_name": "LinearScaleModel",
      "state": {
       "allow_padding": false,
       "max": 1,
       "min": 0,
       "stabilized": false
      }
     },
     "b967db4e51b741948665e694d04b3e67": {
      "model_module": "bqplot",
      "model_module_version": "^0.4.0",
      "model_name": "FigureModel",
      "state": {
       "_dom_classes": [],
       "axes": [
        "IPY_MODEL_aba4954ae2c24771866d006fb9eb1bdd",
        "IPY_MODEL_49c48cdcaf6e4cee89314f0e44b5c149"
       ],
       "layout": "IPY_MODEL_6b1e03fe3d014a9fb4eefe57001e98c8",
       "marks": [
        "IPY_MODEL_1ecf6d4ec1a44d97a2184b709574f1d0"
       ],
       "max_aspect_ratio": 6,
       "scale_x": "IPY_MODEL_822c29b6aa454b60ad14f0acdd70e031",
       "scale_y": "IPY_MODEL_5e2fedd265d145f6a0dd9c6dcb171e2c"
      }
     },
     "b97eed8dd3764437929e27d56688a919": {
      "model_module": "bqplot",
      "model_module_version": "^0.4.0",
      "model_name": "AxisModel",
      "state": {
       "scale": "IPY_MODEL_fa6aca42c59b4e75b7eccff7cfd7d73c",
       "side": "bottom",
       "tick_values": {
        "type": null,
        "values": null
       }
      }
     },
     "ba07128d4f7f4865b941ab680b2951ad": {
      "model_module": "@jupyter-widgets/output",
      "model_module_version": "1.0.0",
      "model_name": "OutputModel",
      "state": {
       "layout": "IPY_MODEL_0e5c81f5adb147ba841707f4e4917c97"
      }
     },
     "ba607a2251ac479bb04d6a3338cd99eb": {
      "model_module": "@jupyter-widgets/controls",
      "model_module_version": "1.5.0",
      "model_name": "VBoxModel",
      "state": {
       "_dom_classes": [
        "widget-interact"
       ],
       "children": [
        "IPY_MODEL_4dbfee752aeb4d9c87f2f200a731cabe"
       ],
       "layout": "IPY_MODEL_cf08a47442f64b9ea5bd678c86f8d25c"
      }
     },
     "ba7eb037f96a4db1b515ecb546d1a5ca": {
      "model_module": "bqplot",
      "model_module_version": "^0.4.0",
      "model_name": "LinesModel",
      "state": {
       "color": {
        "type": null,
        "values": null
       },
       "colors": [
        "#475A77"
       ],
       "display_legend": false,
       "fill_colors": [],
       "scales": {
        "x": "IPY_MODEL_566c92f8e56946f58e6771f1d277beb2",
        "y": "IPY_MODEL_c005b6c54d09460c8a47ddf413dc9f64"
       },
       "selected": [],
       "x": {
        "type": "float",
        "values": []
       },
       "y": {
        "type": "float",
        "values": []
       }
      }
     },
     "ba9a6d40aadf491bb70f7fd17f479b82": {
      "model_module": "@jupyter-widgets/base",
      "model_module_version": "1.2.0",
      "model_name": "LayoutModel",
      "state": {
       "min_width": "125px"
      }
     },
     "bab1109825e34e379611b1ddbe09219f": {
      "model_module": "@jupyter-widgets/base",
      "model_module_version": "1.2.0",
      "model_name": "LayoutModel",
      "state": {}
     },
     "bae936f5bc6a4ed2b164b68bd882bd2a": {
      "model_module": "bqplot",
      "model_module_version": "^0.4.0",
      "model_name": "LinearScaleModel",
      "state": {
       "allow_padding": false,
       "max": 1,
       "min": 0,
       "stabilized": false
      }
     },
     "bb06c14cf847456fae472fda00603f70": {
      "model_module": "bqplot",
      "model_module_version": "^0.4.0",
      "model_name": "LinesModel",
      "state": {
       "color": {
        "type": null,
        "values": null
       },
       "colors": [
        "#475A77"
       ],
       "display_legend": false,
       "fill_colors": [],
       "scales": {
        "x": "IPY_MODEL_a234b50499074daea82cc4b6318df1fc",
        "y": "IPY_MODEL_e314de4654044bd9a78f193b1cdfdc73"
       },
       "selected": [],
       "x": {
        "type": "float",
        "values": []
       },
       "y": {
        "type": "float",
        "values": []
       }
      }
     },
     "bb1bf4dd3b394ceab8e7340a1ea34c29": {
      "model_module": "@jupyter-widgets/base",
      "model_module_version": "1.2.0",
      "model_name": "LayoutModel",
      "state": {}
     },
     "bb2d799ce6054ea98686ded08ad8712e": {
      "model_module": "@jupyter-widgets/base",
      "model_module_version": "1.2.0",
      "model_name": "LayoutModel",
      "state": {}
     },
     "bb4d6896729544269526d04da6fce7e0": {
      "model_module": "@jupyter-widgets/base",
      "model_module_version": "1.2.0",
      "model_name": "LayoutModel",
      "state": {}
     },
     "bbb532f9510a4d039b585bfdd3a981b3": {
      "model_module": "bqplot",
      "model_module_version": "^0.4.0",
      "model_name": "AxisModel",
      "state": {
       "scale": "IPY_MODEL_574d9763417e4f8cacda7709d63bf370",
       "side": "bottom",
       "tick_values": {
        "type": null,
        "values": null
       }
      }
     },
     "bbf55bb80e7f463995eb853e5f28dd1d": {
      "model_module": "@jupyter-widgets/controls",
      "model_module_version": "1.5.0",
      "model_name": "VBoxModel",
      "state": {
       "_dom_classes": [
        "widget-interact"
       ],
       "children": [
        "IPY_MODEL_37060f80719b4569a9e026e57924d940"
       ],
       "layout": "IPY_MODEL_a1a84e60287c4094aa6e398a4614b9ff"
      }
     },
     "bbfbe7ecb11c49e69031af35fd2895db": {
      "model_module": "bqplot",
      "model_module_version": "^0.4.0",
      "model_name": "LinesModel",
      "state": {
       "color": {
        "type": null,
        "values": null
       },
       "colors": [
        "#475A77"
       ],
       "display_legend": false,
       "fill_colors": [],
       "scales": {
        "x": "IPY_MODEL_48bfd13a83cd4e0c85434d7f70c3229e",
        "y": "IPY_MODEL_13f34318ce9a4c50a027504e694047d4"
       },
       "selected": [],
       "x": {
        "type": "float",
        "values": []
       },
       "y": {
        "type": "float",
        "values": []
       }
      }
     },
     "bcb12fc077ab45a7bfef0a13a4bb2dda": {
      "model_module": "bqplot",
      "model_module_version": "^0.4.0",
      "model_name": "AxisModel",
      "state": {
       "scale": "IPY_MODEL_0dc307371c3541c2bcd0f9fa3f9f5dcf",
       "side": "bottom",
       "tick_values": {
        "type": null,
        "values": null
       }
      }
     },
     "bce371f79b634a7d921f6cfdc9c7fb73": {
      "model_module": "@jupyter-widgets/base",
      "model_module_version": "1.2.0",
      "model_name": "LayoutModel",
      "state": {}
     },
     "bcfc3bba60144f85a87cbc3f90c03d57": {
      "model_module": "bqplot",
      "model_module_version": "^0.4.0",
      "model_name": "LinearScaleModel",
      "state": {
       "stabilized": false
      }
     },
     "bd083015bab04402ba32ff063b1d0bf2": {
      "model_module": "@jupyter-widgets/base",
      "model_module_version": "1.2.0",
      "model_name": "LayoutModel",
      "state": {}
     },
     "bd08862d248d4c0a8076861120909256": {
      "model_module": "bqplot",
      "model_module_version": "^0.4.0",
      "model_name": "AxisModel",
      "state": {
       "scale": "IPY_MODEL_6a1a4f89a76243d0ae75ef279952ce9f",
       "side": "bottom",
       "tick_values": {
        "type": null,
        "values": null
       }
      }
     },
     "bd1844e967ec4c4d88a3ca93f4a9fb22": {
      "model_module": "bqplot",
      "model_module_version": "^0.4.0",
      "model_name": "FigureModel",
      "state": {
       "_dom_classes": [],
       "axes": [
        "IPY_MODEL_a53eb865bdbe4b80b3ddf551db58b7ba",
        "IPY_MODEL_4e3611e34165484a99b64d4ba3c7bab7"
       ],
       "layout": "IPY_MODEL_fe4349216e9b44008c9a12599c301aee",
       "marks": [
        "IPY_MODEL_fd74a4521a9c499f8c100e82942eef0e"
       ],
       "max_aspect_ratio": 6,
       "scale_x": "IPY_MODEL_c892eeaff3e74c2d8309a880aff07df6",
       "scale_y": "IPY_MODEL_a93adb8105dd43dbb98a485c1c650200"
      }
     },
     "bd320d6eaacd4d868e3b83e62647d2f2": {
      "model_module": "bqplot",
      "model_module_version": "^0.4.0",
      "model_name": "LinearScaleModel",
      "state": {
       "stabilized": false
      }
     },
     "bd3c4969215447f091e345529d5aa0f4": {
      "model_module": "@jupyter-widgets/controls",
      "model_module_version": "1.5.0",
      "model_name": "IntSliderModel",
      "state": {
       "description": "x",
       "layout": "IPY_MODEL_754c6686348c494b8c5bf86e118658a0",
       "max": 30,
       "min": -10,
       "style": "IPY_MODEL_9e78e71d0b014e0daff918fe91f879b4",
       "value": 10
      }
     },
     "bd7deb94a4a34c8d86a9e721c6ac3691": {
      "model_module": "@jupyter-widgets/output",
      "model_module_version": "1.0.0",
      "model_name": "OutputModel",
      "state": {
       "layout": "IPY_MODEL_e4d5ff4e176646d9bab41bdbdf344993"
      }
     },
     "bdbe38c2d9e8445bb3ee59e5bfc2a45d": {
      "model_module": "bqplot",
      "model_module_version": "^0.4.0",
      "model_name": "LinearScaleModel",
      "state": {
       "stabilized": false
      }
     },
     "bdcff42f3c1e47cd977eb426bb85302b": {
      "model_module": "@jupyter-widgets/base",
      "model_module_version": "1.2.0",
      "model_name": "LayoutModel",
      "state": {}
     },
     "bdd3cb72379e4cc1afe754d50add7e9d": {
      "model_module": "@jupyter-widgets/controls",
      "model_module_version": "1.5.0",
      "model_name": "IntSliderModel",
      "state": {
       "description": "x",
       "layout": "IPY_MODEL_08275cd9a4794c33946472ad223669ea",
       "max": 30,
       "min": -10,
       "style": "IPY_MODEL_0a9784d82cfe452ea4d6d8f387cec9e2",
       "value": 3
      }
     },
     "bde4aa1a9637410c9c95096717bb8153": {
      "model_module": "@jupyter-widgets/controls",
      "model_module_version": "1.5.0",
      "model_name": "VBoxModel",
      "state": {
       "children": [
        "IPY_MODEL_6b9bbd90330447a2ac3cf06bb0b51341",
        "IPY_MODEL_855d277612354d7c9141945fb0cb8099"
       ],
       "layout": "IPY_MODEL_3b801b4e7cea4d77aa8fb5c90ff6510d"
      }
     },
     "bdfa183caee6415cb44414f853105e17": {
      "model_module": "@jupyter-widgets/base",
      "model_module_version": "1.2.0",
      "model_name": "LayoutModel",
      "state": {}
     },
     "be3a5c6dc5c04a68a6a022156e090be9": {
      "model_module": "@jupyter-widgets/base",
      "model_module_version": "1.2.0",
      "model_name": "LayoutModel",
      "state": {}
     },
     "be591311c51641269fe30dbcd24c1f98": {
      "model_module": "bqplot",
      "model_module_version": "^0.4.0",
      "model_name": "LinesModel",
      "state": {
       "color": {
        "type": null,
        "values": null
       },
       "colors": [
        "#475A77"
       ],
       "display_legend": false,
       "fill_colors": [],
       "scales": {
        "x": "IPY_MODEL_f34c1b44d0d84a0e956c65e15ffb7ad5",
        "y": "IPY_MODEL_e9f7e31dff1648cb955bbcd3ea7664b5"
       },
       "selected": [],
       "x": {
        "type": "float",
        "values": []
       },
       "y": {
        "type": "float",
        "values": []
       }
      }
     },
     "be5c76c1ed8e4a218f77330d28fd803f": {
      "model_module": "@jupyter-widgets/base",
      "model_module_version": "1.2.0",
      "model_name": "LayoutModel",
      "state": {}
     },
     "be76bc26f3d84d33b7cabfc222fa50b0": {
      "model_module": "@jupyter-widgets/controls",
      "model_module_version": "1.5.0",
      "model_name": "SliderStyleModel",
      "state": {
       "description_width": ""
      }
     },
     "be9fcddcabed465ba71bc61e2d3ba8b8": {
      "model_module": "@jupyter-widgets/controls",
      "model_module_version": "1.5.0",
      "model_name": "VBoxModel",
      "state": {
       "children": [
        "IPY_MODEL_b08b24b3ecf94bff92fc6790a4b3d60c",
        "IPY_MODEL_b7fd9f87add742c58a36c4ed1d416f73"
       ],
       "layout": "IPY_MODEL_e7d7fc5602664b358888442b50731d20"
      }
     },
     "beeb0b677604405187b85b43bd5bc003": {
      "model_module": "bqplot",
      "model_module_version": "^0.4.0",
      "model_name": "LinearScaleModel",
      "state": {
       "allow_padding": false,
       "max": 1,
       "min": 0,
       "stabilized": false
      }
     },
     "bf2dc02032be4fa1adaed334d2957640": {
      "model_module": "@jupyter-widgets/output",
      "model_module_version": "1.0.0",
      "model_name": "OutputModel",
      "state": {
       "layout": "IPY_MODEL_7a41f30ff0d4448c80588f91ba1ff13d",
       "outputs": [
        {
         "data": {
          "text/plain": "100"
         },
         "metadata": {},
         "output_type": "display_data"
        }
       ]
      }
     },
     "bf985c2bd27b484a9b8c6f5c7b9da7c5": {
      "model_module": "@jupyter-widgets/controls",
      "model_module_version": "1.5.0",
      "model_name": "SliderStyleModel",
      "state": {
       "description_width": ""
      }
     },
     "bfe30700584a41d58c31cc9edcbf3e66": {
      "model_module": "bqplot",
      "model_module_version": "^0.4.0",
      "model_name": "LinearScaleModel",
      "state": {
       "allow_padding": false,
       "max": 1,
       "min": 0,
       "stabilized": false
      }
     },
     "c005b6c54d09460c8a47ddf413dc9f64": {
      "model_module": "bqplot",
      "model_module_version": "^0.4.0",
      "model_name": "LinearScaleModel",
      "state": {
       "stabilized": false
      }
     },
     "c0062e2eb0094b9387c44fcb9bb9966c": {
      "model_module": "@jupyter-widgets/output",
      "model_module_version": "1.0.0",
      "model_name": "OutputModel",
      "state": {
       "layout": "IPY_MODEL_70a2679053f54c1b8e6c68f0cad84084"
      }
     },
     "c0a62e2eb321431798859aca615d24e8": {
      "model_module": "@jupyter-widgets/base",
      "model_module_version": "1.2.0",
      "model_name": "LayoutModel",
      "state": {
       "min_width": "125px"
      }
     },
     "c0ab135eeb4749089ba2871b0ce5c9f7": {
      "model_module": "bqplot",
      "model_module_version": "^0.4.0",
      "model_name": "AxisModel",
      "state": {
       "scale": "IPY_MODEL_fcea5cb38abe4e62a9916b902259c37b",
       "side": "bottom",
       "tick_values": {
        "type": null,
        "values": null
       }
      }
     },
     "c12b64bb16dc4b65b07ec1c3fbe6bd8f": {
      "model_module": "bqplot",
      "model_module_version": "^0.4.0",
      "model_name": "LinesModel",
      "state": {
       "color": {
        "type": null,
        "values": null
       },
       "colors": [
        "#475A77"
       ],
       "display_legend": false,
       "fill_colors": [],
       "scales": {
        "x": "IPY_MODEL_a54904d2da6040c1ad87d428616fd6bb",
        "y": "IPY_MODEL_90d9ff08ac1645a39925f194da939ea3"
       },
       "selected": [],
       "x": {
        "type": "float",
        "values": []
       },
       "y": {
        "type": "float",
        "values": []
       }
      }
     },
     "c15274a9775e417cb5c78eb915a3d2d6": {
      "model_module": "bqplot",
      "model_module_version": "^0.4.0",
      "model_name": "FigureModel",
      "state": {
       "_dom_classes": [],
       "axes": [
        "IPY_MODEL_a863ef8dc6f141198136cfe9e7f134e5",
        "IPY_MODEL_c9dee08dbe744df6a8217ce68daccee6"
       ],
       "layout": "IPY_MODEL_9157a99375e64d4c913c46f3607c3c74",
       "marks": [
        "IPY_MODEL_c180e5fb1f504278a1ccab79fb5b8f89"
       ],
       "max_aspect_ratio": 6,
       "scale_x": "IPY_MODEL_8eac79764bd44360a418a89a6077c096",
       "scale_y": "IPY_MODEL_f2168405463c4b87935dff5ab58ec108"
      }
     },
     "c180e5fb1f504278a1ccab79fb5b8f89": {
      "model_module": "bqplot",
      "model_module_version": "^0.4.0",
      "model_name": "LinesModel",
      "state": {
       "color": {
        "type": null,
        "values": null
       },
       "colors": [
        "#475A77"
       ],
       "display_legend": false,
       "fill_colors": [],
       "scales": {
        "x": "IPY_MODEL_16524b5f5608483a9f3e0cd3edbad04d",
        "y": "IPY_MODEL_a84269d6c4ea4d5782f75a06af3f9898"
       },
       "selected": [],
       "x": {
        "type": "float",
        "values": []
       },
       "y": {
        "type": "float",
        "values": []
       }
      }
     },
     "c19856ea9485494698857c4e7fb5d988": {
      "model_module": "bqplot",
      "model_module_version": "^0.4.0",
      "model_name": "FigureModel",
      "state": {
       "_dom_classes": [],
       "axes": [
        "IPY_MODEL_cc3d264c53944374ac824742c92596a0",
        "IPY_MODEL_11b3635127154bcd8e27b0a8632887eb"
       ],
       "layout": "IPY_MODEL_fb8df90c2e04435ab685dfff05a80664",
       "marks": [
        "IPY_MODEL_6d1ead70edec4f148a976558b1da0c62"
       ],
       "max_aspect_ratio": 6,
       "scale_x": "IPY_MODEL_ead891eed0b14a36bb6ce2bf78ad052f",
       "scale_y": "IPY_MODEL_eb80f19f6e544422bf8f8824ed84dcef"
      }
     },
     "c1a78075fde84f61bdd0e431ea17982a": {
      "model_module": "@jupyter-widgets/controls",
      "model_module_version": "1.5.0",
      "model_name": "VBoxModel",
      "state": {
       "_dom_classes": [
        "widget-interact"
       ],
       "children": [
        "IPY_MODEL_63a43d90952b449bb9218898813bae02"
       ],
       "layout": "IPY_MODEL_fec77d0a08c74f579eac62982da8fede"
      }
     },
     "c1bec902401b41c885d2cefdf85bf5ab": {
      "model_module": "@jupyter-widgets/base",
      "model_module_version": "1.2.0",
      "model_name": "LayoutModel",
      "state": {}
     },
     "c1d51c595bd040778b2edaadff48cc33": {
      "model_module": "bqplot",
      "model_module_version": "^0.4.0",
      "model_name": "LinearScaleModel",
      "state": {
       "stabilized": false
      }
     },
     "c25a8d6ff09641288e6c0de40ebda94a": {
      "model_module": "@jupyter-widgets/output",
      "model_module_version": "1.0.0",
      "model_name": "OutputModel",
      "state": {
       "layout": "IPY_MODEL_175c12aa307f4df3960d19c7b913c16b",
       "outputs": [
        {
         "data": {
          "image/png": "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\n",
          "text/plain": "<Figure size 432x288 with 1 Axes>"
         },
         "metadata": {
          "needs_background": "light"
         },
         "output_type": "display_data"
        },
        {
         "data": {
          "text/plain": "100"
         },
         "metadata": {},
         "output_type": "display_data"
        }
       ]
      }
     },
     "c27211344c7449d6941b946124cb6a84": {
      "model_module": "@jupyter-widgets/base",
      "model_module_version": "1.2.0",
      "model_name": "LayoutModel",
      "state": {
       "min_width": "125px"
      }
     },
     "c2b40e8fe61241f7bd35dfc89f5e5287": {
      "model_module": "@jupyter-widgets/controls",
      "model_module_version": "1.5.0",
      "model_name": "VBoxModel",
      "state": {
       "children": [
        "IPY_MODEL_77a8191cc0224d89ba3226f727f18d66",
        "IPY_MODEL_dcd8638424984dc89c377c6fd5832147"
       ],
       "layout": "IPY_MODEL_70043250849a4066ac1d479647065962"
      }
     },
     "c2b92b7626ea464e925c375e5cd74f0f": {
      "model_module": "bqplot",
      "model_module_version": "^0.4.0",
      "model_name": "LinesModel",
      "state": {
       "color": {
        "type": null,
        "values": null
       },
       "colors": [
        "#475A77"
       ],
       "display_legend": false,
       "fill_colors": [],
       "scales": {
        "x": "IPY_MODEL_ea699396154e4ee0b45e083e3c8868eb",
        "y": "IPY_MODEL_52f22a9864644220af66e0e6f13643fb"
       },
       "selected": [],
       "x": {
        "type": "float",
        "values": []
       },
       "y": {
        "type": "float",
        "values": []
       }
      }
     },
     "c39500cb7ca54eb8951bda0bd57bc94a": {
      "model_module": "@jupyter-widgets/controls",
      "model_module_version": "1.5.0",
      "model_name": "SliderStyleModel",
      "state": {
       "description_width": ""
      }
     },
     "c3bd05871e024cfe948d44ac8315b3df": {
      "model_module": "bqplot",
      "model_module_version": "^0.4.0",
      "model_name": "LinesModel",
      "state": {
       "color": {
        "type": null,
        "values": null
       },
       "colors": [
        "#475A77"
       ],
       "display_legend": false,
       "fill_colors": [],
       "labels": [
        "C1"
       ],
       "scales": {
        "x": "IPY_MODEL_2d37692b53f046709b75ea148e56c572",
        "y": "IPY_MODEL_b523c64c25a54541a848282c0e568ed7"
       },
       "selected": [],
       "x": {
        "type": "float",
        "values": [
         1,
         2,
         3
        ]
       },
       "y": {
        "type": "float",
        "values": [
         3,
         -14,
         -35
        ]
       }
      }
     },
     "c3d624165c3b4134ae9a0b2694ea42aa": {
      "model_module": "bqplot",
      "model_module_version": "^0.4.0",
      "model_name": "AxisModel",
      "state": {
       "orientation": "vertical",
       "scale": "IPY_MODEL_981259fa0cd34dc78d463d4d27386a7f",
       "side": "left",
       "tick_values": {
        "type": null,
        "values": null
       }
      }
     },
     "c3f98488c3b44d888e6abfad5a26333a": {
      "model_module": "bqplot",
      "model_module_version": "^0.4.0",
      "model_name": "LinearScaleModel",
      "state": {
       "allow_padding": false,
       "max": 1,
       "min": 0,
       "stabilized": false
      }
     },
     "c40682b710a841a6998a53d6aabe31c5": {
      "model_module": "bqplot",
      "model_module_version": "^0.4.0",
      "model_name": "FigureModel",
      "state": {
       "_dom_classes": [],
       "axes": [
        "IPY_MODEL_d09ad9d6b105479ea426247068b7f3ec",
        "IPY_MODEL_7acb8d8d32e6461393fa05cbca75f096"
       ],
       "layout": "IPY_MODEL_553f86e259cb466694115686585cff28",
       "marks": [
        "IPY_MODEL_6fcc4c7454ac4492b26c16a6f37184e1"
       ],
       "max_aspect_ratio": 6,
       "scale_x": "IPY_MODEL_16914b4bed504025a9541cd02bac499a",
       "scale_y": "IPY_MODEL_8f1357cd392846edacc3cb1f03457c98"
      }
     },
     "c45d17d15277480a9c182d86127bc63a": {
      "model_module": "@jupyter-widgets/output",
      "model_module_version": "1.0.0",
      "model_name": "OutputModel",
      "state": {
       "layout": "IPY_MODEL_14822eff19954889962e7827f23461f3"
      }
     },
     "c4b09b2dc32e4025aafc67e8424e6e07": {
      "model_module": "bqplot",
      "model_module_version": "^0.4.0",
      "model_name": "AxisModel",
      "state": {
       "scale": "IPY_MODEL_f205f81c85574ac2a4d1093739591ef6",
       "side": "bottom",
       "tick_values": {
        "type": null,
        "values": null
       }
      }
     },
     "c4e965a27d5c474ca8da7753b17fb1ee": {
      "model_module": "bqplot",
      "model_module_version": "^0.4.0",
      "model_name": "FigureModel",
      "state": {
       "_dom_classes": [],
       "axes": [
        "IPY_MODEL_758ae4d1bf81440597017d072d8515b9",
        "IPY_MODEL_396c3ac47c9f439aa90fb6774ee51b9d"
       ],
       "layout": "IPY_MODEL_5fbbad53a1e54d04b5228296a2ebdec8",
       "marks": [
        "IPY_MODEL_8b2b80223c074b97b43fc8033b74424e"
       ],
       "max_aspect_ratio": 6,
       "scale_x": "IPY_MODEL_7cf9555af31d4741ad763abd99a26420",
       "scale_y": "IPY_MODEL_847f726e027f4d0b9c9c5dfab271e6e9"
      }
     },
     "c506ea9b3f9e4d87bcf1599dbd3e368c": {
      "model_module": "@jupyter-widgets/base",
      "model_module_version": "1.2.0",
      "model_name": "LayoutModel",
      "state": {
       "min_width": "125px"
      }
     },
     "c57465d809ef4178b1997cf1dec0465e": {
      "model_module": "bqplot",
      "model_module_version": "^0.4.0",
      "model_name": "LinearScaleModel",
      "state": {
       "stabilized": false
      }
     },
     "c57612079808481394ea4ad9a496f12b": {
      "model_module": "bqplot",
      "model_module_version": "^0.4.0",
      "model_name": "FigureModel",
      "state": {
       "_dom_classes": [],
       "axes": [
        "IPY_MODEL_c0ab135eeb4749089ba2871b0ce5c9f7",
        "IPY_MODEL_580e8c349fac4be2b29a149db00d02f3"
       ],
       "layout": "IPY_MODEL_2f339947ca534bf6a4a2e6be69ec0635",
       "marks": [
        "IPY_MODEL_1aed4c1e330a414a8e95a1a63b0cdd58"
       ],
       "max_aspect_ratio": 6,
       "scale_x": "IPY_MODEL_999dfc7c2995472391842e9e55023af0",
       "scale_y": "IPY_MODEL_085df4d3ee944751a9a3d8f67c17cc0a"
      }
     },
     "c57c16c2e6634911b4bc5d1ef7708078": {
      "model_module": "@jupyter-widgets/base",
      "model_module_version": "1.2.0",
      "model_name": "LayoutModel",
      "state": {}
     },
     "c62795d6b37245adb2a324a6d4fe9cba": {
      "model_module": "bqplot",
      "model_module_version": "^0.4.0",
      "model_name": "LinearScaleModel",
      "state": {
       "stabilized": false
      }
     },
     "c6458e24defc49b88608f28e7090697e": {
      "model_module": "bqplot",
      "model_module_version": "^0.4.0",
      "model_name": "AxisModel",
      "state": {
       "scale": "IPY_MODEL_f5c9cea8c5464745a107fc4a1e3f4756",
       "side": "bottom",
       "tick_values": {
        "type": null,
        "values": null
       }
      }
     },
     "c64c4cb31e554737ab791198510665a3": {
      "model_module": "@jupyter-widgets/base",
      "model_module_version": "1.2.0",
      "model_name": "LayoutModel",
      "state": {}
     },
     "c66b4cb7bed34a95932aaf14a1313e61": {
      "model_module": "@jupyter-widgets/base",
      "model_module_version": "1.2.0",
      "model_name": "LayoutModel",
      "state": {}
     },
     "c69cab787a024ff7b22d9194640e6ea0": {
      "model_module": "bqplot",
      "model_module_version": "^0.4.0",
      "model_name": "AxisModel",
      "state": {
       "scale": "IPY_MODEL_8c9986f6838143138282f209ffa532b9",
       "side": "bottom",
       "tick_values": {
        "type": null,
        "values": null
       }
      }
     },
     "c6a48963d6844ef28c07a9ef00453ccb": {
      "model_module": "@jupyter-widgets/base",
      "model_module_version": "1.2.0",
      "model_name": "LayoutModel",
      "state": {}
     },
     "c6a49330cdc24c258689764768f22eeb": {
      "model_module": "bqplot",
      "model_module_version": "^0.4.0",
      "model_name": "LinearScaleModel",
      "state": {
       "allow_padding": false,
       "max": 1,
       "min": 0,
       "stabilized": false
      }
     },
     "c704a271a37448e19e51d9635cc7e55f": {
      "model_module": "@jupyter-widgets/controls",
      "model_module_version": "1.5.0",
      "model_name": "VBoxModel",
      "state": {
       "_dom_classes": [
        "widget-interact"
       ],
       "children": [
        "IPY_MODEL_677536d42c2e478fa820e423ec79a0d4"
       ],
       "layout": "IPY_MODEL_12554c8b6a3f4ce5be332cdf947594b3"
      }
     },
     "c70664d7c1c94648b9ef3b52cff138ad": {
      "model_module": "@jupyter-widgets/controls",
      "model_module_version": "1.5.0",
      "model_name": "VBoxModel",
      "state": {
       "children": [
        "IPY_MODEL_7d506d6aaf3c420c8b7da9f17d734f91",
        "IPY_MODEL_45ff9a224be445c2acf20fc413976d06"
       ],
       "layout": "IPY_MODEL_3f0509a01fd046159deb033a6e5fdc39"
      }
     },
     "c7cf900c6c8748e3a59eeeb404bb61f0": {
      "model_module": "bqplot",
      "model_module_version": "^0.4.0",
      "model_name": "AxisModel",
      "state": {
       "scale": "IPY_MODEL_f3734ae2399b4b06a835ae9cd3324bbe",
       "side": "bottom",
       "tick_values": {
        "type": null,
        "values": null
       }
      }
     },
     "c7fcfeb888f045239eab4ed39616ffaa": {
      "model_module": "bqplot",
      "model_module_version": "^0.4.0",
      "model_name": "LinearScaleModel",
      "state": {
       "stabilized": false
      }
     },
     "c7fe31f7457e4bc38a4f6af8729a945e": {
      "model_module": "bqplot",
      "model_module_version": "^0.4.0",
      "model_name": "FigureModel",
      "state": {
       "_dom_classes": [],
       "axes": [
        "IPY_MODEL_a7e99d09139b4d3d91873bfef70f7722",
        "IPY_MODEL_89619e021c03412b95dbc1d1d4309fd9"
       ],
       "layout": "IPY_MODEL_e94e99985e3b4ba8990641064d7f1b36",
       "marks": [
        "IPY_MODEL_9ed01d18219c429a97d925948261e44f"
       ],
       "max_aspect_ratio": 6,
       "scale_x": "IPY_MODEL_09eb02091ed047e59e40572f3f5b255d",
       "scale_y": "IPY_MODEL_9645733aa90545c39dfc7b72c426eb25"
      }
     },
     "c8490eb36c7742a3bb3f3fe86a4f48e4": {
      "model_module": "bqplot",
      "model_module_version": "^0.4.0",
      "model_name": "LinearScaleModel",
      "state": {
       "allow_padding": false,
       "max": 1,
       "min": 0,
       "stabilized": false
      }
     },
     "c871d229c1834901a94a166dbc68ff3c": {
      "model_module": "@jupyter-widgets/base",
      "model_module_version": "1.2.0",
      "model_name": "LayoutModel",
      "state": {}
     },
     "c8788787e1574d81bbe7adcb5e3310da": {
      "model_module": "bqplot",
      "model_module_version": "^0.4.0",
      "model_name": "LinearScaleModel",
      "state": {
       "stabilized": false
      }
     },
     "c87c4ff3b40640d08db5e6c885fcc0a7": {
      "model_module": "bqplot",
      "model_module_version": "^0.4.0",
      "model_name": "LinearScaleModel",
      "state": {
       "stabilized": false
      }
     },
     "c892eeaff3e74c2d8309a880aff07df6": {
      "model_module": "bqplot",
      "model_module_version": "^0.4.0",
      "model_name": "LinearScaleModel",
      "state": {
       "allow_padding": false,
       "max": 1,
       "min": 0,
       "stabilized": false
      }
     },
     "c8a8e9f033c94f579d95f46d582fe1cd": {
      "model_module": "bqplot",
      "model_module_version": "^0.4.0",
      "model_name": "AxisModel",
      "state": {
       "scale": "IPY_MODEL_a234b50499074daea82cc4b6318df1fc",
       "side": "bottom",
       "tick_values": {
        "type": null,
        "values": null
       }
      }
     },
     "c8b52bc307064a649a3b0e98f0e3dc4f": {
      "model_module": "@jupyter-widgets/base",
      "model_module_version": "1.2.0",
      "model_name": "LayoutModel",
      "state": {}
     },
     "c8e020374f6642ec82c047a42065d7dc": {
      "model_module": "@jupyter-widgets/base",
      "model_module_version": "1.2.0",
      "model_name": "LayoutModel",
      "state": {}
     },
     "c90c496683504fac85e8517b7491bc06": {
      "model_module": "bqplot",
      "model_module_version": "^0.4.0",
      "model_name": "LinearScaleModel",
      "state": {
       "allow_padding": false,
       "max": 1,
       "min": 0,
       "stabilized": false
      }
     },
     "c932cc4bd85c4289a9223b1ed6b82966": {
      "model_module": "bqplot",
      "model_module_version": "^0.4.0",
      "model_name": "AxisModel",
      "state": {
       "scale": "IPY_MODEL_14a4d96df2804f64b1c6598dec73c18b",
       "side": "bottom",
       "tick_values": {
        "type": null,
        "values": null
       }
      }
     },
     "c9475e8755024627a95357963abb79fc": {
      "model_module": "bqplot",
      "model_module_version": "^0.4.0",
      "model_name": "FigureModel",
      "state": {
       "_dom_classes": [],
       "axes": [
        "IPY_MODEL_94d70fa1e5e840fd9e50c5e126763fa6",
        "IPY_MODEL_7560dbd961a8466ab81cd0c142acd162"
       ],
       "layout": "IPY_MODEL_fea0766b6a6c439fade79b1ea1409027",
       "marks": [
        "IPY_MODEL_0d9f3ebddaea4a88855a3f856601b5d3"
       ],
       "max_aspect_ratio": 6,
       "scale_x": "IPY_MODEL_c6a49330cdc24c258689764768f22eeb",
       "scale_y": "IPY_MODEL_48c6bab241004a98bd3b927b57318b46"
      }
     },
     "c9dee08dbe744df6a8217ce68daccee6": {
      "model_module": "bqplot",
      "model_module_version": "^0.4.0",
      "model_name": "AxisModel",
      "state": {
       "orientation": "vertical",
       "scale": "IPY_MODEL_a84269d6c4ea4d5782f75a06af3f9898",
       "side": "left",
       "tick_values": {
        "type": null,
        "values": null
       }
      }
     },
     "ca0797f2bae942c1affa09d13ebb8eb8": {
      "model_module": "@jupyter-widgets/base",
      "model_module_version": "1.2.0",
      "model_name": "LayoutModel",
      "state": {}
     },
     "ca5a6428904948eb8b06f656c76d7dd9": {
      "model_module": "bqplot",
      "model_module_version": "^0.4.0",
      "model_name": "LinearScaleModel",
      "state": {
       "stabilized": false
      }
     },
     "ca68225cc0464e758ffcc673fef9747e": {
      "model_module": "bqplot",
      "model_module_version": "^0.4.0",
      "model_name": "FigureModel",
      "state": {
       "_dom_classes": [],
       "axes": [
        "IPY_MODEL_6fb6ac649e284b9986ded4b5e3416555",
        "IPY_MODEL_f1779eb3f8974f0b967b4a3b15406eb0"
       ],
       "layout": "IPY_MODEL_6bcc0f82d60245fda833abe05ba5f437",
       "marks": [
        "IPY_MODEL_b6854cfa2a3b41918f1037fb9602c26a"
       ],
       "max_aspect_ratio": 6,
       "scale_x": "IPY_MODEL_a53faef7379e453db6b57a33dbe5b989",
       "scale_y": "IPY_MODEL_ae3e08f6c8574dcda6b7b3214f7a2d0c"
      }
     },
     "caccf35964c44972a3eadd25545a090a": {
      "model_module": "@jupyter-widgets/base",
      "model_module_version": "1.2.0",
      "model_name": "LayoutModel",
      "state": {}
     },
     "cb75775c0336450caba10e6ceb328c4a": {
      "model_module": "@jupyter-widgets/base",
      "model_module_version": "1.2.0",
      "model_name": "LayoutModel",
      "state": {}
     },
     "cb7c938817e4410f93519e46339065cf": {
      "model_module": "bqplot",
      "model_module_version": "^0.4.0",
      "model_name": "FigureModel",
      "state": {
       "_dom_classes": [],
       "axes": [
        "IPY_MODEL_c932cc4bd85c4289a9223b1ed6b82966",
        "IPY_MODEL_4df6d454222544ad868043f9448abc0a"
       ],
       "layout": "IPY_MODEL_aaa218bf25ef423290102393fd7585ac",
       "marks": [
        "IPY_MODEL_f8aea14b188d477787e4f69e65c9bf31"
       ],
       "max_aspect_ratio": 6,
       "scale_x": "IPY_MODEL_267118f2c78340d2a30c2b4a78323af8",
       "scale_y": "IPY_MODEL_dda1fe55115c4124899bb1cce2b80df7"
      }
     },
     "cb91e8562189477c9a588ca0646110bd": {
      "model_module": "@jupyter-widgets/controls",
      "model_module_version": "1.5.0",
      "model_name": "VBoxModel",
      "state": {
       "children": [
        "IPY_MODEL_e669a1949e8c49a8a039d969f76a0aad",
        "IPY_MODEL_1215c3fc6cd04dd5bc6a6ccc8867e07e"
       ],
       "layout": "IPY_MODEL_690383d2503f4f6394ee0c956be9ecc2"
      }
     },
     "cb9e89d846894ddb944c02b19c59de2d": {
      "model_module": "bqplot",
      "model_module_version": "^0.4.0",
      "model_name": "LinearScaleModel",
      "state": {
       "allow_padding": false,
       "max": 1,
       "min": 0,
       "stabilized": false
      }
     },
     "cbfb6bef694b46a1839c7ce7bc8c3300": {
      "model_module": "@jupyter-widgets/controls",
      "model_module_version": "1.5.0",
      "model_name": "SliderStyleModel",
      "state": {
       "description_width": ""
      }
     },
     "cc0e8eab92164155b9e29e72e5822f3e": {
      "model_module": "bqplot",
      "model_module_version": "^0.4.0",
      "model_name": "LinearScaleModel",
      "state": {
       "stabilized": false
      }
     },
     "cc3d264c53944374ac824742c92596a0": {
      "model_module": "bqplot",
      "model_module_version": "^0.4.0",
      "model_name": "AxisModel",
      "state": {
       "scale": "IPY_MODEL_ed8af2cbc8d445e09a91617de86da272",
       "side": "bottom",
       "tick_values": {
        "type": null,
        "values": null
       }
      }
     },
     "cc66f38461f045b8b86f2b2c7feb8575": {
      "model_module": "@jupyter-widgets/controls",
      "model_module_version": "1.5.0",
      "model_name": "VBoxModel",
      "state": {
       "children": [
        "IPY_MODEL_51d955f748d840fca774a5bee51640e1",
        "IPY_MODEL_ec1f83813a424319b5800566463f1ac7"
       ],
       "layout": "IPY_MODEL_ec961734dc68445eaf444a0d79197eb6"
      }
     },
     "ccf9d00cda89420b853defb35f9f83e9": {
      "model_module": "@jupyter-widgets/base",
      "model_module_version": "1.2.0",
      "model_name": "LayoutModel",
      "state": {
       "min_width": "125px"
      }
     },
     "cd03c39a99024af094da8f1589232455": {
      "model_module": "@jupyter-widgets/controls",
      "model_module_version": "1.5.0",
      "model_name": "VBoxModel",
      "state": {
       "_dom_classes": [
        "widget-interact"
       ],
       "children": [
        "IPY_MODEL_1dc4cc1388374ed5a1cb61d58351672e"
       ],
       "layout": "IPY_MODEL_3d3f1f850b904e4a84e498ab9adca67c"
      }
     },
     "cd2c9b82286d436d89e11d3a0b5b06d6": {
      "model_module": "@jupyter-widgets/controls",
      "model_module_version": "1.5.0",
      "model_name": "VBoxModel",
      "state": {
       "_dom_classes": [
        "widget-interact"
       ],
       "children": [
        "IPY_MODEL_982885a559f64fe395393b9e82ae1e19"
       ],
       "layout": "IPY_MODEL_52878f9383ec485486ce50ab1c0dca2b"
      }
     },
     "cd53f1e8f77c4cbf8982bf53010b0c63": {
      "model_module": "bqplot",
      "model_module_version": "^0.4.0",
      "model_name": "AxisModel",
      "state": {
       "scale": "IPY_MODEL_c87c4ff3b40640d08db5e6c885fcc0a7",
       "side": "bottom",
       "tick_values": {
        "type": null,
        "values": null
       }
      }
     },
     "cd542de7c3014e35966e11af13e64120": {
      "model_module": "@jupyter-widgets/controls",
      "model_module_version": "1.5.0",
      "model_name": "SliderStyleModel",
      "state": {
       "description_width": ""
      }
     },
     "cd556c525a83448794a9707ed4088c56": {
      "model_module": "bqplot",
      "model_module_version": "^0.4.0",
      "model_name": "LinearScaleModel",
      "state": {
       "stabilized": false
      }
     },
     "cd6fbe05c52d404db4379ca963698d29": {
      "model_module": "@jupyter-widgets/controls",
      "model_module_version": "1.5.0",
      "model_name": "VBoxModel",
      "state": {
       "children": [
        "IPY_MODEL_f3c73868d6be4105a3609dc17a72a183",
        "IPY_MODEL_543b19bb9d0b4c999847fa2561881571"
       ],
       "layout": "IPY_MODEL_9794358867a54203bb40ae4b7b9ac3ec"
      }
     },
     "cd88455f6a044eccac8bf224075b5d63": {
      "model_module": "bqplot",
      "model_module_version": "^0.4.0",
      "model_name": "LinearScaleModel",
      "state": {
       "stabilized": false
      }
     },
     "ce3263cc0c844d37bde9dab2e94ebbbe": {
      "model_module": "@jupyter-widgets/base",
      "model_module_version": "1.2.0",
      "model_name": "LayoutModel",
      "state": {}
     },
     "ce3c4d135daf4944917c71fcfcc4399e": {
      "model_module": "bqplot",
      "model_module_version": "^0.4.0",
      "model_name": "LinearScaleModel",
      "state": {
       "allow_padding": false,
       "max": 1,
       "min": 0,
       "stabilized": false
      }
     },
     "ce84b48990084af28d9cb0f405271b4e": {
      "model_module": "@jupyter-widgets/base",
      "model_module_version": "1.2.0",
      "model_name": "LayoutModel",
      "state": {}
     },
     "ce9761508fe84d91b68060fedd7d1e25": {
      "model_module": "@jupyter-widgets/controls",
      "model_module_version": "1.5.0",
      "model_name": "VBoxModel",
      "state": {
       "_dom_classes": [
        "widget-interact"
       ],
       "children": [
        "IPY_MODEL_b1f5cf9b5932484abef5de44e15854ef",
        "IPY_MODEL_bf2dc02032be4fa1adaed334d2957640"
       ],
       "layout": "IPY_MODEL_2c5faec1258f4f2088b50fe4ab9c31e3"
      }
     },
     "ceb1922fc25d407fb67008b26803e6c6": {
      "model_module": "@jupyter-widgets/controls",
      "model_module_version": "1.5.0",
      "model_name": "VBoxModel",
      "state": {
       "_dom_classes": [
        "widget-interact"
       ],
       "children": [
        "IPY_MODEL_6ab4de7e15b14949b8f0ed1702e9421f"
       ],
       "layout": "IPY_MODEL_13d5262fcba94d4fa24f92aeea8c7850"
      }
     },
     "ceca4562eb2c4e2e957c9b60998f3c56": {
      "model_module": "@jupyter-widgets/base",
      "model_module_version": "1.2.0",
      "model_name": "LayoutModel",
      "state": {}
     },
     "cedf59ac842341f38b9484d0e48f8e13": {
      "model_module": "bqplot",
      "model_module_version": "^0.4.0",
      "model_name": "LinearScaleModel",
      "state": {
       "allow_padding": false,
       "max": 1,
       "min": 0,
       "stabilized": false
      }
     },
     "cf08a47442f64b9ea5bd678c86f8d25c": {
      "model_module": "@jupyter-widgets/base",
      "model_module_version": "1.2.0",
      "model_name": "LayoutModel",
      "state": {}
     },
     "cf1960e86d3e42668faeffaa57c308de": {
      "model_module": "bqplot",
      "model_module_version": "^0.4.0",
      "model_name": "AxisModel",
      "state": {
       "scale": "IPY_MODEL_0eee15fc830a4bb2b8b6aad6d06bd4cb",
       "side": "bottom",
       "tick_values": {
        "type": null,
        "values": null
       }
      }
     },
     "cf4fdcb082464364872c1191f08de98d": {
      "model_module": "bqplot",
      "model_module_version": "^0.4.0",
      "model_name": "LinearScaleModel",
      "state": {
       "allow_padding": false,
       "max": 1,
       "min": 0,
       "stabilized": false
      }
     },
     "cf6240004ba3430aad789ed3833711dd": {
      "model_module": "@jupyter-widgets/base",
      "model_module_version": "1.2.0",
      "model_name": "LayoutModel",
      "state": {}
     },
     "cf99a83d38954340b688fc133fab1f1a": {
      "model_module": "@jupyter-widgets/base",
      "model_module_version": "1.2.0",
      "model_name": "LayoutModel",
      "state": {
       "min_width": "125px"
      }
     },
     "cfcbd685f0bd47b9a6f591e3b48ddcb4": {
      "model_module": "@jupyter-widgets/controls",
      "model_module_version": "1.5.0",
      "model_name": "VBoxModel",
      "state": {
       "_dom_classes": [
        "widget-interact"
       ],
       "children": [
        "IPY_MODEL_eff04990243c4f09abbac860d67a5a09"
       ],
       "layout": "IPY_MODEL_196c03fd6c6649879d18efe6a57bdbab"
      }
     },
     "cfe62aa788ed411f8ce495954b92d50b": {
      "model_module": "bqplot",
      "model_module_version": "^0.4.0",
      "model_name": "LinearScaleModel",
      "state": {
       "stabilized": false
      }
     },
     "d0412a1c4eb2446bbaea046dee653af0": {
      "model_module": "bqplot",
      "model_module_version": "^0.4.0",
      "model_name": "LinearScaleModel",
      "state": {
       "stabilized": false
      }
     },
     "d0585a179dcc4baaa75ae3d6f233cb31": {
      "model_module": "@jupyter-widgets/base",
      "model_module_version": "1.2.0",
      "model_name": "LayoutModel",
      "state": {}
     },
     "d09ad9d6b105479ea426247068b7f3ec": {
      "model_module": "bqplot",
      "model_module_version": "^0.4.0",
      "model_name": "AxisModel",
      "state": {
       "scale": "IPY_MODEL_03bc973eaf75496f9c3aed33264080f5",
       "side": "bottom",
       "tick_values": {
        "type": null,
        "values": null
       }
      }
     },
     "d0a410061348473882ba3912f6f69cea": {
      "model_module": "@jupyter-widgets/output",
      "model_module_version": "1.0.0",
      "model_name": "OutputModel",
      "state": {
       "layout": "IPY_MODEL_f6b2195939ef40a98563a85b1162767c"
      }
     },
     "d0c1a7263b0546d69d7b1acd73a01449": {
      "model_module": "@jupyter-widgets/base",
      "model_module_version": "1.2.0",
      "model_name": "LayoutModel",
      "state": {}
     },
     "d0cc59a486c14cb1a01aeaafdb21b9c3": {
      "model_module": "@jupyter-widgets/base",
      "model_module_version": "1.2.0",
      "model_name": "LayoutModel",
      "state": {}
     },
     "d0d437fda5964b9d8087a8a9fcadfa4b": {
      "model_module": "bqplot",
      "model_module_version": "^0.4.0",
      "model_name": "FigureModel",
      "state": {
       "_dom_classes": [],
       "axes": [
        "IPY_MODEL_84e743fe9ccb4339ad685eb0e0bb42f3",
        "IPY_MODEL_5b1f71ec8fff42849b1f345b7e1c7cbe"
       ],
       "layout": "IPY_MODEL_d34b4c70de27489ebb470f3c06b2fbe7",
       "marks": [
        "IPY_MODEL_bbfbe7ecb11c49e69031af35fd2895db"
       ],
       "max_aspect_ratio": 6,
       "scale_x": "IPY_MODEL_a81edce37e304ae9adc0a88886380bec",
       "scale_y": "IPY_MODEL_1c34b55dc97b4fb7ba502dbfb841aa8b"
      }
     },
     "d10a93ec48e24abbab5f493ad2a641df": {
      "model_module": "@jupyter-widgets/controls",
      "model_module_version": "1.5.0",
      "model_name": "VBoxModel",
      "state": {
       "_dom_classes": [
        "widget-interact"
       ],
       "children": [
        "IPY_MODEL_252612b198eb419eb634d57469b16564"
       ],
       "layout": "IPY_MODEL_f167ba3e78d84293a983bb023bd22af5"
      }
     },
     "d12bb220ef38445ea054dba51f3a2983": {
      "model_module": "@jupyter-widgets/base",
      "model_module_version": "1.2.0",
      "model_name": "LayoutModel",
      "state": {}
     },
     "d13581cf6dbd487c94b60e0dc4a14e31": {
      "model_module": "@jupyter-widgets/output",
      "model_module_version": "1.0.0",
      "model_name": "OutputModel",
      "state": {
       "layout": "IPY_MODEL_404598d19e8e418dbc992ce189916e41"
      }
     },
     "d1bae6fa8f8543588d8f5266c07cda81": {
      "model_module": "@jupyter-widgets/output",
      "model_module_version": "1.0.0",
      "model_name": "OutputModel",
      "state": {
       "layout": "IPY_MODEL_a92ae92e80384156baca232a9cfe1cd0",
       "outputs": [
        {
         "data": {
          "text/plain": "9"
         },
         "metadata": {},
         "output_type": "display_data"
        }
       ]
      }
     },
     "d1bd212c40204aff8d6cf75b04fae61e": {
      "model_module": "bqplot",
      "model_module_version": "^0.4.0",
      "model_name": "LinearScaleModel",
      "state": {
       "stabilized": false
      }
     },
     "d1c6361f31b6467da90b2dfe1c05a2ae": {
      "model_module": "@jupyter-widgets/base",
      "model_module_version": "1.2.0",
      "model_name": "LayoutModel",
      "state": {
       "min_width": "125px"
      }
     },
     "d1e8f7700444430b8f705c8c432a9537": {
      "model_module": "@jupyter-widgets/controls",
      "model_module_version": "1.5.0",
      "model_name": "VBoxModel",
      "state": {
       "_dom_classes": [
        "widget-interact"
       ],
       "children": [
        "IPY_MODEL_67527dd146cd48cda8873d3c697dde50"
       ],
       "layout": "IPY_MODEL_28e913a50f7a42cab6dfbd0d59d574c2"
      }
     },
     "d217a9d91ee34536be301482dc6aff97": {
      "model_module": "@jupyter-widgets/controls",
      "model_module_version": "1.5.0",
      "model_name": "VBoxModel",
      "state": {
       "children": [
        "IPY_MODEL_f612ebbd95b64a92b79f194a85ad136d",
        "IPY_MODEL_2f792428d16a4fe2b07796cdeb08ab41"
       ],
       "layout": "IPY_MODEL_b38acd79aaa74e0591301987bac4c391"
      }
     },
     "d245929d33bc4d1f91e5309c3cac3217": {
      "model_module": "bqplot",
      "model_module_version": "^0.4.0",
      "model_name": "AxisModel",
      "state": {
       "scale": "IPY_MODEL_d7911274941d4322b60f638429c7bf72",
       "side": "bottom",
       "tick_values": {
        "type": null,
        "values": null
       }
      }
     },
     "d2668580d70f4733966c8daab2658b17": {
      "model_module": "@jupyter-widgets/base",
      "model_module_version": "1.2.0",
      "model_name": "LayoutModel",
      "state": {
       "min_width": "125px"
      }
     },
     "d28ca3db3eea423890a71c91faede352": {
      "model_module": "@jupyter-widgets/output",
      "model_module_version": "1.0.0",
      "model_name": "OutputModel",
      "state": {
       "layout": "IPY_MODEL_156b68108cc145739c9ee25fc51271c2"
      }
     },
     "d2f331521dc94fae828f2411fcf70c37": {
      "model_module": "bqplot",
      "model_module_version": "^0.4.0",
      "model_name": "FigureModel",
      "state": {
       "_dom_classes": [],
       "axes": [
        "IPY_MODEL_55742165da6f48e2a05d2fefa3077fa7",
        "IPY_MODEL_aceb7095f78840abb581ddebeca11ad9"
       ],
       "layout": "IPY_MODEL_03ac8862f0b54640b391dcc20f33944c",
       "marks": [
        "IPY_MODEL_ecc047368826434184c93eb5a26a7798"
       ],
       "max_aspect_ratio": 6,
       "scale_x": "IPY_MODEL_24f0068514ad43ffa4524233ae793b57",
       "scale_y": "IPY_MODEL_28aaf95beb434a3f959ae9954ed07ab6"
      }
     },
     "d2fa726150ad4b70b55fdd2069f8c886": {
      "model_module": "bqplot",
      "model_module_version": "^0.4.0",
      "model_name": "FigureModel",
      "state": {
       "_dom_classes": [],
       "axes": [
        "IPY_MODEL_48961717bd43453d8474f2a93380cc9b",
        "IPY_MODEL_d4c23e6e8f714138ab0e02e00132cc21"
       ],
       "layout": "IPY_MODEL_ed5726a04f9c4edc853fde4d64e2d489",
       "marks": [
        "IPY_MODEL_61b27417c04645adbbe45ac140f05f53"
       ],
       "max_aspect_ratio": 6,
       "scale_x": "IPY_MODEL_c90c496683504fac85e8517b7491bc06",
       "scale_y": "IPY_MODEL_547e94998d714c63a84e6a0816039dff"
      }
     },
     "d30cbdf9b1f04e128d8becbfc648de66": {
      "model_module": "@jupyter-widgets/output",
      "model_module_version": "1.0.0",
      "model_name": "OutputModel",
      "state": {
       "layout": "IPY_MODEL_1732deb03957436bab6518461992ba6e"
      }
     },
     "d34b4c70de27489ebb470f3c06b2fbe7": {
      "model_module": "@jupyter-widgets/base",
      "model_module_version": "1.2.0",
      "model_name": "LayoutModel",
      "state": {
       "min_width": "125px"
      }
     },
     "d371e3eb55084028b7580beb0eb1a16e": {
      "model_module": "bqplot",
      "model_module_version": "^0.4.0",
      "model_name": "LinearScaleModel",
      "state": {
       "stabilized": false
      }
     },
     "d3966781576e4491b72085e13feb4d93": {
      "model_module": "bqplot",
      "model_module_version": "^0.4.0",
      "model_name": "AxisModel",
      "state": {
       "orientation": "vertical",
       "scale": "IPY_MODEL_20aebde7e6ca4b1fb8ac2370d38452c7",
       "side": "left",
       "tick_values": {
        "type": null,
        "values": null
       }
      }
     },
     "d3d05876584046829ffd29c9a1a0aa58": {
      "model_module": "bqplot",
      "model_module_version": "^0.4.0",
      "model_name": "LinearScaleModel",
      "state": {
       "stabilized": false
      }
     },
     "d4aa9d5eba6c4a2395113b8143586d9d": {
      "model_module": "bqplot",
      "model_module_version": "^0.4.0",
      "model_name": "LinesModel",
      "state": {
       "color": {
        "type": null,
        "values": null
       },
       "colors": [
        "#475A77"
       ],
       "display_legend": false,
       "fill_colors": [],
       "labels": [
        "C1"
       ],
       "scales": {
        "x": "IPY_MODEL_cd556c525a83448794a9707ed4088c56",
        "y": "IPY_MODEL_4445d9134aab49e2ac6ebb427c252a30"
       },
       "selected": [],
       "x": {
        "type": "float",
        "values": [
         1,
         2,
         3
        ]
       },
       "y": {
        "type": "float",
        "values": [
         29,
         12,
         147
        ]
       }
      }
     },
     "d4c23e6e8f714138ab0e02e00132cc21": {
      "model_module": "bqplot",
      "model_module_version": "^0.4.0",
      "model_name": "AxisModel",
      "state": {
       "orientation": "vertical",
       "scale": "IPY_MODEL_7d87e273293947f1ab16ae51b2b0b6bc",
       "side": "left",
       "tick_values": {
        "type": null,
        "values": null
       }
      }
     },
     "d56de8a579d94b24928bd952ae85911b": {
      "model_module": "bqplot",
      "model_module_version": "^0.4.0",
      "model_name": "AxisModel",
      "state": {
       "scale": "IPY_MODEL_0694284c8b7244f1b6164fb32e63e27f",
       "side": "bottom",
       "tick_values": {
        "type": null,
        "values": null
       }
      }
     },
     "d586849980a44a8a97847db1093fef2d": {
      "model_module": "@jupyter-widgets/output",
      "model_module_version": "1.0.0",
      "model_name": "OutputModel",
      "state": {
       "layout": "IPY_MODEL_b2dd13350d1d4dbfa50162061bcbe17a",
       "outputs": [
        {
         "data": {
          "text/plain": "100"
         },
         "metadata": {},
         "output_type": "display_data"
        }
       ]
      }
     },
     "d5b09a2dc31d4e03b1c44ffc9074b10f": {
      "model_module": "bqplot",
      "model_module_version": "^0.4.0",
      "model_name": "LinearScaleModel",
      "state": {
       "allow_padding": false,
       "max": 1,
       "min": 0,
       "stabilized": false
      }
     },
     "d5cd58be53c64b968f9ee161cb35be07": {
      "model_module": "bqplot",
      "model_module_version": "^0.4.0",
      "model_name": "LinearScaleModel",
      "state": {
       "allow_padding": false,
       "max": 1,
       "min": 0,
       "stabilized": false
      }
     },
     "d60dde0ed9984c83ab4aac2a71e76af7": {
      "model_module": "bqplot",
      "model_module_version": "^0.4.0",
      "model_name": "LinearScaleModel",
      "state": {
       "allow_padding": false,
       "max": 1,
       "min": 0,
       "stabilized": false
      }
     },
     "d6db6ec132914bd8986d6096b9f051d3": {
      "model_module": "@jupyter-widgets/output",
      "model_module_version": "1.0.0",
      "model_name": "OutputModel",
      "state": {
       "layout": "IPY_MODEL_3122bd67a7dd4d41a2544cd7537f335d"
      }
     },
     "d6f87df0736d44d19c1fc2a796555c81": {
      "model_module": "@jupyter-widgets/controls",
      "model_module_version": "1.5.0",
      "model_name": "VBoxModel",
      "state": {
       "children": [
        "IPY_MODEL_30956707775340ad945eaf83d5f16ec7",
        "IPY_MODEL_ca68225cc0464e758ffcc673fef9747e"
       ],
       "layout": "IPY_MODEL_419b10516e634fc280a99f30e301d032"
      }
     },
     "d7085972f0c74eb3a9ffad4bfd8cf365": {
      "model_module": "@jupyter-widgets/base",
      "model_module_version": "1.2.0",
      "model_name": "LayoutModel",
      "state": {}
     },
     "d70fa4ad6e7940d9a5b7c3c7e262f1ea": {
      "model_module": "bqplot",
      "model_module_version": "^0.4.0",
      "model_name": "LinearScaleModel",
      "state": {
       "stabilized": false
      }
     },
     "d78953fd1779470c842643db2f7873bd": {
      "model_module": "bqplot",
      "model_module_version": "^0.4.0",
      "model_name": "LinearScaleModel",
      "state": {
       "stabilized": false
      }
     },
     "d7911274941d4322b60f638429c7bf72": {
      "model_module": "bqplot",
      "model_module_version": "^0.4.0",
      "model_name": "LinearScaleModel",
      "state": {
       "stabilized": false
      }
     },
     "d798d0dfff1a4af49efd81cf8d88447c": {
      "model_module": "bqplot",
      "model_module_version": "^0.4.0",
      "model_name": "LinearScaleModel",
      "state": {
       "allow_padding": false,
       "max": 1,
       "min": 0,
       "stabilized": false
      }
     },
     "d7ccf2e7261e4dd0be592da9118cf7bf": {
      "model_module": "@jupyter-widgets/base",
      "model_module_version": "1.2.0",
      "model_name": "LayoutModel",
      "state": {}
     },
     "d8009c49d735441b88ff6ac1d1a25cdc": {
      "model_module": "bqplot",
      "model_module_version": "^0.4.0",
      "model_name": "AxisModel",
      "state": {
       "orientation": "vertical",
       "scale": "IPY_MODEL_153dd8f6d4d942289ede7505c6f46ec5",
       "side": "left",
       "tick_values": {
        "type": null,
        "values": null
       }
      }
     },
     "d809d14d35be4bcc800fe488fb4c4165": {
      "model_module": "@jupyter-widgets/base",
      "model_module_version": "1.2.0",
      "model_name": "LayoutModel",
      "state": {}
     },
     "d8131dff2f844a799972419be3297708": {
      "model_module": "bqplot",
      "model_module_version": "^0.4.0",
      "model_name": "LinearScaleModel",
      "state": {
       "allow_padding": false,
       "max": 1,
       "min": 0,
       "stabilized": false
      }
     },
     "d82bb92c04b44789b5953f67c543b042": {
      "model_module": "bqplot",
      "model_module_version": "^0.4.0",
      "model_name": "LinearScaleModel",
      "state": {
       "stabilized": false
      }
     },
     "d85f7e48c2864f79af72772f10925b43": {
      "model_module": "bqplot",
      "model_module_version": "^0.4.0",
      "model_name": "FigureModel",
      "state": {
       "_dom_classes": [],
       "axes": [
        "IPY_MODEL_37fcb48b0c8a416ca9dfcab17b03601a",
        "IPY_MODEL_eba9aff226c845bf83e523a5d89a5fa8"
       ],
       "layout": "IPY_MODEL_6a8192afb32649dca909a889bbabd227",
       "marks": [
        "IPY_MODEL_05cc668d58184e84bb21b2f7973ef1b8"
       ],
       "max_aspect_ratio": 6,
       "scale_x": "IPY_MODEL_74683a9acab440d98d6df7a2cfe188be",
       "scale_y": "IPY_MODEL_6df12091bd434669a31411d4535acf37"
      }
     },
     "d8692be554364e52b2a2885d9a4a4ca6": {
      "model_module": "bqplot",
      "model_module_version": "^0.4.0",
      "model_name": "LinearScaleModel",
      "state": {
       "stabilized": false
      }
     },
     "d885dd70324b4c7899e75c7b1762ed20": {
      "model_module": "bqplot",
      "model_module_version": "^0.4.0",
      "model_name": "LinearScaleModel",
      "state": {
       "allow_padding": false,
       "max": 1,
       "min": 0,
       "stabilized": false
      }
     },
     "d898b5dab239402183197fcfbd7ef127": {
      "model_module": "@jupyter-widgets/controls",
      "model_module_version": "1.5.0",
      "model_name": "IntSliderModel",
      "state": {
       "description": "x",
       "layout": "IPY_MODEL_b0ee3573361b4ceda663a1116578e3e4",
       "max": 30,
       "min": -10,
       "style": "IPY_MODEL_fb7956acf5824ce2b156c92af1cbc98f",
       "value": 10
      }
     },
     "d8a3bdd50469455c86ef5adb24300c87": {
      "model_module": "bqplot",
      "model_module_version": "^0.4.0",
      "model_name": "LinearScaleModel",
      "state": {
       "allow_padding": false,
       "max": 1,
       "min": 0,
       "stabilized": false
      }
     },
     "d8b7c76712ba4f338a960a41e3cfa2c3": {
      "model_module": "bqplot",
      "model_module_version": "^0.4.0",
      "model_name": "FigureModel",
      "state": {
       "_dom_classes": [],
       "axes": [
        "IPY_MODEL_3186386dc76d494989424ad180da469d",
        "IPY_MODEL_5582dd5f28114fcfab09cc9b9298d6a9"
       ],
       "layout": "IPY_MODEL_4ea7bbd888b14f6a96b0cb1c975f365c",
       "marks": [
        "IPY_MODEL_6532a9d034f04b3390eb6e304645cc2f"
       ],
       "max_aspect_ratio": 6,
       "scale_x": "IPY_MODEL_7f7a135ba2ae4b698f9b015f1de34d06",
       "scale_y": "IPY_MODEL_1a7788c8cfff44d6966ba9f42845b827"
      }
     },
     "d90f843eaeb945a9980b974d38e2140d": {
      "model_module": "bqplot",
      "model_module_version": "^0.4.0",
      "model_name": "AxisModel",
      "state": {
       "orientation": "vertical",
       "scale": "IPY_MODEL_af9c39aaa801470c9b0b7c1d41e6272a",
       "side": "left",
       "tick_values": {
        "type": null,
        "values": null
       }
      }
     },
     "d925793316fd488bab28c3ab752a9c41": {
      "model_module": "@jupyter-widgets/base",
      "model_module_version": "1.2.0",
      "model_name": "LayoutModel",
      "state": {}
     },
     "d95257f5dc5c4a8e8cb800b9b346c011": {
      "model_module": "@jupyter-widgets/base",
      "model_module_version": "1.2.0",
      "model_name": "LayoutModel",
      "state": {}
     },
     "d963bf8fc71a451ea1a11325c7a93f42": {
      "model_module": "@jupyter-widgets/controls",
      "model_module_version": "1.5.0",
      "model_name": "VBoxModel",
      "state": {
       "_dom_classes": [
        "widget-interact"
       ],
       "children": [
        "IPY_MODEL_a275b55c711843fbaf1b1a36cb131d36"
       ],
       "layout": "IPY_MODEL_9953dcd2b5cc4f35be1b97a2501cb93d"
      }
     },
     "d986a1159fa64b17995123d692096f40": {
      "model_module": "@jupyter-widgets/base",
      "model_module_version": "1.2.0",
      "model_name": "LayoutModel",
      "state": {}
     },
     "d9ad1ffa83db49e9a403db541773ff07": {
      "model_module": "@jupyter-widgets/controls",
      "model_module_version": "1.5.0",
      "model_name": "VBoxModel",
      "state": {
       "children": [
        "IPY_MODEL_ddb0f7b5771648cc84118c8fe7c026cc",
        "IPY_MODEL_da53df6a50ed44bd92a476eecfc1fe05"
       ],
       "layout": "IPY_MODEL_8c49c6d360cb490d9499e7f265ad824b"
      }
     },
     "da09df57dc0b4903a8cea9d1bf12cde5": {
      "model_module": "@jupyter-widgets/base",
      "model_module_version": "1.2.0",
      "model_name": "LayoutModel",
      "state": {}
     },
     "da17682dd4be4e1686c84be6a4255869": {
      "model_module": "@jupyter-widgets/base",
      "model_module_version": "1.2.0",
      "model_name": "LayoutModel",
      "state": {
       "min_width": "125px"
      }
     },
     "da2abad9327143ca96ce46bdea340d7c": {
      "model_module": "bqplot",
      "model_module_version": "^0.4.0",
      "model_name": "FigureModel",
      "state": {
       "_dom_classes": [],
       "axes": [
        "IPY_MODEL_b97eed8dd3764437929e27d56688a919",
        "IPY_MODEL_1b1e6e7525fa482191ebacf7f7c5b4c5"
       ],
       "layout": "IPY_MODEL_52ec2c6a7a7d417cb0f4c6e58ba3e5c3",
       "marks": [
        "IPY_MODEL_0d579584fabe498bb1992e92e7dcec18"
       ],
       "max_aspect_ratio": 6,
       "scale_x": "IPY_MODEL_0feb66fa9cc34d5aa2d60984770f230b",
       "scale_y": "IPY_MODEL_0cece771ff75455caf6dacc287931a39"
      }
     },
     "da3d0ca7e7c04c2e98f3d519d734f5a2": {
      "model_module": "bqplot",
      "model_module_version": "^0.4.0",
      "model_name": "LinearScaleModel",
      "state": {
       "allow_padding": false,
       "max": 1,
       "min": 0,
       "stabilized": false
      }
     },
     "da53df6a50ed44bd92a476eecfc1fe05": {
      "model_module": "bqplot",
      "model_module_version": "^0.4.0",
      "model_name": "FigureModel",
      "state": {
       "_dom_classes": [],
       "axes": [
        "IPY_MODEL_60624ee3fd504b78b9369d2614bda884",
        "IPY_MODEL_d8009c49d735441b88ff6ac1d1a25cdc"
       ],
       "layout": "IPY_MODEL_8e02e2b12ee144fcb38e9079974cc9cd",
       "marks": [
        "IPY_MODEL_696b202ea8784806921208fedc7a9ed3"
       ],
       "max_aspect_ratio": 6,
       "scale_x": "IPY_MODEL_819d150f9f314ea99021307125495361",
       "scale_y": "IPY_MODEL_70dd77945e74466c829b17c3cac963f9"
      }
     },
     "da8974f719f04c04a0bb94fd492b03b9": {
      "model_module": "@jupyter-widgets/base",
      "model_module_version": "1.2.0",
      "model_name": "LayoutModel",
      "state": {}
     },
     "da9cba407df24d4dbd2c5723591896ff": {
      "model_module": "@jupyter-widgets/base",
      "model_module_version": "1.2.0",
      "model_name": "LayoutModel",
      "state": {}
     },
     "daaa7f82d95d49c19e91d52b5db98dc9": {
      "model_module": "bqplot",
      "model_module_version": "^0.4.0",
      "model_name": "LinearScaleModel",
      "state": {
       "allow_padding": false,
       "max": 1,
       "min": 0,
       "stabilized": false
      }
     },
     "daefcb363f6542479b0989d64f7b7409": {
      "model_module": "@jupyter-widgets/controls",
      "model_module_version": "1.5.0",
      "model_name": "SliderStyleModel",
      "state": {
       "description_width": ""
      }
     },
     "db1855ce8f214d3989b0d7fa550cd885": {
      "model_module": "@jupyter-widgets/controls",
      "model_module_version": "1.5.0",
      "model_name": "VBoxModel",
      "state": {
       "children": [
        "IPY_MODEL_073b07bc3bb5495c89741e0f485bbbdb",
        "IPY_MODEL_8b94f5467d74413e8eb0796d4e38ab79"
       ],
       "layout": "IPY_MODEL_01f76d7464904675bc45b03cb848288d"
      }
     },
     "db23ecdc2c9c4ff3ab3f639f3086738e": {
      "model_module": "bqplot",
      "model_module_version": "^0.4.0",
      "model_name": "AxisModel",
      "state": {
       "scale": "IPY_MODEL_5862861a206f41c59c445c288c94c7c2",
       "side": "bottom",
       "tick_values": {
        "type": null,
        "values": null
       }
      }
     },
     "db3cb178ffcc4735a02e201e0da19028": {
      "model_module": "@jupyter-widgets/base",
      "model_module_version": "1.2.0",
      "model_name": "LayoutModel",
      "state": {}
     },
     "db5973aa41df49a2adee92f097921a06": {
      "model_module": "@jupyter-widgets/base",
      "model_module_version": "1.2.0",
      "model_name": "LayoutModel",
      "state": {}
     },
     "db6f21741d4d4dcea17e2aca6f68ba23": {
      "model_module": "@jupyter-widgets/controls",
      "model_module_version": "1.5.0",
      "model_name": "VBoxModel",
      "state": {
       "children": [
        "IPY_MODEL_92b5d321e44e4e10a4010afd23036eda",
        "IPY_MODEL_fc28cd1a4f8242f6a47bd3f992af82a3"
       ],
       "layout": "IPY_MODEL_271dee9495db46cf836fb2e8ef640896"
      }
     },
     "db8af4ad1ae54a6fb86bd9676dac252c": {
      "model_module": "@jupyter-widgets/base",
      "model_module_version": "1.2.0",
      "model_name": "LayoutModel",
      "state": {}
     },
     "dbae1663d8ec42fd8ed7d90718bfb7ef": {
      "model_module": "@jupyter-widgets/base",
      "model_module_version": "1.2.0",
      "model_name": "LayoutModel",
      "state": {}
     },
     "dbc2626fdcdf49b48563446eeb0dce5f": {
      "model_module": "bqplot",
      "model_module_version": "^0.4.0",
      "model_name": "LinearScaleModel",
      "state": {
       "allow_padding": false,
       "max": 1,
       "min": 0,
       "stabilized": false
      }
     },
     "dbed89ad12e84a7da671b393c0698549": {
      "model_module": "bqplot",
      "model_module_version": "^0.4.0",
      "model_name": "FigureModel",
      "state": {
       "_dom_classes": [],
       "axes": [
        "IPY_MODEL_d56de8a579d94b24928bd952ae85911b",
        "IPY_MODEL_05c0e013886b491196caa01c4f71b8f5"
       ],
       "layout": "IPY_MODEL_aa219dbc25274580968d70f755dd687c",
       "marks": [
        "IPY_MODEL_56f5f49b91894e8eb4dbbd90cf849ef5"
       ],
       "max_aspect_ratio": 6,
       "scale_x": "IPY_MODEL_0fafeaaff9514df68f28332beb61a720",
       "scale_y": "IPY_MODEL_c3f98488c3b44d888e6abfad5a26333a"
      }
     },
     "dbf74d78878d4e6ea4230a63fb45c37a": {
      "model_module": "bqplot",
      "model_module_version": "^0.4.0",
      "model_name": "LinesModel",
      "state": {
       "color": {
        "type": null,
        "values": null
       },
       "colors": [
        "#475A77"
       ],
       "display_legend": false,
       "fill_colors": [],
       "scales": {
        "x": "IPY_MODEL_cfe62aa788ed411f8ce495954b92d50b",
        "y": "IPY_MODEL_c7fcfeb888f045239eab4ed39616ffaa"
       },
       "selected": [],
       "x": {
        "type": "float",
        "values": []
       },
       "y": {
        "type": "float",
        "values": []
       }
      }
     },
     "dbf9798282d643abb6afc04d45531266": {
      "model_module": "@jupyter-widgets/output",
      "model_module_version": "1.0.0",
      "model_name": "OutputModel",
      "state": {
       "layout": "IPY_MODEL_2eed9ca266484602b43548a109e97a1c"
      }
     },
     "dc0d6eb7b79b43959674e573cb169b73": {
      "model_module": "@jupyter-widgets/base",
      "model_module_version": "1.2.0",
      "model_name": "LayoutModel",
      "state": {}
     },
     "dc6a1e9d3167422e8be08c5321041b62": {
      "model_module": "@jupyter-widgets/controls",
      "model_module_version": "1.5.0",
      "model_name": "VBoxModel",
      "state": {
       "_dom_classes": [
        "widget-interact"
       ],
       "children": [
        "IPY_MODEL_3306f8fa76af4f3aa7319e87f8dded7d",
        "IPY_MODEL_b3b34417e8844abea5edaf0642c5be25"
       ],
       "layout": "IPY_MODEL_2f1a7fb944b24e37a5a0afa38cf63d6e"
      }
     },
     "dc89bddfd4d64d9e84470348e131dd78": {
      "model_module": "@jupyter-widgets/output",
      "model_module_version": "1.0.0",
      "model_name": "OutputModel",
      "state": {
       "layout": "IPY_MODEL_5cf3737c610e4193a7e45fa53f5cdbca"
      }
     },
     "dc9ce1aeb50d41a99f54b1b469c469c6": {
      "model_module": "bqplot",
      "model_module_version": "^0.4.0",
      "model_name": "LinearScaleModel",
      "state": {
       "allow_padding": false,
       "max": 1,
       "min": 0,
       "stabilized": false
      }
     },
     "dcd8638424984dc89c377c6fd5832147": {
      "model_module": "bqplot",
      "model_module_version": "^0.4.0",
      "model_name": "FigureModel",
      "state": {
       "_dom_classes": [],
       "axes": [
        "IPY_MODEL_5a5acdef22a340d78cc788d9cad84a97",
        "IPY_MODEL_639dbb093d864281a856c3bba6d8acaa"
       ],
       "layout": "IPY_MODEL_ecebc0d531e44a9181a278a754e0afa4",
       "marks": [
        "IPY_MODEL_59e5313ebba5420ea5b4390a15f910de"
       ],
       "max_aspect_ratio": 6,
       "scale_x": "IPY_MODEL_8813fbd624114083ab216611e8388e4c",
       "scale_y": "IPY_MODEL_0a3bb34051bc4e58acbf4c0769426fba"
      }
     },
     "dd29bbc044aa476ebb08a4c3f4a09ae3": {
      "model_module": "@jupyter-widgets/base",
      "model_module_version": "1.2.0",
      "model_name": "LayoutModel",
      "state": {}
     },
     "dd4889ddac1f4e47b1169775dee1acc8": {
      "model_module": "bqplot",
      "model_module_version": "^0.4.0",
      "model_name": "FigureModel",
      "state": {
       "_dom_classes": [],
       "axes": [
        "IPY_MODEL_994c912731e643b0a335571a4e3e0eac",
        "IPY_MODEL_2ae7afe6a87d48858fdcbfb7bbfc6ba1"
       ],
       "layout": "IPY_MODEL_ffdfb991ecb84b3aa90506c93b927fbd",
       "marks": [
        "IPY_MODEL_aa56df4e5db04b8c9a856456f55ec3d0"
       ],
       "max_aspect_ratio": 6,
       "scale_x": "IPY_MODEL_d5b09a2dc31d4e03b1c44ffc9074b10f",
       "scale_y": "IPY_MODEL_70b80a3bf6c04282a13026bbf5ad9d1b"
      }
     },
     "dd49888c82594846bdfccb12dbfe990a": {
      "model_module": "@jupyter-widgets/base",
      "model_module_version": "1.2.0",
      "model_name": "LayoutModel",
      "state": {}
     },
     "dd5ca1556f604ac3af3efc179f7990fa": {
      "model_module": "@jupyter-widgets/controls",
      "model_module_version": "1.5.0",
      "model_name": "VBoxModel",
      "state": {
       "_dom_classes": [
        "widget-interact"
       ],
       "children": [
        "IPY_MODEL_7eabe9c939da459884cd13925f9044f8"
       ],
       "layout": "IPY_MODEL_1acdad4e04f2402fb41b066eddfdc9ac"
      }
     },
     "dd75b1d1be1a4c1882abf5e44277d5be": {
      "model_module": "bqplot",
      "model_module_version": "^0.4.0",
      "model_name": "LinearScaleModel",
      "state": {
       "allow_padding": false,
       "max": 1,
       "min": 0,
       "stabilized": false
      }
     },
     "dda1fe55115c4124899bb1cce2b80df7": {
      "model_module": "bqplot",
      "model_module_version": "^0.4.0",
      "model_name": "LinearScaleModel",
      "state": {
       "allow_padding": false,
       "max": 1,
       "min": 0,
       "stabilized": false
      }
     },
     "ddb0f7b5771648cc84118c8fe7c026cc": {
      "model_module": "@jupyter-widgets/controls",
      "model_module_version": "1.5.0",
      "model_name": "VBoxModel",
      "state": {
       "_dom_classes": [
        "widget-interact"
       ],
       "children": [
        "IPY_MODEL_5e5cab8496b04d14b2af2cededac7757"
       ],
       "layout": "IPY_MODEL_ec497653bae243a68ae2deb09018deb2"
      }
     },
     "ddf924f0e9534236a52d14a6dcbf4164": {
      "model_module": "@jupyter-widgets/base",
      "model_module_version": "1.2.0",
      "model_name": "LayoutModel",
      "state": {}
     },
     "decef1c7b19f42dcafb771495a0288fc": {
      "model_module": "@jupyter-widgets/controls",
      "model_module_version": "1.5.0",
      "model_name": "VBoxModel",
      "state": {
       "_dom_classes": [
        "widget-interact"
       ],
       "children": [
        "IPY_MODEL_e6b76ff298ae41f38196ae289d43ec32",
        "IPY_MODEL_8f126844635c4f27b8a08b23db1495ae"
       ],
       "layout": "IPY_MODEL_f1cb306492744296b614b437d8a0cdea"
      }
     },
     "ded3b0e6936141099e23def01ee137dc": {
      "model_module": "bqplot",
      "model_module_version": "^0.4.0",
      "model_name": "LinearScaleModel",
      "state": {
       "stabilized": false
      }
     },
     "dee55b6b1ad44fb6b5e3dbd5560affa7": {
      "model_module": "bqplot",
      "model_module_version": "^0.4.0",
      "model_name": "LinearScaleModel",
      "state": {
       "allow_padding": false,
       "max": 1,
       "min": 0,
       "stabilized": false
      }
     },
     "deef7d34b790467ca8d97fd0c5c16420": {
      "model_module": "bqplot",
      "model_module_version": "^0.4.0",
      "model_name": "LinearScaleModel",
      "state": {
       "allow_padding": false,
       "max": 1,
       "min": 0,
       "stabilized": false
      }
     },
     "defa557e64ed477bb89e630f6d920591": {
      "model_module": "bqplot",
      "model_module_version": "^0.4.0",
      "model_name": "LinearScaleModel",
      "state": {
       "stabilized": false
      }
     },
     "df4f477c0bf6465d8d36adb34c49dfd3": {
      "model_module": "bqplot",
      "model_module_version": "^0.4.0",
      "model_name": "AxisModel",
      "state": {
       "orientation": "vertical",
       "scale": "IPY_MODEL_52f22a9864644220af66e0e6f13643fb",
       "side": "left",
       "tick_values": {
        "type": null,
        "values": null
       }
      }
     },
     "df509bd5460347c6af43288f20aec16e": {
      "model_module": "@jupyter-widgets/base",
      "model_module_version": "1.2.0",
      "model_name": "LayoutModel",
      "state": {}
     },
     "df54e95a29344727a879e80a4f364ddb": {
      "model_module": "@jupyter-widgets/output",
      "model_module_version": "1.0.0",
      "model_name": "OutputModel",
      "state": {
       "layout": "IPY_MODEL_0648c1756efc4d029010c4225d58acd5",
       "outputs": [
        {
         "ename": "NameError",
         "evalue": "name 'np' is not defined",
         "output_type": "error",
         "traceback": [
          "\u001b[0;31m---------------------------------------------------------------------------\u001b[0m",
          "\u001b[0;31mNameError\u001b[0m                                 Traceback (most recent call last)",
          "\u001b[0;32m/usr/lib/python3.8/site-packages/ipywidgets/widgets/interaction.py\u001b[0m in \u001b[0;36mupdate\u001b[0;34m(self, *args)\u001b[0m\n\u001b[1;32m    254\u001b[0m                     \u001b[0mvalue\u001b[0m \u001b[0;34m=\u001b[0m \u001b[0mwidget\u001b[0m\u001b[0;34m.\u001b[0m\u001b[0mget_interact_value\u001b[0m\u001b[0;34m(\u001b[0m\u001b[0;34m)\u001b[0m\u001b[0;34m\u001b[0m\u001b[0;34m\u001b[0m\u001b[0m\n\u001b[1;32m    255\u001b[0m                     \u001b[0mself\u001b[0m\u001b[0;34m.\u001b[0m\u001b[0mkwargs\u001b[0m\u001b[0;34m[\u001b[0m\u001b[0mwidget\u001b[0m\u001b[0;34m.\u001b[0m\u001b[0m_kwarg\u001b[0m\u001b[0;34m]\u001b[0m \u001b[0;34m=\u001b[0m \u001b[0mvalue\u001b[0m\u001b[0;34m\u001b[0m\u001b[0;34m\u001b[0m\u001b[0m\n\u001b[0;32m--> 256\u001b[0;31m                 \u001b[0mself\u001b[0m\u001b[0;34m.\u001b[0m\u001b[0mresult\u001b[0m \u001b[0;34m=\u001b[0m \u001b[0mself\u001b[0m\u001b[0;34m.\u001b[0m\u001b[0mf\u001b[0m\u001b[0;34m(\u001b[0m\u001b[0;34m**\u001b[0m\u001b[0mself\u001b[0m\u001b[0;34m.\u001b[0m\u001b[0mkwargs\u001b[0m\u001b[0;34m)\u001b[0m\u001b[0;34m\u001b[0m\u001b[0;34m\u001b[0m\u001b[0m\n\u001b[0m\u001b[1;32m    257\u001b[0m                 \u001b[0mshow_inline_matplotlib_plots\u001b[0m\u001b[0;34m(\u001b[0m\u001b[0;34m)\u001b[0m\u001b[0;34m\u001b[0m\u001b[0;34m\u001b[0m\u001b[0m\n\u001b[1;32m    258\u001b[0m                 \u001b[0;32mif\u001b[0m \u001b[0mself\u001b[0m\u001b[0;34m.\u001b[0m\u001b[0mauto_display\u001b[0m \u001b[0;32mand\u001b[0m \u001b[0mself\u001b[0m\u001b[0;34m.\u001b[0m\u001b[0mresult\u001b[0m \u001b[0;32mis\u001b[0m \u001b[0;32mnot\u001b[0m \u001b[0;32mNone\u001b[0m\u001b[0;34m:\u001b[0m\u001b[0;34m\u001b[0m\u001b[0;34m\u001b[0m\u001b[0m\n",
          "\u001b[0;32m~/.local/lib/python3.8/site-packages/nbinteract/plotting.py\u001b[0m in \u001b[0;36mwrapped\u001b[0;34m(**interact_params)\u001b[0m\n\u001b[1;32m    223\u001b[0m \u001b[0;34m\u001b[0m\u001b[0m\n\u001b[1;32m    224\u001b[0m     \u001b[0;32mdef\u001b[0m \u001b[0mwrapped\u001b[0m\u001b[0;34m(\u001b[0m\u001b[0;34m**\u001b[0m\u001b[0minteract_params\u001b[0m\u001b[0;34m)\u001b[0m\u001b[0;34m:\u001b[0m\u001b[0;34m\u001b[0m\u001b[0;34m\u001b[0m\u001b[0m\n\u001b[0;32m--> 225\u001b[0;31m         \u001b[0mhist\u001b[0m\u001b[0;34m.\u001b[0m\u001b[0msample\u001b[0m \u001b[0;34m=\u001b[0m \u001b[0mutil\u001b[0m\u001b[0;34m.\u001b[0m\u001b[0mmaybe_call\u001b[0m\u001b[0;34m(\u001b[0m\u001b[0mhist_function\u001b[0m\u001b[0;34m,\u001b[0m \u001b[0minteract_params\u001b[0m\u001b[0;34m)\u001b[0m\u001b[0;34m\u001b[0m\u001b[0;34m\u001b[0m\u001b[0m\n\u001b[0m\u001b[1;32m    226\u001b[0m \u001b[0;34m\u001b[0m\u001b[0m\n\u001b[1;32m    227\u001b[0m     \u001b[0mcontrols\u001b[0m \u001b[0;34m=\u001b[0m \u001b[0mwidgets\u001b[0m\u001b[0;34m.\u001b[0m\u001b[0minteractive\u001b[0m\u001b[0;34m(\u001b[0m\u001b[0mwrapped\u001b[0m\u001b[0;34m,\u001b[0m \u001b[0;34m**\u001b[0m\u001b[0minteract_params\u001b[0m\u001b[0;34m)\u001b[0m\u001b[0;34m\u001b[0m\u001b[0;34m\u001b[0m\u001b[0m\n",
          "\u001b[0;32m~/.local/lib/python3.8/site-packages/nbinteract/util.py\u001b[0m in \u001b[0;36mmaybe_call\u001b[0;34m(maybe_fn, kwargs, prefix)\u001b[0m\n\u001b[1;32m     31\u001b[0m \u001b[0;34m\u001b[0m\u001b[0m\n\u001b[1;32m     32\u001b[0m     \u001b[0margs\u001b[0m \u001b[0;34m=\u001b[0m \u001b[0mget_fn_args\u001b[0m\u001b[0;34m(\u001b[0m\u001b[0mmaybe_fn\u001b[0m\u001b[0;34m,\u001b[0m \u001b[0mkwargs\u001b[0m\u001b[0;34m,\u001b[0m \u001b[0mprefix\u001b[0m\u001b[0;34m=\u001b[0m\u001b[0mprefix\u001b[0m\u001b[0;34m)\u001b[0m\u001b[0;34m\u001b[0m\u001b[0;34m\u001b[0m\u001b[0m\n\u001b[0;32m---> 33\u001b[0;31m     \u001b[0;32mreturn\u001b[0m \u001b[0mmaybe_fn\u001b[0m\u001b[0;34m(\u001b[0m\u001b[0;34m**\u001b[0m\u001b[0margs\u001b[0m\u001b[0;34m)\u001b[0m\u001b[0;34m\u001b[0m\u001b[0;34m\u001b[0m\u001b[0m\n\u001b[0m\u001b[1;32m     34\u001b[0m \u001b[0;34m\u001b[0m\u001b[0m\n\u001b[1;32m     35\u001b[0m \u001b[0;34m\u001b[0m\u001b[0m\n",
          "\u001b[0;32m<ipython-input-4-639b1e3172b6>\u001b[0m in \u001b[0;36mhist_response_function\u001b[0;34m(mean, sd, size)\u001b[0m\n\u001b[1;32m      4\u001b[0m     \u001b[0mdistribution\u001b[0m \u001b[0;32mwith\u001b[0m \u001b[0mthe\u001b[0m \u001b[0mmean\u001b[0m \u001b[0;32mand\u001b[0m \u001b[0mSD\u001b[0m \u001b[0mgiven\u001b[0m\u001b[0;34m.\u001b[0m\u001b[0;34m\u001b[0m\u001b[0;34m\u001b[0m\u001b[0m\n\u001b[1;32m      5\u001b[0m     '''\n\u001b[0;32m----> 6\u001b[0;31m     \u001b[0;32mreturn\u001b[0m \u001b[0mnp\u001b[0m\u001b[0;34m.\u001b[0m\u001b[0mrandom\u001b[0m\u001b[0;34m.\u001b[0m\u001b[0mnormal\u001b[0m\u001b[0;34m(\u001b[0m\u001b[0mloc\u001b[0m\u001b[0;34m=\u001b[0m\u001b[0mmean\u001b[0m\u001b[0;34m,\u001b[0m \u001b[0mscale\u001b[0m\u001b[0;34m=\u001b[0m\u001b[0msd\u001b[0m\u001b[0;34m,\u001b[0m \u001b[0msize\u001b[0m\u001b[0;34m=\u001b[0m\u001b[0;36m1000\u001b[0m\u001b[0;34m)\u001b[0m\u001b[0;34m\u001b[0m\u001b[0;34m\u001b[0m\u001b[0m\n\u001b[0m",
          "\u001b[0;31mNameError\u001b[0m: name 'np' is not defined"
         ]
        }
       ]
      }
     },
     "df6b6b1d4aad4acba06b583791c87f85": {
      "model_module": "bqplot",
      "model_module_version": "^0.4.0",
      "model_name": "LinearScaleModel",
      "state": {
       "stabilized": false
      }
     },
     "dfea743c259d4e1085fbbfb34018471b": {
      "model_module": "bqplot",
      "model_module_version": "^0.4.0",
      "model_name": "LinesModel",
      "state": {
       "color": {
        "type": null,
        "values": null
       },
       "colors": [
        "#475A77"
       ],
       "display_legend": false,
       "fill_colors": [],
       "scales": {
        "x": "IPY_MODEL_6182cca704c8499bb63384a007c4e9e9",
        "y": "IPY_MODEL_77cc3a7ca2244fdfbeea7635f9cbddc4"
       },
       "selected": [],
       "x": {
        "type": "float",
        "values": []
       },
       "y": {
        "type": "float",
        "values": []
       }
      }
     },
     "e0caa637fada43bba009fe0cf2d0713a": {
      "model_module": "@jupyter-widgets/controls",
      "model_module_version": "1.5.0",
      "model_name": "VBoxModel",
      "state": {
       "children": [
        "IPY_MODEL_53bcec498c9e4551874e73569ab44c25",
        "IPY_MODEL_2b9b0b28d1274c3db86ce8bed842909e"
       ],
       "layout": "IPY_MODEL_35ecd1daf6e647a2b0494f96bd0f0def"
      }
     },
     "e0f2c27d87834abb854625aab26bd239": {
      "model_module": "bqplot",
      "model_module_version": "^0.4.0",
      "model_name": "LinearScaleModel",
      "state": {
       "stabilized": false
      }
     },
     "e10cf81888b94a0994a1e6b02d4053a1": {
      "model_module": "bqplot",
      "model_module_version": "^0.4.0",
      "model_name": "LinesModel",
      "state": {
       "color": {
        "type": null,
        "values": null
       },
       "colors": [
        "#475A77"
       ],
       "display_legend": false,
       "fill_colors": [],
       "labels": [
        "C1"
       ],
       "scales": {
        "x": "IPY_MODEL_b57d101e07fa46a68c80b99022f7ad33",
        "y": "IPY_MODEL_58f7687e30fb4fdcafc353bf6e69f5ab"
       },
       "selected": [],
       "x": {
        "type": "float",
        "values": [
         1,
         2,
         3
        ]
       },
       "y": {
        "type": "float",
        "values": [
         18,
         1,
         70
        ]
       }
      }
     },
     "e136dd172bb74f7eac8d7692779cd69e": {
      "model_module": "@jupyter-widgets/controls",
      "model_module_version": "1.5.0",
      "model_name": "FloatSliderModel",
      "state": {
       "description": "sd",
       "layout": "IPY_MODEL_7339b121941744539b655de78f0a5ac5",
       "max": 2,
       "step": 0.2,
       "style": "IPY_MODEL_199ae9bd3d724596b192b54df3e1198f",
       "value": 1
      }
     },
     "e14f40ebc32a4a8eba7cdc67dff94196": {
      "model_module": "@jupyter-widgets/base",
      "model_module_version": "1.2.0",
      "model_name": "LayoutModel",
      "state": {}
     },
     "e17caa4d43bf40fc89db2e49a6194d4a": {
      "model_module": "bqplot",
      "model_module_version": "^0.4.0",
      "model_name": "AxisModel",
      "state": {
       "orientation": "vertical",
       "scale": "IPY_MODEL_cc0e8eab92164155b9e29e72e5822f3e",
       "side": "left",
       "tick_values": {
        "type": null,
        "values": null
       }
      }
     },
     "e185455bec164c9b9b9998ec42f6f1fb": {
      "model_module": "bqplot",
      "model_module_version": "^0.4.0",
      "model_name": "FigureModel",
      "state": {
       "_dom_classes": [],
       "axes": [
        "IPY_MODEL_010ea916ec064d9baceb2adf76b9529d",
        "IPY_MODEL_ee9059ee2f874eedb412cafec13de01d"
       ],
       "layout": "IPY_MODEL_1a058fac9a9548cb83422c01782e0314",
       "marks": [
        "IPY_MODEL_621b617b27024860943f6ac3d93d271f"
       ],
       "max_aspect_ratio": 6,
       "scale_x": "IPY_MODEL_dc9ce1aeb50d41a99f54b1b469c469c6",
       "scale_y": "IPY_MODEL_4566e9b6ef8148b5ac36bf1a54679b34"
      }
     },
     "e19c68261fc84362b4623373103eeb04": {
      "model_module": "bqplot",
      "model_module_version": "^0.4.0",
      "model_name": "LinesModel",
      "state": {
       "color": {
        "type": null,
        "values": null
       },
       "colors": [
        "#475A77"
       ],
       "display_legend": false,
       "fill_colors": [],
       "labels": [
        "C1"
       ],
       "scales": {
        "x": "IPY_MODEL_081b1f0862b24b67b429e0aad4adf76f",
        "y": "IPY_MODEL_87668da53113406790b3368975892c68"
       },
       "selected": [],
       "x": {
        "type": "float",
        "values": [
         1,
         2,
         3
        ]
       },
       "y": {
        "type": "float",
        "values": [
         22,
         5,
         98
        ]
       }
      }
     },
     "e200b77366a743d9a2794f605b8e6b13": {
      "model_module": "@jupyter-widgets/controls",
      "model_module_version": "1.5.0",
      "model_name": "VBoxModel",
      "state": {
       "_dom_classes": [
        "widget-interact"
       ],
       "children": [
        "IPY_MODEL_e41c476f95fd4fd38398a5b1dd704e53"
       ],
       "layout": "IPY_MODEL_c57c16c2e6634911b4bc5d1ef7708078"
      }
     },
     "e242f266864b4ee9b3b92c93695fadfe": {
      "model_module": "@jupyter-widgets/controls",
      "model_module_version": "1.5.0",
      "model_name": "IntSliderModel",
      "state": {
       "description": "x",
       "layout": "IPY_MODEL_49c21a2504b443cbabc140addd2a4fe8",
       "max": 30,
       "min": -10,
       "style": "IPY_MODEL_02d72fdd4ac04bf186151763bb6afa72",
       "value": 10
      }
     },
     "e261ce9c9e9b4b6fae84cf3e76e8baaf": {
      "model_module": "@jupyter-widgets/controls",
      "model_module_version": "1.5.0",
      "model_name": "VBoxModel",
      "state": {
       "children": [
        "IPY_MODEL_452b67f3781f4f55a48bdd64f20184af",
        "IPY_MODEL_d2fa726150ad4b70b55fdd2069f8c886"
       ],
       "layout": "IPY_MODEL_86088610e4d640f0970fd013f78d2e76"
      }
     },
     "e282cfbecaa0420894418867544b9bd1": {
      "model_module": "@jupyter-widgets/base",
      "model_module_version": "1.2.0",
      "model_name": "LayoutModel",
      "state": {
       "min_width": "125px"
      }
     },
     "e28a6521b03e4978b754801020408440": {
      "model_module": "bqplot",
      "model_module_version": "^0.4.0",
      "model_name": "LinearScaleModel",
      "state": {
       "allow_padding": false,
       "max": 1,
       "min": 0,
       "stabilized": false
      }
     },
     "e2af2751730d4852b9341f4be8a6e4db": {
      "model_module": "@jupyter-widgets/base",
      "model_module_version": "1.2.0",
      "model_name": "LayoutModel",
      "state": {}
     },
     "e2db075da17c4c4694a11b64b64bff03": {
      "model_module": "@jupyter-widgets/controls",
      "model_module_version": "1.5.0",
      "model_name": "VBoxModel",
      "state": {
       "_dom_classes": [
        "widget-interact"
       ],
       "children": [
        "IPY_MODEL_27a44b9bab3b451cb8a699efecdf848e",
        "IPY_MODEL_4b9ccd8afb1a49f09e1bba42ed3c8c8c",
        "IPY_MODEL_4feb6063ece34e809fa6f3cdce13846f",
        "IPY_MODEL_b2bcd0605e2f4090a6ceeff071090ced"
       ],
       "layout": "IPY_MODEL_d986a1159fa64b17995123d692096f40"
      }
     },
     "e2e2e9b587b64af49bb6170752f1b7e9": {
      "model_module": "bqplot",
      "model_module_version": "^0.4.0",
      "model_name": "LinesModel",
      "state": {
       "color": {
        "type": null,
        "values": null
       },
       "colors": [
        "#475A77"
       ],
       "display_legend": false,
       "fill_colors": [],
       "labels": [
        "C1"
       ],
       "scales": {
        "x": "IPY_MODEL_1707ef0c6fb2475ebc6d68dbe5a228d3",
        "y": "IPY_MODEL_55e198bbc2584faa98e60bf34346c046"
       },
       "selected": [],
       "x": {
        "type": "float",
        "values": [
         1,
         2,
         3
        ]
       },
       "y": {
        "type": "float",
        "values": [
         11,
         -6,
         21
        ]
       }
      }
     },
     "e2e916de8eeb418c960574569ac41648": {
      "model_module": "bqplot",
      "model_module_version": "^0.4.0",
      "model_name": "AxisModel",
      "state": {
       "scale": "IPY_MODEL_d8692be554364e52b2a2885d9a4a4ca6",
       "side": "bottom",
       "tick_values": {
        "type": null,
        "values": null
       }
      }
     },
     "e2ed352ae4a4491fabde8a13211e62b8": {
      "model_module": "bqplot",
      "model_module_version": "^0.4.0",
      "model_name": "AxisModel",
      "state": {
       "orientation": "vertical",
       "scale": "IPY_MODEL_43689ff8ee4547389e7999e21103c1ab",
       "side": "left",
       "tick_values": {
        "type": null,
        "values": null
       }
      }
     },
     "e3014ebf514f4806978ac723255d2f2e": {
      "model_module": "@jupyter-widgets/controls",
      "model_module_version": "1.5.0",
      "model_name": "IntSliderModel",
      "state": {
       "description": "x",
       "layout": "IPY_MODEL_997cf849bb4e4e93ad2c332e6f5a6c18",
       "max": 30,
       "min": -10,
       "style": "IPY_MODEL_f8c3b3f46c2f44f8bd292da1de93a85d",
       "value": 7
      }
     },
     "e314de4654044bd9a78f193b1cdfdc73": {
      "model_module": "bqplot",
      "model_module_version": "^0.4.0",
      "model_name": "LinearScaleModel",
      "state": {
       "stabilized": false
      }
     },
     "e31e91f32eea411fa4bfea9e3c632a93": {
      "model_module": "bqplot",
      "model_module_version": "^0.4.0",
      "model_name": "AxisModel",
      "state": {
       "orientation": "vertical",
       "scale": "IPY_MODEL_a99fb95c37bd43a998e55da510646a63",
       "side": "left",
       "tick_values": {
        "type": null,
        "values": null
       }
      }
     },
     "e35286bb97844aa59ce7a3a02d6a2256": {
      "model_module": "@jupyter-widgets/base",
      "model_module_version": "1.2.0",
      "model_name": "LayoutModel",
      "state": {}
     },
     "e3a76847e4684fa1b9a06320b92669ab": {
      "model_module": "@jupyter-widgets/base",
      "model_module_version": "1.2.0",
      "model_name": "LayoutModel",
      "state": {}
     },
     "e3f947e128e2429983bc1d95af1ef98e": {
      "model_module": "@jupyter-widgets/controls",
      "model_module_version": "1.5.0",
      "model_name": "VBoxModel",
      "state": {
       "children": [
        "IPY_MODEL_ea26e84dcc9f49bbba1ff94cbccb02e5",
        "IPY_MODEL_77519b1963c94b7eb5acdf74a74d7d38"
       ],
       "layout": "IPY_MODEL_581f09304efe46788c433fa8a5da027a"
      }
     },
     "e40afb867db2497b8489ee6cdd22fdd3": {
      "model_module": "bqplot",
      "model_module_version": "^0.4.0",
      "model_name": "FigureModel",
      "state": {
       "_dom_classes": [],
       "axes": [
        "IPY_MODEL_7569a903f5e84dd9ba1fb7da3c6e783d",
        "IPY_MODEL_2c67bd7174084155b56236fada8dad5c"
       ],
       "layout": "IPY_MODEL_07dab7f6c9b24895a0763d5b0d476d5c",
       "marks": [
        "IPY_MODEL_e2e2e9b587b64af49bb6170752f1b7e9"
       ],
       "max_aspect_ratio": 6,
       "scale_x": "IPY_MODEL_89555df67676433ab4dbe853e2e2f122",
       "scale_y": "IPY_MODEL_880d26f7dfee42fcaa8845e27e75bea1"
      }
     },
     "e41c476f95fd4fd38398a5b1dd704e53": {
      "model_module": "@jupyter-widgets/output",
      "model_module_version": "1.0.0",
      "model_name": "OutputModel",
      "state": {
       "layout": "IPY_MODEL_46334ca5d3994db2af3da07520aaab43"
      }
     },
     "e454bb72b8c5406c9f69338180c0229e": {
      "model_module": "@jupyter-widgets/base",
      "model_module_version": "1.2.0",
      "model_name": "LayoutModel",
      "state": {}
     },
     "e487317701f04fceb05a71fae74857f4": {
      "model_module": "bqplot",
      "model_module_version": "^0.4.0",
      "model_name": "LinearScaleModel",
      "state": {
       "stabilized": false
      }
     },
     "e48dde1c37054c9b89b2017556cb374e": {
      "model_module": "@jupyter-widgets/base",
      "model_module_version": "1.2.0",
      "model_name": "LayoutModel",
      "state": {
       "min_width": "125px"
      }
     },
     "e49846a7163c4049a4d84d122dccdb33": {
      "model_module": "bqplot",
      "model_module_version": "^0.4.0",
      "model_name": "LinearScaleModel",
      "state": {
       "stabilized": false
      }
     },
     "e4b19751ddaa4037b72cabf06b69dc19": {
      "model_module": "@jupyter-widgets/base",
      "model_module_version": "1.2.0",
      "model_name": "LayoutModel",
      "state": {}
     },
     "e4d5ff4e176646d9bab41bdbdf344993": {
      "model_module": "@jupyter-widgets/base",
      "model_module_version": "1.2.0",
      "model_name": "LayoutModel",
      "state": {}
     },
     "e51de8ed60884631b259a04759db00f2": {
      "model_module": "@jupyter-widgets/controls",
      "model_module_version": "1.5.0",
      "model_name": "VBoxModel",
      "state": {
       "children": [
        "IPY_MODEL_8267bcc3187a423b9c66e7ff0d18ce84",
        "IPY_MODEL_ffa5a01eb242474092425fe73b9e0f35"
       ],
       "layout": "IPY_MODEL_384a03c8e22e4d8bbcc3c507b9629b90"
      }
     },
     "e552803f5db544eb8e30d4abb88f557e": {
      "model_module": "bqplot",
      "model_module_version": "^0.4.0",
      "model_name": "LinesModel",
      "state": {
       "color": {
        "type": null,
        "values": null
       },
       "colors": [
        "#475A77"
       ],
       "display_legend": false,
       "fill_colors": [],
       "labels": [
        "C1"
       ],
       "scales": {
        "x": "IPY_MODEL_42a11db0c92041c8831d58b098dc9c49",
        "y": "IPY_MODEL_367b9d34fd1c4f82b03595076e320673"
       },
       "selected": [],
       "x": {
        "type": "float",
        "values": [
         1,
         2,
         3
        ]
       },
       "y": {
        "type": "float",
        "values": [
         4,
         -13,
         -28
        ]
       }
      }
     },
     "e59512b48f2e4747ab4dabc24c5d059e": {
      "model_module": "bqplot",
      "model_module_version": "^0.4.0",
      "model_name": "LinearScaleModel",
      "state": {
       "allow_padding": false,
       "max": 1,
       "min": 0,
       "stabilized": false
      }
     },
     "e6408c8fd5ca40a0b39ade86071f2e63": {
      "model_module": "@jupyter-widgets/base",
      "model_module_version": "1.2.0",
      "model_name": "LayoutModel",
      "state": {}
     },
     "e669a1949e8c49a8a039d969f76a0aad": {
      "model_module": "@jupyter-widgets/controls",
      "model_module_version": "1.5.0",
      "model_name": "VBoxModel",
      "state": {
       "_dom_classes": [
        "widget-interact"
       ],
       "children": [
        "IPY_MODEL_9164a7fcf34949b28780feeeb2409746"
       ],
       "layout": "IPY_MODEL_e4b19751ddaa4037b72cabf06b69dc19"
      }
     },
     "e6b76ff298ae41f38196ae289d43ec32": {
      "model_module": "@jupyter-widgets/controls",
      "model_module_version": "1.5.0",
      "model_name": "IntSliderModel",
      "state": {
       "description": "x",
       "layout": "IPY_MODEL_56e9ba433b5043d4bdafe2fb6ebd0558",
       "max": 30,
       "min": -10,
       "style": "IPY_MODEL_b4a654dbf14c4ec19b454f103bd8f1ad",
       "value": 24
      }
     },
     "e6bcf82260564664ba9c0ac7abaf4012": {
      "model_module": "bqplot",
      "model_module_version": "^0.4.0",
      "model_name": "LinearScaleModel",
      "state": {
       "allow_padding": false,
       "max": 1,
       "min": 0,
       "stabilized": false
      }
     },
     "e6c3485b07bf475b946cfd558d333c9b": {
      "model_module": "@jupyter-widgets/base",
      "model_module_version": "1.2.0",
      "model_name": "LayoutModel",
      "state": {}
     },
     "e6d674f8e7ba4f26a3a4a291eedf1d3f": {
      "model_module": "bqplot",
      "model_module_version": "^0.4.0",
      "model_name": "FigureModel",
      "state": {
       "_dom_classes": [],
       "axes": [
        "IPY_MODEL_54c2b5c54e2348ea99bed2515e71d8d9",
        "IPY_MODEL_43244472efc949a2ae7208bae5c1371e"
       ],
       "layout": "IPY_MODEL_b414df7e4bfe42218764caed8abbd6ac",
       "marks": [
        "IPY_MODEL_a449e6b8dc414103baf5dcd101b2c79f"
       ],
       "max_aspect_ratio": 6,
       "scale_x": "IPY_MODEL_daaa7f82d95d49c19e91d52b5db98dc9",
       "scale_y": "IPY_MODEL_3fc9e159978d4fd2b95aafb77ac9f30c"
      }
     },
     "e70c1a71b89442dc8c4e63ff9d463eef": {
      "model_module": "@jupyter-widgets/controls",
      "model_module_version": "1.5.0",
      "model_name": "VBoxModel",
      "state": {
       "children": [
        "IPY_MODEL_7c4f569a92664d89bd10832ebd39a9ea",
        "IPY_MODEL_b543a533cd8744beb94194673c34a38b"
       ],
       "layout": "IPY_MODEL_f4bdb12d26504be192f9c9c05b8b2646"
      }
     },
     "e7405479a6264d8391286277d4ab871a": {
      "model_module": "bqplot",
      "model_module_version": "^0.4.0",
      "model_name": "AxisModel",
      "state": {
       "scale": "IPY_MODEL_7841f6d518b946488c89013aa61d0a66",
       "side": "bottom",
       "tick_values": {
        "type": null,
        "values": null
       }
      }
     },
     "e748a4eaa459423ba156aab522dd4ebd": {
      "model_module": "bqplot",
      "model_module_version": "^0.4.0",
      "model_name": "FigureModel",
      "state": {
       "_dom_classes": [],
       "axes": [
        "IPY_MODEL_e7405479a6264d8391286277d4ab871a",
        "IPY_MODEL_82fb9d82245f40879043d2e79a9cc463"
       ],
       "layout": "IPY_MODEL_ccf9d00cda89420b853defb35f9f83e9",
       "marks": [
        "IPY_MODEL_0bd5f15639304b7db3457f09145268e4"
       ],
       "max_aspect_ratio": 6,
       "scale_x": "IPY_MODEL_d5cd58be53c64b968f9ee161cb35be07",
       "scale_y": "IPY_MODEL_0c08f681cf7e45dfbcc5985de69bb3a9"
      }
     },
     "e74b2b907441468bafe54d2dd58f0256": {
      "model_module": "bqplot",
      "model_module_version": "^0.4.0",
      "model_name": "LinearScaleModel",
      "state": {
       "allow_padding": false,
       "max": 1,
       "min": 0,
       "stabilized": false
      }
     },
     "e7900db4e9eb47daa61a0f1df1897a92": {
      "model_module": "@jupyter-widgets/base",
      "model_module_version": "1.2.0",
      "model_name": "LayoutModel",
      "state": {
       "min_width": "125px"
      }
     },
     "e7940a5df8d449328ca07e436374cf6c": {
      "model_module": "bqplot",
      "model_module_version": "^0.4.0",
      "model_name": "LinearScaleModel",
      "state": {
       "stabilized": false
      }
     },
     "e7a42f4bb31e48efb0fe9eeca074f089": {
      "model_module": "bqplot",
      "model_module_version": "^0.4.0",
      "model_name": "AxisModel",
      "state": {
       "scale": "IPY_MODEL_6182cca704c8499bb63384a007c4e9e9",
       "side": "bottom",
       "tick_values": {
        "type": null,
        "values": null
       }
      }
     },
     "e7ce86840c30444fa1c73c7350236eb0": {
      "model_module": "@jupyter-widgets/controls",
      "model_module_version": "1.5.0",
      "model_name": "VBoxModel",
      "state": {
       "children": [
        "IPY_MODEL_50031851f6354b1682e704fea09a6b17",
        "IPY_MODEL_e6d674f8e7ba4f26a3a4a291eedf1d3f"
       ],
       "layout": "IPY_MODEL_a218cb7223a44771800b35b5480e2d4e"
      }
     },
     "e7d7fc5602664b358888442b50731d20": {
      "model_module": "@jupyter-widgets/base",
      "model_module_version": "1.2.0",
      "model_name": "LayoutModel",
      "state": {}
     },
     "e7e552b3ca2b4a9aa035aa57f8abe08a": {
      "model_module": "bqplot",
      "model_module_version": "^0.4.0",
      "model_name": "LinearScaleModel",
      "state": {
       "stabilized": false
      }
     },
     "e8517e3c7aa840e781931a705d2ce57a": {
      "model_module": "@jupyter-widgets/controls",
      "model_module_version": "1.5.0",
      "model_name": "VBoxModel",
      "state": {
       "children": [
        "IPY_MODEL_804df1da2a194f4dbb30b7092586fa8c",
        "IPY_MODEL_89e3359f53d84b7c8f2baaf31486f070"
       ],
       "layout": "IPY_MODEL_2a49e45d183a46e38a895c9d1e0cf536"
      }
     },
     "e87076d1c01046d295a63b4bf0354015": {
      "model_module": "bqplot",
      "model_module_version": "^0.4.0",
      "model_name": "AxisModel",
      "state": {
       "scale": "IPY_MODEL_d371e3eb55084028b7580beb0eb1a16e",
       "side": "bottom",
       "tick_values": {
        "type": null,
        "values": null
       }
      }
     },
     "e8a273bcf0904d9dbacee7e5949bf125": {
      "model_module": "bqplot",
      "model_module_version": "^0.4.0",
      "model_name": "FigureModel",
      "state": {
       "_dom_classes": [],
       "axes": [
        "IPY_MODEL_eb1990789c5b4bafbc01a6ecabaabf5a",
        "IPY_MODEL_3412e1a142254b48873b2ada42e99d5e"
       ],
       "layout": "IPY_MODEL_58e1963edc3141398dcaa812bc3574e6",
       "marks": [
        "IPY_MODEL_400d1756f6f04ff5b13d4612e9126fee"
       ],
       "max_aspect_ratio": 6,
       "scale_x": "IPY_MODEL_da3d0ca7e7c04c2e98f3d519d734f5a2",
       "scale_y": "IPY_MODEL_1e7fef29309c41809529b15bae8e7fbd"
      }
     },
     "e8a436190ad542d1afab396a1e149edd": {
      "model_module": "@jupyter-widgets/base",
      "model_module_version": "1.2.0",
      "model_name": "LayoutModel",
      "state": {}
     },
     "e8ad80280371414da7fb79acb26b74b4": {
      "model_module": "bqplot",
      "model_module_version": "^0.4.0",
      "model_name": "LinearScaleModel",
      "state": {
       "allow_padding": false,
       "max": 1,
       "min": 0,
       "stabilized": false
      }
     },
     "e8d28125352b49c38a6c9522d8413429": {
      "model_module": "@jupyter-widgets/controls",
      "model_module_version": "1.5.0",
      "model_name": "VBoxModel",
      "state": {
       "children": [
        "IPY_MODEL_268245765f8641e9b7ccfe9ce857182c",
        "IPY_MODEL_4e0881137db7462f8ebb7c05ecf6f358"
       ],
       "layout": "IPY_MODEL_5da47046293d49ababd4943ad594cadd"
      }
     },
     "e8d4e1c00a174cebb73654382a8d1e9e": {
      "model_module": "@jupyter-widgets/base",
      "model_module_version": "1.2.0",
      "model_name": "LayoutModel",
      "state": {}
     },
     "e8d558e7d13a4dd0823e3f854cc62fe9": {
      "model_module": "@jupyter-widgets/controls",
      "model_module_version": "1.5.0",
      "model_name": "VBoxModel",
      "state": {
       "_dom_classes": [
        "widget-interact"
       ],
       "children": [
        "IPY_MODEL_27d5ed5ee52e456c9bd3523e4f7bfb8f"
       ],
       "layout": "IPY_MODEL_bdcff42f3c1e47cd977eb426bb85302b"
      }
     },
     "e902e56e52ac4b49bbce2fdc548b09a0": {
      "model_module": "bqplot",
      "model_module_version": "^0.4.0",
      "model_name": "LinesModel",
      "state": {
       "color": {
        "type": null,
        "values": null
       },
       "colors": [
        "#475A77"
       ],
       "display_legend": false,
       "fill_colors": [],
       "scales": {
        "x": "IPY_MODEL_b0f871b8a40d47e69664ce0d0d665e39",
        "y": "IPY_MODEL_16d87dbe23f044cebd6dad35ac815751"
       },
       "selected": [],
       "x": {
        "type": "float",
        "values": []
       },
       "y": {
        "type": "float",
        "values": []
       }
      }
     },
     "e94e99985e3b4ba8990641064d7f1b36": {
      "model_module": "@jupyter-widgets/base",
      "model_module_version": "1.2.0",
      "model_name": "LayoutModel",
      "state": {
       "min_width": "125px"
      }
     },
     "e951ce1881704ee0a3d76979585e6fdc": {
      "model_module": "bqplot",
      "model_module_version": "^0.4.0",
      "model_name": "LinesModel",
      "state": {
       "color": {
        "type": null,
        "values": null
       },
       "colors": [
        "#475A77"
       ],
       "display_legend": false,
       "fill_colors": [],
       "scales": {
        "x": "IPY_MODEL_ac8d3a9f4d6445459e6a09bdc8a516fa",
        "y": "IPY_MODEL_4c9b24e1c3844582a1def3bdceb0af57"
       },
       "selected": [],
       "x": {
        "type": "float",
        "values": []
       },
       "y": {
        "type": "float",
        "values": []
       }
      }
     },
     "e97ad47c78ec4c5bad35a7bf519fc9b4": {
      "model_module": "bqplot",
      "model_module_version": "^0.4.0",
      "model_name": "LinearScaleModel",
      "state": {
       "stabilized": false
      }
     },
     "e97e542814ac4682b991023ef44aa2c0": {
      "model_module": "@jupyter-widgets/base",
      "model_module_version": "1.2.0",
      "model_name": "LayoutModel",
      "state": {}
     },
     "e98b4fa67f3b4c139e923627952ae40a": {
      "model_module": "bqplot",
      "model_module_version": "^0.4.0",
      "model_name": "LinesModel",
      "state": {
       "color": {
        "type": null,
        "values": null
       },
       "colors": [
        "#475A77"
       ],
       "display_legend": false,
       "fill_colors": [],
       "labels": [
        "C1"
       ],
       "scales": {
        "x": "IPY_MODEL_0eee15fc830a4bb2b8b6aad6d06bd4cb",
        "y": "IPY_MODEL_0d2f00c5134e4312b08c07edfeebe208"
       },
       "selected": [],
       "x": {
        "type": "float",
        "values": [
         1,
         2,
         3
        ]
       },
       "y": {
        "type": "float",
        "values": [
         14,
         -3,
         42
        ]
       }
      }
     },
     "e9d0917ecfa64037876f3e7570a38cf8": {
      "model_module": "@jupyter-widgets/base",
      "model_module_version": "1.2.0",
      "model_name": "LayoutModel",
      "state": {}
     },
     "e9f7e31dff1648cb955bbcd3ea7664b5": {
      "model_module": "bqplot",
      "model_module_version": "^0.4.0",
      "model_name": "LinearScaleModel",
      "state": {
       "stabilized": false
      }
     },
     "ea26e84dcc9f49bbba1ff94cbccb02e5": {
      "model_module": "@jupyter-widgets/controls",
      "model_module_version": "1.5.0",
      "model_name": "VBoxModel",
      "state": {
       "_dom_classes": [
        "widget-interact"
       ],
       "children": [
        "IPY_MODEL_d6db6ec132914bd8986d6096b9f051d3"
       ],
       "layout": "IPY_MODEL_eeadc11537354fd7bc1eff3ad3db5400"
      }
     },
     "ea684f8c59674adb963849e4c39543b3": {
      "model_module": "@jupyter-widgets/base",
      "model_module_version": "1.2.0",
      "model_name": "LayoutModel",
      "state": {}
     },
     "ea699396154e4ee0b45e083e3c8868eb": {
      "model_module": "bqplot",
      "model_module_version": "^0.4.0",
      "model_name": "LinearScaleModel",
      "state": {
       "stabilized": false
      }
     },
     "ea9774f75bb94c51b5022924a55939ef": {
      "model_module": "bqplot",
      "model_module_version": "^0.4.0",
      "model_name": "LinesModel",
      "state": {
       "color": {
        "type": null,
        "values": null
       },
       "colors": [
        "#475A77"
       ],
       "display_legend": false,
       "fill_colors": [],
       "labels": [
        "C1"
       ],
       "scales": {
        "x": "IPY_MODEL_c87c4ff3b40640d08db5e6c885fcc0a7",
        "y": "IPY_MODEL_d3d05876584046829ffd29c9a1a0aa58"
       },
       "selected": [],
       "x": {
        "type": "float",
        "values": [
         1,
         2,
         3
        ]
       },
       "y": {
        "type": "float",
        "values": [
         32,
         15,
         168
        ]
       }
      }
     },
     "ead891eed0b14a36bb6ce2bf78ad052f": {
      "model_module": "bqplot",
      "model_module_version": "^0.4.0",
      "model_name": "LinearScaleModel",
      "state": {
       "allow_padding": false,
       "max": 1,
       "min": 0,
       "stabilized": false
      }
     },
     "eb04b47e9f1341eda4d291f24e7913df": {
      "model_module": "@jupyter-widgets/controls",
      "model_module_version": "1.5.0",
      "model_name": "VBoxModel",
      "state": {
       "_dom_classes": [
        "widget-interact"
       ],
       "children": [
        "IPY_MODEL_b7514857b49648dbbbc1ae1382d32775",
        "IPY_MODEL_e136dd172bb74f7eac8d7692779cd69e",
        "IPY_MODEL_df54e95a29344727a879e80a4f364ddb"
       ],
       "layout": "IPY_MODEL_757699191e7b4f9d800732110e95fdef"
      }
     },
     "eb1990789c5b4bafbc01a6ecabaabf5a": {
      "model_module": "bqplot",
      "model_module_version": "^0.4.0",
      "model_name": "AxisModel",
      "state": {
       "scale": "IPY_MODEL_2b8f0150f2294b7b859a39ff6517e38e",
       "side": "bottom",
       "tick_values": {
        "type": null,
        "values": null
       }
      }
     },
     "eb281eab22bc4690addb981148a946b0": {
      "model_module": "@jupyter-widgets/base",
      "model_module_version": "1.2.0",
      "model_name": "LayoutModel",
      "state": {}
     },
     "eb51eeeccbe748ccb4e258f6b9899a35": {
      "model_module": "@jupyter-widgets/base",
      "model_module_version": "1.2.0",
      "model_name": "LayoutModel",
      "state": {}
     },
     "eb553eacf52b48c1888099e2a45d05c9": {
      "model_module": "bqplot",
      "model_module_version": "^0.4.0",
      "model_name": "LinearScaleModel",
      "state": {
       "stabilized": false
      }
     },
     "eb58a41f90564997b2df7a0bd1e380bd": {
      "model_module": "bqplot",
      "model_module_version": "^0.4.0",
      "model_name": "AxisModel",
      "state": {
       "scale": "IPY_MODEL_e7e552b3ca2b4a9aa035aa57f8abe08a",
       "side": "bottom",
       "tick_values": {
        "type": null,
        "values": null
       }
      }
     },
     "eb80f19f6e544422bf8f8824ed84dcef": {
      "model_module": "bqplot",
      "model_module_version": "^0.4.0",
      "model_name": "LinearScaleModel",
      "state": {
       "allow_padding": false,
       "max": 1,
       "min": 0,
       "stabilized": false
      }
     },
     "eba9aff226c845bf83e523a5d89a5fa8": {
      "model_module": "bqplot",
      "model_module_version": "^0.4.0",
      "model_name": "AxisModel",
      "state": {
       "orientation": "vertical",
       "scale": "IPY_MODEL_e0f2c27d87834abb854625aab26bd239",
       "side": "left",
       "tick_values": {
        "type": null,
        "values": null
       }
      }
     },
     "ec1f83813a424319b5800566463f1ac7": {
      "model_module": "bqplot",
      "model_module_version": "^0.4.0",
      "model_name": "FigureModel",
      "state": {
       "_dom_classes": [],
       "axes": [
        "IPY_MODEL_a5132fca5a634361a73e852edb0d837f",
        "IPY_MODEL_53e69e498eed4c5c9f4d82e7c0fb3319"
       ],
       "layout": "IPY_MODEL_49073e614190470cb16fa9deb33aedcd",
       "marks": [
        "IPY_MODEL_aa1beb33d3114fc3b52b8ffe88378f5a"
       ],
       "max_aspect_ratio": 6,
       "scale_x": "IPY_MODEL_71356d14f3c94c9b82d07720c0914c77",
       "scale_y": "IPY_MODEL_8f9c9796db044f7aa9c31254ac15b233"
      }
     },
     "ec497653bae243a68ae2deb09018deb2": {
      "model_module": "@jupyter-widgets/base",
      "model_module_version": "1.2.0",
      "model_name": "LayoutModel",
      "state": {}
     },
     "ec961734dc68445eaf444a0d79197eb6": {
      "model_module": "@jupyter-widgets/base",
      "model_module_version": "1.2.0",
      "model_name": "LayoutModel",
      "state": {}
     },
     "ec9d0030f204409899ed8f448c162de9": {
      "model_module": "@jupyter-widgets/base",
      "model_module_version": "1.2.0",
      "model_name": "LayoutModel",
      "state": {}
     },
     "ecc047368826434184c93eb5a26a7798": {
      "model_module": "bqplot",
      "model_module_version": "^0.4.0",
      "model_name": "LinesModel",
      "state": {
       "color": {
        "type": null,
        "values": null
       },
       "colors": [
        "#475A77"
       ],
       "display_legend": false,
       "fill_colors": [],
       "scales": {
        "x": "IPY_MODEL_63543ca825c1433f94a8561c73c60acc",
        "y": "IPY_MODEL_6fab775310814b62988bf2195c950bfd"
       },
       "selected": [],
       "x": {
        "type": "float",
        "values": []
       },
       "y": {
        "type": "float",
        "values": []
       }
      }
     },
     "ecca58c03257485496a7accacd18699e": {
      "model_module": "bqplot",
      "model_module_version": "^0.4.0",
      "model_name": "AxisModel",
      "state": {
       "scale": "IPY_MODEL_f6673cc58c8a4a5096cf62a0578ea6cf",
       "side": "bottom",
       "tick_values": {
        "type": null,
        "values": null
       }
      }
     },
     "ecebc0d531e44a9181a278a754e0afa4": {
      "model_module": "@jupyter-widgets/base",
      "model_module_version": "1.2.0",
      "model_name": "LayoutModel",
      "state": {
       "min_width": "125px"
      }
     },
     "ed30844e1ad34610835b361e2c3c91c9": {
      "model_module": "@jupyter-widgets/controls",
      "model_module_version": "1.5.0",
      "model_name": "VBoxModel",
      "state": {
       "_dom_classes": [
        "widget-interact"
       ],
       "children": [
        "IPY_MODEL_53649900b87f487e86ef0a1756ede853"
       ],
       "layout": "IPY_MODEL_1373571daac047c09ea9751d39e199a5"
      }
     },
     "ed5726a04f9c4edc853fde4d64e2d489": {
      "model_module": "@jupyter-widgets/base",
      "model_module_version": "1.2.0",
      "model_name": "LayoutModel",
      "state": {
       "min_width": "125px"
      }
     },
     "ed8af2cbc8d445e09a91617de86da272": {
      "model_module": "bqplot",
      "model_module_version": "^0.4.0",
      "model_name": "LinearScaleModel",
      "state": {
       "stabilized": false
      }
     },
     "ed96524b15c34118bf963abf056e9d0e": {
      "model_module": "@jupyter-widgets/base",
      "model_module_version": "1.2.0",
      "model_name": "LayoutModel",
      "state": {}
     },
     "edd464b49508435ab28afb94a637b1c2": {
      "model_module": "bqplot",
      "model_module_version": "^0.4.0",
      "model_name": "FigureModel",
      "state": {
       "_dom_classes": [],
       "axes": [
        "IPY_MODEL_717a1aee3e804db5a0b97afcd9af9156",
        "IPY_MODEL_106e97acd3724ccfae6be109f9580619"
       ],
       "layout": "IPY_MODEL_16c70f381c4641bb9518cf795f8ea54e",
       "marks": [
        "IPY_MODEL_e552803f5db544eb8e30d4abb88f557e"
       ],
       "max_aspect_ratio": 6,
       "scale_x": "IPY_MODEL_2a1f6687482c4726b31a9e302bb4f3db",
       "scale_y": "IPY_MODEL_cb9e89d846894ddb944c02b19c59de2d"
      }
     },
     "edd838953d8441c48eaa8b74ed1e8a4a": {
      "model_module": "bqplot",
      "model_module_version": "^0.4.0",
      "model_name": "LinearScaleModel",
      "state": {
       "stabilized": false
      }
     },
     "ee9059ee2f874eedb412cafec13de01d": {
      "model_module": "bqplot",
      "model_module_version": "^0.4.0",
      "model_name": "AxisModel",
      "state": {
       "orientation": "vertical",
       "scale": "IPY_MODEL_4ea7027ec2b04c1e864df071add399cb",
       "side": "left",
       "tick_values": {
        "type": null,
        "values": null
       }
      }
     },
     "eeadc11537354fd7bc1eff3ad3db5400": {
      "model_module": "@jupyter-widgets/base",
      "model_module_version": "1.2.0",
      "model_name": "LayoutModel",
      "state": {}
     },
     "eefe4307d41e42938e2759e29d583a70": {
      "model_module": "bqplot",
      "model_module_version": "^0.4.0",
      "model_name": "LinearScaleModel",
      "state": {
       "stabilized": false
      }
     },
     "ef560c9868374d138805e47a03163a29": {
      "model_module": "@jupyter-widgets/controls",
      "model_module_version": "1.5.0",
      "model_name": "VBoxModel",
      "state": {
       "children": [
        "IPY_MODEL_c704a271a37448e19e51d9635cc7e55f",
        "IPY_MODEL_90cffda2670943ddb029efb5fa5b1a97"
       ],
       "layout": "IPY_MODEL_d7ccf2e7261e4dd0be592da9118cf7bf"
      }
     },
     "ef803a0234e249fcbf87458af9ebb00a": {
      "model_module": "@jupyter-widgets/output",
      "model_module_version": "1.0.0",
      "model_name": "OutputModel",
      "state": {
       "layout": "IPY_MODEL_406d4687fa7f470f9ceaddc671afb139"
      }
     },
     "eff04990243c4f09abbac860d67a5a09": {
      "model_module": "@jupyter-widgets/output",
      "model_module_version": "1.0.0",
      "model_name": "OutputModel",
      "state": {
       "layout": "IPY_MODEL_dc0d6eb7b79b43959674e573cb169b73"
      }
     },
     "f023ac0e26ef4764940a500a9bbdae8d": {
      "model_module": "@jupyter-widgets/base",
      "model_module_version": "1.2.0",
      "model_name": "LayoutModel",
      "state": {}
     },
     "f05d4842fad44145acc63a584076f7c6": {
      "model_module": "bqplot",
      "model_module_version": "^0.4.0",
      "model_name": "LinearScaleModel",
      "state": {
       "allow_padding": false,
       "max": 1,
       "min": 0,
       "stabilized": false
      }
     },
     "f09938cc142d40759a0936ee12aeb173": {
      "model_module": "bqplot",
      "model_module_version": "^0.4.0",
      "model_name": "AxisModel",
      "state": {
       "orientation": "vertical",
       "scale": "IPY_MODEL_edd838953d8441c48eaa8b74ed1e8a4a",
       "side": "left",
       "tick_values": {
        "type": null,
        "values": null
       }
      }
     },
     "f0abd1d076124af187ef694c1386c6f8": {
      "model_module": "@jupyter-widgets/output",
      "model_module_version": "1.0.0",
      "model_name": "OutputModel",
      "state": {
       "layout": "IPY_MODEL_fb04ed9abea84c28aab7864cdb17bbd0",
       "outputs": [
        {
         "data": {
          "application/vnd.jupyter.widget-view+json": {
           "model_id": "6a8b8c59fc294ab6b30968dc06693c1f",
           "version_major": 2,
           "version_minor": 0
          },
          "text/plain": "VBox(children=(interactive(children=(Output(),), _dom_classes=('widget-interact',)), Figure(axes=[Axis(scale=L…"
         },
         "metadata": {},
         "output_type": "display_data"
        }
       ]
      }
     },
     "f167ba3e78d84293a983bb023bd22af5": {
      "model_module": "@jupyter-widgets/base",
      "model_module_version": "1.2.0",
      "model_name": "LayoutModel",
      "state": {}
     },
     "f1779eb3f8974f0b967b4a3b15406eb0": {
      "model_module": "bqplot",
      "model_module_version": "^0.4.0",
      "model_name": "AxisModel",
      "state": {
       "orientation": "vertical",
       "scale": "IPY_MODEL_5be0d3cd51154229a2dbdc02a9001489",
       "side": "left",
       "tick_values": {
        "type": null,
        "values": null
       }
      }
     },
     "f1b820dbb6ac40f5bfda25197eae8340": {
      "model_module": "@jupyter-widgets/controls",
      "model_module_version": "1.5.0",
      "model_name": "VBoxModel",
      "state": {
       "children": [
        "IPY_MODEL_3ca524bedfd34db09ac51fd8a3e4cea6",
        "IPY_MODEL_85e9d956dfc84466aa7acf2f247b813a"
       ],
       "layout": "IPY_MODEL_271752b5d6684fb09f1590aa7ab89f8c"
      }
     },
     "f1cb306492744296b614b437d8a0cdea": {
      "model_module": "@jupyter-widgets/base",
      "model_module_version": "1.2.0",
      "model_name": "LayoutModel",
      "state": {}
     },
     "f1dae3e19ff2439ca8b7249240a88905": {
      "model_module": "bqplot",
      "model_module_version": "^0.4.0",
      "model_name": "AxisModel",
      "state": {
       "scale": "IPY_MODEL_ca5a6428904948eb8b06f656c76d7dd9",
       "side": "bottom",
       "tick_values": {
        "type": null,
        "values": null
       }
      }
     },
     "f205f81c85574ac2a4d1093739591ef6": {
      "model_module": "bqplot",
      "model_module_version": "^0.4.0",
      "model_name": "LinearScaleModel",
      "state": {
       "stabilized": false
      }
     },
     "f2168405463c4b87935dff5ab58ec108": {
      "model_module": "bqplot",
      "model_module_version": "^0.4.0",
      "model_name": "LinearScaleModel",
      "state": {
       "allow_padding": false,
       "max": 1,
       "min": 0,
       "stabilized": false
      }
     },
     "f24847d0deae4263882a738cd4f0c55e": {
      "model_module": "@jupyter-widgets/base",
      "model_module_version": "1.2.0",
      "model_name": "LayoutModel",
      "state": {}
     },
     "f29c03bb3c454f61b80ba44845e6ec2a": {
      "model_module": "@jupyter-widgets/controls",
      "model_module_version": "1.5.0",
      "model_name": "VBoxModel",
      "state": {
       "_dom_classes": [
        "widget-interact"
       ],
       "children": [
        "IPY_MODEL_525fbeb7d9d9474b8be65856070efcae"
       ],
       "layout": "IPY_MODEL_64389c75d18f4788885fa357d6eabc8a"
      }
     },
     "f2f813828ab142999c125caff265d8fa": {
      "model_module": "@jupyter-widgets/base",
      "model_module_version": "1.2.0",
      "model_name": "LayoutModel",
      "state": {}
     },
     "f32d2ee6cbff46a5bd44c8402f3c778d": {
      "model_module": "@jupyter-widgets/controls",
      "model_module_version": "1.5.0",
      "model_name": "VBoxModel",
      "state": {
       "children": [
        "IPY_MODEL_e8d558e7d13a4dd0823e3f854cc62fe9",
        "IPY_MODEL_7f012de9ad0c41728258d54c1b72d199"
       ],
       "layout": "IPY_MODEL_1e9afe2f8424400b9f6b418f193c2e4e"
      }
     },
     "f34c1b44d0d84a0e956c65e15ffb7ad5": {
      "model_module": "bqplot",
      "model_module_version": "^0.4.0",
      "model_name": "LinearScaleModel",
      "state": {
       "stabilized": false
      }
     },
     "f3734ae2399b4b06a835ae9cd3324bbe": {
      "model_module": "bqplot",
      "model_module_version": "^0.4.0",
      "model_name": "LinearScaleModel",
      "state": {
       "stabilized": false
      }
     },
     "f3c73868d6be4105a3609dc17a72a183": {
      "model_module": "@jupyter-widgets/controls",
      "model_module_version": "1.5.0",
      "model_name": "VBoxModel",
      "state": {
       "_dom_classes": [
        "widget-interact"
       ],
       "children": [
        "IPY_MODEL_9f80f4ebe8104e33bafce4d755f960ed"
       ],
       "layout": "IPY_MODEL_e35286bb97844aa59ce7a3a02d6a2256"
      }
     },
     "f42e18539609480cb77f8dd57c3b2151": {
      "model_module": "@jupyter-widgets/base",
      "model_module_version": "1.2.0",
      "model_name": "LayoutModel",
      "state": {}
     },
     "f495f356880247c4b5d240180d73e61a": {
      "model_module": "@jupyter-widgets/controls",
      "model_module_version": "1.5.0",
      "model_name": "SliderStyleModel",
      "state": {
       "description_width": ""
      }
     },
     "f4bdb12d26504be192f9c9c05b8b2646": {
      "model_module": "@jupyter-widgets/base",
      "model_module_version": "1.2.0",
      "model_name": "LayoutModel",
      "state": {}
     },
     "f4d6c08531aa47afb4b1c308d3360aff": {
      "model_module": "@jupyter-widgets/base",
      "model_module_version": "1.2.0",
      "model_name": "LayoutModel",
      "state": {}
     },
     "f4f38444c3b643dda5e36b49a2afc806": {
      "model_module": "@jupyter-widgets/base",
      "model_module_version": "1.2.0",
      "model_name": "LayoutModel",
      "state": {}
     },
     "f54e3b14b0ea433188f147375915f664": {
      "model_module": "@jupyter-widgets/base",
      "model_module_version": "1.2.0",
      "model_name": "LayoutModel",
      "state": {
       "min_width": "125px"
      }
     },
     "f589f5a0612244a383056912e80bb1d8": {
      "model_module": "@jupyter-widgets/output",
      "model_module_version": "1.0.0",
      "model_name": "OutputModel",
      "state": {
       "layout": "IPY_MODEL_b32130daa3344040ae0683aad1345db1"
      }
     },
     "f58b243d027340f2b2ee00d0b33013db": {
      "model_module": "@jupyter-widgets/base",
      "model_module_version": "1.2.0",
      "model_name": "LayoutModel",
      "state": {}
     },
     "f5c5f7b5ed19428e838f14696dcaffa3": {
      "model_module": "bqplot",
      "model_module_version": "^0.4.0",
      "model_name": "LinearScaleModel",
      "state": {
       "stabilized": false
      }
     },
     "f5c9cea8c5464745a107fc4a1e3f4756": {
      "model_module": "bqplot",
      "model_module_version": "^0.4.0",
      "model_name": "LinearScaleModel",
      "state": {
       "stabilized": false
      }
     },
     "f5df9581addf4a7cb1f05e45d476893b": {
      "model_module": "bqplot",
      "model_module_version": "^0.4.0",
      "model_name": "AxisModel",
      "state": {
       "orientation": "vertical",
       "scale": "IPY_MODEL_ded3b0e6936141099e23def01ee137dc",
       "side": "left",
       "tick_values": {
        "type": null,
        "values": null
       }
      }
     },
     "f5f9b8d3bf2b46faac99bccffa4c7cdb": {
      "model_module": "@jupyter-widgets/controls",
      "model_module_version": "1.5.0",
      "model_name": "VBoxModel",
      "state": {
       "children": [
        "IPY_MODEL_5561378183ad4ff2bd86089bfab32081",
        "IPY_MODEL_044ecba6607f43e8af9086cfcd0a85c8"
       ],
       "layout": "IPY_MODEL_2a845cb911e64a0394cd0185175da8de"
      }
     },
     "f60883cf76584fcfb38556068697421f": {
      "model_module": "@jupyter-widgets/controls",
      "model_module_version": "1.5.0",
      "model_name": "VBoxModel",
      "state": {
       "children": [
        "IPY_MODEL_718c59ec023442b3bd139e01218bb7de",
        "IPY_MODEL_bd1844e967ec4c4d88a3ca93f4a9fb22"
       ],
       "layout": "IPY_MODEL_df509bd5460347c6af43288f20aec16e"
      }
     },
     "f60c7dd9e33043219b5c7664f59bd09c": {
      "model_module": "@jupyter-widgets/output",
      "model_module_version": "1.0.0",
      "model_name": "OutputModel",
      "state": {
       "layout": "IPY_MODEL_490dc12e568b4ebb945b5e14433e8d85"
      }
     },
     "f612ebbd95b64a92b79f194a85ad136d": {
      "model_module": "@jupyter-widgets/controls",
      "model_module_version": "1.5.0",
      "model_name": "VBoxModel",
      "state": {
       "_dom_classes": [
        "widget-interact"
       ],
       "children": [
        "IPY_MODEL_4f9eed2264d9438f93befe74d0da256f"
       ],
       "layout": "IPY_MODEL_b358e8ab40eb4057a98336987e54c352"
      }
     },
     "f6673cc58c8a4a5096cf62a0578ea6cf": {
      "model_module": "bqplot",
      "model_module_version": "^0.4.0",
      "model_name": "LinearScaleModel",
      "state": {
       "stabilized": false
      }
     },
     "f6837f94fa214ddfba9e1f76605e02e0": {
      "model_module": "@jupyter-widgets/controls",
      "model_module_version": "1.5.0",
      "model_name": "SliderStyleModel",
      "state": {
       "description_width": ""
      }
     },
     "f6a254387dbb4522a8420aaa3c8ae8dc": {
      "model_module": "@jupyter-widgets/controls",
      "model_module_version": "1.5.0",
      "model_name": "VBoxModel",
      "state": {
       "children": [
        "IPY_MODEL_546d6d3e37da4ffaa3966f6f8d6c1601",
        "IPY_MODEL_7a476a4af6a444ba8086497027bb1093"
       ],
       "layout": "IPY_MODEL_923949af947d4b49b6b7d901cff9f696"
      }
     },
     "f6b08af901344dd19f2c275ee815abe5": {
      "model_module": "bqplot",
      "model_module_version": "^0.4.0",
      "model_name": "LinesModel",
      "state": {
       "color": {
        "type": null,
        "values": null
       },
       "colors": [
        "#475A77"
       ],
       "display_legend": false,
       "fill_colors": [],
       "scales": {
        "x": "IPY_MODEL_d1bd212c40204aff8d6cf75b04fae61e",
        "y": "IPY_MODEL_d70fa4ad6e7940d9a5b7c3c7e262f1ea"
       },
       "selected": [],
       "x": {
        "type": "float",
        "values": []
       },
       "y": {
        "type": "float",
        "values": []
       }
      }
     },
     "f6b2195939ef40a98563a85b1162767c": {
      "model_module": "@jupyter-widgets/base",
      "model_module_version": "1.2.0",
      "model_name": "LayoutModel",
      "state": {}
     },
     "f70b539692024b739c2083353b7d8736": {
      "model_module": "bqplot",
      "model_module_version": "^0.4.0",
      "model_name": "FigureModel",
      "state": {
       "_dom_classes": [],
       "axes": [
        "IPY_MODEL_9933426c52014145935d4ffd394fb096",
        "IPY_MODEL_f8d041eebcc4422c9b39b5141f6c9f85"
       ],
       "layout": "IPY_MODEL_9a0f85b95ea24cfa8121449a4af2589c",
       "marks": [
        "IPY_MODEL_351faa45245d403abc1d6da213e78e38"
       ],
       "max_aspect_ratio": 6,
       "scale_x": "IPY_MODEL_2586a62db50b4a14bdcf7978f79ce206",
       "scale_y": "IPY_MODEL_524324542420428ba87b1fc00b99b3d8"
      }
     },
     "f726438588c3424bafcc8dda1995a0ac": {
      "model_module": "bqplot",
      "model_module_version": "^0.4.0",
      "model_name": "FigureModel",
      "state": {
       "_dom_classes": [],
       "axes": [
        "IPY_MODEL_057a06de6dc548759767d8413ab09818",
        "IPY_MODEL_af65cb4812e542a5bb591f7c10720ec5"
       ],
       "layout": "IPY_MODEL_8fe2c5cdcc1645849386c3feb6c3e7e4",
       "marks": [
        "IPY_MODEL_39f0a3f2c83d4eb9afde01727831cf29"
       ],
       "max_aspect_ratio": 6,
       "scale_x": "IPY_MODEL_6969d6205ac44dbaa845ae1951f13712",
       "scale_y": "IPY_MODEL_9ef72b2d1175415a8d6052914ae47345"
      }
     },
     "f7295832815340c6a6739479b2e17aca": {
      "model_module": "bqplot",
      "model_module_version": "^0.4.0",
      "model_name": "FigureModel",
      "state": {
       "_dom_classes": [],
       "axes": [
        "IPY_MODEL_b2ec71d17e384b1d9919c9bd9420b4dd",
        "IPY_MODEL_13155d068e154173a0fa666c5fb66cfc"
       ],
       "layout": "IPY_MODEL_05447b5dd3284ae1b1b6be2446187c7d",
       "marks": [
        "IPY_MODEL_e19c68261fc84362b4623373103eeb04"
       ],
       "max_aspect_ratio": 6,
       "scale_x": "IPY_MODEL_e74b2b907441468bafe54d2dd58f0256",
       "scale_y": "IPY_MODEL_8760b414f0e8480d8b27724f0b36f51c"
      }
     },
     "f7a4ac231b21498e8b5753228f953911": {
      "model_module": "@jupyter-widgets/controls",
      "model_module_version": "1.5.0",
      "model_name": "VBoxModel",
      "state": {
       "children": [
        "IPY_MODEL_943c75f8ccdc4986b8a04dc83ab70d36",
        "IPY_MODEL_915fe5ceecd3462aa4d92fb42b2836c4"
       ],
       "layout": "IPY_MODEL_94e64a2735d14402830450a979020faa"
      }
     },
     "f7b05456439f4497ae78ddd77a8d675b": {
      "model_module": "@jupyter-widgets/output",
      "model_module_version": "1.0.0",
      "model_name": "OutputModel",
      "state": {
       "layout": "IPY_MODEL_5ba8894260504d13bac352b4c18d9dc0"
      }
     },
     "f7b3218884a1498caab0b2a966962ae0": {
      "model_module": "bqplot",
      "model_module_version": "^0.4.0",
      "model_name": "AxisModel",
      "state": {
       "scale": "IPY_MODEL_f34c1b44d0d84a0e956c65e15ffb7ad5",
       "side": "bottom",
       "tick_values": {
        "type": null,
        "values": null
       }
      }
     },
     "f7f03f6151d7455a8b0e9ef300e1b64c": {
      "model_module": "@jupyter-widgets/base",
      "model_module_version": "1.2.0",
      "model_name": "LayoutModel",
      "state": {}
     },
     "f8500c81373b4d70ad580f9be1e967e7": {
      "model_module": "bqplot",
      "model_module_version": "^0.4.0",
      "model_name": "LinesModel",
      "state": {
       "color": {
        "type": null,
        "values": null
       },
       "colors": [
        "#475A77"
       ],
       "display_legend": false,
       "fill_colors": [],
       "scales": {
        "x": "IPY_MODEL_332c913093344851b3bb1828026154fe",
        "y": "IPY_MODEL_68232953bdc24f9a9009e181a6270008"
       },
       "selected": [],
       "x": {
        "type": "float",
        "values": []
       },
       "y": {
        "type": "float",
        "values": []
       }
      }
     },
     "f8aea14b188d477787e4f69e65c9bf31": {
      "model_module": "bqplot",
      "model_module_version": "^0.4.0",
      "model_name": "LinesModel",
      "state": {
       "color": {
        "type": null,
        "values": null
       },
       "colors": [
        "#475A77"
       ],
       "display_legend": false,
       "fill_colors": [],
       "labels": [
        "C1"
       ],
       "scales": {
        "x": "IPY_MODEL_14a4d96df2804f64b1c6598dec73c18b",
        "y": "IPY_MODEL_ab5256c060024b5abc4582ee65e28ac6"
       },
       "selected": [],
       "x": {
        "type": "float",
        "values": [
         1,
         2,
         3
        ]
       },
       "y": {
        "type": "float",
        "values": [
         12,
         -5,
         28
        ]
       }
      }
     },
     "f8c3b3f46c2f44f8bd292da1de93a85d": {
      "model_module": "@jupyter-widgets/controls",
      "model_module_version": "1.5.0",
      "model_name": "SliderStyleModel",
      "state": {
       "description_width": ""
      }
     },
     "f8d041eebcc4422c9b39b5141f6c9f85": {
      "model_module": "bqplot",
      "model_module_version": "^0.4.0",
      "model_name": "AxisModel",
      "state": {
       "orientation": "vertical",
       "scale": "IPY_MODEL_57ad514a8b4a4a27bc11a618513603a5",
       "side": "left",
       "tick_values": {
        "type": null,
        "values": null
       }
      }
     },
     "f92216203dcf4a528da7986bdc6fc8a0": {
      "model_module": "bqplot",
      "model_module_version": "^0.4.0",
      "model_name": "LinesModel",
      "state": {
       "color": {
        "type": null,
        "values": null
       },
       "colors": [
        "#475A77"
       ],
       "display_legend": false,
       "fill_colors": [],
       "scales": {
        "x": "IPY_MODEL_1593f5ed58614723aa62f80d01039fcf",
        "y": "IPY_MODEL_788d31bb05fc47d2a7fbed99b8664ea3"
       },
       "selected": [],
       "x": {
        "type": "float",
        "values": []
       },
       "y": {
        "type": "float",
        "values": []
       }
      }
     },
     "f9a5791fcc1c4ef99b12373ef2f90407": {
      "model_module": "@jupyter-widgets/controls",
      "model_module_version": "1.5.0",
      "model_name": "VBoxModel",
      "state": {
       "_dom_classes": [
        "widget-interact"
       ],
       "children": [
        "IPY_MODEL_1aa69f6eb4d2441c988f6d9b5dfd6285",
        "IPY_MODEL_4d36df1d3f3445cd813997a3049392ef"
       ],
       "layout": "IPY_MODEL_55cf9d9bf2c24250bdeec7b5b81f8000"
      }
     },
     "f9d852c67db547238f872a1a21076f2c": {
      "model_module": "bqplot",
      "model_module_version": "^0.4.0",
      "model_name": "LinearScaleModel",
      "state": {
       "allow_padding": false,
       "max": 1,
       "min": 0,
       "stabilized": false
      }
     },
     "fa3004580dee42bdbd955c4cff4e888f": {
      "model_module": "@jupyter-widgets/base",
      "model_module_version": "1.2.0",
      "model_name": "LayoutModel",
      "state": {}
     },
     "fa37b1426254416c8ed6ef2a05d6472f": {
      "model_module": "@jupyter-widgets/base",
      "model_module_version": "1.2.0",
      "model_name": "LayoutModel",
      "state": {
       "min_width": "125px"
      }
     },
     "fa6aca42c59b4e75b7eccff7cfd7d73c": {
      "model_module": "bqplot",
      "model_module_version": "^0.4.0",
      "model_name": "LinearScaleModel",
      "state": {
       "stabilized": false
      }
     },
     "fa6fb0f61b994ec395b07e773d8c2f6d": {
      "model_module": "@jupyter-widgets/base",
      "model_module_version": "1.2.0",
      "model_name": "LayoutModel",
      "state": {}
     },
     "fa8f0448b9684b2b93252c175c582842": {
      "model_module": "bqplot",
      "model_module_version": "^0.4.0",
      "model_name": "LinesModel",
      "state": {
       "color": {
        "type": null,
        "values": null
       },
       "colors": [
        "#475A77"
       ],
       "display_legend": false,
       "fill_colors": [],
       "scales": {
        "x": "IPY_MODEL_d8692be554364e52b2a2885d9a4a4ca6",
        "y": "IPY_MODEL_af9c39aaa801470c9b0b7c1d41e6272a"
       },
       "selected": [],
       "x": {
        "type": "float",
        "values": []
       },
       "y": {
        "type": "float",
        "values": []
       }
      }
     },
     "fac5215f8ec3467f96f24baa7811ddf6": {
      "model_module": "bqplot",
      "model_module_version": "^0.4.0",
      "model_name": "LinearScaleModel",
      "state": {
       "allow_padding": false,
       "max": 1,
       "min": 0,
       "stabilized": false
      }
     },
     "faf6120318844cde9a3123a3adb54795": {
      "model_module": "bqplot",
      "model_module_version": "^0.4.0",
      "model_name": "LinesModel",
      "state": {
       "color": {
        "type": null,
        "values": null
       },
       "colors": [
        "#475A77"
       ],
       "display_legend": false,
       "fill_colors": [],
       "scales": {
        "x": "IPY_MODEL_57ddce0e33d84e34ae5bf8f70e548452",
        "y": "IPY_MODEL_5d20f5bccef9455ab0b717e1c378215c"
       },
       "selected": [],
       "x": {
        "type": "float",
        "values": []
       },
       "y": {
        "type": "float",
        "values": []
       }
      }
     },
     "fb04ed9abea84c28aab7864cdb17bbd0": {
      "model_module": "@jupyter-widgets/base",
      "model_module_version": "1.2.0",
      "model_name": "LayoutModel",
      "state": {}
     },
     "fb44680afd5547c78e3d23e62d1a411f": {
      "model_module": "@jupyter-widgets/controls",
      "model_module_version": "1.5.0",
      "model_name": "VBoxModel",
      "state": {
       "_dom_classes": [
        "widget-interact"
       ],
       "children": [
        "IPY_MODEL_bd7deb94a4a34c8d86a9e721c6ac3691"
       ],
       "layout": "IPY_MODEL_74aa2f10ad4045dbabe0de967c9bb628"
      }
     },
     "fb5bc6331c774a77b47320a1fc729703": {
      "model_module": "bqplot",
      "model_module_version": "^0.4.0",
      "model_name": "LinearScaleModel",
      "state": {
       "stabilized": false
      }
     },
     "fb7956acf5824ce2b156c92af1cbc98f": {
      "model_module": "@jupyter-widgets/controls",
      "model_module_version": "1.5.0",
      "model_name": "SliderStyleModel",
      "state": {
       "description_width": ""
      }
     },
     "fb8df90c2e04435ab685dfff05a80664": {
      "model_module": "@jupyter-widgets/base",
      "model_module_version": "1.2.0",
      "model_name": "LayoutModel",
      "state": {
       "min_width": "125px"
      }
     },
     "fbd591627db84bb8adf628174cf061b7": {
      "model_module": "@jupyter-widgets/output",
      "model_module_version": "1.0.0",
      "model_name": "OutputModel",
      "state": {
       "layout": "IPY_MODEL_5780fb3c4c844bed9a987c21f91ea183"
      }
     },
     "fc02de5eb3cd491ab7ca6a70f89fe7e6": {
      "model_module": "@jupyter-widgets/output",
      "model_module_version": "1.0.0",
      "model_name": "OutputModel",
      "state": {
       "layout": "IPY_MODEL_93ea09d45a354dbcac632509462b4b3b"
      }
     },
     "fc28cd1a4f8242f6a47bd3f992af82a3": {
      "model_module": "bqplot",
      "model_module_version": "^0.4.0",
      "model_name": "FigureModel",
      "state": {
       "_dom_classes": [],
       "axes": [
        "IPY_MODEL_db23ecdc2c9c4ff3ab3f639f3086738e",
        "IPY_MODEL_29a49abdcba14d9fa8d49188bf892e46"
       ],
       "layout": "IPY_MODEL_55b970c9874247038c794fc513233629",
       "marks": [
        "IPY_MODEL_8959314179f84c3cb985f88a78336ef7"
       ],
       "max_aspect_ratio": 6,
       "scale_x": "IPY_MODEL_36fce8f02049427dbffda1da731d5657",
       "scale_y": "IPY_MODEL_a7198ea1ab57465484f70c57e82fec66"
      }
     },
     "fc4f4ddabe9146048726e97bf2056a33": {
      "model_module": "@jupyter-widgets/base",
      "model_module_version": "1.2.0",
      "model_name": "LayoutModel",
      "state": {}
     },
     "fc642dda9ca7482781abe3228b3496a2": {
      "model_module": "@jupyter-widgets/output",
      "model_module_version": "1.0.0",
      "model_name": "OutputModel",
      "state": {
       "layout": "IPY_MODEL_80e654fd838a402cb0b46070e5d9ad51"
      }
     },
     "fca4b44a658c4744b8b070f0173e4d0e": {
      "model_module": "@jupyter-widgets/base",
      "model_module_version": "1.2.0",
      "model_name": "LayoutModel",
      "state": {}
     },
     "fcea5cb38abe4e62a9916b902259c37b": {
      "model_module": "bqplot",
      "model_module_version": "^0.4.0",
      "model_name": "LinearScaleModel",
      "state": {
       "stabilized": false
      }
     },
     "fd093da5679743bfbc8a8a092a73a9e7": {
      "model_module": "bqplot",
      "model_module_version": "^0.4.0",
      "model_name": "LinearScaleModel",
      "state": {
       "allow_padding": false,
       "max": 1,
       "min": 0,
       "stabilized": false
      }
     },
     "fd74a4521a9c499f8c100e82942eef0e": {
      "model_module": "bqplot",
      "model_module_version": "^0.4.0",
      "model_name": "LinesModel",
      "state": {
       "color": {
        "type": null,
        "values": null
       },
       "colors": [
        "#475A77"
       ],
       "display_legend": false,
       "fill_colors": [],
       "scales": {
        "x": "IPY_MODEL_e7940a5df8d449328ca07e436374cf6c",
        "y": "IPY_MODEL_0c83233a5c5e4e64850d7c2964fd7c83"
       },
       "selected": [],
       "x": {
        "type": "float",
        "values": []
       },
       "y": {
        "type": "float",
        "values": []
       }
      }
     },
     "fde2350e07d24e12af822ff29560ae4f": {
      "model_module": "bqplot",
      "model_module_version": "^0.4.0",
      "model_name": "AxisModel",
      "state": {
       "orientation": "vertical",
       "scale": "IPY_MODEL_c57465d809ef4178b1997cf1dec0465e",
       "side": "left",
       "tick_values": {
        "type": null,
        "values": null
       }
      }
     },
     "fe1d1a1f6f264d2e8f6fc1c438ca3450": {
      "model_module": "@jupyter-widgets/base",
      "model_module_version": "1.2.0",
      "model_name": "LayoutModel",
      "state": {
       "min_width": "125px"
      }
     },
     "fe4349216e9b44008c9a12599c301aee": {
      "model_module": "@jupyter-widgets/base",
      "model_module_version": "1.2.0",
      "model_name": "LayoutModel",
      "state": {
       "min_width": "125px"
      }
     },
     "fe73b48b6f49494db1b032f6011ea840": {
      "model_module": "@jupyter-widgets/controls",
      "model_module_version": "1.5.0",
      "model_name": "VBoxModel",
      "state": {
       "_dom_classes": [
        "widget-interact"
       ],
       "children": [
        "IPY_MODEL_92d877e308fb42eba118b359281e66f2",
        "IPY_MODEL_8b646b0a255b4c56839dbd038ff459e5"
       ],
       "layout": "IPY_MODEL_be3a5c6dc5c04a68a6a022156e090be9"
      }
     },
     "fe7de64666ac4c6f9e145ec5e016760d": {
      "model_module": "@jupyter-widgets/base",
      "model_module_version": "1.2.0",
      "model_name": "LayoutModel",
      "state": {}
     },
     "fea0766b6a6c439fade79b1ea1409027": {
      "model_module": "@jupyter-widgets/base",
      "model_module_version": "1.2.0",
      "model_name": "LayoutModel",
      "state": {
       "min_width": "125px"
      }
     },
     "fec77d0a08c74f579eac62982da8fede": {
      "model_module": "@jupyter-widgets/base",
      "model_module_version": "1.2.0",
      "model_name": "LayoutModel",
      "state": {}
     },
     "fecd7d6448b447e8aa58289599f38930": {
      "model_module": "@jupyter-widgets/controls",
      "model_module_version": "1.5.0",
      "model_name": "VBoxModel",
      "state": {
       "children": [
        "IPY_MODEL_568fa29fd74a44aa88bf3bd03f1c27d4",
        "IPY_MODEL_7b139deee95f4b90ab0a84cf77539f95"
       ],
       "layout": "IPY_MODEL_35828d62a2264a519b642606cc0d11ab"
      }
     },
     "fefdc686dba34494a2dd1280cd4393cd": {
      "model_module": "bqplot",
      "model_module_version": "^0.4.0",
      "model_name": "LinearScaleModel",
      "state": {
       "stabilized": false
      }
     },
     "ff4971f94d754ec4900e34be8a096869": {
      "model_module": "bqplot",
      "model_module_version": "^0.4.0",
      "model_name": "LinearScaleModel",
      "state": {
       "allow_padding": false,
       "max": 1,
       "min": 0,
       "stabilized": false
      }
     },
     "ff982f52cee14236b38023fe94287fe1": {
      "model_module": "bqplot",
      "model_module_version": "^0.4.0",
      "model_name": "AxisModel",
      "state": {
       "orientation": "vertical",
       "scale": "IPY_MODEL_16231c635b06475aa6cfd1b3892f1ad4",
       "side": "left",
       "tick_values": {
        "type": null,
        "values": null
       }
      }
     },
     "ffa5a01eb242474092425fe73b9e0f35": {
      "model_module": "bqplot",
      "model_module_version": "^0.4.0",
      "model_name": "FigureModel",
      "state": {
       "_dom_classes": [],
       "axes": [
        "IPY_MODEL_e87076d1c01046d295a63b4bf0354015",
        "IPY_MODEL_2509ac3bd3d54398a9f56cac45c16242"
       ],
       "layout": "IPY_MODEL_6235fa2d267044a2a7db007e04850f6e",
       "marks": [
        "IPY_MODEL_09a8f7e30b1f4d4e9f09112fa373d0a2"
       ],
       "max_aspect_ratio": 6,
       "scale_x": "IPY_MODEL_cf4fdcb082464364872c1191f08de98d",
       "scale_y": "IPY_MODEL_d885dd70324b4c7899e75c7b1762ed20"
      }
     },
     "ffb99222af78424ead80db9f444ffc57": {
      "model_module": "@jupyter-widgets/base",
      "model_module_version": "1.2.0",
      "model_name": "LayoutModel",
      "state": {}
     },
     "ffdfb991ecb84b3aa90506c93b927fbd": {
      "model_module": "@jupyter-widgets/base",
      "model_module_version": "1.2.0",
      "model_name": "LayoutModel",
      "state": {
       "min_width": "125px"
      }
     },
     "ffefe811879049a4be7e244b4b1d8a24": {
      "model_module": "@jupyter-widgets/base",
      "model_module_version": "1.2.0",
      "model_name": "LayoutModel",
      "state": {}
     }
    },
    "version_major": 2,
    "version_minor": 0
   }
  }
 },
 "nbformat": 4,
 "nbformat_minor": 2
}
