{
 "cells": [
  {
   "cell_type": "code",
   "execution_count": 1,
   "metadata": {
    "slideshow": {
     "slide_type": "slide"
    }
   },
   "outputs": [],
   "source": [
    "from IPython.core.display import display, HTML\n",
    "display(HTML(\"<style>.container { width:100% !important; }</style>\"))"
   ]
  },
  {
   "cell_type": "code",
   "execution_count": 2,
   "metadata": {
    "slideshow": {
     "slide_type": "fragment"
    }
   },
   "outputs": [],
   "source": [
    "import ipywidgets as widgets\n",
    "from ipywidgets import Layout\n",
    "import matplotlib.pyplot as plt\n",
    "#from PIL import Image\n",
    "from io import BytesIO\n",
    "import numpy as np\n",
    "\n",
    "import colorsys\n",
    "import pickle # package use to save data\n",
    "\n",
    "from IPython.display import display, Image\n",
    "\n",
    "#from scipy import interpolate\n",
    "#import scipy.stats as st"
   ]
  },
  {
   "cell_type": "code",
   "execution_count": 3,
   "metadata": {},
   "outputs": [],
   "source": [
    "from dynamic import *"
   ]
  },
  {
   "cell_type": "code",
   "execution_count": 4,
   "metadata": {},
   "outputs": [],
   "source": [
    "import nbinteract as nbi"
   ]
  },
  {
   "cell_type": "code",
   "execution_count": 5,
   "metadata": {
    "slideshow": {
     "slide_type": "subslide"
    }
   },
   "outputs": [],
   "source": [
    "Model = [\"complete\", \"simplified\"]\n",
    "Plot = [\"time series\", \"histogram\"] # \"phase portrait\", "
   ]
  },
  {
   "cell_type": "code",
   "execution_count": 6,
   "metadata": {
    "slideshow": {
     "slide_type": "skip"
    }
   },
   "outputs": [],
   "source": [
    "class Select_box(widgets.VBox):\n",
    "    def __init__(self, dashboard):\n",
    "        \n",
    "        import numpy as np\n",
    "        \n",
    "        self.dashboard = dashboard\n",
    "\n",
    "        self.selection_model = widgets.Dropdown(options=Model, description = \"model\")\n",
    "        self.selection_model.observe(dashboard.on_model_selected, names = \"value\")\n",
    "\n",
    "        self.selection_alpha = widgets.FloatSlider(min = 0, max = 1, description = \"alpha\", value = 0.5)\n",
    "        self.selection_alpha.observe(dashboard.on_alpha_selected, names = \"value\")\n",
    "\n",
    "        self.selection_c = widgets.FloatLogSlider(min = np.log10(0.1), max = np.log10(10), description = \"c\")\n",
    "        self.selection_c.observe(dashboard.on_c_selected, names = \"value\")\n",
    "\n",
    "        self.selection_h = widgets.FloatLogSlider(min = np.log10(0.1), max = np.log10(10), description = \"h\")\n",
    "        self.selection_h.observe(dashboard.on_h_selected, names = \"value\")\n",
    "\n",
    "        self.selection_l = widgets.FloatLogSlider(min = np.log10(0.1), max = np.log10(10), description = \"l\")\n",
    "        self.selection_l.observe(dashboard.on_l_selected, names = \"value\")\n",
    "\n",
    "        self.selection_plot = widgets.Dropdown(options=Plot, description = \"plot\")\n",
    "        self.selection_plot.observe(dashboard.on_plot_selected, names = \"value\")\n",
    "\n",
    "        \n",
    "        children = [\n",
    "        self.selection_model,\n",
    "        self.selection_alpha,\n",
    "        self.selection_c,\n",
    "        self.selection_h,\n",
    "        self.selection_l,\n",
    "        self.selection_plot,\n",
    "        ]\n",
    "        super().__init__(children, layout=Layout(width=\"100%\"))   "
   ]
  },
  {
   "cell_type": "raw",
   "metadata": {},
   "source": [
    "def fonction_plot(alpha, c, h, l):\n",
    "    import matplotlib.pyplot as plt\n",
    "    return plt.figure(figsize = (12,8))"
   ]
  },
  {
   "cell_type": "raw",
   "metadata": {},
   "source": [
    "help(fig.line)"
   ]
  },
  {
   "cell_type": "raw",
   "metadata": {},
   "source": [
    "fig = nbi.plotting.Figure()\n",
    "fig.line([10,15,35], y_fn = [10, 57, 89], options={\"color\": \"r\"})\n"
   ]
  },
  {
   "cell_type": "code",
   "execution_count": 7,
   "metadata": {},
   "outputs": [
    {
     "ename": "SyntaxError",
     "evalue": "import * only allowed at module level (<ipython-input-7-71a1deede6c6>, line 25)",
     "output_type": "error",
     "traceback": [
      "\u001b[0;36m  File \u001b[0;32m\"<ipython-input-7-71a1deede6c6>\"\u001b[0;36m, line \u001b[0;32m25\u001b[0m\n\u001b[0;31m    def print_image(self):\u001b[0m\n\u001b[0m    ^\u001b[0m\n\u001b[0;31mSyntaxError\u001b[0m\u001b[0;31m:\u001b[0m import * only allowed at module level\n"
     ]
    }
   ],
   "source": [
    "class Image_box(widgets.Box):\n",
    "    def __init__(self, dashboard):\n",
    "        %pip install matplotlib\n",
    "        import matplotlib.pyplot as plt\n",
    "        from dynamic import *\n",
    "        self.image = widgets.Image()\n",
    "        self.dashboard = dashboard\n",
    "        \n",
    "        self.model = self.dashboard.model\n",
    "        self.alpha = self.dashboard.alpha\n",
    "        self.c = self.dashboard.c\n",
    "        self.h = self.dashboard.h\n",
    "        self.l = self.dashboard.l\n",
    "        self.plot = self.dashboard.plot\n",
    "  \n",
    "        self.print_image()\n",
    "        \n",
    "        image_container = widgets.Box([self.image], layout=Layout(width=\"100%\"))\n",
    "        \n",
    "        children = [\n",
    "   #     image_container,\n",
    "        self.image,   \n",
    "        ]\n",
    "        super().__init__(children, layout=Layout(width=\"100%\"))\n",
    "        \n",
    "    def print_image(self):\n",
    "        try:\n",
    "            import matplotlib.pyplot as plt\n",
    "        except:\n",
    "            %pip install matplotlib -qqq\n",
    "            import matplotlib.pyplot as plt\n",
    "        fig = plt.figure(figsize=(10, 6))\n",
    "        #fig = nbi.plotting.Figure()\n",
    "        h = self.h\n",
    "        l = self.l\n",
    "        alpha = self.alpha\n",
    "        c = self.c\n",
    "\n",
    "        #fig = fonction_plot(alpha, c, h, l)\n",
    "        \n",
    "        D = Dynamic(h=h, l=l, alpha=alpha, c=c, model=self.model, tFinal=50)\n",
    "        D.initialisation()\n",
    "        if(self.plot == \"time series\"):\n",
    "            D.eulerEx()\n",
    "            D.plot(show=False)\n",
    "            plt.legend(fontsize = 20) # duplicate ...\n",
    "        elif(self.plot == \"phase portrait\"):\n",
    "            D.plot_phase_portrait(show=False)\n",
    "        elif(self.plot == \"histogram\"):\n",
    "            D.plot_histogram(show=False)\n",
    "            \n",
    "        image_file = BytesIO()\n",
    "        fig.savefig(fname = image_file)\n",
    "        image_file.seek(0)\n",
    "        image_data = image_file.read()\n",
    "        self.image.value = image_data\n",
    "#            self.image.width = 1500\n",
    "#           self.image.height = 2000\n",
    "        plt.close()\n",
    "\n",
    "#          file = open(nom, \"rb\")\n",
    "#         image = file.read()\n",
    "        #plt.imshow(image)\n",
    "#        self.image.value = image\n",
    " #       self.image.format = 'png'\n",
    "\n",
    "\n",
    "        return\n",
    "        \n",
    "\n",
    "    def change_model(self, change):\n",
    "        self.model = change\n",
    "        self.print_image()\n",
    "\n",
    "    def change_alpha(self, change):\n",
    "        self.alpha = change\n",
    "        self.print_image()\n",
    "\n",
    "    def change_c(self, change):\n",
    "        self.c = change\n",
    "        self.print_image()\n",
    "        \n",
    "    def change_h(self, change):\n",
    "        self.h = change\n",
    "        self.print_image()\n",
    "\n",
    "    def change_l(self, change):\n",
    "        self.l = change\n",
    "        self.print_image()\n",
    "\n",
    "    def change_plot(self, change):\n",
    "        self.plot = change\n",
    "        self.print_image()"
   ]
  },
  {
   "cell_type": "code",
   "execution_count": null,
   "metadata": {},
   "outputs": [],
   "source": [
    "class Dashboard(widgets.VBox):\n",
    "    def __init__(self):\n",
    "        self.model = Model[0]\n",
    "        self.plot = Plot[0]\n",
    "        self.alpha = 0.5\n",
    "        self.c = 1.\n",
    "        self.h = 2.\n",
    "        self.l = 0.5\n",
    "    \n",
    "        self.select_box = Select_box(self)\n",
    "    #    self.text_box = Text_box(self)\n",
    "        self.image_box = Image_box(self)\n",
    "\n",
    "        C1 = widgets.Box([self.image_box], layout=Layout(width=\"65%\"))\n",
    "        C2 = widgets.Box([self.select_box], layout=Layout(width=\"32%\"))\n",
    "\n",
    "        #rowA = widgets.Box([self.image_box, self.select_box], layout=Layout(width=\"100%\"))\n",
    "        rowA = widgets.Box([C1, C2], layout=Layout(width=\"100%\"))\n",
    "        super().__init__([rowA], layout=Layout(width=\"100%\"))\n",
    "    \n",
    "\n",
    "    \n",
    "    \n",
    "    def on_model_selected(self, change):\n",
    "        #if(change[\"new\"]==\"equilibrium\"):\n",
    "         #   change[\"new\"] = 1.0\n",
    "        self.model = change[\"new\"]\n",
    "        self.image_box.change_model(self.model)\n",
    "\n",
    "    def on_alpha_selected(self, change):\n",
    "        self.alpha = change[\"new\"]\n",
    "        self.image_box.change_alpha(self.alpha)\n",
    "        \n",
    "    def on_c_selected(self, change):\n",
    "        self.c = change[\"new\"]\n",
    "        self.image_box.change_c(self.c)\n",
    "        \n",
    "    def on_h_selected(self, change):\n",
    "        self.h = change[\"new\"]\n",
    "        self.image_box.change_h(self.h)\n",
    "        \n",
    "    def on_l_selected(self, change):\n",
    "        self.l = change[\"new\"]\n",
    "        self.image_box.change_l(self.l)\n",
    "        \n",
    "    def on_plot_selected(self, change):\n",
    "        self.plot = change[\"new\"]\n",
    "        self.image_box.change_plot(self.plot)"
   ]
  },
  {
   "cell_type": "code",
   "execution_count": null,
   "metadata": {
    "scrolled": false
   },
   "outputs": [],
   "source": [
    "D=Dashboard()\n",
    "D"
   ]
  },
  {
   "cell_type": "code",
   "execution_count": null,
   "metadata": {},
   "outputs": [],
   "source": []
  },
  {
   "cell_type": "code",
   "execution_count": null,
   "metadata": {},
   "outputs": [],
   "source": []
  }
 ],
 "metadata": {
  "celltoolbar": "Aucun(e)",
  "kernelspec": {
   "display_name": "Python 3",
   "language": "python",
   "name": "python3"
  },
  "language_info": {
   "codemirror_mode": {
    "name": "ipython",
    "version": 3
   },
   "file_extension": ".py",
   "mimetype": "text/x-python",
   "name": "python",
   "nbconvert_exporter": "python",
   "pygments_lexer": "ipython3",
   "version": "3.8.1"
  },
  "widgets": {
   "application/vnd.jupyter.widget-state+json": {
    "state": {
     "0651162b559d4aa68bfcc87d5fd602c4": {
      "model_module": "@jupyter-widgets/controls",
      "model_module_version": "1.5.0",
      "model_name": "BoxModel",
      "state": {
       "children": [
        "IPY_MODEL_d22895707263424ab1d14a815ab8e4fa"
       ],
       "layout": "IPY_MODEL_17a38ce00a9e42429fba70c537318379"
      }
     },
     "118b23bf43dc4693af3ab9203ad2f8e2": {
      "model_module": "@jupyter-widgets/controls",
      "model_module_version": "1.5.0",
      "model_name": "BoxModel",
      "state": {
       "children": [
        "IPY_MODEL_c06badd779584d309cdb16046319df36"
       ],
       "layout": "IPY_MODEL_d8d5771843014de6a63ff525a114303c"
      }
     },
     "17a38ce00a9e42429fba70c537318379": {
      "model_module": "@jupyter-widgets/base",
      "model_module_version": "1.2.0",
      "model_name": "LayoutModel",
      "state": {
       "width": "100%"
      }
     },
     "18877fb9ff444e95a5541d2e95d97549": {
      "model_module": "@jupyter-widgets/controls",
      "model_module_version": "1.5.0",
      "model_name": "DescriptionStyleModel",
      "state": {
       "description_width": ""
      }
     },
     "1c9a23984a16441fb03ede753378eb62": {
      "model_module": "@jupyter-widgets/controls",
      "model_module_version": "1.5.0",
      "model_name": "BoxModel",
      "state": {
       "children": [
        "IPY_MODEL_118b23bf43dc4693af3ab9203ad2f8e2",
        "IPY_MODEL_da719480023f43ca9f8f00ca566e1933"
       ],
       "layout": "IPY_MODEL_1d82ee852f9c4c038007dd400b614f0f"
      }
     },
     "1d82ee852f9c4c038007dd400b614f0f": {
      "model_module": "@jupyter-widgets/base",
      "model_module_version": "1.2.0",
      "model_name": "LayoutModel",
      "state": {
       "width": "100%"
      }
     },
     "455acd893319452aab19ae8f6420fb41": {
      "model_module": "@jupyter-widgets/base",
      "model_module_version": "1.2.0",
      "model_name": "LayoutModel",
      "state": {
       "width": "100%"
      }
     },
     "4c7ec225980f4432bbc1424316e91ed0": {
      "model_module": "@jupyter-widgets/controls",
      "model_module_version": "1.5.0",
      "model_name": "DropdownModel",
      "state": {
       "_options_labels": [
        "0",
        "1"
       ],
       "index": 0,
       "layout": "IPY_MODEL_f69d0176d6f140599a7f945779802400",
       "style": "IPY_MODEL_18877fb9ff444e95a5541d2e95d97549"
      }
     },
     "61be2aca55c247dbbdbe70681a39d34a": {
      "model_module": "@jupyter-widgets/base",
      "model_module_version": "1.2.0",
      "model_name": "LayoutModel",
      "state": {}
     },
     "92bd0e80e8244c9db4b50b9454f7b6a0": {
      "model_module": "@jupyter-widgets/controls",
      "model_module_version": "1.5.0",
      "model_name": "DescriptionStyleModel",
      "state": {
       "description_width": ""
      }
     },
     "a6518a90b7eb4d95a30f491b39a4c51e": {
      "model_module": "@jupyter-widgets/base",
      "model_module_version": "1.2.0",
      "model_name": "LayoutModel",
      "state": {
       "width": "100%"
      }
     },
     "ab5f43779b52415d8c09be674206b82a": {
      "model_module": "@jupyter-widgets/base",
      "model_module_version": "1.2.0",
      "model_name": "LayoutModel",
      "state": {
       "width": "100%"
      }
     },
     "c06badd779584d309cdb16046319df36": {
      "model_module": "@jupyter-widgets/controls",
      "model_module_version": "1.5.0",
      "model_name": "VBoxModel",
      "state": {
       "children": [
        "IPY_MODEL_4c7ec225980f4432bbc1424316e91ed0"
       ],
       "layout": "IPY_MODEL_455acd893319452aab19ae8f6420fb41"
      }
     },
     "c9f828075086425aadf20c55a8714345": {
      "model_module": "@jupyter-widgets/controls",
      "model_module_version": "1.5.0",
      "model_name": "VBoxModel",
      "state": {
       "children": [
        "IPY_MODEL_1c9a23984a16441fb03ede753378eb62"
       ],
       "layout": "IPY_MODEL_ab5f43779b52415d8c09be674206b82a"
      }
     },
     "d22895707263424ab1d14a815ab8e4fa": {
      "model_module": "@jupyter-widgets/controls",
      "model_module_version": "1.5.0",
      "model_name": "HTMLModel",
      "state": {
       "layout": "IPY_MODEL_61be2aca55c247dbbdbe70681a39d34a",
       "style": "IPY_MODEL_92bd0e80e8244c9db4b50b9454f7b6a0",
       "value": "<font size=5>n0 = 0"
      }
     },
     "d8d5771843014de6a63ff525a114303c": {
      "model_module": "@jupyter-widgets/base",
      "model_module_version": "1.2.0",
      "model_name": "LayoutModel",
      "state": {
       "width": "100%"
      }
     },
     "da719480023f43ca9f8f00ca566e1933": {
      "model_module": "@jupyter-widgets/controls",
      "model_module_version": "1.5.0",
      "model_name": "BoxModel",
      "state": {
       "children": [
        "IPY_MODEL_0651162b559d4aa68bfcc87d5fd602c4"
       ],
       "layout": "IPY_MODEL_a6518a90b7eb4d95a30f491b39a4c51e"
      }
     },
     "f69d0176d6f140599a7f945779802400": {
      "model_module": "@jupyter-widgets/base",
      "model_module_version": "1.2.0",
      "model_name": "LayoutModel",
      "state": {}
     }
    },
    "version_major": 2,
    "version_minor": 0
   }
  }
 },
 "nbformat": 4,
 "nbformat_minor": 2
}
