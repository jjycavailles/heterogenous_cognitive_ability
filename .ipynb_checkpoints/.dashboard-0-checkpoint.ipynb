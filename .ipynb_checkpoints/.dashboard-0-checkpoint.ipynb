{
 "cells": [
  {
   "cell_type": "code",
   "execution_count": 1,
   "metadata": {
    "slideshow": {
     "slide_type": "slide"
    }
   },
   "outputs": [
    {
     "data": {
      "text/html": [
       "<style>.container { width:100% !important; }</style>"
      ],
      "text/plain": [
       "<IPython.core.display.HTML object>"
      ]
     },
     "metadata": {},
     "output_type": "display_data"
    }
   ],
   "source": [
    "from IPython.core.display import display, HTML\n",
    "display(HTML(\"<style>.container { width:100% !important; }</style>\"))"
   ]
  },
  {
   "cell_type": "code",
   "execution_count": 2,
   "metadata": {
    "slideshow": {
     "slide_type": "fragment"
    }
   },
   "outputs": [],
   "source": [
    "from dynamic import *\n",
    "from main import *"
   ]
  },
  {
   "cell_type": "code",
   "execution_count": 4,
   "metadata": {},
   "outputs": [],
   "source": [
    "class Dashboard(widgets.VBox):\n",
    "    def __init__(self):\n",
    "        self.model = Model[0]\n",
    "        self.plot = Plot[0]\n",
    "        self.alpha = 0.5\n",
    "        self.c = 1.\n",
    "        self.h = 2.\n",
    "        self.l = 0.5\n",
    "    \n",
    "        self.select_box = Select_box(self)\n",
    "    #    self.text_box = Text_box(self)\n",
    "        self.image_box = Image_box(self)\n",
    "\n",
    "        C1 = widgets.Box([self.image_box], layout=Layout(width=\"65%\"))\n",
    "        C2 = widgets.Box([self.select_box], layout=Layout(width=\"32%\"))\n",
    "\n",
    "        #rowA = widgets.Box([self.image_box, self.select_box], layout=Layout(width=\"100%\"))\n",
    "        rowA = widgets.Box([C1, C2], layout=Layout(width=\"100%\"))\n",
    "        super().__init__([rowA], layout=Layout(width=\"100%\"))\n",
    "    \n",
    "\n",
    "    \n",
    "    \n",
    "    def on_model_selected(self, change):\n",
    "        #if(change[\"new\"]==\"equilibrium\"):\n",
    "         #   change[\"new\"] = 1.0\n",
    "        self.model = change[\"new\"]\n",
    "        self.image_box.change_model(self.model)\n",
    "\n",
    "    def on_alpha_selected(self, change):\n",
    "        self.alpha = change[\"new\"]\n",
    "        self.image_box.change_alpha(self.alpha)\n",
    "        \n",
    "    def on_c_selected(self, change):\n",
    "        self.c = change[\"new\"]\n",
    "        self.image_box.change_c(self.c)\n",
    "        \n",
    "    def on_h_selected(self, change):\n",
    "        self.h = change[\"new\"]\n",
    "        self.image_box.change_h(self.h)\n",
    "        \n",
    "    def on_l_selected(self, change):\n",
    "        self.l = change[\"new\"]\n",
    "        self.image_box.change_l(self.l)\n",
    "        \n",
    "    def on_plot_selected(self, change):\n",
    "        self.plot = change[\"new\"]\n",
    "        self.image_box.change_plot(self.plot)"
   ]
  },
  {
   "cell_type": "code",
   "execution_count": 5,
   "metadata": {
    "scrolled": false
   },
   "outputs": [
    {
     "data": {
      "application/vnd.jupyter.widget-view+json": {
       "model_id": "0881ea11720a4effa42304715da4f05b",
       "version_major": 2,
       "version_minor": 0
      },
      "text/plain": [
       "Dashboard(children=(Box(children=(Box(children=(Image_box(children=(Image(value=b'\\x89PNG\\r\\n\\x1a\\n\\x00\\x00\\x0…"
      ]
     },
     "metadata": {},
     "output_type": "display_data"
    }
   ],
   "source": [
    "D=Dashboard()\n",
    "D"
   ]
  },
  {
   "cell_type": "code",
   "execution_count": null,
   "metadata": {},
   "outputs": [],
   "source": []
  }
 ],
 "metadata": {
  "celltoolbar": "Aucun(e)",
  "kernelspec": {
   "display_name": "Python 3",
   "language": "python",
   "name": "python3"
  },
  "language_info": {
   "codemirror_mode": {
    "name": "ipython",
    "version": 3
   },
   "file_extension": ".py",
   "mimetype": "text/x-python",
   "name": "python",
   "nbconvert_exporter": "python",
   "pygments_lexer": "ipython3",
   "version": "3.8.1"
  },
  "widgets": {
   "application/vnd.jupyter.widget-state+json": {
    "state": {
     "0651162b559d4aa68bfcc87d5fd602c4": {
      "model_module": "@jupyter-widgets/controls",
      "model_module_version": "1.5.0",
      "model_name": "BoxModel",
      "state": {
       "children": [
        "IPY_MODEL_d22895707263424ab1d14a815ab8e4fa"
       ],
       "layout": "IPY_MODEL_17a38ce00a9e42429fba70c537318379"
      }
     },
     "118b23bf43dc4693af3ab9203ad2f8e2": {
      "model_module": "@jupyter-widgets/controls",
      "model_module_version": "1.5.0",
      "model_name": "BoxModel",
      "state": {
       "children": [
        "IPY_MODEL_c06badd779584d309cdb16046319df36"
       ],
       "layout": "IPY_MODEL_d8d5771843014de6a63ff525a114303c"
      }
     },
     "17a38ce00a9e42429fba70c537318379": {
      "model_module": "@jupyter-widgets/base",
      "model_module_version": "1.2.0",
      "model_name": "LayoutModel",
      "state": {
       "width": "100%"
      }
     },
     "18877fb9ff444e95a5541d2e95d97549": {
      "model_module": "@jupyter-widgets/controls",
      "model_module_version": "1.5.0",
      "model_name": "DescriptionStyleModel",
      "state": {
       "description_width": ""
      }
     },
     "1c9a23984a16441fb03ede753378eb62": {
      "model_module": "@jupyter-widgets/controls",
      "model_module_version": "1.5.0",
      "model_name": "BoxModel",
      "state": {
       "children": [
        "IPY_MODEL_118b23bf43dc4693af3ab9203ad2f8e2",
        "IPY_MODEL_da719480023f43ca9f8f00ca566e1933"
       ],
       "layout": "IPY_MODEL_1d82ee852f9c4c038007dd400b614f0f"
      }
     },
     "1d82ee852f9c4c038007dd400b614f0f": {
      "model_module": "@jupyter-widgets/base",
      "model_module_version": "1.2.0",
      "model_name": "LayoutModel",
      "state": {
       "width": "100%"
      }
     },
     "455acd893319452aab19ae8f6420fb41": {
      "model_module": "@jupyter-widgets/base",
      "model_module_version": "1.2.0",
      "model_name": "LayoutModel",
      "state": {
       "width": "100%"
      }
     },
     "4c7ec225980f4432bbc1424316e91ed0": {
      "model_module": "@jupyter-widgets/controls",
      "model_module_version": "1.5.0",
      "model_name": "DropdownModel",
      "state": {
       "_options_labels": [
        "0",
        "1"
       ],
       "index": 0,
       "layout": "IPY_MODEL_f69d0176d6f140599a7f945779802400",
       "style": "IPY_MODEL_18877fb9ff444e95a5541d2e95d97549"
      }
     },
     "61be2aca55c247dbbdbe70681a39d34a": {
      "model_module": "@jupyter-widgets/base",
      "model_module_version": "1.2.0",
      "model_name": "LayoutModel",
      "state": {}
     },
     "92bd0e80e8244c9db4b50b9454f7b6a0": {
      "model_module": "@jupyter-widgets/controls",
      "model_module_version": "1.5.0",
      "model_name": "DescriptionStyleModel",
      "state": {
       "description_width": ""
      }
     },
     "a6518a90b7eb4d95a30f491b39a4c51e": {
      "model_module": "@jupyter-widgets/base",
      "model_module_version": "1.2.0",
      "model_name": "LayoutModel",
      "state": {
       "width": "100%"
      }
     },
     "ab5f43779b52415d8c09be674206b82a": {
      "model_module": "@jupyter-widgets/base",
      "model_module_version": "1.2.0",
      "model_name": "LayoutModel",
      "state": {
       "width": "100%"
      }
     },
     "c06badd779584d309cdb16046319df36": {
      "model_module": "@jupyter-widgets/controls",
      "model_module_version": "1.5.0",
      "model_name": "VBoxModel",
      "state": {
       "children": [
        "IPY_MODEL_4c7ec225980f4432bbc1424316e91ed0"
       ],
       "layout": "IPY_MODEL_455acd893319452aab19ae8f6420fb41"
      }
     },
     "c9f828075086425aadf20c55a8714345": {
      "model_module": "@jupyter-widgets/controls",
      "model_module_version": "1.5.0",
      "model_name": "VBoxModel",
      "state": {
       "children": [
        "IPY_MODEL_1c9a23984a16441fb03ede753378eb62"
       ],
       "layout": "IPY_MODEL_ab5f43779b52415d8c09be674206b82a"
      }
     },
     "d22895707263424ab1d14a815ab8e4fa": {
      "model_module": "@jupyter-widgets/controls",
      "model_module_version": "1.5.0",
      "model_name": "HTMLModel",
      "state": {
       "layout": "IPY_MODEL_61be2aca55c247dbbdbe70681a39d34a",
       "style": "IPY_MODEL_92bd0e80e8244c9db4b50b9454f7b6a0",
       "value": "<font size=5>n0 = 0"
      }
     },
     "d8d5771843014de6a63ff525a114303c": {
      "model_module": "@jupyter-widgets/base",
      "model_module_version": "1.2.0",
      "model_name": "LayoutModel",
      "state": {
       "width": "100%"
      }
     },
     "da719480023f43ca9f8f00ca566e1933": {
      "model_module": "@jupyter-widgets/controls",
      "model_module_version": "1.5.0",
      "model_name": "BoxModel",
      "state": {
       "children": [
        "IPY_MODEL_0651162b559d4aa68bfcc87d5fd602c4"
       ],
       "layout": "IPY_MODEL_a6518a90b7eb4d95a30f491b39a4c51e"
      }
     },
     "f69d0176d6f140599a7f945779802400": {
      "model_module": "@jupyter-widgets/base",
      "model_module_version": "1.2.0",
      "model_name": "LayoutModel",
      "state": {}
     }
    },
    "version_major": 2,
    "version_minor": 0
   }
  }
 },
 "nbformat": 4,
 "nbformat_minor": 2
}
